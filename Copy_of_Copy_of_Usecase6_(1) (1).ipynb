{
  "nbformat": 4,
  "nbformat_minor": 0,
  "metadata": {
    "colab": {
      "name": "Copy of Copy of Usecase6_(1).ipynb",
      "provenance": [],
      "collapsed_sections": []
    },
    "kernelspec": {
      "display_name": "Python 3",
      "name": "python3"
    },
    "accelerator": "GPU"
  },
  "cells": [
    {
      "cell_type": "code",
      "metadata": {
        "id": "hl1e0rwtZw3F"
      },
      "source": [
        "import numpy as np # linear algebra\n",
        "import pandas as pd # data processing, CSV file I/O (e.g. pd.read_csv)\n",
        "\n",
        "# Input data files are available in the \"../input/\" directory.\n",
        "# For example, running this (by clicking run or pressing Shift+Enter) will list the files in the input directory\n",
        "\n",
        "import os\n",
        "import string\n",
        "from string import digits\n",
        "import matplotlib.pyplot as plt\n",
        "%matplotlib inline\n",
        "import re\n",
        "\n",
        "import seaborn as sns\n",
        "from sklearn.utils import shuffle\n",
        "from sklearn.model_selection import train_test_split\n",
        "from tensorflow.keras.layers import Input, LSTM, Embedding, Dense, Add, Bidirectional, TimeDistributed\n",
        "from tensorflow.keras.models import Model,Sequential\n",
        "pd.set_option('display.max_rows', 500)\n",
        "pd.set_option('display.max_columns', 500)\n",
        "pd.set_option('display.width', 1000)\n",
        "import tensorflow as tf\n",
        "from keras.layers import merge\n"
      ],
      "execution_count": 102,
      "outputs": []
    },
    {
      "cell_type": "code",
      "metadata": {
        "colab": {
          "base_uri": "https://localhost:8080/"
        },
        "id": "yvHHfeZKhFlj",
        "outputId": "fba3d3d5-7694-4fb4-e29d-1cee6769d7b2"
      },
      "source": [
        "from google.colab import drive\n",
        "drive.mount('/content/drive')"
      ],
      "execution_count": 103,
      "outputs": [
        {
          "output_type": "stream",
          "name": "stdout",
          "text": [
            "Drive already mounted at /content/drive; to attempt to forcibly remount, call drive.mount(\"/content/drive\", force_remount=True).\n"
          ]
        }
      ]
    },
    {
      "cell_type": "code",
      "metadata": {
        "id": "Gre8_g22vOQW"
      },
      "source": [
        "import codecs\n",
        "with codecs.open(\"/content/drive/MyDrive/Colab Notebooks/chatbot/movie_lines_cleaned.txt\", \"rb\", encoding=\"utf-8\", errors=\"ignore\") as f:\n",
        "    lines = f.read().split(\"\\n\")"
      ],
      "execution_count": 104,
      "outputs": []
    },
    {
      "cell_type": "code",
      "metadata": {
        "colab": {
          "base_uri": "https://localhost:8080/"
        },
        "id": "EtQjt9--vhck",
        "outputId": "097e10f4-e2b0-48f8-fd2c-a708a6ca7d5a"
      },
      "source": [
        "lines[:4]"
      ],
      "execution_count": 105,
      "outputs": [
        {
          "output_type": "execute_result",
          "data": {
            "text/plain": [
              "['They do not!', 'They do to!', 'I hope so.', 'She okay?']"
            ]
          },
          "metadata": {},
          "execution_count": 105
        }
      ]
    },
    {
      "cell_type": "code",
      "metadata": {
        "id": "GD6JzA1HbJtY"
      },
      "source": [
        "context_and_target = []\n",
        "for i in range(0, len(lines), 2):\n",
        "  context_and_target.append((lines[i], lines[i+1]))"
      ],
      "execution_count": 106,
      "outputs": []
    },
    {
      "cell_type": "code",
      "metadata": {
        "id": "oRzDZ3pUxB_5"
      },
      "source": [
        "context_and_target= context_and_target[:152356]"
      ],
      "execution_count": 107,
      "outputs": []
    },
    {
      "cell_type": "code",
      "metadata": {
        "id": "Kb1T4-u9xCMx"
      },
      "source": [
        "context, target = zip(*context_and_target)\n"
      ],
      "execution_count": 108,
      "outputs": []
    },
    {
      "cell_type": "code",
      "metadata": {
        "colab": {
          "base_uri": "https://localhost:8080/"
        },
        "id": "AJqOqdRBxCZb",
        "outputId": "61743b00-332b-4b58-d2b9-26e855ff36ee"
      },
      "source": [
        "len(target), len(context)"
      ],
      "execution_count": 109,
      "outputs": [
        {
          "output_type": "execute_result",
          "data": {
            "text/plain": [
              "(152356, 152356)"
            ]
          },
          "metadata": {},
          "execution_count": 109
        }
      ]
    },
    {
      "cell_type": "code",
      "metadata": {
        "id": "mHa-sZYWxCjh"
      },
      "source": [
        "def convert(set):\n",
        "    return list(set)\n",
        "\n",
        "context = convert(context)\n",
        "target = convert(target)"
      ],
      "execution_count": 110,
      "outputs": []
    },
    {
      "cell_type": "markdown",
      "metadata": {
        "id": "du3BmcWV_1eD"
      },
      "source": [
        "##Clean the text data"
      ]
    },
    {
      "cell_type": "code",
      "metadata": {
        "id": "P2i-PCBoxeZa"
      },
      "source": [
        "context = list (context)\n",
        "target = list (target)"
      ],
      "execution_count": 111,
      "outputs": []
    },
    {
      "cell_type": "code",
      "metadata": {
        "colab": {
          "base_uri": "https://localhost:8080/"
        },
        "id": "DetttMxjxeit",
        "outputId": "afe0768d-12ea-4f43-d0bd-1c209c7e8d00"
      },
      "source": [
        "len(context), len(target)"
      ],
      "execution_count": 112,
      "outputs": [
        {
          "output_type": "execute_result",
          "data": {
            "text/plain": [
              "(152356, 152356)"
            ]
          },
          "metadata": {},
          "execution_count": 112
        }
      ]
    },
    {
      "cell_type": "code",
      "metadata": {
        "colab": {
          "base_uri": "https://localhost:8080/"
        },
        "id": "VJ_6dR0Uxeqr",
        "outputId": "eeb69262-d082-4019-c43d-015ab786955a"
      },
      "source": [
        "len(target)"
      ],
      "execution_count": 113,
      "outputs": [
        {
          "output_type": "execute_result",
          "data": {
            "text/plain": [
              "152356"
            ]
          },
          "metadata": {},
          "execution_count": 113
        }
      ]
    },
    {
      "cell_type": "code",
      "metadata": {
        "id": "TJU-JURcxeu7"
      },
      "source": [
        "import re\n",
        "def clean_text(text):\n",
        "    '''Clean text by removing unnecessary characters and altering the format of words.'''\n",
        "\n",
        "    text = text.lower()\n",
        "    \n",
        "    text = re.sub(r\"i'm\", \"i am\", text)\n",
        "    text = re.sub(r\"he's\", \"he is\", text)\n",
        "    text = re.sub(r\"she's\", \"she is\", text)\n",
        "    text = re.sub(r\"it's\", \"it is\", text)\n",
        "    text = re.sub(r\"that's\", \"that is\", text)\n",
        "    text = re.sub(r\"what's\", \"what is\", text)\n",
        "    text = re.sub(r\"where's\", \"where is\", text)\n",
        "    text = re.sub(r\"how's\", \"how is\", text)\n",
        "    text = re.sub(r\"let's\", \"lets\", text)\n",
        "    text = re.sub(r\"em\", \"them\", text)\n",
        "    text = re.sub(r\"\\'ll\", \" will\", text)\n",
        "    text = re.sub(r\"\\'ve\", \" have\", text)\n",
        "    text = re.sub(r\"\\'re\", \" are\", text)\n",
        "    text = re.sub(r\"\\'d\", \" would\", text)\n",
        "    text = re.sub(r\"gotta\", \"got to\", text)\n",
        "    text = re.sub(r\"outta\", \"out of\", text)\n",
        "    text = re.sub(r\"gotcha\", \"got you\", text)\n",
        "    text = re.sub(r\"here's\", \"here is\", text)\n",
        "    text = re.sub(r\"whaddya\", \"what do you\", text)\n",
        "    text = re.sub(r\"there's\", \"there is\", text)\n",
        "    text = re.sub(r\"wid\", \"with\", text)\n",
        "    text = re.sub(r\"everyone's\", \"everyone is\", text)\n",
        "    text = re.sub(r\"wouldn't\", \"would not\", text)\n",
        "    text = re.sub(r\"couldn't\", \"could not\", text)\n",
        "    text = re.sub(r\"won't\", \"will not\", text)\n",
        "    text = re.sub(r\"can't\", \"cannot\", text)\n",
        "    text = re.sub(r\"that ain't\", \"that is not\", text)\n",
        "    text = re.sub(r\"they ain't\", \"they are not\", text)\n",
        "    text = re.sub(r\"i ain't\", \"i am not\", text)\n",
        "    text = re.sub(r\"he ain't\", \"he is not\", text)\n",
        "    text = re.sub(r\"she ain't\", \"she is not\", text)\n",
        "    text = re.sub(r\"n't\", \" not\", text)\n",
        "    text = re.sub(r\"n'\", \"ng\", text)\n",
        "    text = re.sub(r\"'bout\", \"about\", text)\n",
        "    text = re.sub(r\"'til\", \"until\", text)\n",
        "    re.sub(r\"\\'s\", \"\", text)\n",
        "    text = re.sub(r\"[-()\\\"#/@;:<>{}`+=~|.!?,]\", \" \", text)\n",
        "    \n",
        "    return text"
      ],
      "execution_count": 114,
      "outputs": []
    },
    {
      "cell_type": "code",
      "metadata": {
        "colab": {
          "base_uri": "https://localhost:8080/",
          "height": 35
        },
        "id": "rUXW_RHaIRjA",
        "outputId": "3a60808b-f89c-4f10-c568-ab0302fe585c"
      },
      "source": [
        "re.sub(r\"\\'s\", \"\", \"let's\")"
      ],
      "execution_count": 115,
      "outputs": [
        {
          "output_type": "execute_result",
          "data": {
            "application/vnd.google.colaboratory.intrinsic+json": {
              "type": "string"
            },
            "text/plain": [
              "'let'"
            ]
          },
          "metadata": {},
          "execution_count": 115
        }
      ]
    },
    {
      "cell_type": "code",
      "metadata": {
        "id": "EPYO6sQpxe0M"
      },
      "source": [
        "tidy_target = []\n",
        "#every conversation passed of target \n",
        "for conve in target:\n",
        "    text = clean_text(conve)\n",
        "    tidy_target.append(text)"
      ],
      "execution_count": 116,
      "outputs": []
    },
    {
      "cell_type": "code",
      "metadata": {
        "colab": {
          "base_uri": "https://localhost:8080/"
        },
        "id": "vir93dX8xe4L",
        "outputId": "8c412d5c-9c9f-4723-a53a-6d518372ad90"
      },
      "source": [
        "len(tidy_target)"
      ],
      "execution_count": 117,
      "outputs": [
        {
          "output_type": "execute_result",
          "data": {
            "text/plain": [
              "152356"
            ]
          },
          "metadata": {},
          "execution_count": 117
        }
      ]
    },
    {
      "cell_type": "code",
      "metadata": {
        "id": "GKD3YmEOxe8K"
      },
      "source": [
        "tidy_context = []\n",
        "#every conversation of context passed\n",
        "for conve in context:\n",
        "    text = clean_text(conve)\n",
        "    tidy_context.append(text)"
      ],
      "execution_count": 118,
      "outputs": []
    },
    {
      "cell_type": "code",
      "metadata": {
        "colab": {
          "base_uri": "https://localhost:8080/"
        },
        "id": "XRdAQBJ5xfAD",
        "outputId": "a363cc54-ff2f-43db-bca7-4c9fe28f4e65"
      },
      "source": [
        "len(tidy_context), len(tidy_target)"
      ],
      "execution_count": 119,
      "outputs": [
        {
          "output_type": "execute_result",
          "data": {
            "text/plain": [
              "(152356, 152356)"
            ]
          },
          "metadata": {},
          "execution_count": 119
        }
      ]
    },
    {
      "cell_type": "code",
      "metadata": {
        "id": "aySx2p2SGIQL"
      },
      "source": [
        "contextdf1= pd.DataFrame(tidy_context, columns=['context'])\n",
        "targetdf1= pd.DataFrame(tidy_target, columns=['target'])"
      ],
      "execution_count": 120,
      "outputs": []
    },
    {
      "cell_type": "code",
      "metadata": {
        "colab": {
          "base_uri": "https://localhost:8080/"
        },
        "id": "rqbOfveyzJaJ",
        "outputId": "2918a770-c482-48fe-dd45-37eeff7e2b43"
      },
      "source": [
        "targetdf1.shape, contextdf1.shape"
      ],
      "execution_count": 121,
      "outputs": [
        {
          "output_type": "execute_result",
          "data": {
            "text/plain": [
              "((152356, 1), (152356, 1))"
            ]
          },
          "metadata": {},
          "execution_count": 121
        }
      ]
    },
    {
      "cell_type": "markdown",
      "metadata": {
        "id": "N-n6MqjRGxz4"
      },
      "source": [
        ""
      ]
    },
    {
      "cell_type": "code",
      "metadata": {
        "id": "sWk5HNCGxfDL"
      },
      "source": [
        "lines= pd.concat([contextdf1, targetdf1], axis=1)"
      ],
      "execution_count": 122,
      "outputs": []
    },
    {
      "cell_type": "code",
      "metadata": {
        "colab": {
          "base_uri": "https://localhost:8080/",
          "height": 204
        },
        "id": "FswLmtyz0GUu",
        "outputId": "a40c17df-43c7-4a04-a998-6ad81cd66ffb"
      },
      "source": [
        "lines.drop_duplicates(inplace= True)\n",
        "lines= lines.sample(n= 30000, random_state=42)\n",
        "lines.head()"
      ],
      "execution_count": 123,
      "outputs": [
        {
          "output_type": "execute_result",
          "data": {
            "text/html": [
              "<div>\n",
              "<style scoped>\n",
              "    .dataframe tbody tr th:only-of-type {\n",
              "        vertical-align: middle;\n",
              "    }\n",
              "\n",
              "    .dataframe tbody tr th {\n",
              "        vertical-align: top;\n",
              "    }\n",
              "\n",
              "    .dataframe thead th {\n",
              "        text-align: right;\n",
              "    }\n",
              "</style>\n",
              "<table border=\"1\" class=\"dataframe\">\n",
              "  <thead>\n",
              "    <tr style=\"text-align: right;\">\n",
              "      <th></th>\n",
              "      <th>context</th>\n",
              "      <th>target</th>\n",
              "    </tr>\n",
              "  </thead>\n",
              "  <tbody>\n",
              "    <tr>\n",
              "      <th>4476</th>\n",
              "      <td>gosh  that is a pretty name  buy you a drink</td>\n",
              "      <td>lyla devereux</td>\n",
              "    </tr>\n",
              "    <tr>\n",
              "      <th>51190</th>\n",
              "      <td>no gas    car dead   we need gas  i do not wan...</td>\n",
              "      <td>this car runs on gas</td>\n",
              "    </tr>\n",
              "    <tr>\n",
              "      <th>39961</th>\n",
              "      <td>hey  betty  are you okay</td>\n",
              "      <td>oh  appreciate it  i was trying to  ahh  give ...</td>\n",
              "    </tr>\n",
              "    <tr>\n",
              "      <th>149180</th>\n",
              "      <td>there was a crash last year  they just got a f...</td>\n",
              "      <td>do not like airlines  lousy unions</td>\n",
              "    </tr>\n",
              "    <tr>\n",
              "      <th>125343</th>\n",
              "      <td>so anyway  they closed the doors  and she star...</td>\n",
              "      <td>crash paranoia</td>\n",
              "    </tr>\n",
              "  </tbody>\n",
              "</table>\n",
              "</div>"
            ],
            "text/plain": [
              "                                                  context                                             target\n",
              "4476        gosh  that is a pretty name  buy you a drink                                      lyla devereux \n",
              "51190   no gas    car dead   we need gas  i do not wan...                              this car runs on gas \n",
              "39961                           hey  betty  are you okay   oh  appreciate it  i was trying to  ahh  give ...\n",
              "149180  there was a crash last year  they just got a f...              do not like airlines  lousy unions   \n",
              "125343  so anyway  they closed the doors  and she star...                                    crash paranoia "
            ]
          },
          "metadata": {},
          "execution_count": 123
        }
      ]
    },
    {
      "cell_type": "code",
      "metadata": {
        "id": "myym5gGm0Gdl"
      },
      "source": [
        "#Lowercase all characters\n",
        "lines['context']=lines['context'].apply(lambda x: x.lower())\n",
        "lines['target']=lines['target'].apply(lambda x: x.lower())\n",
        "\n",
        "# Remove quotes\n",
        "lines['context']=lines['context'].apply(lambda x: re.sub(\"'\", '', x))\n",
        "lines['target']=lines['target'].apply(lambda x: re.sub(\"'\", '', x))\n",
        "\n",
        "exclude = set(string.punctuation) # Set of all special characters\n",
        "# Remove all the special characters\n",
        "lines['context']=lines['context'].apply(lambda x: ''.join(ch for ch in x if ch not in exclude))\n",
        "lines['target']=lines['target'].apply(lambda x: ''.join(ch for ch in x if ch not in exclude))\n",
        "\n",
        "# Remove all numbers from text\n",
        "remove_digits = str.maketrans('', '', digits)\n",
        "lines['context']=lines['context'].apply(lambda x: x.translate(remove_digits))\n",
        "lines['target']=lines['target'].apply(lambda x: x.translate(remove_digits))\n",
        "\n",
        "\n",
        "# Remove extra spaces\n",
        "lines['context']=lines['context'].apply(lambda x: x.strip())\n",
        "lines['target']=lines['target'].apply(lambda x: x.strip())\n",
        "lines['context']=lines['context'].apply(lambda x: re.sub(\" +\", \" \", x))\n",
        "lines['target']=lines['target'].apply(lambda x: re.sub(\" +\", \" \", x))\n",
        "lines['target']=lines['target'].apply(lambda x: 'START_ ' + x + ' _END')\n",
        "\n",
        "# Add start and end tokens to target sequences"
      ],
      "execution_count": 124,
      "outputs": []
    },
    {
      "cell_type": "code",
      "metadata": {
        "colab": {
          "base_uri": "https://localhost:8080/"
        },
        "id": "8bVXfDFv0GhM",
        "outputId": "3648ec08-c1d2-4543-8ed5-27b5e4ea432c"
      },
      "source": [
        "lines.shape"
      ],
      "execution_count": 125,
      "outputs": [
        {
          "output_type": "execute_result",
          "data": {
            "text/plain": [
              "(30000, 2)"
            ]
          },
          "metadata": {},
          "execution_count": 125
        }
      ]
    },
    {
      "cell_type": "code",
      "metadata": {
        "colab": {
          "base_uri": "https://localhost:8080/"
        },
        "id": "T5_iltDGOlcl",
        "outputId": "6407e4bf-23cc-48d0-e6e0-7a9947f49895"
      },
      "source": [
        "lines['context'].values[:20]"
      ],
      "execution_count": 126,
      "outputs": [
        {
          "output_type": "execute_result",
          "data": {
            "text/plain": [
              "array(['gosh that is a pretty name buy you a drink',\n",
              "       'no gas car dead we need gas i do not want to get shot for running out of gas',\n",
              "       'hey betty are you okay',\n",
              "       'there was a crash last year they just got a favorable ruling on a lawsuit even the plaintiffs do not know',\n",
              "       'so anyway they closed the doors and she starts to scream i have never in my life heard anyone scream quite like that',\n",
              "       'looks like the alternator', 'he is so great u you u hire him',\n",
              "       'come here',\n",
              "       'yeah i am still at bellevue the john doe did not pan out but you will never guess whos lying up in the meat locker',\n",
              "       'if kats not going you are not going', 'what about you',\n",
              "       'i was yeah i was thinking about going there for business',\n",
              "       'hello yes what is on your mind baxter',\n",
              "       'have you ever been to that station', 'what',\n",
              "       'swear on jimmys grave',\n",
              "       'she runs a kind of hair dress ing and you know beauty salon',\n",
              "       'see the jews love to separate things the holy from the profane milk from meat wool from linen the sabbath from the week the jew from the gentile as if one little scrap of this was going to completely contaminate that',\n",
              "       'it is all mthemorabilia but incidental and not integral if you know what i mean',\n",
              "       'who were you talking to'], dtype=object)"
            ]
          },
          "metadata": {},
          "execution_count": 126
        }
      ]
    },
    {
      "cell_type": "code",
      "metadata": {
        "id": "EtU413MW5lbu"
      },
      "source": [
        "# lines['target'] = lines['target'].apply(lambda x : 'START_ '+ x + ' _END')\n",
        "# lines['length_cont_sentence']=lines['context'].apply(lambda x:len(x.split(\" \")))\n",
        "# lines['length_target_sentence']=lines['target'].apply(lambda x:len(x.split(\" \")))\n",
        "\n",
        "# lines=lines[lines['length_cont_sentence']<=20]\n",
        "# lines=lines[lines['length_target_sentence']<=20]\n",
        "# print(\"maximum length of Spanish Sentence \",max(lines['length_cont_sentence']))\n",
        "# print(\"maximum length of English Sentence \",max(lines['length_target_sentence']))\n",
        "\n",
        "# max_length_src=max(lines['length_cont_sentence'])\n",
        "# max_length_tar=max(lines['length_target_sentence'])"
      ],
      "execution_count": 127,
      "outputs": []
    },
    {
      "cell_type": "code",
      "metadata": {
        "colab": {
          "base_uri": "https://localhost:8080/"
        },
        "id": "YJ_EzEBQ6Nnq",
        "outputId": "519e13e5-0cc1-4f1b-a9d4-92f20b1dfd6b"
      },
      "source": [
        "lines.shape"
      ],
      "execution_count": 128,
      "outputs": [
        {
          "output_type": "execute_result",
          "data": {
            "text/plain": [
              "(30000, 2)"
            ]
          },
          "metadata": {},
          "execution_count": 128
        }
      ]
    },
    {
      "cell_type": "code",
      "metadata": {
        "id": "NbNKPFdXR8Gr"
      },
      "source": [
        "# import os\n",
        "# import numpy as np\n",
        "# def load_npy_to_any(path='', name='/content/word-glove-target-idx2word.npy'):\n",
        "#     \"\"\"Load .npy file.\n",
        "\n",
        "#     Examples\n",
        "#     ---------\n",
        "#     - see save_any_to_npy()\n",
        "#     \"\"\"\n",
        "#     file_path = os.path.join(path, name)\n",
        "#     try:\n",
        "#         npy = np.load(file_path, allow_pickle=True).item()\n",
        "#     except:\n",
        "#         npy = np.load(file_path, allow_pickle=True)\n",
        "#     finally:\n",
        "#         try:\n",
        "#             return npy\n",
        "#         except:\n",
        "#             print(\"[!] Fail to load %s\" % file_path)\n",
        "#             exit()"
      ],
      "execution_count": 129,
      "outputs": []
    },
    {
      "cell_type": "code",
      "metadata": {
        "id": "E-S2ZmEy582y"
      },
      "source": [
        "### Get English and Spanish Vocabulary\n",
        "all_cont_words=set()\n",
        "for i in lines['context']:\n",
        "    for word in i.split():\n",
        "        if word not in all_cont_words:\n",
        "            all_cont_words.add(word)\n",
        "\n",
        "all_target_words=set()\n",
        "for i in lines['target']:\n",
        "    for word in i.split():\n",
        "        if word not in all_target_words:\n",
        "            all_target_words.add(word)\n"
      ],
      "execution_count": 130,
      "outputs": []
    },
    {
      "cell_type": "code",
      "metadata": {
        "colab": {
          "base_uri": "https://localhost:8080/"
        },
        "id": "sqzkcGrS5vOf",
        "outputId": "948349fd-582a-4a83-f2e4-c8689d03cc3e"
      },
      "source": [
        "lines.shape"
      ],
      "execution_count": 131,
      "outputs": [
        {
          "output_type": "execute_result",
          "data": {
            "text/plain": [
              "(30000, 2)"
            ]
          },
          "metadata": {},
          "execution_count": 131
        }
      ]
    },
    {
      "cell_type": "code",
      "metadata": {
        "colab": {
          "base_uri": "https://localhost:8080/",
          "height": 419
        },
        "id": "LQhOWaA74Ky3",
        "outputId": "17fb183b-9627-46ce-a871-3140318fbf0d"
      },
      "source": [
        "input_words = sorted(list(all_cont_words))\n",
        "target_words = sorted(list(all_target_words))\n",
        "\n",
        "totalword= input_words + target_words\n",
        "totalword= list(set(totalword))\n",
        "\n",
        "num_encoder_tokens = len(totalword)\n",
        "\n",
        "num_encoder_tokens = num_encoder_tokens+1 #for zero padding\n",
        "\n",
        "input_token_index = dict([(word, i+1) for i, word in enumerate(totalword)])#(avoiding index 0 for lstm layer)\n",
        "reverse_input_char_index = dict((i, word) for word, i in input_token_index.items())\n",
        "\n",
        "lines = shuffle(lines)\n",
        "lines.head(-20)"
      ],
      "execution_count": 132,
      "outputs": [
        {
          "output_type": "execute_result",
          "data": {
            "text/html": [
              "<div>\n",
              "<style scoped>\n",
              "    .dataframe tbody tr th:only-of-type {\n",
              "        vertical-align: middle;\n",
              "    }\n",
              "\n",
              "    .dataframe tbody tr th {\n",
              "        vertical-align: top;\n",
              "    }\n",
              "\n",
              "    .dataframe thead th {\n",
              "        text-align: right;\n",
              "    }\n",
              "</style>\n",
              "<table border=\"1\" class=\"dataframe\">\n",
              "  <thead>\n",
              "    <tr style=\"text-align: right;\">\n",
              "      <th></th>\n",
              "      <th>context</th>\n",
              "      <th>target</th>\n",
              "    </tr>\n",
              "  </thead>\n",
              "  <tbody>\n",
              "    <tr>\n",
              "      <th>68081</th>\n",
              "      <td>forget it bunghole</td>\n",
              "      <td>START_ me first _END</td>\n",
              "    </tr>\n",
              "    <tr>\n",
              "      <th>53013</th>\n",
              "      <td>why do you want me to go back to my parents th...</td>\n",
              "      <td>START_ i am not ever been there but it do not ...</td>\n",
              "    </tr>\n",
              "    <tr>\n",
              "      <th>112742</th>\n",
              "      <td>yes i am very sorry</td>\n",
              "      <td>START_ did you kill all those guards _END</td>\n",
              "    </tr>\n",
              "    <tr>\n",
              "      <th>6833</th>\n",
              "      <td>maybe but that do not make me a killer</td>\n",
              "      <td>START_ you hated west more than any of us _END</td>\n",
              "    </tr>\n",
              "    <tr>\n",
              "      <th>56432</th>\n",
              "      <td>you are an animal</td>\n",
              "      <td>START_ it dies we live _END</td>\n",
              "    </tr>\n",
              "    <tr>\n",
              "      <th>...</th>\n",
              "      <td>...</td>\n",
              "      <td>...</td>\n",
              "    </tr>\n",
              "    <tr>\n",
              "      <th>109724</th>\n",
              "      <td>expect it did you get anything from the room</td>\n",
              "      <td>START_ he will be contacting us again _END</td>\n",
              "    </tr>\n",
              "    <tr>\n",
              "      <th>87921</th>\n",
              "      <td>alert all commands calculate every possible de...</td>\n",
              "      <td>START_ lord vader our ships have completed the...</td>\n",
              "    </tr>\n",
              "    <tr>\n",
              "      <th>14947</th>\n",
              "      <td>what</td>\n",
              "      <td>START_ we got to be close _END</td>\n",
              "    </tr>\n",
              "    <tr>\n",
              "      <th>70270</th>\n",
              "      <td>well i did not see him anymore i will tell you...</td>\n",
              "      <td>START_ i do not know if you can fire a psychia...</td>\n",
              "    </tr>\n",
              "    <tr>\n",
              "      <th>98870</th>\n",
              "      <td>next channel darling</td>\n",
              "      <td>START_ mute _END</td>\n",
              "    </tr>\n",
              "  </tbody>\n",
              "</table>\n",
              "<p>29980 rows × 2 columns</p>\n",
              "</div>"
            ],
            "text/plain": [
              "                                                  context                                             target\n",
              "68081                                  forget it bunghole                               START_ me first _END\n",
              "53013   why do you want me to go back to my parents th...  START_ i am not ever been there but it do not ...\n",
              "112742                                yes i am very sorry          START_ did you kill all those guards _END\n",
              "6833               maybe but that do not make me a killer     START_ you hated west more than any of us _END\n",
              "56432                                   you are an animal                        START_ it dies we live _END\n",
              "...                                                   ...                                                ...\n",
              "109724       expect it did you get anything from the room         START_ he will be contacting us again _END\n",
              "87921   alert all commands calculate every possible de...  START_ lord vader our ships have completed the...\n",
              "14947                                                what                     START_ we got to be close _END\n",
              "70270   well i did not see him anymore i will tell you...  START_ i do not know if you can fire a psychia...\n",
              "98870                                next channel darling                                   START_ mute _END\n",
              "\n",
              "[29980 rows x 2 columns]"
            ]
          },
          "metadata": {},
          "execution_count": 132
        }
      ]
    },
    {
      "cell_type": "code",
      "metadata": {
        "colab": {
          "base_uri": "https://localhost:8080/"
        },
        "id": "tfPhZuaOWWJk",
        "outputId": "db5be38d-2e43-4774-87ab-ac2213bc4761"
      },
      "source": [
        "input_token_index['START_']"
      ],
      "execution_count": 133,
      "outputs": [
        {
          "output_type": "execute_result",
          "data": {
            "text/plain": [
              "2672"
            ]
          },
          "metadata": {},
          "execution_count": 133
        }
      ]
    },
    {
      "cell_type": "code",
      "metadata": {
        "colab": {
          "base_uri": "https://localhost:8080/"
        },
        "id": "FnKzPWIF6ey-",
        "outputId": "29014507-868d-4781-efe4-0db0cfa86c08"
      },
      "source": [
        "num_encoder_tokens"
      ],
      "execution_count": 134,
      "outputs": [
        {
          "output_type": "execute_result",
          "data": {
            "text/plain": [
              "24783"
            ]
          },
          "metadata": {},
          "execution_count": 134
        }
      ]
    },
    {
      "cell_type": "code",
      "metadata": {
        "colab": {
          "base_uri": "https://localhost:8080/"
        },
        "id": "FdXJHgYEV7HM",
        "outputId": "1971ba43-80c8-435d-e46c-d1655ef00e71"
      },
      "source": [
        "\n",
        "lines['length_cont_sentence']=lines['context'].apply(lambda x:len(x.split(\" \")))\n",
        "lines['length_target_sentence']=lines['target'].apply(lambda x:len(x.split(\" \")))\n",
        "\n",
        "lines=lines[lines['length_cont_sentence']<=20]\n",
        "lines=lines[lines['length_target_sentence']<=20]\n",
        "print(\"maximum length of Spanish Sentence \",max(lines['length_cont_sentence']))\n",
        "print(\"maximum length of English Sentence \",max(lines['length_target_sentence']))\n",
        "\n",
        "max_length_src=max(lines['length_cont_sentence'])\n",
        "max_length_tar=max(lines['length_target_sentence'])"
      ],
      "execution_count": 135,
      "outputs": [
        {
          "output_type": "stream",
          "name": "stdout",
          "text": [
            "maximum length of Spanish Sentence  20\n",
            "maximum length of English Sentence  20\n"
          ]
        }
      ]
    },
    {
      "cell_type": "code",
      "metadata": {
        "colab": {
          "base_uri": "https://localhost:8080/"
        },
        "id": "Q_AxUQlVWL1Z",
        "outputId": "2067b9e5-5c9f-4766-dd12-1fa5e39fd64c"
      },
      "source": [
        "lines.iloc[:7]['context']"
      ],
      "execution_count": 136,
      "outputs": [
        {
          "output_type": "execute_result",
          "data": {
            "text/plain": [
              "68081                         forget it bunghole\n",
              "112742                       yes i am very sorry\n",
              "6833      maybe but that do not make me a killer\n",
              "56432                          you are an animal\n",
              "138865                             lucien baines\n",
              "92512                             i got no music\n",
              "75087                                   what did\n",
              "Name: context, dtype: object"
            ]
          },
          "metadata": {},
          "execution_count": 136
        }
      ]
    },
    {
      "cell_type": "code",
      "metadata": {
        "colab": {
          "base_uri": "https://localhost:8080/"
        },
        "id": "8JvtE5o7vu_K",
        "outputId": "8d60bb63-1240-4244-972f-8c977710caa5"
      },
      "source": [
        "lines.iloc[:7]['target']"
      ],
      "execution_count": 137,
      "outputs": [
        {
          "output_type": "execute_result",
          "data": {
            "text/plain": [
              "68081                               START_ me first _END\n",
              "112742         START_ did you kill all those guards _END\n",
              "6833      START_ you hated west more than any of us _END\n",
              "56432                        START_ it dies we live _END\n",
              "138865                           START_ he hates me _END\n",
              "92512                       START_ you are for real _END\n",
              "75087                        START_ hey captain god _END\n",
              "Name: target, dtype: object"
            ]
          },
          "metadata": {},
          "execution_count": 137
        }
      ]
    },
    {
      "cell_type": "code",
      "metadata": {
        "id": "hqxNr92Gg043"
      },
      "source": [
        "X, y = lines['context'], lines['target']\n",
        "testX, testy = lines['context'], lines['target']\n",
        "# X_train, X_test, y_train, y_test = train_test_split(X, y, test_size = 0.2,random_state=42)\n",
        "# X_train.shape, X_test.shape"
      ],
      "execution_count": 138,
      "outputs": []
    },
    {
      "cell_type": "markdown",
      "metadata": {
        "id": "Qp5VdAnIAMWb"
      },
      "source": [
        "##Generator to generate the data for training"
      ]
    },
    {
      "cell_type": "code",
      "metadata": {
        "id": "LeH2vARvg8U-"
      },
      "source": [
        "def generate_batch(x1, y1, batch_size):\n",
        "    ''' Generate a batch of data '''\n",
        "    while True:\n",
        "        for j in range(0, len(x1), batch_size):\n",
        "            encoder_input_data = np.zeros((batch_size, max_length_src),dtype='float32')\n",
        "            decoder_input_data = np.zeros((batch_size, max_length_tar),dtype='float32')\n",
        "            decoder_target_data = np.zeros((batch_size, max_length_tar, num_encoder_tokens),dtype='float32')\n",
        "            for i, (input_text, target_text) in enumerate(zip(x1[j:j+batch_size], y1[j:j+batch_size])):\n",
        "                for t, word in enumerate(input_text.split()):\n",
        "                    encoder_input_data[i, t] = input_token_index[word] # encoder input seq\n",
        "                for t, word in enumerate(target_text.split()):\n",
        "                    if t<len(target_text.split())-1:\n",
        "                        decoder_input_data[i, t] = input_token_index[word] # decoder input seq\n",
        "                    if t>0:\n",
        "                        # decoder target sequence (one hot encoded)\n",
        "                        # does not include the START_ token\n",
        "                        # Offset by one timestep\n",
        "                        decoder_target_data[i, t - 1, input_token_index[word]] = 1.\n",
        "            yield([encoder_input_data, decoder_input_data], decoder_target_data)"
      ],
      "execution_count": 139,
      "outputs": []
    },
    {
      "cell_type": "markdown",
      "metadata": {
        "id": "_9-qbW_OAW23"
      },
      "source": [
        "##Create the model"
      ]
    },
    {
      "cell_type": "code",
      "metadata": {
        "id": "3XizX5Qcg_s6"
      },
      "source": [
        "#Model\n",
        "#curent dimesion of data is 128 batch size, 20, num_encoder_tokens\n",
        "latent_dim=300\n",
        "# Encoder input in any shape, here None is batch size but data will be 128 batch size, 20 timesteps\n",
        "encoder_inputs = Input(shape=(None, ))\n",
        "\n",
        "#embedding layer:- input layer is vocabulary , output dimension of embedding layer with None batch size, maskzero only if input is of variable length \n",
        "enc_emb =  Embedding(num_encoder_tokens, latent_dim, mask_zero= True)(encoder_inputs)\n",
        "\n",
        "\n",
        "\n"
      ],
      "execution_count": 140,
      "outputs": []
    },
    {
      "cell_type": "code",
      "metadata": {
        "colab": {
          "base_uri": "https://localhost:8080/"
        },
        "id": "NU4zWm5B7QwM",
        "outputId": "e68d0197-506b-44bf-b8bd-22529d24a1a6"
      },
      "source": [
        "enc_emb.shape"
      ],
      "execution_count": 141,
      "outputs": [
        {
          "output_type": "execute_result",
          "data": {
            "text/plain": [
              "TensorShape([None, None, 300])"
            ]
          },
          "metadata": {},
          "execution_count": 141
        }
      ]
    },
    {
      "cell_type": "code",
      "metadata": {
        "id": "l-3yHMS17Oh0"
      },
      "source": [
        "encoder_lstm = LSTM(latent_dim, return_state=True, activation=\"tanh\", recurrent_activation=\"sigmoid\", return_sequences= True)\n",
        "#the output of 1st lstm is (None, 20, latent dims)\n",
        "\n",
        "backward_lstm2= LSTM(latent_dim, return_state=True, activation=\"tanh\", recurrent_activation=\"sigmoid\", return_sequences= True, go_backwards=True)\n",
        "\n",
        "encoderbilstm= Bidirectional(layer= encoder_lstm, backward_layer= backward_lstm2, merge_mode= 'sum')(enc_emb)\n",
        "\n",
        "\n"
      ],
      "execution_count": 142,
      "outputs": []
    },
    {
      "cell_type": "code",
      "metadata": {
        "colab": {
          "base_uri": "https://localhost:8080/"
        },
        "id": "NwAknmknmfZJ",
        "outputId": "40dcaf8f-bd57-4e4b-ba8e-b03769d45e34"
      },
      "source": [
        "encoderbilstm[0]"
      ],
      "execution_count": 143,
      "outputs": [
        {
          "output_type": "execute_result",
          "data": {
            "text/plain": [
              "<KerasTensor: shape=(None, None, 300) dtype=float32 (created by layer 'bidirectional_2')>"
            ]
          },
          "metadata": {},
          "execution_count": 143
        }
      ]
    },
    {
      "cell_type": "code",
      "metadata": {
        "id": "SoqEaEcgjr8D"
      },
      "source": [
        "# below used hidden and cell state of last model\n",
        "encoder_lstm2 = LSTM(latent_dim, return_state=True, activation=\"tanh\", recurrent_activation=\"sigmoid\")\n",
        "#the output of 1st lstm is (None, 20, latent dims)\n",
        "\n",
        "backward_lstm3= LSTM(latent_dim, return_state=True, activation=\"tanh\", recurrent_activation=\"sigmoid\", go_backwards=True)\n",
        "# input layer for lstm must be 3D https://machinelearningmastery.com/reshape-input-data-long-short-term-memory-networks-keras/\n",
        "bidir2= Bidirectional(layer= encoder_lstm2, backward_layer= backward_lstm3, merge_mode= 'sum')(encoderbilstm[0], initial_state= encoderbilstm[1:])\n"
      ],
      "execution_count": 144,
      "outputs": []
    },
    {
      "cell_type": "code",
      "metadata": {
        "colab": {
          "base_uri": "https://localhost:8080/"
        },
        "id": "PZ1kaGM37Z7n",
        "outputId": "75744117-8ba7-4a63-b2df-7fcb712a1552"
      },
      "source": [
        "bidir2[1].dtype"
      ],
      "execution_count": 145,
      "outputs": [
        {
          "output_type": "execute_result",
          "data": {
            "text/plain": [
              "tf.float32"
            ]
          },
          "metadata": {},
          "execution_count": 145
        }
      ]
    },
    {
      "cell_type": "code",
      "metadata": {
        "id": "Emr2MIqtE5UG"
      },
      "source": [
        "#first normal lstm hidden states are generated than lstm with backward layer are generated\n",
        "forwardh, forwardc, backwardh, backwardc= bidir2[1], bidir2[2], bidir2[3], bidir2[4]"
      ],
      "execution_count": 146,
      "outputs": []
    },
    {
      "cell_type": "code",
      "metadata": {
        "id": "yh0sZByKFJ4H"
      },
      "source": [
        "stateh= tf.add(forwardh,backwardh)\n",
        "statec= tf.add(forwardc,backwardc)\n",
        "state= [stateh, statec]"
      ],
      "execution_count": 147,
      "outputs": []
    },
    {
      "cell_type": "code",
      "metadata": {
        "colab": {
          "base_uri": "https://localhost:8080/",
          "height": 533
        },
        "id": "vBht-SeC4ymt",
        "outputId": "1c45ec7d-3bc5-47c3-eb89-875ff6e86554"
      },
      "source": [
        "encodermodel=Model(encoder_inputs, [state])\n",
        "from tensorflow.keras.utils import plot_model\n",
        "plot_model(encodermodel, show_shapes=True)\n"
      ],
      "execution_count": 148,
      "outputs": [
        {
          "output_type": "execute_result",
          "data": {
            "image/png": "[encoded data removed]",
            "text/plain": [
              "<IPython.core.display.Image object>"
            ]
          },
          "metadata": {},
          "execution_count": 148
        }
      ]
    },
    {
      "cell_type": "code",
      "metadata": {
        "id": "KqwFm5447I0C"
      },
      "source": [
        "\n",
        "decoder_inputs = Input(shape=(None, ))\n",
        "#in teacher forcing alwayas correct output is passed to training hence attention model can e applied directly to decoder input\n",
        "#embedding layer:- input layer is vocabulary , output dimension of embedding layer with None batch size, maskzero only if input is of variable length \n",
        "decoder_emb =  Embedding(num_encoder_tokens, latent_dim, mask_zero= True)(decoder_inputs)\n",
        "\n",
        "#reverse of target is not required and eturn sequence is true as we need 3 dimensional target output\n",
        "decoderlstm1= LSTM(latent_dim, return_state=True, activation=\"tanh\", recurrent_activation=\"sigmoid\", return_sequences= True)\n",
        "\n",
        "decodedlstmlayer, _, _=decoderlstm1(decoder_emb, initial_state= [stateh, statec])\n",
        "timedistributedlayer= TimeDistributed(Dense(num_encoder_tokens, activation= 'softmax'))\n",
        "decodedlstmlayer= timedistributedlayer(decodedlstmlayer)\n",
        "#there should no lambda used for attenteion embedding layer in decoder should be replaced with attention layer, keep return sequenc as false for decoder\n",
        "\n",
        "\n",
        "\n",
        "\n"
      ],
      "execution_count": 149,
      "outputs": []
    },
    {
      "cell_type": "code",
      "metadata": {
        "id": "1oFNUe8KGJ-G"
      },
      "source": [
        "model= Model([encoder_inputs, decoder_inputs], [decodedlstmlayer])\n",
        "\n",
        "model.compile(optimizer= 'adam', loss='categorical_crossentropy', metrics= ['accuracy'])"
      ],
      "execution_count": 150,
      "outputs": []
    },
    {
      "cell_type": "code",
      "metadata": {
        "colab": {
          "base_uri": "https://localhost:8080/",
          "height": 584
        },
        "id": "3_c5AFSkIxUF",
        "outputId": "7dbc7930-77b5-4f76-fcdb-0592c8f0db78"
      },
      "source": [
        "from tensorflow.keras.utils import plot_model\n",
        "plot_model(model, show_shapes=True)\n"
      ],
      "execution_count": 151,
      "outputs": [
        {
          "output_type": "execute_result",
          "data": {
            "image/png": "[encoded data removed]",
            "text/plain": [
              "<IPython.core.display.Image object>"
            ]
          },
          "metadata": {},
          "execution_count": 151
        }
      ]
    },
    {
      "cell_type": "code",
      "metadata": {
        "id": "oNyD3fHj7Xp3"
      },
      "source": [
        "a= Input(shape= (300, ))\n",
        "b= Input(shape= (300, ))\n",
        "combinestates= [a,b]\n",
        "decodedlstmlayer1, h, c=decoderlstm1(decoder_emb, initial_state= combinestates)\n",
        "decodedlstmlayer1= timedistributedlayer(decodedlstmlayer1)\n",
        "combinedoutputstate= [h,c]\n",
        "decodermodel= Model([decoder_inputs] + combinestates, [decodedlstmlayer1] + combinedoutputstate)\n"
      ],
      "execution_count": 152,
      "outputs": []
    },
    {
      "cell_type": "code",
      "metadata": {
        "colab": {
          "base_uri": "https://localhost:8080/",
          "height": 405
        },
        "id": "gcYQ50u5hI3W",
        "outputId": "27ae5426-8a0d-4e66-b88e-bc035ba6487d"
      },
      "source": [
        "\n",
        "plot_model(decodermodel, show_shapes=True)"
      ],
      "execution_count": 153,
      "outputs": [
        {
          "output_type": "execute_result",
          "data": {
            "image/png": "[encoded data removed]",
            "text/plain": [
              "<IPython.core.display.Image object>"
            ]
          },
          "metadata": {},
          "execution_count": 153
        }
      ]
    },
    {
      "cell_type": "code",
      "metadata": {
        "colab": {
          "base_uri": "https://localhost:8080/"
        },
        "id": "nQeU1QfYhNPX",
        "outputId": "c70918e9-5f85-43f3-f5ec-ab54e256759c"
      },
      "source": [
        "model.summary()"
      ],
      "execution_count": 154,
      "outputs": [
        {
          "output_type": "stream",
          "name": "stdout",
          "text": [
            "Model: \"model_4\"\n",
            "__________________________________________________________________________________________________\n",
            "Layer (type)                    Output Shape         Param #     Connected to                     \n",
            "==================================================================================================\n",
            "input_5 (InputLayer)            [(None, None)]       0                                            \n",
            "__________________________________________________________________________________________________\n",
            "embedding_2 (Embedding)         (None, None, 300)    7434900     input_5[0][0]                    \n",
            "__________________________________________________________________________________________________\n",
            "bidirectional_2 (Bidirectional) [(None, None, 300),  1442400     embedding_2[0][0]                \n",
            "__________________________________________________________________________________________________\n",
            "input_6 (InputLayer)            [(None, None)]       0                                            \n",
            "__________________________________________________________________________________________________\n",
            "bidirectional_3 (Bidirectional) [(None, 300), (None, 1442400     bidirectional_2[0][0]            \n",
            "                                                                 bidirectional_2[0][1]            \n",
            "                                                                 bidirectional_2[0][2]            \n",
            "                                                                 bidirectional_2[0][3]            \n",
            "                                                                 bidirectional_2[0][4]            \n",
            "__________________________________________________________________________________________________\n",
            "embedding_3 (Embedding)         (None, None, 300)    7434900     input_6[0][0]                    \n",
            "__________________________________________________________________________________________________\n",
            "tf.math.add_2 (TFOpLambda)      (None, 300)          0           bidirectional_3[0][1]            \n",
            "                                                                 bidirectional_3[0][3]            \n",
            "__________________________________________________________________________________________________\n",
            "tf.math.add_3 (TFOpLambda)      (None, 300)          0           bidirectional_3[0][2]            \n",
            "                                                                 bidirectional_3[0][4]            \n",
            "__________________________________________________________________________________________________\n",
            "lstm_9 (LSTM)                   [(None, None, 300),  721200      embedding_3[0][0]                \n",
            "                                                                 tf.math.add_2[0][0]              \n",
            "                                                                 tf.math.add_3[0][0]              \n",
            "__________________________________________________________________________________________________\n",
            "time_distributed_1 (TimeDistrib (None, None, 24783)  7459683     lstm_9[0][0]                     \n",
            "==================================================================================================\n",
            "Total params: 25,935,483\n",
            "Trainable params: 25,935,483\n",
            "Non-trainable params: 0\n",
            "__________________________________________________________________________________________________\n"
          ]
        }
      ]
    },
    {
      "cell_type": "code",
      "metadata": {
        "id": "PKw6xFHDhQYN"
      },
      "source": [
        "train_samples = len(X)\n",
        "batch_size = 64\n",
        "epochs = 105\n",
        "\n"
      ],
      "execution_count": 155,
      "outputs": []
    },
    {
      "cell_type": "code",
      "metadata": {
        "colab": {
          "base_uri": "https://localhost:8080/"
        },
        "id": "aWMwvLk06Gqt",
        "outputId": "2c632d72-732a-4aee-f2f9-34407b2520e5"
      },
      "source": [
        "train_samples, num_encoder_tokens"
      ],
      "execution_count": 156,
      "outputs": [
        {
          "output_type": "execute_result",
          "data": {
            "text/plain": [
              "(21776, 24783)"
            ]
          },
          "metadata": {},
          "execution_count": 156
        }
      ]
    },
    {
      "cell_type": "markdown",
      "metadata": {
        "id": "z9L574WXAzGw"
      },
      "source": [
        "##Train the model"
      ]
    },
    {
      "cell_type": "code",
      "metadata": {
        "colab": {
          "base_uri": "https://localhost:8080/"
        },
        "id": "ZGdrrkXNhShq",
        "outputId": "6bd13990-6583-404e-98af-23e619bea9db"
      },
      "source": [
        "from tensorflow.keras.callbacks import EarlyStopping, ModelCheckpoint\n",
        "es= EarlyStopping(monitor= 'loss', mode= 'min', verbose= 1, patience= 10)\n",
        "mc= ModelCheckpoint('/content/drive/MyDrive/Colab Notebooks/chatbot/chatbot.h5', monitor= 'accuracy', mode= 'max', verbose= 1, save_best_only= True)\n",
        "model.fit_generator(generator = generate_batch(X, y, batch_size = batch_size),steps_per_epoch = train_samples//batch_size,\n",
        "                    epochs=epochs,callbacks= [mc, es])"
      ],
      "execution_count": 157,
      "outputs": [
        {
          "output_type": "stream",
          "name": "stderr",
          "text": [
            "/usr/local/lib/python3.7/dist-packages/keras/engine/training.py:1972: UserWarning: `Model.fit_generator` is deprecated and will be removed in a future version. Please use `Model.fit`, which supports generators.\n",
            "  warnings.warn('`Model.fit_generator` is deprecated and '\n"
          ]
        },
        {
          "output_type": "stream",
          "name": "stdout",
          "text": [
            "Epoch 1/105\n",
            "340/340 [==============================] - 87s 212ms/step - loss: 2.4686 - accuracy: 0.1333\n",
            "\n",
            "Epoch 00001: accuracy improved from -inf to 0.13331, saving model to /content/drive/MyDrive/Colab Notebooks/chatbot/chatbot.h5\n",
            "Epoch 2/105\n",
            "340/340 [==============================] - 72s 212ms/step - loss: 2.1377 - accuracy: 0.1817\n",
            "\n",
            "Epoch 00002: accuracy improved from 0.13331 to 0.18174, saving model to /content/drive/MyDrive/Colab Notebooks/chatbot/chatbot.h5\n",
            "Epoch 3/105\n",
            "340/340 [==============================] - 72s 213ms/step - loss: 2.0032 - accuracy: 0.2098\n",
            "\n",
            "Epoch 00003: accuracy improved from 0.18174 to 0.20981, saving model to /content/drive/MyDrive/Colab Notebooks/chatbot/chatbot.h5\n",
            "Epoch 4/105\n",
            "340/340 [==============================] - 72s 213ms/step - loss: 1.9295 - accuracy: 0.2201\n",
            "\n",
            "Epoch 00004: accuracy improved from 0.20981 to 0.22009, saving model to /content/drive/MyDrive/Colab Notebooks/chatbot/chatbot.h5\n",
            "Epoch 5/105\n",
            "340/340 [==============================] - 72s 213ms/step - loss: 1.8704 - accuracy: 0.2279\n",
            "\n",
            "Epoch 00005: accuracy improved from 0.22009 to 0.22791, saving model to /content/drive/MyDrive/Colab Notebooks/chatbot/chatbot.h5\n",
            "Epoch 6/105\n",
            "340/340 [==============================] - 72s 213ms/step - loss: 1.8183 - accuracy: 0.2339\n",
            "\n",
            "Epoch 00006: accuracy improved from 0.22791 to 0.23392, saving model to /content/drive/MyDrive/Colab Notebooks/chatbot/chatbot.h5\n",
            "Epoch 7/105\n",
            "340/340 [==============================] - 72s 212ms/step - loss: 1.7713 - accuracy: 0.2399\n",
            "\n",
            "Epoch 00007: accuracy improved from 0.23392 to 0.23990, saving model to /content/drive/MyDrive/Colab Notebooks/chatbot/chatbot.h5\n",
            "Epoch 8/105\n",
            "340/340 [==============================] - 72s 213ms/step - loss: 1.7268 - accuracy: 0.2456\n",
            "\n",
            "Epoch 00008: accuracy improved from 0.23990 to 0.24555, saving model to /content/drive/MyDrive/Colab Notebooks/chatbot/chatbot.h5\n",
            "Epoch 9/105\n",
            "340/340 [==============================] - 72s 213ms/step - loss: 1.6835 - accuracy: 0.2516\n",
            "\n",
            "Epoch 00009: accuracy improved from 0.24555 to 0.25155, saving model to /content/drive/MyDrive/Colab Notebooks/chatbot/chatbot.h5\n",
            "Epoch 10/105\n",
            "340/340 [==============================] - 73s 214ms/step - loss: 1.6394 - accuracy: 0.2568\n",
            "\n",
            "Epoch 00010: accuracy improved from 0.25155 to 0.25678, saving model to /content/drive/MyDrive/Colab Notebooks/chatbot/chatbot.h5\n",
            "Epoch 11/105\n",
            "340/340 [==============================] - 73s 215ms/step - loss: 1.5959 - accuracy: 0.2632\n",
            "\n",
            "Epoch 00011: accuracy improved from 0.25678 to 0.26324, saving model to /content/drive/MyDrive/Colab Notebooks/chatbot/chatbot.h5\n",
            "Epoch 12/105\n",
            "340/340 [==============================] - 73s 215ms/step - loss: 1.5515 - accuracy: 0.2719\n",
            "\n",
            "Epoch 00012: accuracy improved from 0.26324 to 0.27190, saving model to /content/drive/MyDrive/Colab Notebooks/chatbot/chatbot.h5\n",
            "Epoch 13/105\n",
            "340/340 [==============================] - 73s 216ms/step - loss: 1.5081 - accuracy: 0.2818\n",
            "\n",
            "Epoch 00013: accuracy improved from 0.27190 to 0.28181, saving model to /content/drive/MyDrive/Colab Notebooks/chatbot/chatbot.h5\n",
            "Epoch 14/105\n",
            "340/340 [==============================] - 73s 215ms/step - loss: 1.4648 - accuracy: 0.2935\n",
            "\n",
            "Epoch 00014: accuracy improved from 0.28181 to 0.29348, saving model to /content/drive/MyDrive/Colab Notebooks/chatbot/chatbot.h5\n",
            "Epoch 15/105\n",
            "340/340 [==============================] - 73s 215ms/step - loss: 1.4231 - accuracy: 0.3057\n",
            "\n",
            "Epoch 00015: accuracy improved from 0.29348 to 0.30571, saving model to /content/drive/MyDrive/Colab Notebooks/chatbot/chatbot.h5\n",
            "Epoch 16/105\n",
            "340/340 [==============================] - 74s 216ms/step - loss: 1.3805 - accuracy: 0.3193\n",
            "\n",
            "Epoch 00016: accuracy improved from 0.30571 to 0.31929, saving model to /content/drive/MyDrive/Colab Notebooks/chatbot/chatbot.h5\n",
            "Epoch 17/105\n",
            "340/340 [==============================] - 74s 219ms/step - loss: 1.3401 - accuracy: 0.3339\n",
            "\n",
            "Epoch 00017: accuracy improved from 0.31929 to 0.33390, saving model to /content/drive/MyDrive/Colab Notebooks/chatbot/chatbot.h5\n",
            "Epoch 18/105\n",
            "340/340 [==============================] - 75s 220ms/step - loss: 1.3012 - accuracy: 0.3469\n",
            "\n",
            "Epoch 00018: accuracy improved from 0.33390 to 0.34687, saving model to /content/drive/MyDrive/Colab Notebooks/chatbot/chatbot.h5\n",
            "Epoch 19/105\n",
            "340/340 [==============================] - 75s 220ms/step - loss: 1.2639 - accuracy: 0.3606\n",
            "\n",
            "Epoch 00019: accuracy improved from 0.34687 to 0.36063, saving model to /content/drive/MyDrive/Colab Notebooks/chatbot/chatbot.h5\n",
            "Epoch 20/105\n",
            "340/340 [==============================] - 75s 219ms/step - loss: 1.2254 - accuracy: 0.3748\n",
            "\n",
            "Epoch 00020: accuracy improved from 0.36063 to 0.37483, saving model to /content/drive/MyDrive/Colab Notebooks/chatbot/chatbot.h5\n",
            "Epoch 21/105\n",
            "340/340 [==============================] - 75s 219ms/step - loss: 1.1891 - accuracy: 0.3887\n",
            "\n",
            "Epoch 00021: accuracy improved from 0.37483 to 0.38871, saving model to /content/drive/MyDrive/Colab Notebooks/chatbot/chatbot.h5\n",
            "Epoch 22/105\n",
            "340/340 [==============================] - 75s 219ms/step - loss: 1.1522 - accuracy: 0.4045\n",
            "\n",
            "Epoch 00022: accuracy improved from 0.38871 to 0.40446, saving model to /content/drive/MyDrive/Colab Notebooks/chatbot/chatbot.h5\n",
            "Epoch 23/105\n",
            "340/340 [==============================] - 74s 219ms/step - loss: 1.1182 - accuracy: 0.4175\n",
            "\n",
            "Epoch 00023: accuracy improved from 0.40446 to 0.41747, saving model to /content/drive/MyDrive/Colab Notebooks/chatbot/chatbot.h5\n",
            "Epoch 24/105\n",
            "340/340 [==============================] - 74s 219ms/step - loss: 1.0841 - accuracy: 0.4313\n",
            "\n",
            "Epoch 00024: accuracy improved from 0.41747 to 0.43132, saving model to /content/drive/MyDrive/Colab Notebooks/chatbot/chatbot.h5\n",
            "Epoch 25/105\n",
            "340/340 [==============================] - 74s 219ms/step - loss: 1.0514 - accuracy: 0.4462\n",
            "\n",
            "Epoch 00025: accuracy improved from 0.43132 to 0.44616, saving model to /content/drive/MyDrive/Colab Notebooks/chatbot/chatbot.h5\n",
            "Epoch 26/105\n",
            "340/340 [==============================] - 75s 220ms/step - loss: 1.0186 - accuracy: 0.4600\n",
            "\n",
            "Epoch 00026: accuracy improved from 0.44616 to 0.46000, saving model to /content/drive/MyDrive/Colab Notebooks/chatbot/chatbot.h5\n",
            "Epoch 27/105\n",
            "340/340 [==============================] - 76s 222ms/step - loss: 0.9871 - accuracy: 0.4736\n",
            "\n",
            "Epoch 00027: accuracy improved from 0.46000 to 0.47363, saving model to /content/drive/MyDrive/Colab Notebooks/chatbot/chatbot.h5\n",
            "Epoch 28/105\n",
            "340/340 [==============================] - 75s 222ms/step - loss: 0.9568 - accuracy: 0.4883\n",
            "\n",
            "Epoch 00028: accuracy improved from 0.47363 to 0.48832, saving model to /content/drive/MyDrive/Colab Notebooks/chatbot/chatbot.h5\n",
            "Epoch 29/105\n",
            "340/340 [==============================] - 75s 222ms/step - loss: 0.9261 - accuracy: 0.5018\n",
            "\n",
            "Epoch 00029: accuracy improved from 0.48832 to 0.50181, saving model to /content/drive/MyDrive/Colab Notebooks/chatbot/chatbot.h5\n",
            "Epoch 30/105\n",
            "340/340 [==============================] - 75s 222ms/step - loss: 0.8934 - accuracy: 0.5182\n",
            "\n",
            "Epoch 00030: accuracy improved from 0.50181 to 0.51823, saving model to /content/drive/MyDrive/Colab Notebooks/chatbot/chatbot.h5\n",
            "Epoch 31/105\n",
            "340/340 [==============================] - 75s 220ms/step - loss: 0.8618 - accuracy: 0.5334\n",
            "\n",
            "Epoch 00031: accuracy improved from 0.51823 to 0.53342, saving model to /content/drive/MyDrive/Colab Notebooks/chatbot/chatbot.h5\n",
            "Epoch 32/105\n",
            "340/340 [==============================] - 74s 219ms/step - loss: 0.8324 - accuracy: 0.5484\n",
            "\n",
            "Epoch 00032: accuracy improved from 0.53342 to 0.54843, saving model to /content/drive/MyDrive/Colab Notebooks/chatbot/chatbot.h5\n",
            "Epoch 33/105\n",
            "340/340 [==============================] - 75s 219ms/step - loss: 0.8034 - accuracy: 0.5626\n",
            "\n",
            "Epoch 00033: accuracy improved from 0.54843 to 0.56259, saving model to /content/drive/MyDrive/Colab Notebooks/chatbot/chatbot.h5\n",
            "Epoch 34/105\n",
            "340/340 [==============================] - 75s 220ms/step - loss: 0.7747 - accuracy: 0.5767\n",
            "\n",
            "Epoch 00034: accuracy improved from 0.56259 to 0.57675, saving model to /content/drive/MyDrive/Colab Notebooks/chatbot/chatbot.h5\n",
            "Epoch 35/105\n",
            "340/340 [==============================] - 75s 219ms/step - loss: 0.7471 - accuracy: 0.5911\n",
            "\n",
            "Epoch 00035: accuracy improved from 0.57675 to 0.59115, saving model to /content/drive/MyDrive/Colab Notebooks/chatbot/chatbot.h5\n",
            "Epoch 36/105\n",
            "340/340 [==============================] - 75s 221ms/step - loss: 0.7210 - accuracy: 0.6042\n",
            "\n",
            "Epoch 00036: accuracy improved from 0.59115 to 0.60419, saving model to /content/drive/MyDrive/Colab Notebooks/chatbot/chatbot.h5\n",
            "Epoch 37/105\n",
            "340/340 [==============================] - 75s 221ms/step - loss: 0.6932 - accuracy: 0.6189\n",
            "\n",
            "Epoch 00037: accuracy improved from 0.60419 to 0.61886, saving model to /content/drive/MyDrive/Colab Notebooks/chatbot/chatbot.h5\n",
            "Epoch 38/105\n",
            "340/340 [==============================] - 75s 221ms/step - loss: 0.6670 - accuracy: 0.6324\n",
            "\n",
            "Epoch 00038: accuracy improved from 0.61886 to 0.63236, saving model to /content/drive/MyDrive/Colab Notebooks/chatbot/chatbot.h5\n",
            "Epoch 39/105\n",
            "340/340 [==============================] - 75s 220ms/step - loss: 0.6437 - accuracy: 0.6444\n",
            "\n",
            "Epoch 00039: accuracy improved from 0.63236 to 0.64439, saving model to /content/drive/MyDrive/Colab Notebooks/chatbot/chatbot.h5\n",
            "Epoch 40/105\n",
            "340/340 [==============================] - 75s 219ms/step - loss: 0.6203 - accuracy: 0.6570\n",
            "\n",
            "Epoch 00040: accuracy improved from 0.64439 to 0.65696, saving model to /content/drive/MyDrive/Colab Notebooks/chatbot/chatbot.h5\n",
            "Epoch 41/105\n",
            "340/340 [==============================] - 75s 220ms/step - loss: 0.5975 - accuracy: 0.6694\n",
            "\n",
            "Epoch 00041: accuracy improved from 0.65696 to 0.66938, saving model to /content/drive/MyDrive/Colab Notebooks/chatbot/chatbot.h5\n",
            "Epoch 42/105\n",
            "340/340 [==============================] - 75s 221ms/step - loss: 0.5766 - accuracy: 0.6786\n",
            "\n",
            "Epoch 00042: accuracy improved from 0.66938 to 0.67859, saving model to /content/drive/MyDrive/Colab Notebooks/chatbot/chatbot.h5\n",
            "Epoch 43/105\n",
            "340/340 [==============================] - 75s 220ms/step - loss: 0.5550 - accuracy: 0.6918\n",
            "\n",
            "Epoch 00043: accuracy improved from 0.67859 to 0.69181, saving model to /content/drive/MyDrive/Colab Notebooks/chatbot/chatbot.h5\n",
            "Epoch 44/105\n",
            "340/340 [==============================] - 75s 221ms/step - loss: 0.5353 - accuracy: 0.7023\n",
            "\n",
            "Epoch 00044: accuracy improved from 0.69181 to 0.70227, saving model to /content/drive/MyDrive/Colab Notebooks/chatbot/chatbot.h5\n",
            "Epoch 45/105\n",
            "340/340 [==============================] - 75s 220ms/step - loss: 0.5124 - accuracy: 0.7167\n",
            "\n",
            "Epoch 00045: accuracy improved from 0.70227 to 0.71671, saving model to /content/drive/MyDrive/Colab Notebooks/chatbot/chatbot.h5\n",
            "Epoch 46/105\n",
            "340/340 [==============================] - 75s 220ms/step - loss: 0.4904 - accuracy: 0.7283\n",
            "\n",
            "Epoch 00046: accuracy improved from 0.71671 to 0.72828, saving model to /content/drive/MyDrive/Colab Notebooks/chatbot/chatbot.h5\n",
            "Epoch 47/105\n",
            "340/340 [==============================] - 75s 220ms/step - loss: 0.4714 - accuracy: 0.7390\n",
            "\n",
            "Epoch 00047: accuracy improved from 0.72828 to 0.73903, saving model to /content/drive/MyDrive/Colab Notebooks/chatbot/chatbot.h5\n",
            "Epoch 48/105\n",
            "340/340 [==============================] - 75s 220ms/step - loss: 0.4535 - accuracy: 0.7500\n",
            "\n",
            "Epoch 00048: accuracy improved from 0.73903 to 0.75001, saving model to /content/drive/MyDrive/Colab Notebooks/chatbot/chatbot.h5\n",
            "Epoch 49/105\n",
            "340/340 [==============================] - 75s 221ms/step - loss: 0.4351 - accuracy: 0.7598\n",
            "\n",
            "Epoch 00049: accuracy improved from 0.75001 to 0.75978, saving model to /content/drive/MyDrive/Colab Notebooks/chatbot/chatbot.h5\n",
            "Epoch 50/105\n",
            "340/340 [==============================] - 75s 222ms/step - loss: 0.4185 - accuracy: 0.7700\n",
            "\n",
            "Epoch 00050: accuracy improved from 0.75978 to 0.77004, saving model to /content/drive/MyDrive/Colab Notebooks/chatbot/chatbot.h5\n",
            "Epoch 51/105\n",
            "340/340 [==============================] - 75s 222ms/step - loss: 0.4021 - accuracy: 0.7789\n",
            "\n",
            "Epoch 00051: accuracy improved from 0.77004 to 0.77892, saving model to /content/drive/MyDrive/Colab Notebooks/chatbot/chatbot.h5\n",
            "Epoch 52/105\n",
            "340/340 [==============================] - 75s 221ms/step - loss: 0.3837 - accuracy: 0.7901\n",
            "\n",
            "Epoch 00052: accuracy improved from 0.77892 to 0.79015, saving model to /content/drive/MyDrive/Colab Notebooks/chatbot/chatbot.h5\n",
            "Epoch 53/105\n",
            "340/340 [==============================] - 75s 221ms/step - loss: 0.3672 - accuracy: 0.7992\n",
            "\n",
            "Epoch 00053: accuracy improved from 0.79015 to 0.79920, saving model to /content/drive/MyDrive/Colab Notebooks/chatbot/chatbot.h5\n",
            "Epoch 54/105\n",
            "340/340 [==============================] - 75s 221ms/step - loss: 0.3532 - accuracy: 0.8067\n",
            "\n",
            "Epoch 00054: accuracy improved from 0.79920 to 0.80674, saving model to /content/drive/MyDrive/Colab Notebooks/chatbot/chatbot.h5\n",
            "Epoch 55/105\n",
            "340/340 [==============================] - 75s 221ms/step - loss: 0.3377 - accuracy: 0.8168\n",
            "\n",
            "Epoch 00055: accuracy improved from 0.80674 to 0.81681, saving model to /content/drive/MyDrive/Colab Notebooks/chatbot/chatbot.h5\n",
            "Epoch 56/105\n",
            "340/340 [==============================] - 75s 221ms/step - loss: 0.3240 - accuracy: 0.8239\n",
            "\n",
            "Epoch 00056: accuracy improved from 0.81681 to 0.82393, saving model to /content/drive/MyDrive/Colab Notebooks/chatbot/chatbot.h5\n",
            "Epoch 57/105\n",
            "340/340 [==============================] - 75s 221ms/step - loss: 0.3105 - accuracy: 0.8320\n",
            "\n",
            "Epoch 00057: accuracy improved from 0.82393 to 0.83201, saving model to /content/drive/MyDrive/Colab Notebooks/chatbot/chatbot.h5\n",
            "Epoch 58/105\n",
            "340/340 [==============================] - 75s 222ms/step - loss: 0.2986 - accuracy: 0.8386\n",
            "\n",
            "Epoch 00058: accuracy improved from 0.83201 to 0.83857, saving model to /content/drive/MyDrive/Colab Notebooks/chatbot/chatbot.h5\n",
            "Epoch 59/105\n",
            "340/340 [==============================] - 75s 222ms/step - loss: 0.2890 - accuracy: 0.8441\n",
            "\n",
            "Epoch 00059: accuracy improved from 0.83857 to 0.84410, saving model to /content/drive/MyDrive/Colab Notebooks/chatbot/chatbot.h5\n",
            "Epoch 60/105\n",
            "340/340 [==============================] - 75s 221ms/step - loss: 0.2763 - accuracy: 0.8516\n",
            "\n",
            "Epoch 00060: accuracy improved from 0.84410 to 0.85164, saving model to /content/drive/MyDrive/Colab Notebooks/chatbot/chatbot.h5\n",
            "Epoch 61/105\n",
            "340/340 [==============================] - 75s 221ms/step - loss: 0.2604 - accuracy: 0.8622\n",
            "\n",
            "Epoch 00061: accuracy improved from 0.85164 to 0.86215, saving model to /content/drive/MyDrive/Colab Notebooks/chatbot/chatbot.h5\n",
            "Epoch 62/105\n",
            "340/340 [==============================] - 75s 221ms/step - loss: 0.2489 - accuracy: 0.8699\n",
            "\n",
            "Epoch 00062: accuracy improved from 0.86215 to 0.86990, saving model to /content/drive/MyDrive/Colab Notebooks/chatbot/chatbot.h5\n",
            "Epoch 63/105\n",
            "340/340 [==============================] - 75s 221ms/step - loss: 0.2364 - accuracy: 0.8773\n",
            "\n",
            "Epoch 00063: accuracy improved from 0.86990 to 0.87732, saving model to /content/drive/MyDrive/Colab Notebooks/chatbot/chatbot.h5\n",
            "Epoch 64/105\n",
            "340/340 [==============================] - 75s 221ms/step - loss: 0.2256 - accuracy: 0.8838\n",
            "\n",
            "Epoch 00064: accuracy improved from 0.87732 to 0.88377, saving model to /content/drive/MyDrive/Colab Notebooks/chatbot/chatbot.h5\n",
            "Epoch 65/105\n",
            "340/340 [==============================] - 75s 222ms/step - loss: 0.2163 - accuracy: 0.8890\n",
            "\n",
            "Epoch 00065: accuracy improved from 0.88377 to 0.88902, saving model to /content/drive/MyDrive/Colab Notebooks/chatbot/chatbot.h5\n",
            "Epoch 66/105\n",
            "340/340 [==============================] - 76s 222ms/step - loss: 0.2084 - accuracy: 0.8933\n",
            "\n",
            "Epoch 00066: accuracy improved from 0.88902 to 0.89332, saving model to /content/drive/MyDrive/Colab Notebooks/chatbot/chatbot.h5\n",
            "Epoch 67/105\n",
            "340/340 [==============================] - 76s 222ms/step - loss: 0.2007 - accuracy: 0.8977\n",
            "\n",
            "Epoch 00067: accuracy improved from 0.89332 to 0.89767, saving model to /content/drive/MyDrive/Colab Notebooks/chatbot/chatbot.h5\n",
            "Epoch 68/105\n",
            "340/340 [==============================] - 75s 221ms/step - loss: 0.1937 - accuracy: 0.9014\n",
            "\n",
            "Epoch 00068: accuracy improved from 0.89767 to 0.90141, saving model to /content/drive/MyDrive/Colab Notebooks/chatbot/chatbot.h5\n",
            "Epoch 69/105\n",
            "340/340 [==============================] - 75s 221ms/step - loss: 0.1845 - accuracy: 0.9075\n",
            "\n",
            "Epoch 00069: accuracy improved from 0.90141 to 0.90750, saving model to /content/drive/MyDrive/Colab Notebooks/chatbot/chatbot.h5\n",
            "Epoch 70/105\n",
            "340/340 [==============================] - 75s 221ms/step - loss: 0.1776 - accuracy: 0.9111\n",
            "\n",
            "Epoch 00070: accuracy improved from 0.90750 to 0.91110, saving model to /content/drive/MyDrive/Colab Notebooks/chatbot/chatbot.h5\n",
            "Epoch 71/105\n",
            "340/340 [==============================] - 75s 221ms/step - loss: 0.1709 - accuracy: 0.9153\n",
            "\n",
            "Epoch 00071: accuracy improved from 0.91110 to 0.91528, saving model to /content/drive/MyDrive/Colab Notebooks/chatbot/chatbot.h5\n",
            "Epoch 72/105\n",
            "340/340 [==============================] - 75s 221ms/step - loss: 0.1655 - accuracy: 0.9178\n",
            "\n",
            "Epoch 00072: accuracy improved from 0.91528 to 0.91777, saving model to /content/drive/MyDrive/Colab Notebooks/chatbot/chatbot.h5\n",
            "Epoch 73/105\n",
            "340/340 [==============================] - 75s 221ms/step - loss: 0.1585 - accuracy: 0.9221\n",
            "\n",
            "Epoch 00073: accuracy improved from 0.91777 to 0.92209, saving model to /content/drive/MyDrive/Colab Notebooks/chatbot/chatbot.h5\n",
            "Epoch 74/105\n",
            "340/340 [==============================] - 75s 222ms/step - loss: 0.1523 - accuracy: 0.9258\n",
            "\n",
            "Epoch 00074: accuracy improved from 0.92209 to 0.92577, saving model to /content/drive/MyDrive/Colab Notebooks/chatbot/chatbot.h5\n",
            "Epoch 75/105\n",
            "340/340 [==============================] - 75s 222ms/step - loss: 0.1467 - accuracy: 0.9285\n",
            "\n",
            "Epoch 00075: accuracy improved from 0.92577 to 0.92852, saving model to /content/drive/MyDrive/Colab Notebooks/chatbot/chatbot.h5\n",
            "Epoch 76/105\n",
            "340/340 [==============================] - 76s 222ms/step - loss: 0.1412 - accuracy: 0.9318\n",
            "\n",
            "Epoch 00076: accuracy improved from 0.92852 to 0.93184, saving model to /content/drive/MyDrive/Colab Notebooks/chatbot/chatbot.h5\n",
            "Epoch 77/105\n",
            "340/340 [==============================] - 75s 222ms/step - loss: 0.1354 - accuracy: 0.9356\n",
            "\n",
            "Epoch 00077: accuracy improved from 0.93184 to 0.93557, saving model to /content/drive/MyDrive/Colab Notebooks/chatbot/chatbot.h5\n",
            "Epoch 78/105\n",
            "340/340 [==============================] - 75s 220ms/step - loss: 0.1302 - accuracy: 0.9384\n",
            "\n",
            "Epoch 00078: accuracy improved from 0.93557 to 0.93841, saving model to /content/drive/MyDrive/Colab Notebooks/chatbot/chatbot.h5\n",
            "Epoch 79/105\n",
            "340/340 [==============================] - 74s 218ms/step - loss: 0.1259 - accuracy: 0.9409\n",
            "\n",
            "Epoch 00079: accuracy improved from 0.93841 to 0.94091, saving model to /content/drive/MyDrive/Colab Notebooks/chatbot/chatbot.h5\n",
            "Epoch 80/105\n",
            "340/340 [==============================] - 75s 219ms/step - loss: 0.1216 - accuracy: 0.9424\n",
            "\n",
            "Epoch 00080: accuracy improved from 0.94091 to 0.94241, saving model to /content/drive/MyDrive/Colab Notebooks/chatbot/chatbot.h5\n",
            "Epoch 81/105\n",
            "340/340 [==============================] - 74s 219ms/step - loss: 0.1175 - accuracy: 0.9453\n",
            "\n",
            "Epoch 00081: accuracy improved from 0.94241 to 0.94529, saving model to /content/drive/MyDrive/Colab Notebooks/chatbot/chatbot.h5\n",
            "Epoch 82/105\n",
            "340/340 [==============================] - 74s 218ms/step - loss: 0.1141 - accuracy: 0.9470\n",
            "\n",
            "Epoch 00082: accuracy improved from 0.94529 to 0.94696, saving model to /content/drive/MyDrive/Colab Notebooks/chatbot/chatbot.h5\n",
            "Epoch 83/105\n",
            "340/340 [==============================] - 74s 218ms/step - loss: 0.1093 - accuracy: 0.9496\n",
            "\n",
            "Epoch 00083: accuracy improved from 0.94696 to 0.94965, saving model to /content/drive/MyDrive/Colab Notebooks/chatbot/chatbot.h5\n",
            "Epoch 84/105\n",
            "340/340 [==============================] - 74s 218ms/step - loss: 0.1050 - accuracy: 0.9520\n",
            "\n",
            "Epoch 00084: accuracy improved from 0.94965 to 0.95200, saving model to /content/drive/MyDrive/Colab Notebooks/chatbot/chatbot.h5\n",
            "Epoch 85/105\n",
            "340/340 [==============================] - 74s 218ms/step - loss: 0.1013 - accuracy: 0.9543\n",
            "\n",
            "Epoch 00085: accuracy improved from 0.95200 to 0.95426, saving model to /content/drive/MyDrive/Colab Notebooks/chatbot/chatbot.h5\n",
            "Epoch 86/105\n",
            "340/340 [==============================] - 74s 218ms/step - loss: 0.0987 - accuracy: 0.9549\n",
            "\n",
            "Epoch 00086: accuracy improved from 0.95426 to 0.95494, saving model to /content/drive/MyDrive/Colab Notebooks/chatbot/chatbot.h5\n",
            "Epoch 87/105\n",
            "340/340 [==============================] - 75s 219ms/step - loss: 0.0965 - accuracy: 0.9563\n",
            "\n",
            "Epoch 00087: accuracy improved from 0.95494 to 0.95634, saving model to /content/drive/MyDrive/Colab Notebooks/chatbot/chatbot.h5\n",
            "Epoch 88/105\n",
            "340/340 [==============================] - 74s 219ms/step - loss: 0.0930 - accuracy: 0.9578\n",
            "\n",
            "Epoch 00088: accuracy improved from 0.95634 to 0.95781, saving model to /content/drive/MyDrive/Colab Notebooks/chatbot/chatbot.h5\n",
            "Epoch 89/105\n",
            "340/340 [==============================] - 75s 220ms/step - loss: 0.0899 - accuracy: 0.9590\n",
            "\n",
            "Epoch 00089: accuracy improved from 0.95781 to 0.95904, saving model to /content/drive/MyDrive/Colab Notebooks/chatbot/chatbot.h5\n",
            "Epoch 90/105\n",
            "340/340 [==============================] - 74s 218ms/step - loss: 0.0885 - accuracy: 0.9598\n",
            "\n",
            "Epoch 00090: accuracy improved from 0.95904 to 0.95976, saving model to /content/drive/MyDrive/Colab Notebooks/chatbot/chatbot.h5\n",
            "Epoch 91/105\n",
            "340/340 [==============================] - 74s 219ms/step - loss: 0.0853 - accuracy: 0.9618\n",
            "\n",
            "Epoch 00091: accuracy improved from 0.95976 to 0.96183, saving model to /content/drive/MyDrive/Colab Notebooks/chatbot/chatbot.h5\n",
            "Epoch 92/105\n",
            "340/340 [==============================] - 74s 218ms/step - loss: 0.0826 - accuracy: 0.9633\n",
            "\n",
            "Epoch 00092: accuracy improved from 0.96183 to 0.96326, saving model to /content/drive/MyDrive/Colab Notebooks/chatbot/chatbot.h5\n",
            "Epoch 93/105\n",
            "340/340 [==============================] - 74s 218ms/step - loss: 0.0806 - accuracy: 0.9641\n",
            "\n",
            "Epoch 00093: accuracy improved from 0.96326 to 0.96410, saving model to /content/drive/MyDrive/Colab Notebooks/chatbot/chatbot.h5\n",
            "Epoch 94/105\n",
            "340/340 [==============================] - 74s 218ms/step - loss: 0.0792 - accuracy: 0.9650\n",
            "\n",
            "Epoch 00094: accuracy improved from 0.96410 to 0.96501, saving model to /content/drive/MyDrive/Colab Notebooks/chatbot/chatbot.h5\n",
            "Epoch 95/105\n",
            "340/340 [==============================] - 74s 219ms/step - loss: 0.0790 - accuracy: 0.9642\n",
            "\n",
            "Epoch 00095: accuracy did not improve from 0.96501\n",
            "Epoch 96/105\n",
            "340/340 [==============================] - 74s 218ms/step - loss: 0.0769 - accuracy: 0.9649\n",
            "\n",
            "Epoch 00096: accuracy did not improve from 0.96501\n",
            "Epoch 97/105\n",
            "340/340 [==============================] - 74s 218ms/step - loss: 0.0750 - accuracy: 0.9662\n",
            "\n",
            "Epoch 00097: accuracy improved from 0.96501 to 0.96622, saving model to /content/drive/MyDrive/Colab Notebooks/chatbot/chatbot.h5\n",
            "Epoch 98/105\n",
            "340/340 [==============================] - 74s 219ms/step - loss: 0.0728 - accuracy: 0.9673\n",
            "\n",
            "Epoch 00098: accuracy improved from 0.96622 to 0.96731, saving model to /content/drive/MyDrive/Colab Notebooks/chatbot/chatbot.h5\n",
            "Epoch 99/105\n",
            "340/340 [==============================] - 74s 218ms/step - loss: 0.0701 - accuracy: 0.9688\n",
            "\n",
            "Epoch 00099: accuracy improved from 0.96731 to 0.96877, saving model to /content/drive/MyDrive/Colab Notebooks/chatbot/chatbot.h5\n",
            "Epoch 100/105\n",
            "340/340 [==============================] - 74s 218ms/step - loss: 0.0693 - accuracy: 0.9693\n",
            "\n",
            "Epoch 00100: accuracy improved from 0.96877 to 0.96933, saving model to /content/drive/MyDrive/Colab Notebooks/chatbot/chatbot.h5\n",
            "Epoch 101/105\n",
            "340/340 [==============================] - 74s 217ms/step - loss: 0.0687 - accuracy: 0.9686\n",
            "\n",
            "Epoch 00101: accuracy did not improve from 0.96933\n",
            "Epoch 102/105\n",
            "340/340 [==============================] - 74s 217ms/step - loss: 0.0669 - accuracy: 0.9697\n",
            "\n",
            "Epoch 00102: accuracy improved from 0.96933 to 0.96968, saving model to /content/drive/MyDrive/Colab Notebooks/chatbot/chatbot.h5\n",
            "Epoch 103/105\n",
            "340/340 [==============================] - 74s 218ms/step - loss: 0.0665 - accuracy: 0.9699\n",
            "\n",
            "Epoch 00103: accuracy improved from 0.96968 to 0.96986, saving model to /content/drive/MyDrive/Colab Notebooks/chatbot/chatbot.h5\n",
            "Epoch 104/105\n",
            "340/340 [==============================] - 74s 218ms/step - loss: 0.0645 - accuracy: 0.9708\n",
            "\n",
            "Epoch 00104: accuracy improved from 0.96986 to 0.97083, saving model to /content/drive/MyDrive/Colab Notebooks/chatbot/chatbot.h5\n",
            "Epoch 105/105\n",
            "340/340 [==============================] - 74s 219ms/step - loss: 0.0622 - accuracy: 0.9719\n",
            "\n",
            "Epoch 00105: accuracy improved from 0.97083 to 0.97192, saving model to /content/drive/MyDrive/Colab Notebooks/chatbot/chatbot.h5\n"
          ]
        },
        {
          "output_type": "execute_result",
          "data": {
            "text/plain": [
              "<keras.callbacks.History at 0x7f121c4f2450>"
            ]
          },
          "metadata": {},
          "execution_count": 157
        }
      ]
    },
    {
      "cell_type": "code",
      "metadata": {
        "id": "E41zfzKjhYij"
      },
      "source": [
        "#iuhbjhv"
      ],
      "execution_count": 158,
      "outputs": []
    },
    {
      "cell_type": "code",
      "metadata": {
        "id": "Ksnf2P_RNP2E"
      },
      "source": [
        ""
      ],
      "execution_count": 158,
      "outputs": []
    },
    {
      "cell_type": "code",
      "metadata": {
        "id": "FwjFtBeRhX1T"
      },
      "source": [
        "model.save_weights('/content/drive/MyDrive/Colab Notebooks/chatbot/nmt_weights.h5')"
      ],
      "execution_count": 159,
      "outputs": []
    },
    {
      "cell_type": "code",
      "metadata": {
        "id": "ZMQszPVcJvGy",
        "colab": {
          "base_uri": "https://localhost:8080/"
        },
        "outputId": "b02c9cc5-4eca-4055-fff5-6be80cdf55d2"
      },
      "source": [
        "model_json = encodermodel.to_json()\n",
        "with open(\"/content/drive/MyDrive/Colab Notebooks/chatbot/encodermodel1.json\", \"w\") as json_file:\n",
        "    json_file.write(model_json)\n",
        "\n",
        "encodermodel.save_weights(\"/content/drive/MyDrive/Colab Notebooks/chatbot/encoder_model1.h5\")\n",
        "print(\"Saved Model!\")"
      ],
      "execution_count": 160,
      "outputs": [
        {
          "output_type": "stream",
          "name": "stdout",
          "text": [
            "Saved Model!\n"
          ]
        }
      ]
    },
    {
      "cell_type": "code",
      "metadata": {
        "id": "F-qKYUBaJvKh",
        "colab": {
          "base_uri": "https://localhost:8080/"
        },
        "outputId": "2bbc9b95-c3a6-4209-c601-b5fa8c28c6e3"
      },
      "source": [
        "model_json = decodermodel.to_json()\n",
        "with open(\"/content/drive/MyDrive/Colab Notebooks/chatbot/decodermodel1.json\", \"w\") as json_file:\n",
        "    json_file.write(model_json)\n",
        "\n",
        "decodermodel.save_weights(\"/content/drive/MyDrive/Colab Notebooks/chatbot/decoder_model.h5\")\n",
        "print(\"Saved Model!\")"
      ],
      "execution_count": 168,
      "outputs": [
        {
          "output_type": "stream",
          "name": "stdout",
          "text": [
            "Saved Model!\n"
          ]
        }
      ]
    },
    {
      "cell_type": "code",
      "metadata": {
        "id": "SbNtkWJAJvcC"
      },
      "source": [
        "def decode_sequence(input_seq):\n",
        "    # Encode the input as state vectors.\n",
        "    states_value = encodermodel.predict(input_seq)\n",
        "    # Generate empty target sequence of length 1.\n",
        "    target_seq = np.zeros((1,1))\n",
        "    # Populate the first character of target sequence with the start character.\n",
        "    target_seq[0, 0] = input_token_index['START_']\n",
        "\n",
        "    # Sampling loop for a batch of sequences\n",
        "    # (to simplify, here we assume a batch of size 1).\n",
        "    stop_condition = False\n",
        "    decoded_sentence = ''\n",
        "    while not stop_condition:\n",
        "        output_tokens, h, c = decodermodel.predict([target_seq] + states_value)\n",
        "\n",
        "        # Sample a token/ it used last time stamp which is only one so doenst matter\n",
        "        sampled_token_index = np.argmax(output_tokens[0, -1, :])\n",
        "        sampled_char = reverse_input_char_index[sampled_token_index]\n",
        "        decoded_sentence += ' '+sampled_char\n",
        "\n",
        "        # Exit condition: either hit max length\n",
        "        # or find stop character.\n",
        "        if (sampled_char == '_END' or\n",
        "           len(decoded_sentence) > 20):\n",
        "            stop_condition = True\n",
        "\n",
        "        # Update the target sequence (of length 1).\n",
        "        target_seq = np.zeros((1,1))\n",
        "        target_seq[0, 0] = sampled_token_index\n",
        "\n",
        "        # Update states\n",
        "        states_value = [h, c]\n",
        "\n",
        "    return decoded_sentence"
      ],
      "execution_count": 162,
      "outputs": []
    },
    {
      "cell_type": "code",
      "metadata": {
        "id": "WhEDyxTcJzpA"
      },
      "source": [
        "train_gen = generate_batch(X, y, batch_size = 1)\n",
        "k=-1\n"
      ],
      "execution_count": 163,
      "outputs": []
    },
    {
      "cell_type": "code",
      "metadata": {
        "id": "TMX5JndkpOLD",
        "colab": {
          "base_uri": "https://localhost:8080/"
        },
        "outputId": "d07a354d-0952-41a0-d8c2-89c545354315"
      },
      "source": [
        "k+=1\n",
        "(input_seq, actual_output), _ = next(train_gen)\n",
        "decoded_sentence = decode_sequence(input_seq)\n",
        "print('Input  sentence:', X[k:k+1].values[0])\n",
        "print('Actual  conversation:', y[k:k+1].values[0][6:-4])\n",
        "print('Predicted word:', decoded_sentence[:-4])"
      ],
      "execution_count": 164,
      "outputs": [
        {
          "output_type": "stream",
          "name": "stdout",
          "text": [
            "Input  sentence: forget it bunghole\n",
            "Actual  conversation:  me first \n",
            "Predicted word:  me first \n"
          ]
        }
      ]
    },
    {
      "cell_type": "code",
      "metadata": {
        "id": "EiSt1qIC5t8v"
      },
      "source": [
        "\n"
      ],
      "execution_count": 169,
      "outputs": []
    },
    {
      "cell_type": "code",
      "metadata": {
        "id": "hWqVBboK51dY"
      },
      "source": [
        "def chatbot(cases):\n",
        "\n",
        "  for i in range(cases):\n",
        "    stringss= input('START THE CONVERSATION::::')\n",
        "    stringss= clean_text(stringss)\n",
        "    stringss= ' '.join(stringss.split())\n",
        "    stringss= stringss.strip()\n",
        "    newdata= np.zeros((1, max_length_src),dtype='float32')\n",
        "    for t, word in enumerate(stringss.split()):\n",
        "      newdata[0, t] = input_token_index[word]\n",
        "\n",
        "    decoded_sentence = decode_sequence(newdata)\n",
        "    print('CHATBOT:::::', decoded_sentence[:-4])\n",
        "  print('HURRAY DONE......!!!!!')\n",
        "\n"
      ],
      "execution_count": 189,
      "outputs": []
    },
    {
      "cell_type": "code",
      "metadata": {
        "colab": {
          "base_uri": "https://localhost:8080/"
        },
        "id": "_sP4Rv3E7P1A",
        "outputId": "c50067c7-2621-4afe-f336-224ac5f2be16"
      },
      "source": [
        "chatbot(2)\n"
      ],
      "execution_count": 190,
      "outputs": [
        {
          "output_type": "stream",
          "name": "stdout",
          "text": [
            "START THE CONVERSATION::::bye\n",
            "CHATBOT:::::  great bye \n",
            "START THE CONVERSATION::::i was joking\n",
            "CHATBOT:::::  whatever you say \n",
            "HURRAY DONE......!!!!!\n"
          ]
        }
      ]
    },
    {
      "cell_type": "code",
      "metadata": {
        "id": "bsjiy8ABkGCZ"
      },
      "source": [
        ""
      ],
      "execution_count": null,
      "outputs": []
    }
  ]
}