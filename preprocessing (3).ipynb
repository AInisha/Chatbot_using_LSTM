{
  "nbformat": 4,
  "nbformat_minor": 0,
  "metadata": {
    "colab": {
      "name": "preprocessing.ipynb",
      "provenance": [],
      "collapsed_sections": []
    },
    "kernelspec": {
      "display_name": "Python 3",
      "name": "python3"
    },
    "language_info": {
      "name": "python"
    }
  },
  "cells": [
    {
      "cell_type": "code",
      "metadata": {
        "id": "5u53iV4nJbYF"
      },
      "source": [
        "import re\n",
        "from collections import Counter"
      ],
      "execution_count": null,
      "outputs": []
    },
    {
      "cell_type": "code",
      "metadata": {
        "colab": {
          "base_uri": "https://localhost:8080/"
        },
        "id": "GfPWVz1YUAn6",
        "outputId": "f7d2d1ab-a04c-4bc9-fdf8-fbf71e09b1ea"
      },
      "source": [
        "from google.colab import drive\n",
        "drive.mount('/content/drive')"
      ],
      "execution_count": null,
      "outputs": [
        {
          "output_type": "stream",
          "name": "stdout",
          "text": [
            "Mounted at /content/drive\n"
          ]
        }
      ]
    },
    {
      "cell_type": "code",
      "metadata": {
        "id": "laaJHIxDbax9"
      },
      "source": [
        "import nltk\n",
        "from nltk.corpus import movie_reviews"
      ],
      "execution_count": null,
      "outputs": []
    },
    {
      "cell_type": "code",
      "metadata": {
        "colab": {
          "base_uri": "https://localhost:8080/"
        },
        "id": "EQQDzNrRba08",
        "outputId": "ebdce0c9-746b-4581-c36d-ac1005f808e8"
      },
      "source": [
        "nltk.download('movie_reviews')"
      ],
      "execution_count": null,
      "outputs": [
        {
          "output_type": "stream",
          "name": "stdout",
          "text": [
            "[nltk_data] Downloading package movie_reviews to /root/nltk_data...\n",
            "[nltk_data]   Unzipping corpora/movie_reviews.zip.\n"
          ]
        },
        {
          "output_type": "execute_result",
          "data": {
            "text/plain": [
              "True"
            ]
          },
          "metadata": {},
          "execution_count": 4
        }
      ]
    },
    {
      "cell_type": "code",
      "metadata": {
        "id": "IOO-7dCBbl3b"
      },
      "source": [
        "WORD= nltk.FreqDist(movie_reviews.words())"
      ],
      "execution_count": null,
      "outputs": []
    },
    {
      "cell_type": "code",
      "metadata": {
        "colab": {
          "base_uri": "https://localhost:8080/"
        },
        "id": "tFVzMHJvbl6P",
        "outputId": "3e0d970c-f243-4d18-99ea-13cd9dfe2aea"
      },
      "source": [
        "import numpy as np\n",
        "embedding_index= {}\n",
        "with open('/content/drive/MyDrive/Colab Notebooks/chatbot/glove.twitter.27B.50d.txt', encoding= 'utf-8') as f:\n",
        "  for line in f:\n",
        "    value= line.split()[0]\n",
        "    value2= np.asarray(line.split()[1:], dtype= 'float32')\n",
        "    embedding_index[value]= value2\n",
        "  \n",
        "  f.close()\n",
        "print('gloveloaded')\n",
        "abc= list(embedding_index.keys())"
      ],
      "execution_count": null,
      "outputs": [
        {
          "output_type": "stream",
          "name": "stdout",
          "text": [
            "gloveloaded\n"
          ]
        }
      ]
    },
    {
      "cell_type": "code",
      "metadata": {
        "id": "x02m156BJxjK"
      },
      "source": [
        "#this is to remove punctuation\n",
        "#The function words breaks text into words, then the variable WORDS holds a Counter of how often each word appears, and P estimates the probability of each word, based on this Counter:\n",
        "def word(text):\n",
        "  return re.findall(r'\\w+', text.lower())"
      ],
      "execution_count": null,
      "outputs": []
    },
    {
      "cell_type": "code",
      "metadata": {
        "colab": {
          "base_uri": "https://localhost:8080/"
        },
        "id": "hgj6wbDgQ74i",
        "outputId": "d1718d17-5d56-4cb1-b5bb-96c06da197c4"
      },
      "source": [
        "word('12?rrrr')"
      ],
      "execution_count": null,
      "outputs": [
        {
          "output_type": "execute_result",
          "data": {
            "text/plain": [
              "['12', 'rrrr']"
            ]
          },
          "metadata": {},
          "execution_count": 8
        }
      ]
    },
    {
      "cell_type": "code",
      "metadata": {
        "id": "GsQvuqUhQ-DM"
      },
      "source": [
        "#it just counts the words\n"
      ],
      "execution_count": null,
      "outputs": []
    },
    {
      "cell_type": "code",
      "metadata": {
        "id": "0l0datmmjwKJ"
      },
      "source": [
        "#below is probabalities\n",
        "def P(word, N= sum(WORD.values())):\n",
        "  return WORD[word]/N"
      ],
      "execution_count": null,
      "outputs": []
    },
    {
      "cell_type": "code",
      "metadata": {
        "colab": {
          "base_uri": "https://localhost:8080/"
        },
        "id": "lUqAEksYcBed",
        "outputId": "924a2d9f-788f-492b-fb12-ce9ec936da63"
      },
      "source": [
        "P('adam')"
      ],
      "execution_count": null,
      "outputs": [
        {
          "output_type": "execute_result",
          "data": {
            "text/plain": [
              "4.230278693285853e-05"
            ]
          },
          "metadata": {},
          "execution_count": 11
        }
      ]
    },
    {
      "cell_type": "code",
      "metadata": {
        "id": "HZkMFGqfmLLj"
      },
      "source": [
        " def correction(word):\n",
        "   # candidates function return list of word for a given word  and every word is passed in P an probbaltiies is calculated and than max is selected\n",
        "  #of all the word in list form  it will find out probabality, how correction gives word\n",
        "  return max(candidates(word), key= P)"
      ],
      "execution_count": null,
      "outputs": []
    },
    {
      "cell_type": "code",
      "metadata": {
        "id": "wFXsmeaEnc1W"
      },
      "source": [
        "# return max to max possbile vocabs to max under correction and it should return list\n",
        "def candidates(word):\n",
        "  # passed as a list  or set inside known/ in edits so many type of word is fromed from abd \n",
        "  #and than passd as set to unknow method than each word is matched with known/beow code generate list\n",
        "  return (known([word]) or known(edits1(word)) or known(edits2(word)) or [word])"
      ],
      "execution_count": null,
      "outputs": []
    },
    {
      "cell_type": "code",
      "metadata": {
        "id": "PwVttx-5n8se"
      },
      "source": [
        "#only knwn word is passed to the candidates\n",
        "def known(words):\n",
        "  return set(w for w in words if w in WORD)\n"
      ],
      "execution_count": null,
      "outputs": []
    },
    {
      "cell_type": "code",
      "metadata": {
        "id": "8PwSN1rPy2eZ"
      },
      "source": [
        "def edits1(word):\n",
        "  letters = 'abcdefghijklmnopqrstuvwxyz'\n",
        "  #split from sstart space to end space\n",
        "  splits = [(word[:i], word[i:]) for i in range(len(word)+1)]\n",
        "  #R doesnt start from 1: and goes till where R is not null, it will reduce to 1\n",
        "  deletes = [L+R[1:] for L, R in splits if R]\n",
        "  #R 0 and 1 is swapped length will reduce to 1 or 2\n",
        "  transposes= [L+R[1]+R[0]+R[2:]  for L, R in splits if len(R)>1]\n",
        "  # asc in letters is inner loop it the proces will finish step by step\n",
        "  replaces= [L+ c+R[1:]  for L, R in splits if R for c in letters]\n",
        "  # not removig any word and insertig incorrect words\n",
        "  insert= [L+c+R for L, R in splits for c in letters]\n",
        "  # returning incorrect words\n",
        "  return set(deletes + transposes + replaces + insert)\n"
      ],
      "execution_count": null,
      "outputs": []
    },
    {
      "cell_type": "code",
      "metadata": {
        "id": "Bgbh9Csu93wB"
      },
      "source": [
        "#generating more set of incorrect words\n",
        "def edits2(word):\n",
        "  return (e2 for e1 in edits1(word) for e2 in edits1(e1))"
      ],
      "execution_count": null,
      "outputs": []
    },
    {
      "cell_type": "code",
      "metadata": {
        "colab": {
          "base_uri": "https://localhost:8080/",
          "height": 35
        },
        "id": "N0ASdo-i-NOi",
        "outputId": "d97a9938-a26a-4c08-96c6-6b821562603d"
      },
      "source": [
        "correction('knownknown')"
      ],
      "execution_count": null,
      "outputs": [
        {
          "output_type": "execute_result",
          "data": {
            "application/vnd.google.colaboratory.intrinsic+json": {
              "type": "string"
            },
            "text/plain": [
              "'knownknown'"
            ]
          },
          "metadata": {},
          "execution_count": 17
        }
      ]
    },
    {
      "cell_type": "code",
      "metadata": {
        "id": "Kq6FVRwo1Uio"
      },
      "source": [
        "edits1('Black swan')"
      ],
      "execution_count": null,
      "outputs": []
    },
    {
      "cell_type": "code",
      "metadata": {
        "colab": {
          "base_uri": "https://localhost:8080/"
        },
        "id": "ZWCqIH_x5R9K",
        "outputId": "270bbbc1-dde4-4348-b082-29ba05cc4fb7"
      },
      "source": [
        "edits1('Black swan')"
      ],
      "execution_count": null,
      "outputs": [
        {
          "output_type": "execute_result",
          "data": {
            "text/plain": [
              "{'Baack swan',\n",
              " 'Back swan',\n",
              " 'Balack swan',\n",
              " 'Balck swan',\n",
              " 'Bback swan',\n",
              " 'Bblack swan',\n",
              " 'Bcack swan',\n",
              " 'Bclack swan',\n",
              " 'Bdack swan',\n",
              " 'Bdlack swan',\n",
              " 'Beack swan',\n",
              " 'Belack swan',\n",
              " 'Bfack swan',\n",
              " 'Bflack swan',\n",
              " 'Bgack swan',\n",
              " 'Bglack swan',\n",
              " 'Bhack swan',\n",
              " 'Bhlack swan',\n",
              " 'Biack swan',\n",
              " 'Bilack swan',\n",
              " 'Bjack swan',\n",
              " 'Bjlack swan',\n",
              " 'Bkack swan',\n",
              " 'Bklack swan',\n",
              " 'Blaack swan',\n",
              " 'Blaak swan',\n",
              " 'Blabck swan',\n",
              " 'Blabk swan',\n",
              " 'Blac kswan',\n",
              " 'Blac swan',\n",
              " 'Blaca swan',\n",
              " 'Blacak swan',\n",
              " 'Blacb swan',\n",
              " 'Blacbk swan',\n",
              " 'Blacc swan',\n",
              " 'Blacck swan',\n",
              " 'Blacd swan',\n",
              " 'Blacdk swan',\n",
              " 'Blace swan',\n",
              " 'Blacek swan',\n",
              " 'Blacf swan',\n",
              " 'Blacfk swan',\n",
              " 'Blacg swan',\n",
              " 'Blacgk swan',\n",
              " 'Blach swan',\n",
              " 'Blachk swan',\n",
              " 'Blaci swan',\n",
              " 'Blacik swan',\n",
              " 'Blacj swan',\n",
              " 'Blacjk swan',\n",
              " 'Black aswan',\n",
              " 'Black awan',\n",
              " 'Black bswan',\n",
              " 'Black bwan',\n",
              " 'Black cswan',\n",
              " 'Black cwan',\n",
              " 'Black dswan',\n",
              " 'Black dwan',\n",
              " 'Black eswan',\n",
              " 'Black ewan',\n",
              " 'Black fswan',\n",
              " 'Black fwan',\n",
              " 'Black gswan',\n",
              " 'Black gwan',\n",
              " 'Black hswan',\n",
              " 'Black hwan',\n",
              " 'Black iswan',\n",
              " 'Black iwan',\n",
              " 'Black jswan',\n",
              " 'Black jwan',\n",
              " 'Black kswan',\n",
              " 'Black kwan',\n",
              " 'Black lswan',\n",
              " 'Black lwan',\n",
              " 'Black mswan',\n",
              " 'Black mwan',\n",
              " 'Black nswan',\n",
              " 'Black nwan',\n",
              " 'Black oswan',\n",
              " 'Black owan',\n",
              " 'Black pswan',\n",
              " 'Black pwan',\n",
              " 'Black qswan',\n",
              " 'Black qwan',\n",
              " 'Black rswan',\n",
              " 'Black rwan',\n",
              " 'Black saan',\n",
              " 'Black san',\n",
              " 'Black sawan',\n",
              " 'Black sawn',\n",
              " 'Black sban',\n",
              " 'Black sbwan',\n",
              " 'Black scan',\n",
              " 'Black scwan',\n",
              " 'Black sdan',\n",
              " 'Black sdwan',\n",
              " 'Black sean',\n",
              " 'Black sewan',\n",
              " 'Black sfan',\n",
              " 'Black sfwan',\n",
              " 'Black sgan',\n",
              " 'Black sgwan',\n",
              " 'Black shan',\n",
              " 'Black shwan',\n",
              " 'Black sian',\n",
              " 'Black siwan',\n",
              " 'Black sjan',\n",
              " 'Black sjwan',\n",
              " 'Black skan',\n",
              " 'Black skwan',\n",
              " 'Black slan',\n",
              " 'Black slwan',\n",
              " 'Black sman',\n",
              " 'Black smwan',\n",
              " 'Black snan',\n",
              " 'Black snwan',\n",
              " 'Black soan',\n",
              " 'Black sowan',\n",
              " 'Black span',\n",
              " 'Black spwan',\n",
              " 'Black sqan',\n",
              " 'Black sqwan',\n",
              " 'Black sran',\n",
              " 'Black srwan',\n",
              " 'Black ssan',\n",
              " 'Black sswan',\n",
              " 'Black stan',\n",
              " 'Black stwan',\n",
              " 'Black suan',\n",
              " 'Black suwan',\n",
              " 'Black svan',\n",
              " 'Black svwan',\n",
              " 'Black swa',\n",
              " 'Black swaa',\n",
              " 'Black swaan',\n",
              " 'Black swab',\n",
              " 'Black swabn',\n",
              " 'Black swac',\n",
              " 'Black swacn',\n",
              " 'Black swad',\n",
              " 'Black swadn',\n",
              " 'Black swae',\n",
              " 'Black swaen',\n",
              " 'Black swaf',\n",
              " 'Black swafn',\n",
              " 'Black swag',\n",
              " 'Black swagn',\n",
              " 'Black swah',\n",
              " 'Black swahn',\n",
              " 'Black swai',\n",
              " 'Black swain',\n",
              " 'Black swaj',\n",
              " 'Black swajn',\n",
              " 'Black swak',\n",
              " 'Black swakn',\n",
              " 'Black swal',\n",
              " 'Black swaln',\n",
              " 'Black swam',\n",
              " 'Black swamn',\n",
              " 'Black swan',\n",
              " 'Black swana',\n",
              " 'Black swanb',\n",
              " 'Black swanc',\n",
              " 'Black swand',\n",
              " 'Black swane',\n",
              " 'Black swanf',\n",
              " 'Black swang',\n",
              " 'Black swanh',\n",
              " 'Black swani',\n",
              " 'Black swanj',\n",
              " 'Black swank',\n",
              " 'Black swanl',\n",
              " 'Black swanm',\n",
              " 'Black swann',\n",
              " 'Black swano',\n",
              " 'Black swanp',\n",
              " 'Black swanq',\n",
              " 'Black swanr',\n",
              " 'Black swans',\n",
              " 'Black swant',\n",
              " 'Black swanu',\n",
              " 'Black swanv',\n",
              " 'Black swanw',\n",
              " 'Black swanx',\n",
              " 'Black swany',\n",
              " 'Black swanz',\n",
              " 'Black swao',\n",
              " 'Black swaon',\n",
              " 'Black swap',\n",
              " 'Black swapn',\n",
              " 'Black swaq',\n",
              " 'Black swaqn',\n",
              " 'Black swar',\n",
              " 'Black swarn',\n",
              " 'Black swas',\n",
              " 'Black swasn',\n",
              " 'Black swat',\n",
              " 'Black swatn',\n",
              " 'Black swau',\n",
              " 'Black swaun',\n",
              " 'Black swav',\n",
              " 'Black swavn',\n",
              " 'Black swaw',\n",
              " 'Black swawn',\n",
              " 'Black swax',\n",
              " 'Black swaxn',\n",
              " 'Black sway',\n",
              " 'Black swayn',\n",
              " 'Black swaz',\n",
              " 'Black swazn',\n",
              " 'Black swban',\n",
              " 'Black swbn',\n",
              " 'Black swcan',\n",
              " 'Black swcn',\n",
              " 'Black swdan',\n",
              " 'Black swdn',\n",
              " 'Black swean',\n",
              " 'Black swen',\n",
              " 'Black swfan',\n",
              " 'Black swfn',\n",
              " 'Black swgan',\n",
              " 'Black swgn',\n",
              " 'Black swhan',\n",
              " 'Black swhn',\n",
              " 'Black swian',\n",
              " 'Black swin',\n",
              " 'Black swjan',\n",
              " 'Black swjn',\n",
              " 'Black swkan',\n",
              " 'Black swkn',\n",
              " 'Black swlan',\n",
              " 'Black swln',\n",
              " 'Black swman',\n",
              " 'Black swmn',\n",
              " 'Black swn',\n",
              " 'Black swna',\n",
              " 'Black swnan',\n",
              " 'Black swnn',\n",
              " 'Black swoan',\n",
              " 'Black swon',\n",
              " 'Black swpan',\n",
              " 'Black swpn',\n",
              " 'Black swqan',\n",
              " 'Black swqn',\n",
              " 'Black swran',\n",
              " 'Black swrn',\n",
              " 'Black swsan',\n",
              " 'Black swsn',\n",
              " 'Black swtan',\n",
              " 'Black swtn',\n",
              " 'Black swuan',\n",
              " 'Black swun',\n",
              " 'Black swvan',\n",
              " 'Black swvn',\n",
              " 'Black swwan',\n",
              " 'Black swwn',\n",
              " 'Black swxan',\n",
              " 'Black swxn',\n",
              " 'Black swyan',\n",
              " 'Black swyn',\n",
              " 'Black swzan',\n",
              " 'Black swzn',\n",
              " 'Black sxan',\n",
              " 'Black sxwan',\n",
              " 'Black syan',\n",
              " 'Black sywan',\n",
              " 'Black szan',\n",
              " 'Black szwan',\n",
              " 'Black tswan',\n",
              " 'Black twan',\n",
              " 'Black uswan',\n",
              " 'Black uwan',\n",
              " 'Black vswan',\n",
              " 'Black vwan',\n",
              " 'Black wan',\n",
              " 'Black wsan',\n",
              " 'Black wswan',\n",
              " 'Black wwan',\n",
              " 'Black xswan',\n",
              " 'Black xwan',\n",
              " 'Black yswan',\n",
              " 'Black ywan',\n",
              " 'Black zswan',\n",
              " 'Black zwan',\n",
              " 'Blacka swan',\n",
              " 'Blackaswan',\n",
              " 'Blackb swan',\n",
              " 'Blackbswan',\n",
              " 'Blackc swan',\n",
              " 'Blackcswan',\n",
              " 'Blackd swan',\n",
              " 'Blackdswan',\n",
              " 'Blacke swan',\n",
              " 'Blackeswan',\n",
              " 'Blackf swan',\n",
              " 'Blackfswan',\n",
              " 'Blackg swan',\n",
              " 'Blackgswan',\n",
              " 'Blackh swan',\n",
              " 'Blackhswan',\n",
              " 'Blacki swan',\n",
              " 'Blackiswan',\n",
              " 'Blackj swan',\n",
              " 'Blackjswan',\n",
              " 'Blackk swan',\n",
              " 'Blackkswan',\n",
              " 'Blackl swan',\n",
              " 'Blacklswan',\n",
              " 'Blackm swan',\n",
              " 'Blackmswan',\n",
              " 'Blackn swan',\n",
              " 'Blacknswan',\n",
              " 'Blacko swan',\n",
              " 'Blackoswan',\n",
              " 'Blackp swan',\n",
              " 'Blackpswan',\n",
              " 'Blackq swan',\n",
              " 'Blackqswan',\n",
              " 'Blackr swan',\n",
              " 'Blackrswan',\n",
              " 'Blacks swan',\n",
              " 'Blacks wan',\n",
              " 'Blacksswan',\n",
              " 'Blackswan',\n",
              " 'Blackt swan',\n",
              " 'Blacktswan',\n",
              " 'Blacku swan',\n",
              " 'Blackuswan',\n",
              " 'Blackv swan',\n",
              " 'Blackvswan',\n",
              " 'Blackw swan',\n",
              " 'Blackwswan',\n",
              " 'Blackx swan',\n",
              " 'Blackxswan',\n",
              " 'Blacky swan',\n",
              " 'Blackyswan',\n",
              " 'Blackz swan',\n",
              " 'Blackzswan',\n",
              " 'Blacl swan',\n",
              " 'Blaclk swan',\n",
              " 'Blacm swan',\n",
              " 'Blacmk swan',\n",
              " 'Blacn swan',\n",
              " 'Blacnk swan',\n",
              " 'Blaco swan',\n",
              " 'Blacok swan',\n",
              " 'Blacp swan',\n",
              " 'Blacpk swan',\n",
              " 'Blacq swan',\n",
              " 'Blacqk swan',\n",
              " 'Blacr swan',\n",
              " 'Blacrk swan',\n",
              " 'Blacs swan',\n",
              " 'Blacsk swan',\n",
              " 'Blact swan',\n",
              " 'Blactk swan',\n",
              " 'Blacu swan',\n",
              " 'Blacuk swan',\n",
              " 'Blacv swan',\n",
              " 'Blacvk swan',\n",
              " 'Blacw swan',\n",
              " 'Blacwk swan',\n",
              " 'Blacx swan',\n",
              " 'Blacxk swan',\n",
              " 'Blacy swan',\n",
              " 'Blacyk swan',\n",
              " 'Blacz swan',\n",
              " 'Blaczk swan',\n",
              " 'Bladck swan',\n",
              " 'Bladk swan',\n",
              " 'Blaeck swan',\n",
              " 'Blaek swan',\n",
              " 'Blafck swan',\n",
              " 'Blafk swan',\n",
              " 'Blagck swan',\n",
              " 'Blagk swan',\n",
              " 'Blahck swan',\n",
              " 'Blahk swan',\n",
              " 'Blaick swan',\n",
              " 'Blaik swan',\n",
              " 'Blajck swan',\n",
              " 'Blajk swan',\n",
              " 'Blak swan',\n",
              " 'Blakc swan',\n",
              " 'Blakck swan',\n",
              " 'Blakk swan',\n",
              " 'Blalck swan',\n",
              " 'Blalk swan',\n",
              " 'Blamck swan',\n",
              " 'Blamk swan',\n",
              " 'Blanck swan',\n",
              " 'Blank swan',\n",
              " 'Blaock swan',\n",
              " 'Blaok swan',\n",
              " 'Blapck swan',\n",
              " 'Blapk swan',\n",
              " 'Blaqck swan',\n",
              " 'Blaqk swan',\n",
              " 'Blarck swan',\n",
              " 'Blark swan',\n",
              " 'Blasck swan',\n",
              " 'Blask swan',\n",
              " 'Blatck swan',\n",
              " 'Blatk swan',\n",
              " 'Blauck swan',\n",
              " 'Blauk swan',\n",
              " 'Blavck swan',\n",
              " 'Blavk swan',\n",
              " 'Blawck swan',\n",
              " 'Blawk swan',\n",
              " 'Blaxck swan',\n",
              " 'Blaxk swan',\n",
              " 'Blayck swan',\n",
              " 'Blayk swan',\n",
              " 'Blazck swan',\n",
              " 'Blazk swan',\n",
              " 'Blback swan',\n",
              " 'Blbck swan',\n",
              " 'Blcack swan',\n",
              " 'Blcak swan',\n",
              " 'Blcck swan',\n",
              " 'Blck swan',\n",
              " 'Bldack swan',\n",
              " 'Bldck swan',\n",
              " 'Bleack swan',\n",
              " 'Bleck swan',\n",
              " 'Blfack swan',\n",
              " 'Blfck swan',\n",
              " 'Blgack swan',\n",
              " 'Blgck swan',\n",
              " 'Blhack swan',\n",
              " 'Blhck swan',\n",
              " 'Bliack swan',\n",
              " 'Blick swan',\n",
              " 'Bljack swan',\n",
              " 'Bljck swan',\n",
              " 'Blkack swan',\n",
              " 'Blkck swan',\n",
              " 'Bllack swan',\n",
              " 'Bllck swan',\n",
              " 'Blmack swan',\n",
              " 'Blmck swan',\n",
              " 'Blnack swan',\n",
              " 'Blnck swan',\n",
              " 'Bloack swan',\n",
              " 'Block swan',\n",
              " 'Blpack swan',\n",
              " 'Blpck swan',\n",
              " 'Blqack swan',\n",
              " 'Blqck swan',\n",
              " 'Blrack swan',\n",
              " 'Blrck swan',\n",
              " 'Blsack swan',\n",
              " 'Blsck swan',\n",
              " 'Bltack swan',\n",
              " 'Bltck swan',\n",
              " 'Bluack swan',\n",
              " 'Bluck swan',\n",
              " 'Blvack swan',\n",
              " 'Blvck swan',\n",
              " 'Blwack swan',\n",
              " 'Blwck swan',\n",
              " 'Blxack swan',\n",
              " 'Blxck swan',\n",
              " 'Blyack swan',\n",
              " 'Blyck swan',\n",
              " 'Blzack swan',\n",
              " 'Blzck swan',\n",
              " 'Bmack swan',\n",
              " 'Bmlack swan',\n",
              " 'Bnack swan',\n",
              " 'Bnlack swan',\n",
              " 'Boack swan',\n",
              " 'Bolack swan',\n",
              " 'Bpack swan',\n",
              " 'Bplack swan',\n",
              " 'Bqack swan',\n",
              " 'Bqlack swan',\n",
              " 'Brack swan',\n",
              " 'Brlack swan',\n",
              " 'Bsack swan',\n",
              " 'Bslack swan',\n",
              " 'Btack swan',\n",
              " 'Btlack swan',\n",
              " 'Buack swan',\n",
              " 'Bulack swan',\n",
              " 'Bvack swan',\n",
              " 'Bvlack swan',\n",
              " 'Bwack swan',\n",
              " 'Bwlack swan',\n",
              " 'Bxack swan',\n",
              " 'Bxlack swan',\n",
              " 'Byack swan',\n",
              " 'Bylack swan',\n",
              " 'Bzack swan',\n",
              " 'Bzlack swan',\n",
              " 'aBlack swan',\n",
              " 'alack swan',\n",
              " 'bBlack swan',\n",
              " 'black swan',\n",
              " 'cBlack swan',\n",
              " 'clack swan',\n",
              " 'dBlack swan',\n",
              " 'dlack swan',\n",
              " 'eBlack swan',\n",
              " 'elack swan',\n",
              " 'fBlack swan',\n",
              " 'flack swan',\n",
              " 'gBlack swan',\n",
              " 'glack swan',\n",
              " 'hBlack swan',\n",
              " 'hlack swan',\n",
              " 'iBlack swan',\n",
              " 'ilack swan',\n",
              " 'jBlack swan',\n",
              " 'jlack swan',\n",
              " 'kBlack swan',\n",
              " 'klack swan',\n",
              " 'lBack swan',\n",
              " 'lBlack swan',\n",
              " 'lack swan',\n",
              " 'llack swan',\n",
              " 'mBlack swan',\n",
              " 'mlack swan',\n",
              " 'nBlack swan',\n",
              " 'nlack swan',\n",
              " 'oBlack swan',\n",
              " 'olack swan',\n",
              " 'pBlack swan',\n",
              " 'plack swan',\n",
              " 'qBlack swan',\n",
              " 'qlack swan',\n",
              " 'rBlack swan',\n",
              " 'rlack swan',\n",
              " 'sBlack swan',\n",
              " 'slack swan',\n",
              " 'tBlack swan',\n",
              " 'tlack swan',\n",
              " 'uBlack swan',\n",
              " 'ulack swan',\n",
              " 'vBlack swan',\n",
              " 'vlack swan',\n",
              " 'wBlack swan',\n",
              " 'wlack swan',\n",
              " 'xBlack swan',\n",
              " 'xlack swan',\n",
              " 'yBlack swan',\n",
              " 'ylack swan',\n",
              " 'zBlack swan',\n",
              " 'zlack swan'}"
            ]
          },
          "metadata": {},
          "execution_count": 20
        }
      ]
    },
    {
      "cell_type": "code",
      "metadata": {
        "id": "6rZUltNr6MYp"
      },
      "source": [
        "text= 'alll is well'\n",
        "li= []\n",
        "for i in text.split(\" \"):\n",
        "  li.append(correction(i))\n",
        "  \n",
        "\n",
        "#correction('alll is well')"
      ],
      "execution_count": null,
      "outputs": []
    },
    {
      "cell_type": "code",
      "metadata": {
        "colab": {
          "base_uri": "https://localhost:8080/",
          "height": 35
        },
        "id": "oO-wP3xvH2TK",
        "outputId": "104f3c13-787b-4923-92d2-32254581b670"
      },
      "source": [
        "\" \".join(li)"
      ],
      "execution_count": null,
      "outputs": [
        {
          "output_type": "execute_result",
          "data": {
            "application/vnd.google.colaboratory.intrinsic+json": {
              "type": "string"
            },
            "text/plain": [
              "'all is well'"
            ]
          },
          "metadata": {},
          "execution_count": 22
        }
      ]
    },
    {
      "cell_type": "code",
      "metadata": {
        "colab": {
          "base_uri": "https://localhost:8080/"
        },
        "id": "LdjBnCeFk-zu",
        "outputId": "afcdce9a-30e8-464e-9713-8561d49d9e74"
      },
      "source": [
        "# edits return sets and known find matching word in WORD\n",
        "known(edits1('somthing'))"
      ],
      "execution_count": null,
      "outputs": [
        {
          "output_type": "execute_result",
          "data": {
            "text/plain": [
              "{'something', 'soothing'}"
            ]
          },
          "metadata": {},
          "execution_count": 23
        }
      ]
    },
    {
      "cell_type": "code",
      "metadata": {
        "colab": {
          "base_uri": "https://localhost:8080/"
        },
        "id": "vYhqRVrplgZI",
        "outputId": "13ac411e-090b-4304-fd8d-c3765c3f6254"
      },
      "source": [
        "\n",
        "known(edits2('somthing'))"
      ],
      "execution_count": null,
      "outputs": [
        {
          "output_type": "execute_result",
          "data": {
            "text/plain": [
              "{'loathing',\n",
              " 'mouthing',\n",
              " 'nothing',\n",
              " 'scathing',\n",
              " 'seething',\n",
              " 'somethine',\n",
              " 'something',\n",
              " 'somethings',\n",
              " 'someting',\n",
              " 'soothing'}"
            ]
          },
          "metadata": {},
          "execution_count": 24
        }
      ]
    },
    {
      "cell_type": "code",
      "metadata": {
        "colab": {
          "base_uri": "https://localhost:8080/",
          "height": 35
        },
        "id": "HTMNFoURpFfl",
        "outputId": "f5163d6d-9b9c-4f0c-ef13-9865d1ac4976"
      },
      "source": [
        "correction('tol')"
      ],
      "execution_count": null,
      "outputs": [
        {
          "output_type": "execute_result",
          "data": {
            "application/vnd.google.colaboratory.intrinsic+json": {
              "type": "string"
            },
            "text/plain": [
              "'to'"
            ]
          },
          "metadata": {},
          "execution_count": 25
        }
      ]
    },
    {
      "cell_type": "code",
      "metadata": {
        "id": "6j50FX-MtTSS"
      },
      "source": [
        "import numpy as np # linear algebra\n",
        "import pandas as pd # data processing, CSV file I/O (e.g. pd.read_csv)\n",
        "\n",
        "# Input data files are available in the \"../input/\" directory.\n",
        "# For example, running this (by clicking run or pressing Shift+Enter) will list the files in the input directory\n",
        "\n",
        "import os\n",
        "import string\n",
        "from string import digits\n",
        "import matplotlib.pyplot as plt\n",
        "%matplotlib inline\n",
        "import re\n",
        "\n",
        "\n"
      ],
      "execution_count": null,
      "outputs": []
    },
    {
      "cell_type": "code",
      "metadata": {
        "id": "IsD1I1JStTwL"
      },
      "source": [
        "import codecs\n",
        "with codecs.open('/content/drive/MyDrive/Colab Notebooks/chatbot/movie_lines.txt', 'rb', encoding= 'utf-8', errors= 'ignore') as f:\n",
        "  lines= f.read().split('\\n')\n",
        "  conversations= []\n",
        "  for line in lines:\n",
        "    data= line.split(' +++$+++ ')\n",
        "    conversations.append(data)\n"
      ],
      "execution_count": null,
      "outputs": []
    },
    {
      "cell_type": "code",
      "metadata": {
        "id": "4TFTVBKytT8S"
      },
      "source": [
        "chats= {}\n",
        "for tokens in conversations:\n",
        "  if len(tokens) > 4:\n",
        "    idx= tokens[0][1:]\n",
        "    chat= tokens[4]\n",
        "    chats[int(idx)]= chat"
      ],
      "execution_count": null,
      "outputs": []
    },
    {
      "cell_type": "code",
      "metadata": {
        "colab": {
          "base_uri": "https://localhost:8080/"
        },
        "id": "BbduvPhhtUD5",
        "outputId": "f0089454-4b6c-490e-f16a-2453af3eed01"
      },
      "source": [
        "chats"
      ],
      "execution_count": null,
      "outputs": [
        {
          "output_type": "execute_result",
          "data": {
            "text/plain": [
              "{1045: 'They do not!',\n",
              " 1044: 'They do to!',\n",
              " 985: 'I hope so.',\n",
              " 984: 'She okay?',\n",
              " 925: \"Let's go.\",\n",
              " 924: 'Wow',\n",
              " 872: \"Okay -- you're gonna need to learn how to lie.\",\n",
              " 871: 'No',\n",
              " 870: 'I\\'m kidding.  You know how sometimes you just become this \"persona\"?  And you don\\'t know how to quit?',\n",
              " 869: 'Like my fear of wearing pastels?',\n",
              " 868: 'The \"real you\".',\n",
              " 867: 'What good stuff?',\n",
              " 866: \"I figured you'd get to the good stuff eventually.\",\n",
              " 865: 'Thank God!  If I had to hear one more story about your coiffure...',\n",
              " 864: \"Me.  This endless ...blonde babble. I'm like, boring myself.\",\n",
              " 863: 'What crap?',\n",
              " 862: 'do you listen to this crap?',\n",
              " 861: 'No...',\n",
              " 860: 'Then Guillermo says, \"If you go any lighter, you\\'re gonna look like an extra on 90210.\"',\n",
              " 699: 'You always been this selfish?',\n",
              " 698: 'But',\n",
              " 697: \"Then that's all you had to say.\",\n",
              " 696: 'Well, no...',\n",
              " 695: \"You never wanted to go out with 'me, did you?\",\n",
              " 694: 'I was?',\n",
              " 693: 'I looked for you back at the party, but you always seemed to be \"occupied\".',\n",
              " 663: 'Tons',\n",
              " 662: 'Have fun tonight?',\n",
              " 578: 'I believe we share an art instructor',\n",
              " 577: 'You know Chastity?',\n",
              " 576: 'Looks like things worked out tonight, huh?',\n",
              " 575: 'Hi.',\n",
              " 407: \"Who knows?  All I've ever heard her say is that she'd dip before dating a guy that smokes.\",\n",
              " 406: \"So that's the kind of guy she likes? Pretty ones?\",\n",
              " 405: \"Lesbian?  No. I found a picture of Jared Leto in one of her drawers, so I'm pretty sure she's not harboring same-sex tendencies.\",\n",
              " 404: \"She's not a...\",\n",
              " 403: \"I'm workin' on it. But she doesn't seem to be goin' for him.\",\n",
              " 402: \"I really, really, really wanna go, but I can't.  Not unless my sister goes.\",\n",
              " 401: 'Sure have.',\n",
              " 368: \"Eber's Deep Conditioner every two days. And I never, ever use a blowdryer without the diffuser attachment.\",\n",
              " 367: 'How do you get your hair to look like that?',\n",
              " 366: \"You're sweet.\",\n",
              " 365: 'You have my word.  As a gentleman',\n",
              " 364: \"I counted on you to help my cause. You and that thug are obviously failing. Aren't we ever going on our date?\",\n",
              " 363: 'You got something on your mind?',\n",
              " 281: 'Where?',\n",
              " 280: 'There.',\n",
              " 277: \"Well, there's someone I think might be --\",\n",
              " 276: 'How is our little Find the Wench A Date plan progressing?',\n",
              " 275: 'Forget French.',\n",
              " 274: \"That's because it's such a nice one.\",\n",
              " 273: \"I don't want to know how to say that though.  I want to know useful things. Like where the good stores are.  How much does champagne cost?  Stuff like Chat.  I have never in my life had to point out my head to someone.\",\n",
              " 272: \"Right.  See?  You're ready for the quiz.\",\n",
              " 271: \"C'esc ma tete. This is my head\",\n",
              " 208: 'Let me see what I can do.',\n",
              " 207: 'Gosh, if only we could find Kat a boyfriend...',\n",
              " 206: \"That's a shame.\",\n",
              " 205: 'Unsolved mystery.  She used to be really popular when she started high school, then it was just like she got sick of it or something.',\n",
              " 204: 'Why?',\n",
              " 203: 'Seems like she could get a date easy enough...',\n",
              " 202: \"The thing is, Cameron -- I'm at the mercy of a particularly hideous breed of loser.  My sister.  I can't date until she does.\",\n",
              " 201: 'Cameron.',\n",
              " 200: \"No, no, it's my fault -- we didn't have a proper introduction ---\",\n",
              " 199: 'Forget it.',\n",
              " 198: \"You're asking me out.  That's so cute. What's your name again?\",\n",
              " 197: \"Okay... then how 'bout we try out some French cuisine.  Saturday?  Night?\",\n",
              " 196: 'Not the hacking and gagging and spitting part.  Please.',\n",
              " 195: \"Well, I thought we'd start with pronunciation, if that's okay with you.\",\n",
              " 194: 'Can we make this quick?  Roxanne Korrine and Andrew Barrett are having an incredibly horrendous public break- up on the quad.  Again.',\n",
              " 953: 'I did.',\n",
              " 952: \"You think you ' re the only sophomore at the prom?\",\n",
              " 660: \"I don't have to be home 'til two.\",\n",
              " 659: 'I have to be home in twenty minutes.',\n",
              " 600: \"All I know is -- I'd give up my private line to go out with a guy like Joey.\",\n",
              " 599: \"Sometimes I wonder if the guys we're supposed to want to go out with are the ones we actually want to go out with, you know?\",\n",
              " 598: \"Bianca, I don't think the highlights of dating Joey Dorsey are going to include door-opening and coat-holding.\",\n",
              " 597: \"Combination.  I don't know -- I thought he'd be different.  More of a gentleman...\",\n",
              " 596: 'Is he oily or dry?',\n",
              " 595: \"He practically proposed when he found out we had the same dermatologist. I mean. Dr. Bonchowski is great an all, but he's not exactly relevant party conversation.\",\n",
              " 580: 'Would you mind getting me a drink, Cameron?',\n",
              " 579: 'Great',\n",
              " 573: 'Joey.',\n",
              " 572: 'Who?',\n",
              " 571: 'Where did he go?  He was just here.',\n",
              " 51: 'You might wanna think about it',\n",
              " 50: 'No.',\n",
              " 49: 'Did you change your hair?',\n",
              " 760: \"You know the deal.  I can ' t go if Kat doesn't go --\",\n",
              " 759: 'Listen, I want to talk to you about the prom.',\n",
              " 758: \"You're concentrating awfully hard considering it's gym class.\",\n",
              " 757: 'Hi, Joey.',\n",
              " 756: 'Hey, sweet cheeks.',\n",
              " 593: \"My agent says I've got a good shot at being the Prada guy next year.\",\n",
              " 592: 'Neat...',\n",
              " 591: \"It's a gay cruise line, but I'll be, like, wearing a uniform and stuff.\",\n",
              " 590: 'Queen Harry?',\n",
              " 589: 'So yeah, I\\'ve got the Sears catalog thing going -- and the tube sock gig \" that\\'s gonna be huge.  And then I\\'m up for an ad for Queen Harry next week.',\n",
              " 397: 'Hopefully.',\n",
              " 396: \"Exactly  So, you going to Bogey Lowenbrau's thing on Saturday?\",\n",
              " 395: 'Expensive?',\n",
              " 394: \"It's more\",\n",
              " 1052: 'Perm?',\n",
              " 1051: 'Patrick -- is that- a.',\n",
              " 1022: \"It's just you.\",\n",
              " 1021: 'Is that woman a complete fruit-loop or is it just me?',\n",
              " 1011: 'No! I just wanted',\n",
              " 1010: 'What? To completely damage me?  To send me to therapy forever? What?',\n",
              " 1009: 'I just wanted --',\n",
              " 1008: 'You set me up.',\n",
              " 1007: 'Let go!',\n",
              " 983: 'So did you',\n",
              " 982: 'You looked beautiful last night, you know.',\n",
              " 914: \"I guess I'll never know, will I?\",\n",
              " 913: \"Not all experiences are good, Bianca. You can't always trust the people you want to.\",\n",
              " 912: \"God, you're just like him! Just keep me locked away in the dark, so I can't experience anything for myself\",\n",
              " 911: 'I guess I thought I was protecting you.',\n",
              " 910: \"I'm not stupid enough to repeat your mistakes.\",\n",
              " 909: \"That's not\",\n",
              " 908: \"No. you didn't!  If you really thought I could make my own decisions, you would've let me go out with him instead of helping Daddy hold me hostage.\",\n",
              " 907: 'I wanted to let you make up your own mind about him.',\n",
              " 906: \"Why didn't you tell me?\",\n",
              " 905: 'After that, I swore I\\'d never do anything just because \"everyone else\" was doing it.  And I haven\\'t since. Except for Bogey\\'s party, and my stunning gastro-intestinal display --',\n",
              " 904: 'But',\n",
              " 903: \"Just once.  Afterwards, I told him I didn't want to anymore.  I wasn't ready. He got pissed.  Then he broke up with me.\",\n",
              " 902: 'You did what?',\n",
              " 901: 'He said everyone was doing it.  So I did it.',\n",
              " 900: 'As in...',\n",
              " 899: 'Now I do.  Back then, was a different story.',\n",
              " 898: 'But you hate Joey',\n",
              " 897: 'He was, like, a total babe',\n",
              " 896: 'Why?',\n",
              " 895: 'In 9th.  For a month',\n",
              " 894: 'What?',\n",
              " 893: 'Joey never told you we went out, did he?',\n",
              " 892: \"I wish I had that luxury. I'm the only sophomore that got asked to the prom and I can't go, because you won ' t.\",\n",
              " 891: \"I do care. But I'm a firm believer in doing something for your own reasons, not someone else ' s .\",\n",
              " 890: 'Like you care.',\n",
              " 889: \"Listen, I know you hate having to sit home because I'm not Susie High School.\",\n",
              " 656: \"You're welcome.\",\n",
              " 655: \"I don't get you.  You act like you're too good for any of this, and then you go totally apeshit when you get here.\",\n",
              " 602: \"I really don't think I need any social advice from you right now.\",\n",
              " 601: 'Bianca, I need to talk to you -- I need to tell you --',\n",
              " 543: 'Can we go now?',\n",
              " 542: 'You are so completely unbalanced.',\n",
              " 533: \"Yeah, he's your freak friend Mandella's boyfriend.  I guess since I'm not allowed to go out, I should obsess over a dead guy, too.\",\n",
              " 532: \"It's Shakespeare.  Maybe you've heard of him?\",\n",
              " 531: \"Like I'm supposed to know what that even means.\",\n",
              " 530: \"At least I'm not a clouted fen- sucked hedge-pig.\",\n",
              " 529: \"Can't you forget for just one night that you're completely wretched?\",\n",
              " 527: \"Bogey Lowenstein's party is normal, but you're too busy listening to Bitches Who Need Prozac to know that.\",\n",
              " 526: \"What's normal?\",\n",
              " 525: \"You're ruining my life'  Because you won't be normal, I can't be normal.\",\n",
              " 445: \"I think you're a freak.  I think you do this to torture me.  And I think you suck.\",\n",
              " 444: 'What do you think?',\n",
              " 443: \"Oh, I thought you might have a date  I don't know why I'm bothering to ask, but are you going to Bogey Lowenstein's party Saturday night?\",\n",
              " 442: \"It means that Gigglepuss is playing at Club Skunk and we're going.\",\n",
              " 441: \"Oh my God, does this mean you're becoming normal?\",\n",
              " 320: 'Can you at least start wearing a bra?',\n",
              " 319: \"I have the potential to smack the crap out of you if you don't get out of my way.\",\n",
              " 165: 'Nowhere... Hi, Daddy.',\n",
              " 164: \"Where've you been?\",\n",
              " 923: \"I have a date, Daddy.  And he ' s not a captain of oppression like some men we know.\",\n",
              " 922: \"I'm missing something.\",\n",
              " 884: \"Fine.  I see that I'm a prisoner in my own house.  I'm not a daughter. I'm a possession!\",\n",
              " 883: \"You're not going unless your sister goes.  End of story.\",\n",
              " 882: 'He\\'s not a \"hot rod\".  Whatever that is.',\n",
              " 881: \"It's that hot rod Joey, right? That ' s who you want me to bend my rules for?\",\n",
              " 880: 'No, but',\n",
              " 879: 'The prom?  Kat has a date?',\n",
              " 878: \"Daddy, I want to discuss the prom with you. It's tomorrow night --\",\n",
              " 546: \"Because she'll scare them away.\",\n",
              " 545: 'Why?',\n",
              " 544: \"Promise me you won't talk to any boys unless your sister is present.\",\n",
              " 540: 'Just for a minute',\n",
              " 539: 'Daddy, no!',\n",
              " 538: 'Wear the belly before you go.',\n",
              " 537: \"It's just a party. Daddy.\",\n",
              " 536: \"Oh, God.  It's starting.\",\n",
              " 524: \"If Kat's not going, you're not going.\",\n",
              " 523: 'Daddy, people expect me to be there!',\n",
              " 521: 'It\\'s just a party. Daddy, but I knew you\\'d forbid me to go since \"Gloria Steinem\" over there isn\\'t going --',\n",
              " 520: 'Otherwise known as an orgy?',\n",
              " 519: 'If you must know, we were attempting to go to a small study group of friends.',\n",
              " 518: \"And where're you going?\",\n",
              " 517: 'Daddy, I --',\n",
              " 190: 'Exactly my point',\n",
              " 189: \"But she doesn't want to date.\",\n",
              " 183: \"But it's not fair -- she's a mutant, Daddy!\",\n",
              " 182: \"Then neither will you.  And I'll get to sleep at night.\",\n",
              " 181: 'What if she never starts dating?',\n",
              " 180: \"No! You're not dating until your sister starts dating.  End of discussion.\",\n",
              " 179: \"Now don't get upset. Daddy, but there's this boy... and I think he might ask...\",\n",
              " 463: \"Just sent 'em through.\",\n",
              " 462: 'Padua girls.  One tall, decent body. The other one kinda short and undersexed?',\n",
              " 461: 'Never',\n",
              " 460: 'Fan of a fan.  You see a couple of minors come in?',\n",
              " 459: \"Didn't have you pegged for a Gigglepuss fan.  Aren't they a little too pre-teen belly-button ring for you?\",\n",
              " 458: 'Always a pleasure, Brucie.',\n",
              " 779: \"Best case scenario, you're back on the payroll for awhile.\",\n",
              " 778: 'You humiliated the woman! Sacrifice yourself on the altar of dignity and even the score.',\n",
              " 586: \"No, I ' m not.\",\n",
              " 585: \"Buttholus extremus.  But hey, you're making progress.\",\n",
              " 584: \"The hell is that?  What kind of 'guy just picks up a girl and carries her away while you're talking to her?\",\n",
              " 583: 'Extremely unfortunate maneuver.',\n",
              " 500: \"Hell, I've just been going over the whole thing in my head and -\",\n",
              " 499: 'You told me that part already.',\n",
              " 433: \"It's her favorite band.\",\n",
              " 432: 'Assail your ears for one night.',\n",
              " 425: \"Okay!  I wasn't sure\",\n",
              " 424: \"He's pretty!\",\n",
              " 419: 'Dead at forty-one.',\n",
              " 418: 'Her favorite uncle',\n",
              " 417: \"It's a lung cancer issue\",\n",
              " 416: 'Number one.  She hates smokers',\n",
              " 391: \"Are you kidding?  He'll piss himself with joy.  He's the ultimate kiss ass.\",\n",
              " 390: 'Will Bogey get bent?',\n",
              " 389: \"In that case, we'll need to make it a school-wide blow out.\",\n",
              " 388: 'This is it.  A golden opportunity. Patrick can ask Katarina to the party.',\n",
              " 245: \"Like we had a choice?  Besides -- when you let the enemy think he's orchestrating the battle, you're in a position of power. We let him pretend he's calling the shots, and while he's busy setting up the plan, you have time to woo Bianca.\",\n",
              " 244: 'You got him involved?',\n",
              " 225: \"Hey -- I've gotta have a few clients when I get to Wall Street.\",\n",
              " 224: 'I thought you hated those people.',\n",
              " 223: \"You know, if you do go out with Bianca, you'd be set.  You'd outrank everyone. Strictly A-list.  With me by your side.\",\n",
              " 222: \"That's what I just said\",\n",
              " 221: \"Did she actually say she'd go out with you?\",\n",
              " 220: \"Forget his reputation.  Do you think we've got a plan or not?\",\n",
              " 219: \"I'm serious, man, he's whacked.  He sold his own liver on the black market so he could buy new speakers.\",\n",
              " 218: 'They always let felons sit in on Honors Biology?',\n",
              " 217: \"No kidding.  He's a criminal.  I heard he lit a state trooper on fire.  He just got out of Alcatraz...\",\n",
              " 216: 'He seems like he thrives on danger',\n",
              " 215: \"What makes you think he'll do it?\",\n",
              " 213: 'You wanna go out with him?',\n",
              " 212: 'What about him?',\n",
              " 211: \"Unlikely, but even so, she still can't go out with you.  So what's the point?\",\n",
              " 210: 'I teach her French, get to know her, dazzle her with charm and she falls in love with me.',\n",
              " 159: 'The mewling, rampalian wretch herself.',\n",
              " 158: \"That's her?  Bianca's sister?\",\n",
              " 157: 'Yeah, just a minor encounter with the shrew.',\n",
              " 147: 'You could consecrate with her, my friend.',\n",
              " 146: \"You mean I'd get a chance to talk to her?\",\n",
              " 145: 'Guess who just signed up for a tutor?',\n",
              " 144: \"Sure do ... my Mom's from Canada\",\n",
              " 143: 'You know French?',\n",
              " 142: \"Joey Dorsey?  Perma-shit-grin.  I wish I could say he's a moron, but he's number twelve in the class.  And a model.  Mostly regional stuff, but he's rumored to have a big tube sock ad coming out.\",\n",
              " 141: 'He always have that shit-eating grin?',\n",
              " 140: \"Because they're bred to.  Their mothers liked guys like that, and their grandmothers before them. Their gene pool is rarely diluted.\",\n",
              " 139: 'Why do girls like that always like guys like that?',\n",
              " 92: \"I could start with your haircut, but it doesn't matter.  She's not allowed to date until her older sister does.  And that's an impossibility.\",\n",
              " 91: 'Why not?',\n",
              " 90: \"Bianca Stratford.  Sophomore. Don't even think about it\",\n",
              " 89: 'Who is she?',\n",
              " 88: 'You burn, you pine, you perish?',\n",
              " 87: 'That girl -- I --',\n",
              " 78: 'Yeah, but these guys have never seen a horse.  They just jack off to Clint Eastwood.',\n",
              " 77: \"That I'm used to.\",\n",
              " 74: 'Couple thousand. Most of them evil',\n",
              " 73: 'How many people go here?',\n",
              " 72: 'Get out!',\n",
              " 71: 'Thirty-two.',\n",
              " 70: 'How many people were in your old school?',\n",
              " 69: \"Yeah.  A couple.  We're outnumbered by the cows, though.\",\n",
              " 68: 'I was kidding. People actually live there?',\n",
              " 67: \"North, actually.  How'd you   ?\",\n",
              " 66: 'So -- which Dakota you from?',\n",
              " 65: \"C'mon.  I'm supposed to give you the tour.\",\n",
              " 64: 'So they tell me...',\n",
              " 63: 'You the new guy?',\n",
              " 781: 'You get the girl.',\n",
              " 780: \"What's the worst?\",\n",
              " 745: 'Where?',\n",
              " 744: 'She kissed me.',\n",
              " 743: \"You makin' any headway?\",\n",
              " 741: \"She just needs time to cool off I'll give it a day.\",\n",
              " 740: \"She hates you with the fire of a thousand suns .  That's a direct quote\",\n",
              " 726: \"I don ' t know.  I decided not to nail her when she was too drunk to remember it.\",\n",
              " 725: \"What'd you do to her?\",\n",
              " 625: 'Then, go get her',\n",
              " 624: 'Sure',\n",
              " 623: 'Cameron -- do you like the girl?',\n",
              " 622: \"She's partial to Joey, not me\",\n",
              " 621: \"What 're you talking about?\",\n",
              " 620: \"It's off. The whole thing.\",\n",
              " 619: \"Cameron, I'm a little busy\",\n",
              " 431: \"Don't make me do it, man\",\n",
              " 430: 'Gigglepuss is playing there tomorrow night.',\n",
              " 427: \"So what does that give me?  I'm supposed to buy her some noodles and a book and sit around listening to chicks who can't play their instruments?\",\n",
              " 426: 'Okay -- Likes:  Thai food, feminist prose, and \"angry, stinky girl music of the indie-rock persuasion\".',\n",
              " 412: \"I've retrieved certain pieces of information on Miss Katarina Stratford I think you'll find helpful.\",\n",
              " 411: \"What've you got for me?\",\n",
              " 386: \"Yeah -- we'll see.\",\n",
              " 385: 'And he means that strictly in a non- prison-movie type of way.',\n",
              " 558: 'And why would I do that?',\n",
              " 557: 'Leave my sister alone.',\n",
              " 556: 'Your sister here?',\n",
              " 555: 'Away.',\n",
              " 554: 'Where ya goin?',\n",
              " 336: 'Not at all',\n",
              " 335: 'Hey -- do you mind?',\n",
              " 150: \"They're running the rest of me next month.\",\n",
              " 149: 'Yeah, and I noticed the only part of you featured in your big Kmart spread was your elbow.  Tough break.',\n",
              " 148: \"The vintage look is over, Kat. Haven't you been reading your Sassy?\",\n",
              " 748: \"Enough with the Barbie n' Ken shit. I know.\",\n",
              " 747: \"I don't know, Dorsey. ..the limo.-the flowers.  Another hundred for the tux --\",\n",
              " 609: 'Get her to act like a human',\n",
              " 608: 'Do what?',\n",
              " 607: \"How'd you do it?\",\n",
              " 606: \"A deal's a deal.\",\n",
              " 605: \"It's about time.\",\n",
              " 358: 'Forget her sister, then.',\n",
              " 357: 'Forget it.',\n",
              " 356: 'A hundred bucks a date.',\n",
              " 355: 'What?',\n",
              " 354: 'I just upped my price',\n",
              " 352: 'I got her under control. She just acts crazed in public to keep up the image.',\n",
              " 351: \"Watching the bitch trash my car doesn't count as a date.\",\n",
              " 350: \"I'm on it\",\n",
              " 349: 'When I shell out fifty, I expect results.',\n",
              " 301: \"Fifty, and you've got your man.\",\n",
              " 300: \"Take it or leave it.  This isn't a negotiation.\",\n",
              " 299: 'Fine, thirty.',\n",
              " 298: \"I can't take a girl like that out on twenty bucks.\",\n",
              " 297: 'How much?',\n",
              " 296: \"I can't date her sister until that one gets a boyfriend.  And that's the catch. She doesn't want a boyfriend.\",\n",
              " 295: \"You're gonna pay me to take out some girl?\",\n",
              " 294: 'You got it, Verona.  I pick up the tab, you do the honors.',\n",
              " 292: \"But you'd go out with her if you had the cake?\",\n",
              " 291: 'You need money to take a girl out',\n",
              " 290: 'You just said',\n",
              " 289: \"Sure, Sparky.  I'll get right on it.\",\n",
              " 288: 'Yeah, whatever.  I want you to go out with her.',\n",
              " 287: 'Two legs, nice rack...',\n",
              " 286: 'What do you think?',\n",
              " 285: 'Yeah',\n",
              " 509: \"Hey -- it's all for the higher good right?\",\n",
              " 508: \"You better not fuck this up.  I'm heavily invested.\",\n",
              " 505: 'What?  We took bathes together when we were kids.',\n",
              " 504: 'You and Verona?',\n",
              " 503: \"Uh,  yeah.  We're old friend*\",\n",
              " 502: \"I hear you're helpin' Verona.\",\n",
              " 240: \"So what you need to do is recruit a guy who'll go out with her.  Someone who's up for the job.\",\n",
              " 239: 'Does this conversation have a purpose?',\n",
              " 238: \"But she can't go out with you because her sister is this insane head case and no one will go out with her. right?\",\n",
              " 236: \"We're not.\",\n",
              " 235: \"Well, actually, I thought I'd run an idea by you.  You know, just to see if you're interested.\",\n",
              " 234: \"We don't chat.\",\n",
              " 233: 'Nope - just came by to chat',\n",
              " 232: 'Are you lost?',\n",
              " 231: 'Hey.',\n",
              " 949: \"Oh, honey -- tell me we haven't' progressed to full-on hallucinations.\",\n",
              " 948: 'William - he asked me to meet him here.',\n",
              " 947: 'Who?',\n",
              " 946: 'Have you seen him?',\n",
              " 755: 'Oh, good.  Something new and different for us.',\n",
              " 754: \"You ' re looking at this from the wrong perspective.  We're making a statement.\",\n",
              " 753: \"Okay, okay, we won't go.  It's not like I have a dress anyway\",\n",
              " 752: 'Listen to you!  You sound like Betty, all pissed off because Archie is taking Veronica.',\n",
              " 751: \"Well, I guess we're not, since we don't have dates .\",\n",
              " 750: 'Can you even imagine?  Who the hell would go to this a bastion of commercial excess?',\n",
              " 721: 'I got drunk.  I puked.  I got rejected. It was big fun.',\n",
              " 720: \"You didn't\",\n",
              " 719: 'I did Bianca a favor and it backfired.',\n",
              " 718: \"You didn't have a choice?  Where's Kat and what have you done with her?\",\n",
              " 717: \"I didn't have a choice.\",\n",
              " 716: 'You went to the party?  I thought we were officially opposed to suburban social activity.',\n",
              " 491: 'Who cares?',\n",
              " 490: \"What'd he say?\",\n",
              " 448: 'No fear.',\n",
              " 447: \"You think this'll work?\",\n",
              " 254: 'If I was Bianca, it would be, \"Any school you want, precious.  Don\\'t forget your tiara.\"',\n",
              " 253: 'Does it matter?',\n",
              " 252: \"I appreciate your efforts toward a speedy death, but I'm consuming.  Do you mind?\",\n",
              " 251: 'Neither has his heterosexuality.',\n",
              " 250: \"That's never been proven\",\n",
              " 249: \"William didn't even go to high school\",\n",
              " 248: 'William would never have gone to a state school.',\n",
              " 247: 'So he has this huge raging fit about Sarah Lawrence and insists that I go to his male-dominated, puking frat boy, number one golf team school. I have no say at all.',\n",
              " 152: \"You could always go with me.  I'm sure William has some friends.\",\n",
              " 151: 'The people at this school are so incredibly foul.',\n",
              " 134: \"But imagine the things he'd say during sex.\",\n",
              " 133: \"I realize that the men of this fine institution are severely lacking, but killing yourself so you can be with William Shakespeare is beyond the scope of normal teenage obsessions.  You're venturing far past daytime talk show fodder and entering the world of those who need very expensive therapy.\",\n",
              " 132: 'An attempted slit.',\n",
              " 131: \"What's this?\",\n",
              " 130: 'Just a little.',\n",
              " 129: 'Mandella, eat.  Starving yourself is a very slow way to die.',\n",
              " 128: 'Block E?',\n",
              " 127: 'He always look so',\n",
              " 126: \"I'm sure he's completely incapable of doing anything that interesting.\",\n",
              " 125: \"That's Pat Verona? The one who was gone for a year? I heard he was doing porn movies.\",\n",
              " 124: 'Patrick Verona   Random skid.',\n",
              " 123: \"Who's that?\",\n",
              " 1043: \"Don ' t you even dare. . .\",\n",
              " 1042: 'Oh, Bianca?  Can you get me my freshman yearbook?',\n",
              " 1041: 'Because I like to torture you.',\n",
              " 1040: 'Why is my veggie burger the only burnt object on this grill?',\n",
              " 1035: 'Yeah, but then I fucked up. I fell for her.',\n",
              " 1034: 'Is that right?',\n",
              " 1033: 'Besides, I had some extra cash. Some asshole paid me to take out a really great girl.',\n",
              " 1032: 'I thought you could use it. When you start your band.',\n",
              " 1031: 'A Fender Strat. You bought this?',\n",
              " 977: \"I didn't care about the money.\",\n",
              " 976: 'Really?  What was it like?  A down payment now, then a bonus for sleeping with me?',\n",
              " 975: \"It wasn't like that.\",\n",
              " 974: 'You were paid to take me out!  By -- the one person I truly hate.  I knew it was a set-up!',\n",
              " 973: 'Wait I...',\n",
              " 961: 'It gets worse -- you still have your freshman yearbook?',\n",
              " 960: \"That ' s completely adorable!\",\n",
              " 959: \"That's where I was last year.  She'd never lived alone -- my grandfather died -- I stayed with her.  I wasn't in jail, I don't know Marilyn Manson, and I've never slept with a Spice Girl.  I spent a year sitting next to my grandma on the couch watching Wheel of Fortune.  End of story.\",\n",
              " 958: 'What?',\n",
              " 957: \"My grandmother's .\",\n",
              " 940: \"Look, I'm  -- sorry -- that I questioned your motives.  I was wrong.\",\n",
              " 939: 'Oh huh',\n",
              " 938: \"It's just something I had.  You know\",\n",
              " 937: \"It's Scurvy's.  His date got convicted. Where'd you get the dress?\",\n",
              " 936: \"How'd you get a tux at the last minute?\",\n",
              " 857: \"Nothing!  There's nothing in it for me. Just the pleasure of your company.\",\n",
              " 856: 'Answer the question, Patrick',\n",
              " 855: 'You need therapy.  Has anyone ever told you that?',\n",
              " 854: 'You tell me.',\n",
              " 853: 'So I have to have a motive to be with you?',\n",
              " 852: 'Create a little drama?  Start a new rumor?  What?',\n",
              " 848: \"Because I don't want to. It's a stupid tradition.\",\n",
              " 847: 'Why not?',\n",
              " 846: \"No, I won't go with you\",\n",
              " 845: 'No what?',\n",
              " 844: 'No.',\n",
              " 843: 'You know what I mean',\n",
              " 842: 'Is that a request or a command?',\n",
              " 841: 'Go to the prom with me',\n",
              " 840: \"You're amazingly self-assured. Has anyone ever told you that?\",\n",
              " 839: 'No one else knows',\n",
              " 838: 'What?',\n",
              " 837: \"You're sweet.  And sexy.  And completely hot for me.\",\n",
              " 836: 'No -- something real.  Something no one else knows.',\n",
              " 835: 'I hate peas.',\n",
              " 834: 'Tell me something true.',\n",
              " 832: \"I know the porn career's a lie.\",\n",
              " 831: 'Hearsay.',\n",
              " 830: 'The duck?',\n",
              " 829: 'Fallacy.',\n",
              " 828: 'State trooper?',\n",
              " 825: 'For. . . ?',\n",
              " 824: 'You up for it?',\n",
              " 823: 'You never disappointed me.',\n",
              " 822: 'How?',\n",
              " 821: 'Then you screwed up',\n",
              " 820: 'Something like that',\n",
              " 819: \"So if you disappoint them from the start, you're covered?\",\n",
              " 818: \"I don't like to do what people expect. Then they expect it all the time and they get disappointed when you change.\",\n",
              " 817: 'Yes',\n",
              " 816: 'Acting the way we do.',\n",
              " 815: \"So what's your excuse?\",\n",
              " 814: \"Yeah, well, don't let it get out\",\n",
              " 813: 'A soft side? Who knew?',\n",
              " 812: 'I dazzled him with my wit',\n",
              " 811: \"So how'd you get Chapin to look the other way?\",\n",
              " 810: 'Good call.',\n",
              " 809: 'I figured it had to be something ridiculous to win your respect.  And piss you off.',\n",
              " 808: 'The Partridge Family?',\n",
              " 806: 'Maybe.',\n",
              " 805: 'You want me to climb up and show you how to get down?',\n",
              " 804: \"Forget it.  I'm stayin'.\",\n",
              " 803: 'Put your right foot there --',\n",
              " 802: \"Try lookin' at it from this angle\",\n",
              " 801: \"C'mon.  It's not that bad\",\n",
              " 800: \"I guess I never told you I'm afraid of heights.\",\n",
              " 799: 'Look up, sunshine',\n",
              " 798: 'He left!  I sprung the dickhead and he cruised on me.',\n",
              " 774: 'Other than my upchuck reflex? Nothing.',\n",
              " 773: 'So what did I have an effect on ?',\n",
              " 772: \"Don't for one minute think that you had any effect whatsoever on my panties.\",\n",
              " 771: 'Unwelcome?  I guess someone still has her panties in a twist.',\n",
              " 770: 'Unwelcome.',\n",
              " 769: 'Wholesome.',\n",
              " 768: 'Pleasant?',\n",
              " 767: \"You 're so --\",\n",
              " 766: 'I heard there was a poetry reading.',\n",
              " 765: 'What are you doing here?',\n",
              " 764: 'Excuse me, have you seen The Feminine Mystique?  I lost my copy.',\n",
              " 690: \"No offense, but you're sister is without.  I know everyone likes her and all, but ...\",\n",
              " 689: 'BIANCA',\n",
              " 688: 'Who?',\n",
              " 687: \"He just wants me to be someone I'm not.\",\n",
              " 686: \"So what ' s up with your dad?  He a pain in the ass?\",\n",
              " 684: \"I'm gettin' there\",\n",
              " 683: 'Oh, so now you think you know me?',\n",
              " 682: \"You don't strike me as the type that would ask permission.\",\n",
              " 681: \"My father wouldn't approve of that that\",\n",
              " 680: 'Start a band?',\n",
              " 679: 'This.',\n",
              " 678: 'Do what?',\n",
              " 677: 'I should do this.',\n",
              " 676: \"Why'd you lie?\",\n",
              " 675: \"Then why'd you ask?\",\n",
              " 674: \"No, you weren't\",\n",
              " 673: 'Maybe.',\n",
              " 672: 'Were you in jail?',\n",
              " 671: 'Busy',\n",
              " 670: 'When you were gone last year -- where were you?',\n",
              " 669: \"But it's Gigglepuss - I know you like them.  I saw you there.\",\n",
              " 668: \"And I'm in control of it.\",\n",
              " 651: 'What?',\n",
              " 650: 'Kat! Wake up!',\n",
              " 646: 'You know what they say',\n",
              " 645: 'I thought you were above all that',\n",
              " 644: 'Hey man. . .  You don \\' t think I can be \"cool\"?  You don\\'t think I can be \"laid back\" like everyone else?',\n",
              " 643: \"I know.  It'd have to be a pretty big deal to get you to mainline tequila. You don't seem like the type.\",\n",
              " 642: 'I hate him.',\n",
              " 641: 'Dorsey.',\n",
              " 640: 'Who?',\n",
              " 639: \"Why'd you let him get to you?\",\n",
              " 636: 'Just let me sit down.',\n",
              " 635: \"See that?  Who needs affection when I've got blind hatred?\",\n",
              " 634: 'Like you could find one',\n",
              " 633: \"Because then I'd have to start taking out girls who like me.\",\n",
              " 632: 'Why?',\n",
              " 631: 'Sure, I do',\n",
              " 630: \"You don't care if I die\",\n",
              " 629: 'I told you',\n",
              " 628: \"Why 're you doing this?\",\n",
              " 627: \"Leave it to you to use big words when you're shitfaced.\",\n",
              " 626: 'This is so patronizing.',\n",
              " 616: 'What if you have a concussion? My dog went to sleep with a concussion and woke up a vegetable. Not that I could tell the difference...',\n",
              " 615: 'I know, just let me sleep',\n",
              " 614: \"Uh, uh. You lie down and you'll go to sleep\",\n",
              " 613: 'I just need to lie down for awhile',\n",
              " 612: \"You're not okay.\",\n",
              " 611: \"I'm fine. I'm\",\n",
              " 610: 'Okay?',\n",
              " 567: \"Funny, you're the only one\",\n",
              " 566: 'I say, do what you wanna do.',\n",
              " 565: '\"I\\'m getting trashed, man.\" Isn\\'t that what you\\'re supposed to do at a party?',\n",
              " 564: \"What's this?\",\n",
              " 483: \"Why, don't you?\",\n",
              " 482: 'You know who The Raincoats are?',\n",
              " 481: \"You know, these guys are no Bikini Kill or The Raincoats, but they're right up there.\",\n",
              " 477: \"Do you mind?  You're sort of ruining it for me.\",\n",
              " 476: \"That's what you want, isn't it?\",\n",
              " 475: 'Excuse me?',\n",
              " 474: '',\n",
              " 473: 'hey.  Great show, huh?',\n",
              " 334: \"Depends on the topic. My fenders don't really whip me into a verbal frenzy.\",\n",
              " 333: \"You're not a big talker, are you?\",\n",
              " 332: 'Hi',\n",
              " 331: \"I was in the laundromat. I saw your car. Thought I'd say hi.\",\n",
              " 330: 'Are you following me?',\n",
              " 328: 'Seven-thirty?',\n",
              " 327: 'You -- covered in my vomit.',\n",
              " 326: 'Come on -- the ponies, the flat beer, you with money in your eyes, me with my hand on your ass...',\n",
              " 325: 'And why would I do that?',\n",
              " 324: \"Then say you'll spend Dollar Night at the track with me.\",\n",
              " 323: \"I don't really think you warrant that strong an emotion.\",\n",
              " 322: \"You hate me don't you?\",\n",
              " 313: 'I know a lot more than that',\n",
              " 312: 'Like where?  The 7-Eleven on Burnside? Do you even know my name, screwboy?',\n",
              " 311: \"The night I take you to places you've never been before.  And back.\",\n",
              " 310: 'Oh, right.  Friday.',\n",
              " 309: 'Pick you up Friday, then',\n",
              " 307: 'My mission in life.',\n",
              " 306: \"There's a way to get a guy's attention.\",\n",
              " 305: 'Sweating like a pig, actually.  And yourself?',\n",
              " 304: \"I mean Wo-man.  How ya doin'?\",\n",
              " 1000: \"Oh, Christ.  Don't tell me you've changed your mind.  I already sent 'em a check.\",\n",
              " 999: 'When I go?',\n",
              " 998: \"You know, fathers don't like to admit that their daughters are capable of running their own lives.  It means we've become spectators.  Bianca still lets me play a few innings.  You've had me on the bleachers for years.  When you go to Sarah Lawrence, I won't even be able to watch the game.\",\n",
              " 997: 'No -- impressed.',\n",
              " 996: \"What's the matter?  Upset that I rubbed off on her?\",\n",
              " 995: 'Bianca did what?',\n",
              " 994: 'The part where Bianca beat the hell out of some guy.',\n",
              " 993: 'Which parts?',\n",
              " 992: 'Parts of it.',\n",
              " 991: 'So tell me about this dance. Was it fun?',\n",
              " 990: 'No, Daddy.',\n",
              " 989: \"I don't understand the allure of dehydrated food.  Is this something I should be hip to?\",\n",
              " 988: 'Funny.',\n",
              " 987: 'Yeah.  She left with some bikers Big ones.  Full of sperm.',\n",
              " 986: 'Was that your sister?',\n",
              " 347: 'I want to go to an East Coast school! I want you to trust me to make my own choices.  I want --',\n",
              " 346: \"You're eighteen.  You don't know what you want.  You won't know until you're forty-five and you don't have it.\",\n",
              " 345: \"So what I want doesn't matter?\",\n",
              " 344: \"As a parent, that's my right\",\n",
              " 343: \"Because you're making decisions for me.\",\n",
              " 342: \"Why can't we agree on this?\",\n",
              " 341: 'I thought you were punishing me.',\n",
              " 340: 'Is this about Sarah Lawrence? You punishing me?',\n",
              " 339: 'Then tell them I had a seizure.',\n",
              " 338: 'My insurance does not cover PMS',\n",
              " 185: 'Enough!',\n",
              " 184: 'This from someone whose diary is devoted to favorite grooming tips?',\n",
              " 174: 'You decided.',\n",
              " 173: 'I thought we decided you were going to school here.  At U of 0.',\n",
              " 172: 'I know.',\n",
              " 1018: 'Just smack her now.',\n",
              " 1017: 'Am I supposed to feel better? Like, right now?  Or do I have some time to think about it?',\n",
              " 109: 'No ... I believe \"heinous bitch\" is the term used most often.',\n",
              " 108: 'Tempestuous?',\n",
              " 107: 'The point is Kat -- people perceive you as somewhat ...',\n",
              " 106: 'I still maintain that he kicked himself in the balls.  I was merely a spectator.',\n",
              " 105: \"Well, yes, compared to your other choices of expression this year, today's events are quite mild.  By the way, Bobby Rictor's gonad retrieval operation went quite well, in case you're interested.\",\n",
              " 104: 'Expressing my opinion is not a terrorist action.',\n",
              " 103: \"Katarina Stratford.  My, my.  You've been terrorizing Ms. Blaise again.\",\n",
              " 738: 'Yeah...',\n",
              " 737: 'Kat a fan, too?',\n",
              " 736: 'Right.',\n",
              " 735: 'Macbeth, right?',\n",
              " 733: 'Oh yeah.',\n",
              " 732: 'You think?',\n",
              " 731: 'Yeah.  I guess.',\n",
              " 730: 'Cool pictures.  You a fan?',\n",
              " 729: 'Hi.',\n",
              " 728: 'Hey there.  Tired of breathing?',\n",
              " 777: \"Man -- don't say shit like that to  me. People can hear you.\",\n",
              " 776: 'Sweet love, renew thy force!',\n",
              " 775: \"You were right. She's still pissed.\",\n",
              " 724: \"No - I've got a sweet-payin' job that I'm about to lose.\",\n",
              " 723: 'So you got cozy with she who stings?',\n",
              " 437: \"I'm likin' you guys better\",\n",
              " 436: 'I prefer to think of it simply as an alternative to what the law allows.',\n",
              " 429: 'Yeah.',\n",
              " 428: 'Ever been to Club Skunk?',\n",
              " 421: 'Just for now.',\n",
              " 420: 'Are you telling me I\\'m a -  \"non-smoker\"?',\n",
              " 415: 'Good enough.',\n",
              " 414: 'What?!',\n",
              " 384: \"We're your guys.\",\n",
              " 383: 'You two are gonna help me tame the wild beast?',\n",
              " 382: \"Patrick, Pat, you're not looking at the big picture.  Joey's just a pawn. We set this whole thing up so Cameron can get the girl.\",\n",
              " 381: 'So Dorsey can get the girl?',\n",
              " 380: \"That's where we can help you.  With Kat.\",\n",
              " 379: \"Dorsey can plow whoever he wants. I'm just in this for the cash.\",\n",
              " 378: \"I think I speak correctly when I say that Cameron's love is pure.  Purer than say -- Joey Dorsey's.\",\n",
              " 377: 'What is it with this chick?  She have three tits?',\n",
              " 376: 'The situation is, my man Cameron here has a major jones for Bianca Stratford.',\n",
              " 375: 'What plan?',\n",
              " 373: \"Whatever the hell it is you're standin' there waitin' to say.\",\n",
              " 372: 'What?',\n",
              " 371: 'Say it',\n",
              " 512: 'See you next week!',\n",
              " 511: \"You're completely demented.\",\n",
              " 264: \"Well, you know -- there's the prestige of the job title... and the benefits package is pretty good...\",\n",
              " 263: \"You weren't abused, you aren't stupid, and as far as I can tell, you're only slightly psychotic -- so why is it that you're such a fuck-up?\",\n",
              " 262: \"What's to discuss?\",\n",
              " 261: \"Why don't we discuss your driving need to be a hemorrhoid?\",\n",
              " 259: \"I'm at a loss, then.  What should we talk about? Your year of absence?\",\n",
              " 258: 'Touch of the flu.',\n",
              " 257: \"I don't understand, Patrick.  You haven't done anything asinine this week. Are you not feeling well?\",\n",
              " 62: 'With the teeth of your zipper?',\n",
              " 61: 'It was a bratwurst.  I was eating lunch.',\n",
              " 60: 'It says here you exposed yourself to a group of freshmen girls.',\n",
              " 59: 'I missed you.',\n",
              " 933: \"That ' s what I thought\",\n",
              " 932: 'Absolutely not.',\n",
              " 931: 'Did I have anything to say about it?',\n",
              " 930: 'Your daughters went to the prom.',\n",
              " 929: 'What just happened?',\n",
              " 927: 'But -- who -- what --?',\n",
              " 926: 'Have a great time, honey!',\n",
              " 918: 'Dr. Ruth?',\n",
              " 917: \"What do you wanna watch?  We've got crap, crap, crap or crap\",\n",
              " 887: \"Kissing?  Is that what you think happens?  Kissing isn't what keeps me up to my elbows in placenta all day.\",\n",
              " 886: \"They'll dance, they'll kiss, they'll come home.  Let her go.\",\n",
              " 877: 'Pirate -- no question.',\n",
              " 876: 'Would you rather be ravished by a pirate or a British rear admiral?',\n",
              " 193: \"You're not helping.\",\n",
              " 192: 'Tumescent!',\n",
              " 191: 'Jesus!  Can a man even grab a sandwich before you women start dilating?',\n",
              " 171: 'Sarah Lawrence is on the other side of the country.',\n",
              " 170: \"What's a synonym for throbbing?\",\n",
              " 162: 'Make anyone cry today?',\n",
              " 161: 'In the microwave.',\n",
              " 2181: \"Can't be that far, I say.  Also, I don't like the smell of the sea around here.  Smells like a cunt. Bad sign...\",\n",
              " 2180: \"We left three weeks ago, Alonso. Can't be that near.\",\n",
              " 2179: 'We should have seen land.',\n",
              " 2177: \"We'll all go crazy...\",\n",
              " 2176: \"He's the devil's child...\",\n",
              " 2175: \"With a face like that?  I don't want you looking at me.  You hear?\",\n",
              " 2174: \"Ah, leave him alone.  He's doing no harm.\",\n",
              " 2173: 'What are you listening to, chicken ass?',\n",
              " 2172: \"You'll be drinking your own piss... For the glory of Spain... and Admiral Colon...!  Bastard!\",\n",
              " 2171: \"The water's going putrid in the barrels.\",\n",
              " 2170: 'I never seen heat like this!  Not even in Las Minas!',\n",
              " 2025: 'IF-GOD-WILLS-IT!',\n",
              " 2024: 'Asia can be found to the west -- and I will prove it.',\n",
              " 2023: 'Blind faith is what I consider heresy!',\n",
              " 2022: \"Don't you realize your words could be considered heretical?\",\n",
              " 2020: \"Did He not choose a carpenter's son to reveal Himself to the world?\",\n",
              " 2019: 'If God intended our proximity to Asia, do you believe he would have waited for you to show it to the world?',\n",
              " 2016: 'No.  The Portuguese have already discovered black-skinned people.  I, too, will find other populations -- and bring them to the word of God.',\n",
              " 2015: 'Is that all that interests you? Gold?',\n",
              " 2014: 'Trade, Your Excellency.  According to Marco Polo, the Kingdom of China is one of the richest of the world. Even the meanest buildings are roofed with gold.',\n",
              " 2012: 'If they agree to follow me, yes.',\n",
              " 2011: 'Your life, and that of others!',\n",
              " 2010: 'Your Eminence, there is only one way to settle the matter.  And that is to make the journey.  I am ready to risk my life to prove it possible.',\n",
              " 2006: 'Excellency, you are right.',\n",
              " 2005: 'Senor Colon, an experienced captain such as yourself will understand our concern with the crew.  I am not willing to have on my conscience the loss of men who would have relied upon our judgment.',\n",
              " 1993: 'Then you cannot ignore that according to their calculations, the circumference of the Earth is approximately...  22,000 leagues or more.  Which makes the ocean... uncrossable.',\n",
              " 1992: 'I am, Your Eminence',\n",
              " 1991: 'Unfortunately, Don Colon, that is precisely where our opinions differ...  Are you familiar with the work of Aristotle?  Erathostene?  Ptolemeus?',\n",
              " 1990: 'Yes, your Eminence.  The voyage should not take more than six or seven weeks.',\n",
              " 1989: 'You say Asia can be found by sailing west?',\n",
              " 2524: 'A waste...?  Let me tell you something, Arojaz.  If your name, or mine, is ever remembered -- it will only be because of his.',\n",
              " 2523: 'What a tragedy... what a waste of a life...',\n",
              " 2522: 'You can see for yourself.',\n",
              " 2275: 'On the contrary, Your Eminence.  It seems to me the man is preparing his own cross.',\n",
              " 2274: \"It won't be easy to get rid of your prophet now, Don Sanchez.\",\n",
              " 2031: 'Indeed.  The world is full of mercenaries -- and states often make use of them, when it benefits them.  My only concern is the welfare and prosperity of Spain.',\n",
              " 2030: 'He is a mercenary!  Did he not already try to convince the King of Portugal of his absurd notions?',\n",
              " 2029: 'Naturally.  But I would really deplore the loss of such a potential opportunity for Spain for a... dispute over a point of geography.',\n",
              " 2028: 'The Judgment is ours!',\n",
              " 2027: \"The State has some reason to be interested in this man's proposition, Your Eminence...\",\n",
              " 2540: \"I can't keep my eyes off you.  I would like to catch up with all the moments I didn't spend with you.\",\n",
              " 2539: 'What is it, now?  Tell me...',\n",
              " 2538: 'I am busy inside.',\n",
              " 2537: \"Can't you stay with us a little?\",\n",
              " 2474: \"Not everything... Do you think I care?  I'm a free man again.  Riches don't make a man rich, they only make him busier...\",\n",
              " 2473: 'They took everything...',\n",
              " 2472: \"They tried... but I didn't let them.\",\n",
              " 2471: \"God... you're so beautiful!  I can't believe no other man has ever taken you away from me...\",\n",
              " 2320: 'I can arrange for the Queen to take Fernando and Diego into her service.',\n",
              " 2319: \"You don't usually ask.\",\n",
              " 2318: 'Beatrix, I want to ask you something.',\n",
              " 2123: \"That's something you can't decide.\",\n",
              " 2122: \"I don't want you to wait for me.\",\n",
              " 2121: \"I'm not asking you to swear to anything.\",\n",
              " 2119: 'Thank God...',\n",
              " 2118: 'She said yes.',\n",
              " 1986: 'I find that hard to believe.',\n",
              " 1985: 'Perhaps I was never meant to live with a woman...',\n",
              " 1984: \"I'd love to argue with you sometimes.  But you're never here!\",\n",
              " 1983: 'Are we going to argue?',\n",
              " 1982: \"Well... that's true.  I have a child by a man who won't marry me!  Who's always leaving...\",\n",
              " 1981: \"I haven't given you much of a life.\",\n",
              " 1980: 'I know.',\n",
              " 1979: 'I could be gone for years.',\n",
              " 2432: 'I am afraid this is not the worst news.',\n",
              " 2431: 'How could I be?  The mainland has been found.  Exactly as I said it would.',\n",
              " 2430: 'I am not a seaman.  But I heard it is no more than a week at sea.  I hope you are not too disappointed.',\n",
              " 2429: 'How far from here?',\n",
              " 2426: 'Congratulations.  Then I am free to search for the mainland.',\n",
              " 2425: 'Viceroy of the West Indies.',\n",
              " 2424: 'Appointment to what?',\n",
              " 2423: 'My letters of appointment.',\n",
              " 2422: 'Yes... I remember...',\n",
              " 2421: 'Don Alonso de Bobadilla.',\n",
              " 2293: 'Bartolome and Giacomo Colon.',\n",
              " 2292: 'May I ask by whom?',\n",
              " 2291: 'Forgive me, Don Bobadilla -- those positions have already been taken.',\n",
              " 2290: 'I understand that you will soon be appointing Governors for the islands?  Is it not so?',\n",
              " 2552: 'Tell me the first thing that comes to your mind.',\n",
              " 2551: \"Really?  God... I wouldn't know where to start... and yet...\",\n",
              " 2550: 'I want you to tell me everything you remember, Father.  From the beginning.  Everything.',\n",
              " 2549: 'He never had one... except aboard my ships!',\n",
              " 2548: 'He asks when he can come to visit you.  He left his address.',\n",
              " 2547: 'What does he say?',\n",
              " 2542: \"I am not listening, Father.  But I can't help hearing.\",\n",
              " 2541: 'What are you listening to?',\n",
              " 2501: 'There must be a passage to that other ocean.',\n",
              " 2500: 'Father...',\n",
              " 2485: 'Not bad.',\n",
              " 2484: 'How are you feeling, Fernando?',\n",
              " 2440: 'This time with me!',\n",
              " 2439: 'I have to explore the mainland.',\n",
              " 2131: 'Yes... Yes, I do... On all of them!',\n",
              " 2130: 'Do you swear on all the Holy Saints in heaven?',\n",
              " 2129: 'You promise?  Do you swear on St. Christopher...?',\n",
              " 2128: \"There'll be a time.\",\n",
              " 2127: 'I want to go with you!',\n",
              " 2469: 'All of them created by people like me.',\n",
              " 2468: 'Roofs... towers, palaces... spires...',\n",
              " 2467: 'What do you see?',\n",
              " 2466: 'Look out of that window.',\n",
              " 2465: 'I am not afraid of you.  You are nothing but a dreamer.',\n",
              " 2464: 'Call them.',\n",
              " 2463: 'All I have to do is call the guards.',\n",
              " 2301: 'To rise so high, in so short a time, is a dangerous occupation.  A little hypocrisy goes a long way.',\n",
              " 2300: 'What...?  Do I have so many already?',\n",
              " 2299: 'You seem to have a special talent for making friends.',\n",
              " 2297: 'Good!  We are also in need of judges.  Except there are no thieves!',\n",
              " 2296: 'Don Bobadilla is already a judge, my Dear Don Cristobal.',\n",
              " 2295: 'But we do have a lack of notaries. You should contact my administration.',\n",
              " 2287: '... for a commoner?',\n",
              " 2286: 'You defend yourself admirably...',\n",
              " 2282: 'Forgive me, Don Colon.  But what about gold?',\n",
              " 2281: \"They don't see sin in their nakedness.  They live according to nature, in a never ending summer. The islands are covered with trees, filled with blossoms and fruits. And...\",\n",
              " 2110: \"If you won't accept our proposal, we'll simply find someone who will.\",\n",
              " 2109: 'And were you never ambitious, Excellency?  Or is ambition only a virtue among the nobles, a fault for the rest of us?',\n",
              " 2108: 'Then you are too ambitious.',\n",
              " 2107: \"I'm not bargaining!\",\n",
              " 2106: 'I remind you, Senor Colon, that you are in no position to bargain with me.',\n",
              " 2105: 'NO...!  I have waited too long, fought too hard.  Now you expect me to take all the risks while you take the profit!  No... I will not be your servant!',\n",
              " 2104: 'No?',\n",
              " 2103: 'No...',\n",
              " 2410: 'You never learned how to speak my language.',\n",
              " 2409: \"Utapan, won't you speak to me?  You used to know how to speak to me.\",\n",
              " 2394: 'You did the same to your God!',\n",
              " 2393: 'You have to find them, Utapan.  Look what they did!',\n",
              " 2343: 'Ask him if he will help.',\n",
              " 2342: 'He understands.',\n",
              " 2341: 'We will work with his people.  We want peace.  Ask the Chief if he understands?',\n",
              " 2260: 'He has medicine.  Tell him we admire his people.',\n",
              " 2259: 'Chief says...',\n",
              " 2258: '... and also to bring medicine.',\n",
              " 2257: 'Chief says -- he has a God.',\n",
              " 2256: 'To bring the word of God.',\n",
              " 2255: 'Why?',\n",
              " 2254: 'Thousands.',\n",
              " 2253: 'Chief says -- how many?',\n",
              " 2251: 'Tell him his country is very beautiful.  Tell him we are leaving men here -- to build a fort.',\n",
              " 2250: 'Chief knows.',\n",
              " 2249: 'Tell the Chief we thank him.',\n",
              " 2248: 'You come!  You speak first!',\n",
              " 2239: 'Island.  Far.',\n",
              " 2238: 'What is it?  A tribe?  An island?',\n",
              " 2237: 'Say not here!  Cuba!',\n",
              " 2535: \"I don't know... I have the impression that I didn't change that much.  I still can't accept the world as it is!\",\n",
              " 2534: 'Oh?  So you are a new man?',\n",
              " 2533: 'New worlds create new people.',\n",
              " 2532: 'I knew you would.',\n",
              " 2531: 'I have to disagree.',\n",
              " 2526: \"You'll always be older than me, Father.\",\n",
              " 2525: \"I suppose we're both old men now.\",\n",
              " 2145: 'Give me absolution.',\n",
              " 2144: 'I believed in you...',\n",
              " 2143: 'You are bound by an oath, Father.',\n",
              " 2142: \"My son, my son...  Your certitudes are sometimes frightening...  Christopher, you must speak to them. And if you don't I will.\",\n",
              " 2141: \"If I tell them, they won't follow me.  You know that I am right, Father.  You trust me...\",\n",
              " 2140: 'May God forgive you...!  You must tell them!  You must tell your men!',\n",
              " 2139: 'I am not sure... It could be twice the distance.',\n",
              " 2138: 'How long?',\n",
              " 2137: 'I lied.  The journey will be longer than I said.',\n",
              " 2136: 'What are you saying?',\n",
              " 2135: 'Father, I have betrayed my family. I betrayed my men.  And I betrayed you.',\n",
              " 2134: 'I am listening, my son.',\n",
              " 2133: 'Forgive me, Father.  For I have sinned.',\n",
              " 2132: 'In Nomine Patris et Filius, et Spiritus Sancti.',\n",
              " 2046: \"Colon!  Don't!\",\n",
              " 2045: 'All of them!  Just lies!',\n",
              " 2042: 'Damn all of you!  You all set up theories based on what?  You never leave the safety of your studies! Go out!  Find out what the world is about and then tell me something I can listen to!',\n",
              " 2041: 'Colon!',\n",
              " 2040: 'Damn God!',\n",
              " 2039: 'If God intends you to go, then you will go.',\n",
              " 2038: \"Wait!  I've waited seven years already!  How much longer do you want me to wait?\",\n",
              " 2037: \"You mustn't give way to despair. You must wait.\",\n",
              " 1969: 'Only God knows the meaning of such words, my son.',\n",
              " 1968: \"I've been contradicted all my life... Eternity!\",\n",
              " 1967: 'You get so carried away when you are being contradicted!',\n",
              " 1966: 'Passion is something one cannot control!',\n",
              " 1965: 'Father Marchena!',\n",
              " 1964: \"I'll try to remember that, Marchena...\",\n",
              " 1963: \"Two minutes... and already you're a dead man.  Don't let passion overwhelm you, Colon.\",\n",
              " 1962: 'So was Christ!',\n",
              " 1961: 'Esdras is a Jew.',\n",
              " 1960: 'The calculations of Toscanelli Marin de Tyr, Esdras...',\n",
              " 1959: 'How can you be so certain?',\n",
              " 1958: 'Ignorance!  I believe the Indies are no more than 750 leagues west of the Canary Islands.',\n",
              " 1957: 'How can you be so certain?  The Ocean is said to be infinite.',\n",
              " 1952: 'To open a new route to Asia.  At the moment there are only two ways of reaching it...',\n",
              " 1951: 'Why do you wish to sail west?',\n",
              " 1950: 'With some difficulty.  I had to promise them you were not a total fool.',\n",
              " 1949: 'How did you manage it?',\n",
              " 1948: \"That's what it says.\",\n",
              " 1947: \"God... That's in a week!\",\n",
              " 1943: 'Father, I am doing what I think is the best for him.  And he has the teacher I would have chosen for myself.',\n",
              " 1942: 'Diego is a bright boy -- a pleasure to teach -- but so serious... Brothers should be raised together, Colon.  Even brothers from different mothers...',\n",
              " 2459: 'Your Majesty -- some men are content to read about things.  I must see them with my own eyes.  I cannot be other than I am.',\n",
              " 2458: \"There is one thing I'd like to understand... Why do you want to go back, after all this?\",\n",
              " 2457: 'Thank you.',\n",
              " 2456: 'But without your brothers.  Nor are you to return to Santo Domingo or any of the other colonies.  You may explore the continent.',\n",
              " 2280: 'They come and go as naked as the day God created them...',\n",
              " 2279: 'Do they have such thoughts?',\n",
              " 2086: 'Thirty seven, Your Majesty... And you?',\n",
              " 2085: 'How old are you, Senor Colon?',\n",
              " 2082: 'A woman?',\n",
              " 2081: 'I know what I see.  I see someone who doesn\\'t accept the world as it is.  Who\\'s not afraid.  I see a women who thinks... \"What if?\"...',\n",
              " 2080: 'You show no inclination to speak otherwise!',\n",
              " 2079: 'May I speak freely?',\n",
              " 2077: 'Surely you can do anything you want.',\n",
              " 2076: 'I cannot ignore the verdict of my council.',\n",
              " 2075: 'That she was impregnable.',\n",
              " 2074: 'What did they say about Granada before today?',\n",
              " 2073: 'The ocean is uncrossable?',\n",
              " 2072: 'No more than the woman who said she would take Granada from the Moors.',\n",
              " 2071: 'I should not even be listening to you, since my council said no.  But Santangel tells me you are a man of honor and sincerity... And Sanchez, that you are not a fool.',\n",
              " 2389: 'You will regret this.',\n",
              " 2388: \"You'll be held in detention, deprived of your privileges and possessions.  Until you are returned to Spain where you will be judged. Have you anything to say?\",\n",
              " 2387: 'Savagery is what monkeys understand.',\n",
              " 2386: 'In one act of brutality, you have created chaos.  Tribes who were fighting each other are now joining forces against us!  All that because of your criminal savagery!',\n",
              " 2348: 'You did not hear me, Don Colon.  Not my horse.',\n",
              " 2347: 'Don Moxica -- we all have to work.',\n",
              " 2346: \"My horse doesn't work.\",\n",
              " 2345: \"We can't raise the wheel without it.\",\n",
              " 2333: 'We came here to stay!  To build! Not to start a crusade.  In this forest, there is enough danger to sweep us away in days!  So we will be brave and swallow our grief.  And in the name of those who died, we will accomplish what we came for.',\n",
              " 2332: \"We don't need to know.\",\n",
              " 2331: 'You want a war?  Fine.  We are a thousand.  They outnumber us by ten! Who will you kill?  Which tribe?',\n",
              " 2329: \"If you want to keep your head on your shoulders, you'll do as I say.\",\n",
              " 2328: 'We lost cousins, friends.  We will wash this in blood.',\n",
              " 2278: 'The Indians have no such word, Don Moxica.',\n",
              " 2277: \"And you say this is an Indian vice? By God!  I don't see any kind of pleasure that would make this a sin.\",\n",
              " 2492: \"We can't be.\",\n",
              " 2491: \"He's drawing an isthmus... He's saying we're on an isthmus.\",\n",
              " 2490: \"What's he doing?\",\n",
              " 2165: 'Twenty eight.',\n",
              " 2164: 'What do you read?',\n",
              " 2160: 'Come over here.',\n",
              " 2159: \"Well, I surely know what a quadrant is!  But I've never seen it used at night before.\",\n",
              " 2158: 'And what do you think Mendez?',\n",
              " 2157: \"Well... It's the men, Sir.  They wonder how you know our position. We've lost sight from land days ago...\",\n",
              " 2155: 'God be with us admiral.',\n",
              " 2154: 'Due west, Captain Mendez.  And may God be with us...',\n",
              " 2211: \"You're right.  Let the men decide.\",\n",
              " 2210: 'You tell that to them!',\n",
              " 2209: 'Pinzon, Pinzon... All we can do now is go forward!  Think about that!',\n",
              " 2208: 'You bloody...',\n",
              " 2207: 'You never did.  You did all the talking for both of us, remember?',\n",
              " 2206: 'Jesus Maria!  I should have never listened to you!',\n",
              " 2205: 'And then what?  Half of the water has gone, the rest is nearly putrid! You know that!',\n",
              " 2204: \"You don't know anything!  Listen Colon, these are my ships, right? So I'm telling you we're turning back!\",\n",
              " 2203: 'The land is there.  I know it!',\n",
              " 2202: \"We're lost!\",\n",
              " 2201: \"You think I don't know that?\",\n",
              " 2200: \"We're on the verge of a mutiny, Colon!\",\n",
              " 2199: 'We have to keep the hopes of these men alive!',\n",
              " 2198: 'You must be mad...!',\n",
              " 2197: 'Six days ago, yes.',\n",
              " 2196: \"You lied!  You cheated!  We're way past 750 leagues!\",\n",
              " 2065: 'Immediately.',\n",
              " 2064: 'Where can I meet this man?',\n",
              " 2462: 'Because he is not afraid of me.',\n",
              " 2461: 'Then why?',\n",
              " 2460: 'I know, I should not tolerate his impertinence.',\n",
              " 2419: 'And who would you think of, for such a task?',\n",
              " 2418: 'He must be replaced.',\n",
              " 2417: 'Then, what do you suggest, Don Sanchez?',\n",
              " 2415: 'Is this true, Brother Buyl?',\n",
              " 2414: '... But there is worse.  He ordered the execution of five members of the nobility...',\n",
              " 2377: \"We weren't expecting immediate profits, were we?  We must have faith.  We must give time for time.\",\n",
              " 2376: 'Every ship returns with a cargo of sick and dying.  But with no gold! The new world proves expensive, Your Majesty.',\n",
              " 2116: \"Yes.  It would be a pity, wouldn't it?  Call him back!\",\n",
              " 2115: '... Into a monk...',\n",
              " 2113: 'Never, Your Majesty.  Although...',\n",
              " 2112: 'You were right, Don Sanchez... His demands could never be granted.',\n",
              " 1931: 'Yes, Your Majesty.',\n",
              " 1930: 'Is that the man I knew, Treasurer Sanchez?',\n",
              " 3546: \"Officers, there's your killer, do your duty, arrest him!\",\n",
              " 3545: '...so we kill someone famous and if we are caught, we are sent to mental hospital...',\n",
              " 3497: \"I don't think it's abuse, I think it's torture.\",\n",
              " 3496: \"I'm abused.  Don't you think?\",\n",
              " 3493: 'Can I see your back?',\n",
              " 3492: 'Out on my back when I was a small boy.',\n",
              " 3491: 'Your father put cigarettes out on you?',\n",
              " 3490: \"That's what he did to me.  He put cigarettes out on me.\",\n",
              " 3489: 'Yeah, he hated me from day when I was born.  Put it out.  Can you put the cigarette out?',\n",
              " 3488: \"Your father blamed you for your mother's blindness?\",\n",
              " 3487: 'Yeah, yeah...bad doctor gave her bad drugs which made her go blind.  And my father blamed me for her blindness...',\n",
              " 3486: 'Back in the Czech Republic?',\n",
              " 3485: 'Yeah, she went blind giving birth to me. She went to fucking black market doctor to induce me.',\n",
              " 3484: 'Your mother was blind?',\n",
              " 3483: 'My father always degraded me.  Killed my self-esteem.  And my mother was blind.',\n",
              " 3482: 'Tell me about yourself.  What you did as a young boy... what your parents were like.',\n",
              " 3481: 'Give me another one, please.',\n",
              " 3480: \"I need to know about your background.  I need to know about your upbringing.  Why you're here.\",\n",
              " 3479: 'What else do you need?',\n",
              " 3478: 'This is not about money, Emil.  I need your trust in me.',\n",
              " 3477: \"Thirty-percent.  No more.  Or I call another lawyer.  This is the biggest case of your life.  Don't try to negotiate.  Thirty percent.  Say yes or no.\",\n",
              " 3476: \"But it's...\",\n",
              " 3475: 'No.  No way.',\n",
              " 3474: 'I would say...half.  Half is fair.',\n",
              " 3473: \"What's your cut?  How much?\",\n",
              " 3472: \"Look, I haven't really focused on that kind of thing.\",\n",
              " 3471: 'What about my movie rights?  Book rights?',\n",
              " 3470: \"Don't worry about him.  Think about yourself.\",\n",
              " 3469: 'No, he is here.  Shit...',\n",
              " 3468: \"Disappeared.  They're looking everywhere.  Maybe he went back to Czechoslovakia.\",\n",
              " 3467: 'What about Oleg?',\n",
              " 3466: \"Well, you didn't appreciate the severity of it until recently.  No question about that.\",\n",
              " 3465: 'I was all of these.',\n",
              " 3464: '...delusions and paranoia.',\n",
              " 3461: 'Oh, sure.',\n",
              " 3460: 'You bring the cigarettes?',\n",
              " 3459: \"I brought you some letters.  It's really fan mail.  Women mostly.  One wants to buy you clothes, another sent a check. Another wants a check.\",\n",
              " 3396: \"I'm invoking rights - this man is represented by counsel.  I'm coming with him.\",\n",
              " 3395: 'Yes.  Yes, come with me!',\n",
              " 3394: \"I'm coming with you.\",\n",
              " 3393: 'Where are we going?',\n",
              " 3392: \"Don't say anything.\",\n",
              " 3385: 'He has the camera!  He took the movie!',\n",
              " 3384: 'Emil.  Take it easy.  Stay with me.  Sit down.  What do you need?  What are you looking for?',\n",
              " 3383: 'Oh no!  No!  Shit!',\n",
              " 3382: 'Here.  I have your money.',\n",
              " 3381: \"I'm not your lawyer until I see the money.\",\n",
              " 3380: \"Are you my attorney?  I'm Emil.  I'm insane.\",\n",
              " 3517: 'Daphne, I...',\n",
              " 3516: \"I don't want to drag you down with me.\",\n",
              " 3515: '...Do you really want me to forget about you?',\n",
              " 3514: 'Forget about me.  You have enough problems of your own.',\n",
              " 3330: 'Pouring it out!',\n",
              " 3329: 'What are you doing?',\n",
              " 3318: \"I'll get my clothes.\",\n",
              " 3317: \"I'll make some for us.\",\n",
              " 3316: 'In the kitchen.',\n",
              " 3315: 'Do you have coffee?',\n",
              " ...}"
            ]
          },
          "metadata": {},
          "execution_count": 29
        }
      ]
    },
    {
      "cell_type": "code",
      "metadata": {
        "id": "fUcjTfPZtUKz"
      },
      "source": [
        "sorted_chats= sorted(chats.items(), key = lambda x: x[0])# here we are sorting with keys"
      ],
      "execution_count": null,
      "outputs": []
    },
    {
      "cell_type": "code",
      "metadata": {
        "id": "IpgT-sC_tUOp"
      },
      "source": [
        "convs_dict= {}\n",
        "counter= 1\n",
        "convs_ids= []\n",
        "for i in range(1, len(sorted_chats)+1):\n",
        "  if i < len(sorted_chats):\n",
        "    if (sorted_chats[i][0] - sorted_chats[i-1][0])== 1:\n",
        "      if sorted_chats[i-1][1] not in convs_ids:\n",
        "        convs_ids.append(sorted_chats[i-1][1])\n",
        "      convs_ids.append(sorted_chats[i][1])\n",
        "    elif (sorted_chats[i][0] - sorted_chats[i-1][0]) > 1:\n",
        "      convs_dict[counter]= convs_ids\n",
        "      convs_ids= []\n",
        "\n",
        "    counter += 1\n",
        "  else:\n",
        "    pass"
      ],
      "execution_count": null,
      "outputs": []
    },
    {
      "cell_type": "code",
      "metadata": {
        "id": "DoxCXpNO3aXX"
      },
      "source": [
        "convs_dict"
      ],
      "execution_count": null,
      "outputs": []
    },
    {
      "cell_type": "code",
      "metadata": {
        "id": "DdzQnonZ3pu1"
      },
      "source": [
        "\n",
        "context_and_target= []\n",
        "for conves in convs_dict.values():\n",
        "  if len(conves) %2 != 0:\n",
        "    conves= conves[:-1]\n",
        "\n",
        "  for i in range(0, len(conves), 2):\n",
        "    context_and_target.append((conves[i], conves[i+1]))"
      ],
      "execution_count": null,
      "outputs": []
    },
    {
      "cell_type": "code",
      "metadata": {
        "colab": {
          "base_uri": "https://localhost:8080/"
        },
        "id": "mmfUB7F-5QJI",
        "outputId": "e1c7a809-00a7-4c8d-f193-3f026f177d1a"
      },
      "source": [
        "context_and_target[:5]"
      ],
      "execution_count": null,
      "outputs": [
        {
          "output_type": "execute_result",
          "data": {
            "text/plain": [
              "[('Did you change your hair?', 'No.'),\n",
              " ('I missed you.',\n",
              "  'It says here you exposed yourself to a group of freshmen girls.'),\n",
              " ('It was a bratwurst.  I was eating lunch.',\n",
              "  'With the teeth of your zipper?'),\n",
              " ('You the new guy?', 'So they tell me...'),\n",
              " (\"C'mon.  I'm supposed to give you the tour.\",\n",
              "  'So -- which Dakota you from?')]"
            ]
          },
          "metadata": {},
          "execution_count": 35
        }
      ]
    },
    {
      "cell_type": "code",
      "metadata": {
        "id": "TXEXhrn55a9m"
      },
      "source": [
        "context, target = zip(*context_and_target)"
      ],
      "execution_count": null,
      "outputs": []
    },
    {
      "cell_type": "code",
      "metadata": {
        "id": "QOR80WOl5okV"
      },
      "source": [
        "def convert(set):\n",
        "    return list(set)\n",
        "\n",
        "context = convert(context)\n",
        "target = convert(target)"
      ],
      "execution_count": null,
      "outputs": []
    },
    {
      "cell_type": "code",
      "metadata": {
        "id": "CAuGKmbf6oZv"
      },
      "source": [
        "context= list (context)\n",
        "target= list (target)\n"
      ],
      "execution_count": null,
      "outputs": []
    },
    {
      "cell_type": "code",
      "metadata": {
        "id": "rQJbg_Yb64w3"
      },
      "source": [
        "import re\n",
        "def clean_text(text):\n",
        "    '''Clean text by removing unnecessary characters and altering the format of words.'''\n",
        "\n",
        "    text = text.lower()\n",
        "    \n",
        "    text = re.sub(r\"i'm\", \"i am\", text)\n",
        "    text = re.sub(r\"he's\", \"he is\", text)\n",
        "    text = re.sub(r\"she's\", \"she is\", text)\n",
        "    text = re.sub(r\"it's\", \"it is\", text)\n",
        "    text = re.sub(r\"that's\", \"that is\", text)\n",
        "    text = re.sub(r\"what's\", \"what is\", text)\n",
        "    text = re.sub(r\"where's\", \"where is\", text)\n",
        "    text = re.sub(r\"how's\", \"how is\", text)\n",
        "    text = re.sub(r\"let's\", \"lets\", text)\n",
        "    text = re.sub(r\"em\", \"them\", text)\n",
        "    text = re.sub(r\"\\'ll\", \" will\", text)\n",
        "    text = re.sub(r\"\\'ve\", \" have\", text)\n",
        "    text = re.sub(r\"\\'re\", \" are\", text)\n",
        "    text = re.sub(r\"\\'d\", \" would\", text)\n",
        "    text = re.sub(r\"gotta\", \"got to\", text)\n",
        "    text = re.sub(r\"outta\", \"out of\", text)\n",
        "    text = re.sub(r\"gotcha\", \"got you\", text)\n",
        "    text = re.sub(r\"here's\", \"here is\", text)\n",
        "    text = re.sub(r\"whaddya\", \"what do you\", text)\n",
        "    text = re.sub(r\"there's\", \"there is\", text)\n",
        "    text = re.sub(r\"wid\", \"with\", text)\n",
        "    text = re.sub(r\"everyone's\", \"everyone is\", text)\n",
        "    text = re.sub(r\"wouldn't\", \"would not\", text)\n",
        "    text = re.sub(r\"couldn't\", \"could not\", text)\n",
        "    text = re.sub(r\"won't\", \"will not\", text)\n",
        "    text = re.sub(r\"can't\", \"cannot\", text)\n",
        "    text = re.sub(r\"that ain't\", \"that is not\", text)\n",
        "    text = re.sub(r\"they ain't\", \"they are not\", text)\n",
        "    text = re.sub(r\"i ain't\", \"i am not\", text)\n",
        "    text = re.sub(r\"he ain't\", \"he is not\", text)\n",
        "    text = re.sub(r\"she ain't\", \"she is not\", text)\n",
        "    text = re.sub(r\"n't\", \" not\", text)\n",
        "    text = re.sub(r\"n'\", \"ng\", text)\n",
        "    text = re.sub(r\"'bout\", \"about\", text)\n",
        "    text = re.sub(r\"'til\", \"until\", text)\n",
        "    re.sub(r\"\\'s\", \"\", text)\n",
        "    text = re.sub(r\"[-()\\\"#/@;:<>{}`+=~|.!?,]\", \" \", text)\n",
        "    \n",
        "    return text"
      ],
      "execution_count": null,
      "outputs": []
    },
    {
      "cell_type": "code",
      "metadata": {
        "colab": {
          "base_uri": "https://localhost:8080/"
        },
        "id": "LZhlUVJuHQda",
        "outputId": "7aa5a74e-3be7-4fd7-92fe-06679e034074"
      },
      "source": [
        "context[:3]"
      ],
      "execution_count": null,
      "outputs": [
        {
          "output_type": "execute_result",
          "data": {
            "text/plain": [
              "['Did you change your hair?',\n",
              " 'I missed you.',\n",
              " 'It was a bratwurst.  I was eating lunch.']"
            ]
          },
          "metadata": {},
          "execution_count": 40
        }
      ]
    },
    {
      "cell_type": "code",
      "metadata": {
        "id": "RDelSXDy7FD_"
      },
      "source": [
        "tidy_target = []\n",
        "#every conversation passed of target \n",
        "for conve in target:\n",
        "    text = clean_text(conve)\n",
        "    tidy_target.append(text)"
      ],
      "execution_count": null,
      "outputs": []
    },
    {
      "cell_type": "code",
      "metadata": {
        "id": "1XU6VpyvFbbH"
      },
      "source": [
        "tidy_context = []\n",
        "#every conversation of context passed\n",
        "for conve in context:\n",
        "    text = clean_text(conve)\n",
        "    tidy_context.append(text)"
      ],
      "execution_count": null,
      "outputs": []
    },
    {
      "cell_type": "code",
      "metadata": {
        "colab": {
          "base_uri": "https://localhost:8080/"
        },
        "id": "UqW_h0oFGIRV",
        "outputId": "5e5cf291-e9fa-4b9b-d21b-7428383988b9"
      },
      "source": [
        "tidy_target[:3]"
      ],
      "execution_count": null,
      "outputs": [
        {
          "output_type": "execute_result",
          "data": {
            "text/plain": [
              "['no ',\n",
              " 'it says here you exposed yourself to a group of freshmen girls ',\n",
              " 'with the teeth of your zipper ']"
            ]
          },
          "metadata": {},
          "execution_count": 43
        }
      ]
    },
    {
      "cell_type": "code",
      "metadata": {
        "id": "4pP2hQNebW-l"
      },
      "source": [
        "contextdf1= pd.DataFrame(tidy_context, columns=['context'])\n",
        "targetdf1= pd.DataFrame(tidy_target, columns=['target'])"
      ],
      "execution_count": null,
      "outputs": []
    },
    {
      "cell_type": "code",
      "metadata": {
        "colab": {
          "base_uri": "https://localhost:8080/"
        },
        "id": "Hk_Y1GXlJ6ip",
        "outputId": "c2066573-25e8-4f27-ffd5-bb5ef9fd5ad4"
      },
      "source": [
        "targetdf1.shape, contextdf1.shape"
      ],
      "execution_count": null,
      "outputs": [
        {
          "output_type": "execute_result",
          "data": {
            "text/plain": [
              "((143864, 1), (143864, 1))"
            ]
          },
          "metadata": {},
          "execution_count": 102
        }
      ]
    },
    {
      "cell_type": "code",
      "metadata": {
        "id": "UC2WSmdfOs2X"
      },
      "source": [
        "lines= pd.concat([contextdf1, targetdf1], axis= 1)"
      ],
      "execution_count": null,
      "outputs": []
    },
    {
      "cell_type": "code",
      "metadata": {
        "id": "hCdL1yZlOur5"
      },
      "source": [
        "lines.drop_duplicates(inplace= True)"
      ],
      "execution_count": null,
      "outputs": []
    },
    {
      "cell_type": "code",
      "metadata": {
        "id": "p0O5DdwDOu7K"
      },
      "source": [
        "import re\n",
        "import string\n",
        "lines['context']= lines['context'].apply(lambda x: x.lower())\n",
        "lines['target']= lines['target'].apply(lambda x: x.lower())\n",
        "\n",
        "lines['context']= lines['context'].apply(lambda x: re.sub(\"'\", '', x))\n",
        "lines['target']= lines['target'].apply(lambda x: re.sub(\"'\", '', x))\n",
        "\n",
        "exclude= set(string.punctuation)\n",
        "# lines['context']= lines['context'].apply(lambda x: ''.join(i for i in x if i not in exclude))\n",
        "# lines['target']= lines['target'].apply(lambda x: ''.join(i for i in x if i not in exclude))\n",
        "\n",
        "removedigits= str.maketrans('', '', digits)\n",
        "\n",
        "lines['context']= lines['context'].apply(lambda x: x.translate(removedigits))\n",
        "lines['target']= lines['target'].apply(lambda x: x.translate(removedigits))\n",
        "\n",
        "lines['context']= lines['context'].apply(lambda x: x.strip())\n",
        "lines['target']= lines['target'].apply(lambda x: x.strip())\n",
        "\n",
        "lines['context']= lines['context'].apply(lambda x: re.sub(\" +\", ' ', x))\n",
        "lines['target']= lines['target'].apply(lambda x: re.sub(\" +\", ' ', x))\n",
        "lines['contextlen']= lines['context'].apply(lambda x: len(x.split()))\n",
        "lines['targetlen']= lines['target'].apply(lambda x: len(x.split()))\n",
        "lines= lines[lines['contextlen']<= 20]\n",
        "lines= lines[lines['targetlen']<= 20]\n",
        "\n"
      ],
      "execution_count": null,
      "outputs": []
    },
    {
      "cell_type": "code",
      "metadata": {
        "id": "lL4nYqVy7IpF",
        "colab": {
          "base_uri": "https://localhost:8080/",
          "height": 204
        },
        "outputId": "7015afed-c008-4fea-e06a-619e8b02dd66"
      },
      "source": [
        "lines.head()"
      ],
      "execution_count": null,
      "outputs": [
        {
          "output_type": "execute_result",
          "data": {
            "text/html": [
              "<div>\n",
              "<style scoped>\n",
              "    .dataframe tbody tr th:only-of-type {\n",
              "        vertical-align: middle;\n",
              "    }\n",
              "\n",
              "    .dataframe tbody tr th {\n",
              "        vertical-align: top;\n",
              "    }\n",
              "\n",
              "    .dataframe thead th {\n",
              "        text-align: right;\n",
              "    }\n",
              "</style>\n",
              "<table border=\"1\" class=\"dataframe\">\n",
              "  <thead>\n",
              "    <tr style=\"text-align: right;\">\n",
              "      <th></th>\n",
              "      <th>context</th>\n",
              "      <th>target</th>\n",
              "      <th>contextlen</th>\n",
              "      <th>targetlen</th>\n",
              "    </tr>\n",
              "  </thead>\n",
              "  <tbody>\n",
              "    <tr>\n",
              "      <th>0</th>\n",
              "      <td>did you change your hair</td>\n",
              "      <td>no</td>\n",
              "      <td>5</td>\n",
              "      <td>1</td>\n",
              "    </tr>\n",
              "    <tr>\n",
              "      <th>1</th>\n",
              "      <td>i missed you</td>\n",
              "      <td>it says here you exposed yourself to a group o...</td>\n",
              "      <td>3</td>\n",
              "      <td>12</td>\n",
              "    </tr>\n",
              "    <tr>\n",
              "      <th>2</th>\n",
              "      <td>it was a bratwurst i was eating lunch</td>\n",
              "      <td>with the teeth of your zipper</td>\n",
              "      <td>8</td>\n",
              "      <td>6</td>\n",
              "    </tr>\n",
              "    <tr>\n",
              "      <th>3</th>\n",
              "      <td>you the new guy</td>\n",
              "      <td>so they tell me</td>\n",
              "      <td>4</td>\n",
              "      <td>4</td>\n",
              "    </tr>\n",
              "    <tr>\n",
              "      <th>4</th>\n",
              "      <td>cmon i am supposed to give you the tour</td>\n",
              "      <td>so which dakota you from</td>\n",
              "      <td>9</td>\n",
              "      <td>5</td>\n",
              "    </tr>\n",
              "  </tbody>\n",
              "</table>\n",
              "</div>"
            ],
            "text/plain": [
              "                                   context  ... targetlen\n",
              "0                 did you change your hair  ...         1\n",
              "1                             i missed you  ...        12\n",
              "2    it was a bratwurst i was eating lunch  ...         6\n",
              "3                          you the new guy  ...         4\n",
              "4  cmon i am supposed to give you the tour  ...         5\n",
              "\n",
              "[5 rows x 4 columns]"
            ]
          },
          "metadata": {},
          "execution_count": 106
        }
      ]
    },
    {
      "cell_type": "code",
      "metadata": {
        "id": "xLGRwXetUbsS"
      },
      "source": [
        "bbb=  list(lines['target'].values)\n",
        "aaa=  list(lines['context'].values)"
      ],
      "execution_count": null,
      "outputs": []
    },
    {
      "cell_type": "code",
      "metadata": {
        "colab": {
          "base_uri": "https://localhost:8080/"
        },
        "id": "_FDZYX59TTse",
        "outputId": "3cbc56cf-0752-4164-f4d2-b39fe46157d9"
      },
      "source": [
        "len(aaa), len(bbb), len(context), len(target), lines.shape"
      ],
      "execution_count": null,
      "outputs": [
        {
          "output_type": "execute_result",
          "data": {
            "text/plain": [
              "(107323, 107323, 143864, 143864, (107323, 4))"
            ]
          },
          "metadata": {},
          "execution_count": 108
        }
      ]
    },
    {
      "cell_type": "code",
      "metadata": {
        "id": "TdZmTo-ESVvH"
      },
      "source": [
        "tidy_contextspellcorrection= []\n",
        "for i in  aaa:\n",
        "  li1= []\n",
        "  a= ''\n",
        "  for j in i.split(' '):\n",
        "    if j not in abc:\n",
        "      j= correction(j)\n",
        "    li1.append(j)\n",
        "  a= \" \".join(li1)\n",
        "  tidy_contextspellcorrection.append(a)\n",
        "  #[:3000], [3000:6000],6001:9000,9001:15000,15001:30000"
      ],
      "execution_count": null,
      "outputs": []
    },
    {
      "cell_type": "code",
      "metadata": {
        "colab": {
          "base_uri": "https://localhost:8080/"
        },
        "id": "dfH8Wwy42dmC",
        "outputId": "6fe3b94b-fe75-4d1a-e413-fda0cb086410"
      },
      "source": [
        "aaa[:6]"
      ],
      "execution_count": null,
      "outputs": [
        {
          "output_type": "execute_result",
          "data": {
            "text/plain": [
              "['did you change your hair',\n",
              " 'i missed you',\n",
              " 'it was a bratwurst i was eating lunch',\n",
              " 'you the new guy',\n",
              " 'cmon i am supposed to give you the tour',\n",
              " 'north actually how would you']"
            ]
          },
          "metadata": {},
          "execution_count": 110
        }
      ]
    },
    {
      "cell_type": "code",
      "metadata": {
        "colab": {
          "base_uri": "https://localhost:8080/"
        },
        "id": "SpQBBr37TYmw",
        "outputId": "d8a27e23-ab5c-43a1-ac52-55e4a35e99a6"
      },
      "source": [
        "tidy_contextspellcorrection[:6]"
      ],
      "execution_count": null,
      "outputs": [
        {
          "output_type": "execute_result",
          "data": {
            "text/plain": [
              "['did you change your hair',\n",
              " 'i missed you',\n",
              " 'it was a bratwurst i was eating lunch',\n",
              " 'you the new guy',\n",
              " 'cmon i am supposed to give you the tour',\n",
              " 'north actually how would you']"
            ]
          },
          "metadata": {},
          "execution_count": 111
        }
      ]
    },
    {
      "cell_type": "code",
      "metadata": {
        "id": "TTWf1OOb2OJA"
      },
      "source": [
        "with open('/content/drive/MyDrive/Colab Notebooks/chatbot/context1500130000.txt', 'w') as f:  \n",
        "    # write elements of list\n",
        "    for items in tidy_contextspellcorrection:\n",
        "        f.write('%s\\n' %items)\n"
      ],
      "execution_count": null,
      "outputs": []
    },
    {
      "cell_type": "code",
      "metadata": {
        "id": "yBy-1dsmTeOE"
      },
      "source": [
        "tidy_targetspellcorrection= []\n",
        "for i in  bbb:\n",
        "  li1= []\n",
        "  a= ''\n",
        "  for j in i.split(' '):\n",
        "    if j not in abc:\n",
        "      j= correction(j)\n",
        "    li1.append(j)\n",
        "  a= \" \".join(li1)\n",
        "  tidy_targetspellcorrection.append(a)"
      ],
      "execution_count": null,
      "outputs": []
    },
    {
      "cell_type": "code",
      "metadata": {
        "colab": {
          "base_uri": "https://localhost:8080/"
        },
        "id": "WkZ0wuVlf-Mm",
        "outputId": "1d69f138-0d23-4467-9a32-bb33ee38410d"
      },
      "source": [
        "bbb[:6]"
      ],
      "execution_count": null,
      "outputs": [
        {
          "output_type": "execute_result",
          "data": {
            "text/plain": [
              "['no',\n",
              " 'it says here you exposed yourself to a group of freshmen girls',\n",
              " 'with the teeth of your zipper',\n",
              " 'so they tell me',\n",
              " 'so which dakota you from',\n",
              " 'i was kidding people actually live there']"
            ]
          },
          "metadata": {},
          "execution_count": 114
        }
      ]
    },
    {
      "cell_type": "code",
      "metadata": {
        "id": "80TJYcBnf-ru",
        "colab": {
          "base_uri": "https://localhost:8080/"
        },
        "outputId": "68e16953-07da-45a9-b562-f500136552ce"
      },
      "source": [
        "# But Bahdanau et al put emphasis on embeddings of all the words in the input (represented by hidden states) while creating the context vector. They did this by simply taking a weighted sum of the hidden states.\n",
        "tidy_targetspellcorrection[:6]\n"
      ],
      "execution_count": null,
      "outputs": [
        {
          "output_type": "execute_result",
          "data": {
            "text/plain": [
              "['no',\n",
              " 'it says here you exposed yourself to a group of freshmen girls',\n",
              " 'with the teeth of your zipper',\n",
              " 'so they tell me',\n",
              " 'so which dakota you from',\n",
              " 'i was kidding people actually live there']"
            ]
          },
          "metadata": {},
          "execution_count": 115
        }
      ]
    },
    {
      "cell_type": "code",
      "metadata": {
        "id": "U0c2EkhxpD3a"
      },
      "source": [
        "\n",
        "with open('/content/drive/MyDrive/Colab Notebooks/chatbot/target1500130000.txt', 'w') as f1:    \n",
        "    # write elements of list\n",
        "    for items in tidy_targetspellcorrection:\n",
        "        f1.write('%s\\n' %items)"
      ],
      "execution_count": null,
      "outputs": []
    },
    {
      "cell_type": "code",
      "metadata": {
        "id": "xY2KUct30zrZ"
      },
      "source": [
        "with open('/content/drive/MyDrive/Colab Notebooks/chatbot/movies_lines_cleaned.txt', 'w') as f:  \n",
        "    # write elements of list\n",
        "    for i in range(len(tidy_contextspellcorrection)):\n",
        "        f.write('%s\\n' %tidy_contextspellcorrection[i])\n",
        "        f.write('%s\\n' %tidy_targetspellcorrection[i])\n"
      ],
      "execution_count": null,
      "outputs": []
    },
    {
      "cell_type": "code",
      "metadata": {
        "id": "OzwgXKe2lFZu"
      },
      "source": [
        "lines['newcontext']= tidy_contextspellcorrection\n",
        "lines['newtarget']= tidy_targetspellcorrection\n"
      ],
      "execution_count": null,
      "outputs": []
    },
    {
      "cell_type": "code",
      "metadata": {
        "colab": {
          "base_uri": "https://localhost:8080/"
        },
        "id": "iNbwHUDNNnww",
        "outputId": "f14b0dce-0c35-452a-9c3c-82e6c97edf85"
      },
      "source": [
        "len(lines['newcontext']), len(lines['newtarget']), lines.shape"
      ],
      "execution_count": null,
      "outputs": [
        {
          "output_type": "execute_result",
          "data": {
            "text/plain": [
              "(107323, 107323, (107323, 6))"
            ]
          },
          "metadata": {},
          "execution_count": 118
        }
      ]
    },
    {
      "cell_type": "code",
      "metadata": {
        "id": "tnBGUptIp2AC"
      },
      "source": [
        "# lines['newtarget'] = lines['newtarget'].apply(lambda x : x + ' _END')"
      ],
      "execution_count": null,
      "outputs": []
    },
    {
      "cell_type": "code",
      "metadata": {
        "id": "Jx-p63mgHg24"
      },
      "source": [
        "\n",
        "aaa1= list(lines['newcontext'].values)\n",
        "bbb1= list(lines['newtarget'].values)\n"
      ],
      "execution_count": null,
      "outputs": []
    },
    {
      "cell_type": "code",
      "metadata": {
        "id": "giYpp4uCIUZ6"
      },
      "source": [
        "#creating frequency\n",
        "vocab= {}\n",
        "for i in aaa1:\n",
        "  for j in i.split():\n",
        "    if j not in vocab:\n",
        "      vocab[j]= 1\n",
        "    else:\n",
        "      vocab[j] += 1\n",
        "\n",
        "for i in bbb1:\n",
        "  for j in i.split():\n",
        "    if j not in vocab:\n",
        "      vocab[j]= 1\n",
        "    else:\n",
        "      vocab[j] += 1"
      ],
      "execution_count": null,
      "outputs": []
    },
    {
      "cell_type": "code",
      "metadata": {
        "colab": {
          "base_uri": "https://localhost:8080/"
        },
        "id": "oap5tgoII2J8",
        "outputId": "eac6181f-e56e-49fd-a090-63bad013ebf6"
      },
      "source": [
        "len(vocab)"
      ],
      "execution_count": null,
      "outputs": [
        {
          "output_type": "execute_result",
          "data": {
            "text/plain": [
              "32855"
            ]
          },
          "metadata": {},
          "execution_count": 122
        }
      ]
    },
    {
      "cell_type": "code",
      "metadata": {
        "id": "Cb0uQBWcJUjT"
      },
      "source": [
        "# its a way to find ot rare used words, we need to match with different corpus that involves differenrt languages as well\n",
        "c= []\n",
        "error= []\n",
        "for k, v in vocab.items():\n",
        "  if v >= 1 and k not in abc:\n",
        "    error.append(k)\n",
        "    c.append(v)\n"
      ],
      "execution_count": null,
      "outputs": []
    },
    {
      "cell_type": "code",
      "metadata": {
        "colab": {
          "base_uri": "https://localhost:8080/",
          "height": 163
        },
        "id": "5g4QVf6eqqbr",
        "outputId": "7873835e-6c58-48f1-e26e-b6d86c085315"
      },
      "source": [
        "movielist.index('apipoussan')"
      ],
      "execution_count": null,
      "outputs": [
        {
          "output_type": "error",
          "ename": "ValueError",
          "evalue": "ignored",
          "traceback": [
            "\u001b[0;31m---------------------------------------------------------------------------\u001b[0m",
            "\u001b[0;31mValueError\u001b[0m                                Traceback (most recent call last)",
            "\u001b[0;32m<ipython-input-147-223d57c47f76>\u001b[0m in \u001b[0;36m<module>\u001b[0;34m()\u001b[0m\n\u001b[0;32m----> 1\u001b[0;31m \u001b[0mmovielist\u001b[0m\u001b[0;34m.\u001b[0m\u001b[0mindex\u001b[0m\u001b[0;34m(\u001b[0m\u001b[0;34m'apipoussan'\u001b[0m\u001b[0;34m)\u001b[0m\u001b[0;34m\u001b[0m\u001b[0;34m\u001b[0m\u001b[0m\n\u001b[0m",
            "\u001b[0;31mValueError\u001b[0m: 'apipoussan' is not in list"
          ]
        }
      ]
    },
    {
      "cell_type": "code",
      "metadata": {
        "colab": {
          "base_uri": "https://localhost:8080/"
        },
        "id": "eXn3yvGytfKd",
        "outputId": "2f684ceb-eafb-4d17-b1f4-9ef619459425"
      },
      "source": [
        "c.index(32), error[1186]"
      ],
      "execution_count": null,
      "outputs": [
        {
          "output_type": "execute_result",
          "data": {
            "text/plain": [
              "(1187, 'midshipman')"
            ]
          },
          "metadata": {},
          "execution_count": 144
        }
      ]
    },
    {
      "cell_type": "code",
      "metadata": {
        "id": "Mloclr79ub-A"
      },
      "source": [
        "#removing all words in error from vocab and while assigning index to each word in context and target we wil have to assign few words to index of UNK"
      ],
      "execution_count": null,
      "outputs": []
    },
    {
      "cell_type": "code",
      "metadata": {
        "id": "OkjC_ydUQAcD"
      },
      "source": [
        "#assigning unique integer value to each word\n",
        "# i introduced start which increased the length of newtarget\n",
        "lines['newtarget']= lines['newtarget'].apply(lambda x: 'Start_ ' + x)\n",
        "\n"
      ],
      "execution_count": null,
      "outputs": []
    },
    {
      "cell_type": "code",
      "metadata": {
        "id": "AY2LVTRfKDSk"
      },
      "source": [
        "# totalvocab = {}\n",
        "# error= []\n",
        "# #avoiding 0 index for lstm layer\n",
        "# word_num = 1\n",
        "# totalvocab['Start_']= 0\n",
        "# for word, count in vocab.items():\n",
        "#     if count >= 1:\n",
        "#         totalvocab[word] = word_num\n",
        "#         word_num += 1\n",
        "# #above i sthe total vocab which are correct and with correct spelling"
      ],
      "execution_count": null,
      "outputs": []
    },
    {
      "cell_type": "code",
      "metadata": {
        "colab": {
          "base_uri": "https://localhost:8080/"
        },
        "id": "Jya2UUo6LmXm",
        "outputId": "93f34948-53a7-40f3-dccc-eede4bf9fe11"
      },
      "source": [
        "#avoiding 0 index for lstm layer\n",
        "len(totalvocab)# total vocab in first model was 37,000"
      ],
      "execution_count": null,
      "outputs": [
        {
          "data": {
            "text/plain": [
              "25074"
            ]
          },
          "execution_count": 111,
          "metadata": {},
          "output_type": "execute_result"
        }
      ]
    },
    {
      "cell_type": "code",
      "metadata": {
        "id": "mMvQ7C5gzIMV"
      },
      "source": [
        "movielist= list(movie_reviews.words())"
      ],
      "execution_count": null,
      "outputs": []
    },
    {
      "cell_type": "code",
      "metadata": {
        "id": "LgVg-fFEjxk7"
      },
      "source": [
        "# #below is error check\n",
        "# error= []\n",
        "# c= []\n",
        "# for word, count in vocab.items():\n",
        "#     if count >= 1 and word not in abc:\n",
        "#         error.append(word)\n",
        "#         c.append(count)\n",
        "\n"
      ],
      "execution_count": null,
      "outputs": []
    },
    {
      "cell_type": "code",
      "metadata": {
        "id": "hmxpS_dELqau"
      },
      "source": [
        "totalvocab['<UNK>']= 25074\n",
        "\n"
      ],
      "execution_count": null,
      "outputs": []
    }
  ]
}