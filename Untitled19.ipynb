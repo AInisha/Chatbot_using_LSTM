{
  "cells": [
    {
      "cell_type": "code",
      "execution_count": null,
      "metadata": {
        "id": "SQAXcgYhYN7d"
      },
      "outputs": [],
      "source": [
        "import pandas as pd\n",
        "import numpy as np"
      ]
    },
    {
      "cell_type": "code",
      "execution_count": null,
      "metadata": {
        "colab": {
          "base_uri": "https://localhost:8080/"
        },
        "id": "Igni1XaiMNuM",
        "outputId": "5f4ea127-9d0c-4290-8db7-18d7cbd67423"
      },
      "outputs": [
        {
          "output_type": "execute_result",
          "data": {
            "text/plain": [
              "['card1', 'card2', 'card3', 'card4', 'card5', 'card6']"
            ]
          },
          "metadata": {},
          "execution_count": 173
        }
      ],
      "source": [
        " [\"card{}\".format(i) for i in range(1,7)]\n",
        " "
      ]
    },
    {
      "cell_type": "code",
      "execution_count": null,
      "metadata": {
        "id": "m7xPu7YZs93K"
      },
      "outputs": [],
      "source": [
        "k1= pd.read_csv('/content/drive/MyDrive/Colab Notebooks/machine hacks/Participants_Data_PLD/train.csv')"
      ]
    },
    {
      "cell_type": "code",
      "execution_count": null,
      "metadata": {
        "colab": {
          "base_uri": "https://localhost:8080/"
        },
        "id": "srkJoyhZjBio",
        "outputId": "0e136008-baf2-448f-a397-cff3bb07fa43"
      },
      "outputs": [
        {
          "output_type": "execute_result",
          "data": {
            "text/plain": [
              "ID                              0\n",
              "Loan Amount                     0\n",
              "Funded Amount                   0\n",
              "Funded Amount Investor          0\n",
              "Term                            0\n",
              "Batch Enrolled                  0\n",
              "Interest Rate                   0\n",
              "Grade                           0\n",
              "Sub Grade                       0\n",
              "Employment Duration             0\n",
              "Home Ownership                  0\n",
              "Verification Status             0\n",
              "Payment Plan                    0\n",
              "Loan Title                      0\n",
              "Debit to Income                 0\n",
              "Delinquency - two years         0\n",
              "Inquires - six months           0\n",
              "Open Account                    0\n",
              "Public Record                   0\n",
              "Revolving Balance               0\n",
              "Revolving Utilities             0\n",
              "Total Accounts                  0\n",
              "Initial List Status             0\n",
              "Total Received Interest         0\n",
              "Total Received Late Fee         0\n",
              "Recoveries                      0\n",
              "Collection Recovery Fee         0\n",
              "Collection 12 months Medical    0\n",
              "Application Type                0\n",
              "Last week Pay                   0\n",
              "Accounts Delinquent             0\n",
              "Total Collection Amount         0\n",
              "Total Current Balance           0\n",
              "Total Revolving Credit Limit    0\n",
              "Loan Status                     0\n",
              "dtype: int64"
            ]
          },
          "metadata": {},
          "execution_count": 175
        }
      ],
      "source": [
        "k1.isnull().sum()"
      ]
    },
    {
      "cell_type": "code",
      "execution_count": null,
      "metadata": {
        "id": "U80FUPAZtK2R"
      },
      "outputs": [],
      "source": [
        "k= k1.copy()\n"
      ]
    },
    {
      "cell_type": "code",
      "execution_count": null,
      "metadata": {
        "colab": {
          "base_uri": "https://localhost:8080/",
          "height": 652
        },
        "id": "hr0lve7eX6hU",
        "outputId": "b18eac78-5c8a-4fd6-cb99-0e51184e0a32"
      },
      "outputs": [
        {
          "output_type": "execute_result",
          "data": {
            "text/html": [
              "<div>\n",
              "<style scoped>\n",
              "    .dataframe tbody tr th:only-of-type {\n",
              "        vertical-align: middle;\n",
              "    }\n",
              "\n",
              "    .dataframe tbody tr th {\n",
              "        vertical-align: top;\n",
              "    }\n",
              "\n",
              "    .dataframe thead th {\n",
              "        text-align: right;\n",
              "    }\n",
              "</style>\n",
              "<table border=\"1\" class=\"dataframe\">\n",
              "  <thead>\n",
              "    <tr style=\"text-align: right;\">\n",
              "      <th></th>\n",
              "      <th>ID</th>\n",
              "      <th>Loan Amount</th>\n",
              "      <th>Funded Amount</th>\n",
              "      <th>Funded Amount Investor</th>\n",
              "      <th>Term</th>\n",
              "      <th>Batch Enrolled</th>\n",
              "      <th>Interest Rate</th>\n",
              "      <th>Grade</th>\n",
              "      <th>Sub Grade</th>\n",
              "      <th>Employment Duration</th>\n",
              "      <th>Home Ownership</th>\n",
              "      <th>Verification Status</th>\n",
              "      <th>Payment Plan</th>\n",
              "      <th>Loan Title</th>\n",
              "      <th>Debit to Income</th>\n",
              "      <th>Delinquency - two years</th>\n",
              "      <th>Inquires - six months</th>\n",
              "      <th>Open Account</th>\n",
              "      <th>Public Record</th>\n",
              "      <th>Revolving Balance</th>\n",
              "      <th>Revolving Utilities</th>\n",
              "      <th>Total Accounts</th>\n",
              "      <th>Initial List Status</th>\n",
              "      <th>Total Received Interest</th>\n",
              "      <th>Total Received Late Fee</th>\n",
              "      <th>Recoveries</th>\n",
              "      <th>Collection Recovery Fee</th>\n",
              "      <th>Collection 12 months Medical</th>\n",
              "      <th>Application Type</th>\n",
              "      <th>Last week Pay</th>\n",
              "      <th>Accounts Delinquent</th>\n",
              "      <th>Total Collection Amount</th>\n",
              "      <th>Total Current Balance</th>\n",
              "      <th>Total Revolving Credit Limit</th>\n",
              "    </tr>\n",
              "  </thead>\n",
              "  <tbody>\n",
              "    <tr>\n",
              "      <th>0</th>\n",
              "      <td>65087372</td>\n",
              "      <td>10000</td>\n",
              "      <td>32236</td>\n",
              "      <td>12329.36286</td>\n",
              "      <td>59</td>\n",
              "      <td>BAT2522922</td>\n",
              "      <td>11.135007</td>\n",
              "      <td>B</td>\n",
              "      <td>C4</td>\n",
              "      <td>MORTGAGE</td>\n",
              "      <td>176346.62670</td>\n",
              "      <td>Not Verified</td>\n",
              "      <td>n</td>\n",
              "      <td>Debt Consolidation</td>\n",
              "      <td>16.284758</td>\n",
              "      <td>1</td>\n",
              "      <td>0</td>\n",
              "      <td>13</td>\n",
              "      <td>0</td>\n",
              "      <td>24246</td>\n",
              "      <td>74.932551</td>\n",
              "      <td>7</td>\n",
              "      <td>w</td>\n",
              "      <td>2929.646315</td>\n",
              "      <td>0.102055</td>\n",
              "      <td>2.498291</td>\n",
              "      <td>0.793724</td>\n",
              "      <td>0</td>\n",
              "      <td>INDIVIDUAL</td>\n",
              "      <td>49</td>\n",
              "      <td>0</td>\n",
              "      <td>31</td>\n",
              "      <td>311301</td>\n",
              "      <td>6619</td>\n",
              "    </tr>\n",
              "    <tr>\n",
              "      <th>1</th>\n",
              "      <td>1450153</td>\n",
              "      <td>3609</td>\n",
              "      <td>11940</td>\n",
              "      <td>12191.99692</td>\n",
              "      <td>59</td>\n",
              "      <td>BAT1586599</td>\n",
              "      <td>12.237563</td>\n",
              "      <td>C</td>\n",
              "      <td>D3</td>\n",
              "      <td>RENT</td>\n",
              "      <td>39833.92100</td>\n",
              "      <td>Source Verified</td>\n",
              "      <td>n</td>\n",
              "      <td>Debt consolidation</td>\n",
              "      <td>15.412409</td>\n",
              "      <td>0</td>\n",
              "      <td>0</td>\n",
              "      <td>12</td>\n",
              "      <td>0</td>\n",
              "      <td>812</td>\n",
              "      <td>78.297186</td>\n",
              "      <td>13</td>\n",
              "      <td>f</td>\n",
              "      <td>772.769385</td>\n",
              "      <td>0.036181</td>\n",
              "      <td>2.377215</td>\n",
              "      <td>0.974821</td>\n",
              "      <td>0</td>\n",
              "      <td>INDIVIDUAL</td>\n",
              "      <td>109</td>\n",
              "      <td>0</td>\n",
              "      <td>53</td>\n",
              "      <td>182610</td>\n",
              "      <td>20885</td>\n",
              "    </tr>\n",
              "    <tr>\n",
              "      <th>2</th>\n",
              "      <td>1969101</td>\n",
              "      <td>28276</td>\n",
              "      <td>9311</td>\n",
              "      <td>21603.22455</td>\n",
              "      <td>59</td>\n",
              "      <td>BAT2136391</td>\n",
              "      <td>12.545884</td>\n",
              "      <td>F</td>\n",
              "      <td>D4</td>\n",
              "      <td>MORTGAGE</td>\n",
              "      <td>91506.69105</td>\n",
              "      <td>Source Verified</td>\n",
              "      <td>n</td>\n",
              "      <td>Debt Consolidation</td>\n",
              "      <td>28.137619</td>\n",
              "      <td>0</td>\n",
              "      <td>0</td>\n",
              "      <td>14</td>\n",
              "      <td>0</td>\n",
              "      <td>1843</td>\n",
              "      <td>2.073040</td>\n",
              "      <td>20</td>\n",
              "      <td>w</td>\n",
              "      <td>863.324396</td>\n",
              "      <td>18.778660</td>\n",
              "      <td>4.316277</td>\n",
              "      <td>1.020075</td>\n",
              "      <td>0</td>\n",
              "      <td>INDIVIDUAL</td>\n",
              "      <td>66</td>\n",
              "      <td>0</td>\n",
              "      <td>34</td>\n",
              "      <td>89801</td>\n",
              "      <td>26155</td>\n",
              "    </tr>\n",
              "    <tr>\n",
              "      <th>3</th>\n",
              "      <td>6651430</td>\n",
              "      <td>11170</td>\n",
              "      <td>6954</td>\n",
              "      <td>17877.15585</td>\n",
              "      <td>59</td>\n",
              "      <td>BAT2428731</td>\n",
              "      <td>16.731201</td>\n",
              "      <td>C</td>\n",
              "      <td>C3</td>\n",
              "      <td>MORTGAGE</td>\n",
              "      <td>108286.57590</td>\n",
              "      <td>Source Verified</td>\n",
              "      <td>n</td>\n",
              "      <td>Debt consolidation</td>\n",
              "      <td>18.043730</td>\n",
              "      <td>1</td>\n",
              "      <td>0</td>\n",
              "      <td>7</td>\n",
              "      <td>0</td>\n",
              "      <td>13819</td>\n",
              "      <td>67.467951</td>\n",
              "      <td>12</td>\n",
              "      <td>w</td>\n",
              "      <td>288.173196</td>\n",
              "      <td>0.044131</td>\n",
              "      <td>0.107020</td>\n",
              "      <td>0.749971</td>\n",
              "      <td>0</td>\n",
              "      <td>INDIVIDUAL</td>\n",
              "      <td>39</td>\n",
              "      <td>0</td>\n",
              "      <td>40</td>\n",
              "      <td>9189</td>\n",
              "      <td>60214</td>\n",
              "    </tr>\n",
              "    <tr>\n",
              "      <th>4</th>\n",
              "      <td>14354669</td>\n",
              "      <td>16890</td>\n",
              "      <td>13226</td>\n",
              "      <td>13539.92667</td>\n",
              "      <td>59</td>\n",
              "      <td>BAT5341619</td>\n",
              "      <td>15.008300</td>\n",
              "      <td>C</td>\n",
              "      <td>D4</td>\n",
              "      <td>MORTGAGE</td>\n",
              "      <td>44234.82545</td>\n",
              "      <td>Source Verified</td>\n",
              "      <td>n</td>\n",
              "      <td>Credit card refinancing</td>\n",
              "      <td>17.209886</td>\n",
              "      <td>1</td>\n",
              "      <td>3</td>\n",
              "      <td>13</td>\n",
              "      <td>1</td>\n",
              "      <td>1544</td>\n",
              "      <td>85.250761</td>\n",
              "      <td>22</td>\n",
              "      <td>w</td>\n",
              "      <td>129.239553</td>\n",
              "      <td>19.306646</td>\n",
              "      <td>1294.818751</td>\n",
              "      <td>0.368953</td>\n",
              "      <td>0</td>\n",
              "      <td>INDIVIDUAL</td>\n",
              "      <td>18</td>\n",
              "      <td>0</td>\n",
              "      <td>430</td>\n",
              "      <td>126029</td>\n",
              "      <td>22579</td>\n",
              "    </tr>\n",
              "    <tr>\n",
              "      <th>...</th>\n",
              "      <td>...</td>\n",
              "      <td>...</td>\n",
              "      <td>...</td>\n",
              "      <td>...</td>\n",
              "      <td>...</td>\n",
              "      <td>...</td>\n",
              "      <td>...</td>\n",
              "      <td>...</td>\n",
              "      <td>...</td>\n",
              "      <td>...</td>\n",
              "      <td>...</td>\n",
              "      <td>...</td>\n",
              "      <td>...</td>\n",
              "      <td>...</td>\n",
              "      <td>...</td>\n",
              "      <td>...</td>\n",
              "      <td>...</td>\n",
              "      <td>...</td>\n",
              "      <td>...</td>\n",
              "      <td>...</td>\n",
              "      <td>...</td>\n",
              "      <td>...</td>\n",
              "      <td>...</td>\n",
              "      <td>...</td>\n",
              "      <td>...</td>\n",
              "      <td>...</td>\n",
              "      <td>...</td>\n",
              "      <td>...</td>\n",
              "      <td>...</td>\n",
              "      <td>...</td>\n",
              "      <td>...</td>\n",
              "      <td>...</td>\n",
              "      <td>...</td>\n",
              "      <td>...</td>\n",
              "    </tr>\n",
              "    <tr>\n",
              "      <th>67458</th>\n",
              "      <td>16164945</td>\n",
              "      <td>13601</td>\n",
              "      <td>6848</td>\n",
              "      <td>13175.28583</td>\n",
              "      <td>59</td>\n",
              "      <td>BAT3193689</td>\n",
              "      <td>9.408858</td>\n",
              "      <td>C</td>\n",
              "      <td>A4</td>\n",
              "      <td>MORTGAGE</td>\n",
              "      <td>83961.15003</td>\n",
              "      <td>Verified</td>\n",
              "      <td>n</td>\n",
              "      <td>Credit card refinancing</td>\n",
              "      <td>28.105127</td>\n",
              "      <td>1</td>\n",
              "      <td>0</td>\n",
              "      <td>13</td>\n",
              "      <td>0</td>\n",
              "      <td>4112</td>\n",
              "      <td>97.779389</td>\n",
              "      <td>19</td>\n",
              "      <td>w</td>\n",
              "      <td>1978.945960</td>\n",
              "      <td>0.023478</td>\n",
              "      <td>564.614852</td>\n",
              "      <td>0.865230</td>\n",
              "      <td>0</td>\n",
              "      <td>INDIVIDUAL</td>\n",
              "      <td>69</td>\n",
              "      <td>0</td>\n",
              "      <td>48</td>\n",
              "      <td>181775</td>\n",
              "      <td>34301</td>\n",
              "    </tr>\n",
              "    <tr>\n",
              "      <th>67459</th>\n",
              "      <td>35182714</td>\n",
              "      <td>8323</td>\n",
              "      <td>11046</td>\n",
              "      <td>15637.46301</td>\n",
              "      <td>59</td>\n",
              "      <td>BAT1780517</td>\n",
              "      <td>9.972104</td>\n",
              "      <td>C</td>\n",
              "      <td>B3</td>\n",
              "      <td>RENT</td>\n",
              "      <td>65491.12817</td>\n",
              "      <td>Source Verified</td>\n",
              "      <td>n</td>\n",
              "      <td>Credit card refinancing</td>\n",
              "      <td>17.694279</td>\n",
              "      <td>0</td>\n",
              "      <td>0</td>\n",
              "      <td>12</td>\n",
              "      <td>0</td>\n",
              "      <td>9737</td>\n",
              "      <td>15.690703</td>\n",
              "      <td>14</td>\n",
              "      <td>w</td>\n",
              "      <td>3100.803125</td>\n",
              "      <td>0.027095</td>\n",
              "      <td>2.015494</td>\n",
              "      <td>1.403368</td>\n",
              "      <td>0</td>\n",
              "      <td>INDIVIDUAL</td>\n",
              "      <td>14</td>\n",
              "      <td>0</td>\n",
              "      <td>37</td>\n",
              "      <td>22692</td>\n",
              "      <td>8714</td>\n",
              "    </tr>\n",
              "    <tr>\n",
              "      <th>67460</th>\n",
              "      <td>16435904</td>\n",
              "      <td>15897</td>\n",
              "      <td>32921</td>\n",
              "      <td>12329.45775</td>\n",
              "      <td>59</td>\n",
              "      <td>BAT1761981</td>\n",
              "      <td>19.650943</td>\n",
              "      <td>A</td>\n",
              "      <td>F3</td>\n",
              "      <td>MORTGAGE</td>\n",
              "      <td>34813.96985</td>\n",
              "      <td>Verified</td>\n",
              "      <td>n</td>\n",
              "      <td>Lending loan</td>\n",
              "      <td>10.295774</td>\n",
              "      <td>0</td>\n",
              "      <td>0</td>\n",
              "      <td>7</td>\n",
              "      <td>1</td>\n",
              "      <td>2195</td>\n",
              "      <td>1.500090</td>\n",
              "      <td>9</td>\n",
              "      <td>w</td>\n",
              "      <td>2691.995532</td>\n",
              "      <td>0.028212</td>\n",
              "      <td>5.673092</td>\n",
              "      <td>1.607093</td>\n",
              "      <td>0</td>\n",
              "      <td>INDIVIDUAL</td>\n",
              "      <td>137</td>\n",
              "      <td>0</td>\n",
              "      <td>17</td>\n",
              "      <td>176857</td>\n",
              "      <td>42330</td>\n",
              "    </tr>\n",
              "    <tr>\n",
              "      <th>67461</th>\n",
              "      <td>5300325</td>\n",
              "      <td>16567</td>\n",
              "      <td>4975</td>\n",
              "      <td>21353.68465</td>\n",
              "      <td>59</td>\n",
              "      <td>BAT2333412</td>\n",
              "      <td>13.169095</td>\n",
              "      <td>D</td>\n",
              "      <td>E3</td>\n",
              "      <td>OWN</td>\n",
              "      <td>96938.83564</td>\n",
              "      <td>Not Verified</td>\n",
              "      <td>n</td>\n",
              "      <td>Debt consolidation</td>\n",
              "      <td>7.614624</td>\n",
              "      <td>0</td>\n",
              "      <td>0</td>\n",
              "      <td>14</td>\n",
              "      <td>0</td>\n",
              "      <td>1172</td>\n",
              "      <td>68.481882</td>\n",
              "      <td>15</td>\n",
              "      <td>f</td>\n",
              "      <td>3659.334202</td>\n",
              "      <td>0.074508</td>\n",
              "      <td>1.157454</td>\n",
              "      <td>0.207608</td>\n",
              "      <td>0</td>\n",
              "      <td>INDIVIDUAL</td>\n",
              "      <td>73</td>\n",
              "      <td>0</td>\n",
              "      <td>61</td>\n",
              "      <td>361339</td>\n",
              "      <td>39075</td>\n",
              "    </tr>\n",
              "    <tr>\n",
              "      <th>67462</th>\n",
              "      <td>65443173</td>\n",
              "      <td>15353</td>\n",
              "      <td>29875</td>\n",
              "      <td>14207.44860</td>\n",
              "      <td>59</td>\n",
              "      <td>BAT1930365</td>\n",
              "      <td>16.034631</td>\n",
              "      <td>B</td>\n",
              "      <td>D1</td>\n",
              "      <td>MORTGAGE</td>\n",
              "      <td>105123.15580</td>\n",
              "      <td>Verified</td>\n",
              "      <td>n</td>\n",
              "      <td>Debt consolidation</td>\n",
              "      <td>16.052112</td>\n",
              "      <td>0</td>\n",
              "      <td>0</td>\n",
              "      <td>30</td>\n",
              "      <td>0</td>\n",
              "      <td>8762</td>\n",
              "      <td>81.692328</td>\n",
              "      <td>16</td>\n",
              "      <td>f</td>\n",
              "      <td>1324.255922</td>\n",
              "      <td>0.000671</td>\n",
              "      <td>1.856480</td>\n",
              "      <td>0.366386</td>\n",
              "      <td>0</td>\n",
              "      <td>INDIVIDUAL</td>\n",
              "      <td>54</td>\n",
              "      <td>0</td>\n",
              "      <td>47</td>\n",
              "      <td>196960</td>\n",
              "      <td>66060</td>\n",
              "    </tr>\n",
              "  </tbody>\n",
              "</table>\n",
              "<p>67463 rows × 34 columns</p>\n",
              "</div>"
            ],
            "text/plain": [
              "             ID  ...  Total Revolving Credit Limit\n",
              "0      65087372  ...                          6619\n",
              "1       1450153  ...                         20885\n",
              "2       1969101  ...                         26155\n",
              "3       6651430  ...                         60214\n",
              "4      14354669  ...                         22579\n",
              "...         ...  ...                           ...\n",
              "67458  16164945  ...                         34301\n",
              "67459  35182714  ...                          8714\n",
              "67460  16435904  ...                         42330\n",
              "67461   5300325  ...                         39075\n",
              "67462  65443173  ...                         66060\n",
              "\n",
              "[67463 rows x 34 columns]"
            ]
          },
          "metadata": {},
          "execution_count": 177
        }
      ],
      "source": [
        "k.iloc[:,:-1]\n"
      ]
    },
    {
      "cell_type": "code",
      "execution_count": null,
      "metadata": {
        "colab": {
          "base_uri": "https://localhost:8080/"
        },
        "id": "urv8bpK9Huws",
        "outputId": "b4b1a22f-05fc-4650-fc56-0bc1b6cceed6"
      },
      "outputs": [
        {
          "output_type": "execute_result",
          "data": {
            "text/plain": [
              "(0, (67463, 35))"
            ]
          },
          "metadata": {},
          "execution_count": 178
        }
      ],
      "source": [
        "#drop null values\n",
        "k.isnull().sum()[k.isnull().sum()== True].count(), k.shape\n"
      ]
    },
    {
      "cell_type": "code",
      "execution_count": null,
      "metadata": {
        "colab": {
          "base_uri": "https://localhost:8080/"
        },
        "id": "NjJdR0ZFceMG",
        "outputId": "7477b478-5726-41ee-9738-9baf6a77072b"
      },
      "outputs": [
        {
          "output_type": "execute_result",
          "data": {
            "text/plain": [
              "ID                              0\n",
              "Loan Amount                     0\n",
              "Funded Amount                   0\n",
              "Funded Amount Investor          0\n",
              "Term                            0\n",
              "Batch Enrolled                  0\n",
              "Interest Rate                   0\n",
              "Grade                           0\n",
              "Sub Grade                       0\n",
              "Employment Duration             0\n",
              "Home Ownership                  0\n",
              "Verification Status             0\n",
              "Payment Plan                    0\n",
              "Loan Title                      0\n",
              "Debit to Income                 0\n",
              "Delinquency - two years         0\n",
              "Inquires - six months           0\n",
              "Open Account                    0\n",
              "Public Record                   0\n",
              "Revolving Balance               0\n",
              "Revolving Utilities             0\n",
              "Total Accounts                  0\n",
              "Initial List Status             0\n",
              "Total Received Interest         0\n",
              "Total Received Late Fee         0\n",
              "Recoveries                      0\n",
              "Collection Recovery Fee         0\n",
              "Collection 12 months Medical    0\n",
              "Application Type                0\n",
              "Last week Pay                   0\n",
              "Accounts Delinquent             0\n",
              "Total Collection Amount         0\n",
              "Total Current Balance           0\n",
              "Total Revolving Credit Limit    0\n",
              "Loan Status                     0\n",
              "dtype: int64"
            ]
          },
          "metadata": {},
          "execution_count": 179
        }
      ],
      "source": [
        "k.isnull().sum()"
      ]
    },
    {
      "cell_type": "code",
      "execution_count": null,
      "metadata": {
        "id": "wH0ogfNODutE"
      },
      "outputs": [],
      "source": [
        "k.dropna(axis= 0, inplace= True)"
      ]
    },
    {
      "cell_type": "code",
      "execution_count": null,
      "metadata": {
        "id": "zHTjM39htL9w"
      },
      "outputs": [],
      "source": [
        "test= pd.read_csv('/content/drive/MyDrive/Colab Notebooks/machine hacks/Participants_Data_PLD/test.csv')"
      ]
    },
    {
      "cell_type": "code",
      "execution_count": null,
      "metadata": {
        "colab": {
          "base_uri": "https://localhost:8080/"
        },
        "id": "K3F_EKWTcpA4",
        "outputId": "7f9c3a1b-9fe5-4208-e810-89153769ac9a"
      },
      "outputs": [
        {
          "output_type": "execute_result",
          "data": {
            "text/plain": [
              "ID                                  0\n",
              "Loan Amount                         0\n",
              "Funded Amount                       0\n",
              "Funded Amount Investor              0\n",
              "Term                                0\n",
              "Batch Enrolled                      0\n",
              "Interest Rate                       0\n",
              "Grade                               0\n",
              "Sub Grade                           0\n",
              "Employment Duration                 0\n",
              "Home Ownership                      0\n",
              "Verification Status                 0\n",
              "Payment Plan                        0\n",
              "Loan Title                          0\n",
              "Debit to Income                     0\n",
              "Delinquency - two years             0\n",
              "Inquires - six months               0\n",
              "Open Account                        0\n",
              "Public Record                       0\n",
              "Revolving Balance                   0\n",
              "Revolving Utilities                 0\n",
              "Total Accounts                      0\n",
              "Initial List Status                 0\n",
              "Total Received Interest             0\n",
              "Total Received Late Fee             0\n",
              "Recoveries                          0\n",
              "Collection Recovery Fee             0\n",
              "Collection 12 months Medical        0\n",
              "Application Type                    0\n",
              "Last week Pay                       0\n",
              "Accounts Delinquent                 0\n",
              "Total Collection Amount             0\n",
              "Total Current Balance               0\n",
              "Total Revolving Credit Limit        0\n",
              "Loan Status                     28913\n",
              "dtype: int64"
            ]
          },
          "metadata": {},
          "execution_count": 182
        }
      ],
      "source": [
        "test.isnull().sum()"
      ]
    },
    {
      "cell_type": "code",
      "execution_count": null,
      "metadata": {
        "colab": {
          "base_uri": "https://localhost:8080/"
        },
        "id": "MWWgw66UtV1c",
        "outputId": "5c4ea4f4-b32a-4a8f-875e-506ee560362c"
      },
      "outputs": [
        {
          "output_type": "stream",
          "name": "stdout",
          "text": [
            "0    28885\n",
            "1       28\n",
            "Name: Accounts Delinquent, dtype: int64\n",
            "n    28913\n",
            "Name: Payment Plan, dtype: int64\n"
          ]
        }
      ],
      "source": [
        "#below cane be removed\n",
        "print(test['Accounts Delinquent'].value_counts())\n",
        "print(test['Payment Plan'].value_counts())"
      ]
    },
    {
      "cell_type": "code",
      "execution_count": null,
      "metadata": {
        "colab": {
          "base_uri": "https://localhost:8080/"
        },
        "id": "W_2Mt9sMGL5S",
        "outputId": "21c5e838-45b3-4dc7-ae69-628b21582675"
      },
      "outputs": [
        {
          "output_type": "stream",
          "name": "stdout",
          "text": [
            "['Batch Enrolled' 'Grade' 'Sub Grade' 'Employment Duration'\n",
            " 'Verification Status' 'Payment Plan' 'Loan Title' 'Initial List Status'\n",
            " 'Application Type']\n",
            "['Batch Enrolled' 'Grade' 'Sub Grade' 'Employment Duration'\n",
            " 'Verification Status' 'Payment Plan' 'Loan Title' 'Initial List Status'\n",
            " 'Application Type']\n"
          ]
        }
      ],
      "source": [
        "#below are categorical data hence we do seperate analysis\n",
        "print(k.select_dtypes(include=['object']).columns.values)\n",
        "print(test.select_dtypes(include=['object']).columns.values)"
      ]
    },
    {
      "cell_type": "code",
      "execution_count": null,
      "metadata": {
        "colab": {
          "base_uri": "https://localhost:8080/",
          "height": 143
        },
        "id": "bpl0RPmcGRtw",
        "outputId": "a942bd26-b615-4ce5-c0b5-24333f3a11e8"
      },
      "outputs": [
        {
          "output_type": "execute_result",
          "data": {
            "text/html": [
              "<div>\n",
              "<style scoped>\n",
              "    .dataframe tbody tr th:only-of-type {\n",
              "        vertical-align: middle;\n",
              "    }\n",
              "\n",
              "    .dataframe tbody tr th {\n",
              "        vertical-align: top;\n",
              "    }\n",
              "\n",
              "    .dataframe thead th {\n",
              "        text-align: right;\n",
              "    }\n",
              "</style>\n",
              "<table border=\"1\" class=\"dataframe\">\n",
              "  <thead>\n",
              "    <tr style=\"text-align: right;\">\n",
              "      <th></th>\n",
              "      <th>Batch Enrolled</th>\n",
              "      <th>Grade</th>\n",
              "      <th>Sub Grade</th>\n",
              "      <th>Employment Duration</th>\n",
              "      <th>Verification Status</th>\n",
              "      <th>Payment Plan</th>\n",
              "      <th>Loan Title</th>\n",
              "      <th>Initial List Status</th>\n",
              "      <th>Application Type</th>\n",
              "    </tr>\n",
              "  </thead>\n",
              "  <tbody>\n",
              "    <tr>\n",
              "      <th>0</th>\n",
              "      <td>BAT2522922</td>\n",
              "      <td>B</td>\n",
              "      <td>C4</td>\n",
              "      <td>MORTGAGE</td>\n",
              "      <td>Not Verified</td>\n",
              "      <td>n</td>\n",
              "      <td>Debt Consolidation</td>\n",
              "      <td>w</td>\n",
              "      <td>INDIVIDUAL</td>\n",
              "    </tr>\n",
              "    <tr>\n",
              "      <th>1</th>\n",
              "      <td>BAT1586599</td>\n",
              "      <td>C</td>\n",
              "      <td>D3</td>\n",
              "      <td>RENT</td>\n",
              "      <td>Source Verified</td>\n",
              "      <td>n</td>\n",
              "      <td>Debt consolidation</td>\n",
              "      <td>f</td>\n",
              "      <td>INDIVIDUAL</td>\n",
              "    </tr>\n",
              "    <tr>\n",
              "      <th>2</th>\n",
              "      <td>BAT2136391</td>\n",
              "      <td>F</td>\n",
              "      <td>D4</td>\n",
              "      <td>MORTGAGE</td>\n",
              "      <td>Source Verified</td>\n",
              "      <td>n</td>\n",
              "      <td>Debt Consolidation</td>\n",
              "      <td>w</td>\n",
              "      <td>INDIVIDUAL</td>\n",
              "    </tr>\n",
              "  </tbody>\n",
              "</table>\n",
              "</div>"
            ],
            "text/plain": [
              "  Batch Enrolled Grade  ... Initial List Status Application Type\n",
              "0     BAT2522922     B  ...                   w       INDIVIDUAL\n",
              "1     BAT1586599     C  ...                   f       INDIVIDUAL\n",
              "2     BAT2136391     F  ...                   w       INDIVIDUAL\n",
              "\n",
              "[3 rows x 9 columns]"
            ]
          },
          "metadata": {},
          "execution_count": 185
        }
      ],
      "source": [
        "k[['Batch Enrolled', 'Grade', 'Sub Grade', 'Employment Duration',\n",
        "       'Verification Status', 'Payment Plan', 'Loan Title',\n",
        "       'Initial List Status', 'Application Type']].head(3)"
      ]
    },
    {
      "cell_type": "code",
      "execution_count": null,
      "metadata": {
        "colab": {
          "base_uri": "https://localhost:8080/"
        },
        "id": "fZGlqmPtGi3q",
        "outputId": "e9fbbf6b-ae22-46d7-f7fe-a104205eaf23"
      },
      "outputs": [
        {
          "output_type": "stream",
          "name": "stdout",
          "text": [
            "41 7 35 3 3 1 109 2 2\n"
          ]
        }
      ],
      "source": [
        "#below are number of value in each categorical columns\n",
        "print(len(k['Batch Enrolled'].value_counts()), len(k['Grade'].value_counts()), \n",
        "      len(k['Sub Grade'].value_counts()), len(k['Employment Duration'].value_counts()),\n",
        "      len(k['Verification Status'].value_counts()),len(k['Payment Plan'].value_counts()),\n",
        "      len(k['Loan Title'].value_counts()), len(k['Initial List Status'].value_counts()), \n",
        "      len(k['Application Type'].value_counts()))"
      ]
    },
    {
      "cell_type": "code",
      "execution_count": null,
      "metadata": {
        "id": "Ede3YpkStXx0"
      },
      "outputs": [],
      "source": [
        "# pd.read_csv('/content/submission.csv').tail(10)"
      ]
    },
    {
      "cell_type": "code",
      "execution_count": null,
      "metadata": {
        "id": "0C8F9NvrHR6B"
      },
      "outputs": [],
      "source": [
        "# savec= []\n",
        "# for column in k.columns:\n",
        "#   if len(set(k[column]))==1:\n",
        "#     k.drop(labels= column, axis= 1, inplace =True)\n",
        "#     savec.append(column)"
      ]
    },
    {
      "cell_type": "code",
      "execution_count": null,
      "metadata": {
        "colab": {
          "base_uri": "https://localhost:8080/"
        },
        "id": "mNqJ0CyTHr0A",
        "outputId": "dc31b67d-b82b-42b0-af0c-c11efc3732f8"
      },
      "outputs": [
        {
          "output_type": "execute_result",
          "data": {
            "text/plain": [
              "(67463, 35)"
            ]
          },
          "metadata": {},
          "execution_count": 189
        }
      ],
      "source": [
        "# k.shape, savec# use it to remove in test data as well\n",
        "k.shape"
      ]
    },
    {
      "cell_type": "code",
      "execution_count": null,
      "metadata": {
        "id": "XOE_VfgAMd4Z"
      },
      "outputs": [],
      "source": [
        "catcolumns=k.select_dtypes(include= ['object']).columns.tolist()"
      ]
    },
    {
      "cell_type": "code",
      "execution_count": null,
      "metadata": {
        "colab": {
          "base_uri": "https://localhost:8080/"
        },
        "id": "58rqvYJWdIwc",
        "outputId": "072bf6bb-a91d-4e5a-b3bc-54f0cf9c58cf"
      },
      "outputs": [
        {
          "output_type": "stream",
          "name": "stdout",
          "text": [
            "Application Type\n"
          ]
        }
      ],
      "source": [
        "for i in catcolumns:\n",
        "  if (test[i].value_counts()/len(test) < 0.1).any() and len(test[i].value_counts())< 3:\n",
        "    print(i)\n"
      ]
    },
    {
      "cell_type": "code",
      "execution_count": null,
      "metadata": {
        "colab": {
          "base_uri": "https://localhost:8080/"
        },
        "id": "fCG0OzCLl9bP",
        "outputId": "134fc5df-e839-4d85-a70a-75c2752ec04d"
      },
      "outputs": [
        {
          "output_type": "execute_result",
          "data": {
            "text/plain": [
              "(1, 1)"
            ]
          },
          "metadata": {},
          "execution_count": 192
        }
      ],
      "source": [
        "len(k['Payment Plan'].value_counts()), len(test['Payment Plan'].value_counts())"
      ]
    },
    {
      "cell_type": "code",
      "execution_count": null,
      "metadata": {
        "id": "Od9eKD0NcvdW"
      },
      "outputs": [],
      "source": [
        "def freqoncategory(df, acre):\n",
        "  drop_columns= []\n",
        "  print(df[catcolumns].describe().T)\n",
        "  for i in catcolumns:\n",
        "    # print(df[i].value_counts()/len(k)*100)\n",
        "    if (df[i].value_counts()/len(k) < 0.1).any() and len(df[i].value_counts())< 3:\n",
        "      drop_columns.append(i)\n",
        "    if len(set(df[i]))==1:\n",
        "      drop_columns.append(i)\n",
        "\n",
        "      \n",
        "  if acre:\n",
        "    df.drop(labels= drop_columns, axis=1, inplace= True)\n",
        "    return df, drop_columns\n",
        "  \n",
        "  else:\n",
        "    print(drop_columns)\n",
        "    return drop_columns\n",
        "\n",
        "\n"
      ]
    },
    {
      "cell_type": "code",
      "execution_count": null,
      "metadata": {
        "colab": {
          "base_uri": "https://localhost:8080/"
        },
        "id": "jlPVIZ9PPtjG",
        "outputId": "924b782d-3751-4d5a-c618-7b5f736198b7"
      },
      "outputs": [
        {
          "output_type": "stream",
          "name": "stdout",
          "text": [
            "                     count unique                 top   freq\n",
            "Batch Enrolled       28913     41          BAT3873588   1623\n",
            "Grade                28913      7                   C   8104\n",
            "Sub Grade            28913     35                  B4   1902\n",
            "Employment Duration  28913      3            MORTGAGE  15530\n",
            "Verification Status  28913      3     Source Verified  13626\n",
            "Payment Plan         28913      1                   n  28913\n",
            "Loan Title           28913    109  Debt consolidation  12259\n",
            "Initial List Status  28913      2                   w  15848\n",
            "Application Type     28913      2          INDIVIDUAL  28883\n",
            "['Payment Plan', 'Application Type']\n",
            "['Payment Plan', 'Application Type']\n",
            "                     count unique                      top   freq\n",
            "Batch Enrolled       67463     41               BAT3873588   3626\n",
            "Grade                67463      7                        C  19085\n",
            "Sub Grade            67463     35                       B4   4462\n",
            "Employment Duration  67463      3                 MORTGAGE  36351\n",
            "Verification Status  67463      3          Source Verified  33036\n",
            "Payment Plan         67463      1                        n  67463\n",
            "Loan Title           67463    109  Credit card refinancing  30728\n",
            "Initial List Status  67463      2                        w  36299\n",
            "Application Type     67463      2               INDIVIDUAL  67340\n",
            "['Payment Plan', 'Application Type']\n",
            "['Payment Plan', 'Application Type']\n"
          ]
        }
      ],
      "source": [
        "print(freqoncategory(test, False))\n",
        "print(freqoncategory(k, False))\n"
      ]
    },
    {
      "cell_type": "code",
      "execution_count": null,
      "metadata": {
        "colab": {
          "base_uri": "https://localhost:8080/"
        },
        "id": "---czkCKHy5-",
        "outputId": "c7f1004f-95f0-4bdc-8cd9-961b7c5bfabd"
      },
      "outputs": [
        {
          "output_type": "stream",
          "name": "stdout",
          "text": [
            "                     count unique                      top   freq\n",
            "Batch Enrolled       67463     41               BAT3873588   3626\n",
            "Grade                67463      7                        C  19085\n",
            "Sub Grade            67463     35                       B4   4462\n",
            "Employment Duration  67463      3                 MORTGAGE  36351\n",
            "Verification Status  67463      3          Source Verified  33036\n",
            "Payment Plan         67463      1                        n  67463\n",
            "Loan Title           67463    109  Credit card refinancing  30728\n",
            "Initial List Status  67463      2                        w  36299\n",
            "Application Type     67463      2               INDIVIDUAL  67340\n"
          ]
        }
      ],
      "source": [
        "k, dropcolumns= freqoncategory(k, True)\n",
        "# freqoncategory(test, False)\n",
        "test.drop(labels= dropcolumns, axis= 1, inplace= True)"
      ]
    },
    {
      "cell_type": "code",
      "execution_count": null,
      "metadata": {
        "colab": {
          "base_uri": "https://localhost:8080/"
        },
        "id": "s6pY1tMBQCEv",
        "outputId": "4cc596e7-ee98-4d44-cfdd-dead9220d43b"
      },
      "outputs": [
        {
          "output_type": "execute_result",
          "data": {
            "text/plain": [
              "((28913, 33), (67463, 33))"
            ]
          },
          "metadata": {},
          "execution_count": 196
        }
      ],
      "source": [
        "test.shape, k.shape\n"
      ]
    },
    {
      "cell_type": "code",
      "execution_count": null,
      "metadata": {
        "id": "w_eTVqbXHzAs"
      },
      "outputs": [],
      "source": [
        "# sum((newdf['Loan Title'].value_counts()/len(k)*100).values[3:])\n",
        "\n"
      ]
    },
    {
      "cell_type": "code",
      "execution_count": null,
      "metadata": {
        "colab": {
          "base_uri": "https://localhost:8080/",
          "height": 175
        },
        "id": "Yk2Zx4aNrENd",
        "outputId": "bb8a3d56-6d83-422d-a5bf-366cbde094ef"
      },
      "outputs": [
        {
          "output_type": "execute_result",
          "data": {
            "text/html": [
              "<div>\n",
              "<style scoped>\n",
              "    .dataframe tbody tr th:only-of-type {\n",
              "        vertical-align: middle;\n",
              "    }\n",
              "\n",
              "    .dataframe tbody tr th {\n",
              "        vertical-align: top;\n",
              "    }\n",
              "\n",
              "    .dataframe thead th {\n",
              "        text-align: right;\n",
              "    }\n",
              "</style>\n",
              "<table border=\"1\" class=\"dataframe\">\n",
              "  <thead>\n",
              "    <tr style=\"text-align: right;\">\n",
              "      <th></th>\n",
              "      <th>Batch Enrolled</th>\n",
              "      <th>Grade</th>\n",
              "      <th>Sub Grade</th>\n",
              "      <th>Employment Duration</th>\n",
              "      <th>Verification Status</th>\n",
              "      <th>Loan Title</th>\n",
              "      <th>Initial List Status</th>\n",
              "    </tr>\n",
              "  </thead>\n",
              "  <tbody>\n",
              "    <tr>\n",
              "      <th>count</th>\n",
              "      <td>67463</td>\n",
              "      <td>67463</td>\n",
              "      <td>67463</td>\n",
              "      <td>67463</td>\n",
              "      <td>67463</td>\n",
              "      <td>67463</td>\n",
              "      <td>67463</td>\n",
              "    </tr>\n",
              "    <tr>\n",
              "      <th>unique</th>\n",
              "      <td>41</td>\n",
              "      <td>7</td>\n",
              "      <td>35</td>\n",
              "      <td>3</td>\n",
              "      <td>3</td>\n",
              "      <td>109</td>\n",
              "      <td>2</td>\n",
              "    </tr>\n",
              "    <tr>\n",
              "      <th>top</th>\n",
              "      <td>BAT3873588</td>\n",
              "      <td>C</td>\n",
              "      <td>B4</td>\n",
              "      <td>MORTGAGE</td>\n",
              "      <td>Source Verified</td>\n",
              "      <td>Credit card refinancing</td>\n",
              "      <td>w</td>\n",
              "    </tr>\n",
              "    <tr>\n",
              "      <th>freq</th>\n",
              "      <td>3626</td>\n",
              "      <td>19085</td>\n",
              "      <td>4462</td>\n",
              "      <td>36351</td>\n",
              "      <td>33036</td>\n",
              "      <td>30728</td>\n",
              "      <td>36299</td>\n",
              "    </tr>\n",
              "  </tbody>\n",
              "</table>\n",
              "</div>"
            ],
            "text/plain": [
              "       Batch Enrolled  Grade  ...               Loan Title Initial List Status\n",
              "count           67463  67463  ...                    67463               67463\n",
              "unique             41      7  ...                      109                   2\n",
              "top        BAT3873588      C  ...  Credit card refinancing                   w\n",
              "freq             3626  19085  ...                    30728               36299\n",
              "\n",
              "[4 rows x 7 columns]"
            ]
          },
          "metadata": {},
          "execution_count": 198
        }
      ],
      "source": [
        "k[['Batch Enrolled', 'Grade', 'Sub Grade', 'Employment Duration',\n",
        "       'Verification Status', 'Loan Title',\n",
        "       'Initial List Status']].describe()"
      ]
    },
    {
      "cell_type": "code",
      "execution_count": null,
      "metadata": {
        "colab": {
          "base_uri": "https://localhost:8080/"
        },
        "id": "dfmRWj9lQvUI",
        "outputId": "96fa16ba-ea77-4858-a573-ed1126a6c5bb"
      },
      "outputs": [
        {
          "output_type": "stream",
          "name": "stdout",
          "text": [
            "Requirement already satisfied: catboost in /usr/local/lib/python3.7/dist-packages (1.0.3)\n",
            "Requirement already satisfied: plotly in /usr/local/lib/python3.7/dist-packages (from catboost) (4.4.1)\n",
            "Requirement already satisfied: numpy>=1.16.0 in /usr/local/lib/python3.7/dist-packages (from catboost) (1.19.5)\n",
            "Requirement already satisfied: pandas>=0.24.0 in /usr/local/lib/python3.7/dist-packages (from catboost) (1.1.5)\n",
            "Requirement already satisfied: scipy in /usr/local/lib/python3.7/dist-packages (from catboost) (1.4.1)\n",
            "Requirement already satisfied: matplotlib in /usr/local/lib/python3.7/dist-packages (from catboost) (3.2.2)\n",
            "Requirement already satisfied: six in /usr/local/lib/python3.7/dist-packages (from catboost) (1.15.0)\n",
            "Requirement already satisfied: graphviz in /usr/local/lib/python3.7/dist-packages (from catboost) (0.10.1)\n",
            "Requirement already satisfied: python-dateutil>=2.7.3 in /usr/local/lib/python3.7/dist-packages (from pandas>=0.24.0->catboost) (2.8.2)\n",
            "Requirement already satisfied: pytz>=2017.2 in /usr/local/lib/python3.7/dist-packages (from pandas>=0.24.0->catboost) (2018.9)\n",
            "Requirement already satisfied: pyparsing!=2.0.4,!=2.1.2,!=2.1.6,>=2.0.1 in /usr/local/lib/python3.7/dist-packages (from matplotlib->catboost) (3.0.6)\n",
            "Requirement already satisfied: kiwisolver>=1.0.1 in /usr/local/lib/python3.7/dist-packages (from matplotlib->catboost) (1.3.2)\n",
            "Requirement already satisfied: cycler>=0.10 in /usr/local/lib/python3.7/dist-packages (from matplotlib->catboost) (0.11.0)\n",
            "Requirement already satisfied: retrying>=1.3.3 in /usr/local/lib/python3.7/dist-packages (from plotly->catboost) (1.3.3)\n"
          ]
        }
      ],
      "source": [
        "!pip install catboost"
      ]
    },
    {
      "cell_type": "code",
      "execution_count": null,
      "metadata": {
        "colab": {
          "base_uri": "https://localhost:8080/"
        },
        "id": "ZJ6r1HQvRmFv",
        "outputId": "439fd64d-07a8-4f31-d6c3-cc31581a8d0b"
      },
      "outputs": [
        {
          "output_type": "stream",
          "name": "stdout",
          "text": [
            "1.0.3\n"
          ]
        }
      ],
      "source": [
        "import catboost\n",
        "print(catboost.__version__)\n",
        "from sklearn.pipeline import make_pipeline\n",
        "from sklearn.preprocessing import LabelEncoder\n",
        "# catcolumns1= ['Batch Enrolled', 'Grade', 'Sub Grade', 'Employment Duration',\n",
        "#        'Verification Status', 'Loan Title',\n",
        "#        'Initial List Status']\n",
        "# catindex= [k.columns.get_loc(col) for col in catcolumns1]\n",
        "def mapping(df, check1mapping, check2fortest):\n",
        "  newcol= ['Grade', 'Employment Duration', 'Verification Status', 'Initial List Status']\n",
        "  if check1mapping:\n",
        "    df['Grade'] = df['Grade'].map({'A':7, 'B':6, 'C':5, 'D':4, 'E':3, 'F':2, 'G':1})\n",
        "    df['Employment Duration']= df['Employment Duration'].map({'MORTGAGE':1, 'OWN':3, 'RENT':2})\n",
        "    df['Verification Status']= df['Verification Status'].map({'Not Verified':1, 'Source Verified':2, 'Verified':3})\n",
        "    df['Initial List Status']= df['Initial List Status'].map({'f':2, 'w':1})\n",
        "    return df\n",
        "\n",
        "  if check2fortest:\n",
        "    for i in newcol:\n",
        "      if not set(k[newcol]).difference(set(test[newcol])):\n",
        "        print('pass')\n",
        "    return\n",
        "  \n",
        "\n",
        "\n",
        "\n",
        "# above creates same index for test hence not creating any function"
      ]
    },
    {
      "cell_type": "code",
      "execution_count": null,
      "metadata": {
        "colab": {
          "base_uri": "https://localhost:8080/"
        },
        "id": "5VMdOh5CpWMk",
        "outputId": "d9624d02-5cc6-4449-a7d4-714989b4aee4"
      },
      "outputs": [
        {
          "output_type": "execute_result",
          "data": {
            "text/plain": [
              "['Batch Enrolled',\n",
              " 'Grade',\n",
              " 'Sub Grade',\n",
              " 'Employment Duration',\n",
              " 'Verification Status',\n",
              " 'Payment Plan',\n",
              " 'Loan Title',\n",
              " 'Initial List Status',\n",
              " 'Application Type']"
            ]
          },
          "metadata": {},
          "execution_count": 201
        }
      ],
      "source": [
        "catcolumns"
      ]
    },
    {
      "cell_type": "code",
      "execution_count": null,
      "metadata": {
        "id": "eUSIZGaSfiQt"
      },
      "outputs": [],
      "source": [
        "k2= k1.copy()\n",
        "k= mapping(k, True, False)\n",
        "# test[['Grade', 'Employment Duration', 'Verification Status', 'Initial List Status']]= mapping(test[['Grade', 'Employment Duration', 'Verification Status', 'Initial List Status']], True, False)\n",
        "# mapping(test[catcolumns1], False, True)\n",
        "\n"
      ]
    },
    {
      "cell_type": "code",
      "execution_count": null,
      "metadata": {
        "colab": {
          "base_uri": "https://localhost:8080/"
        },
        "id": "6TYHrq-PiwI4",
        "outputId": "d62ebe21-36ae-467d-c560-06012b80498d"
      },
      "outputs": [
        {
          "output_type": "execute_result",
          "data": {
            "text/plain": [
              "(         ID  Loan Amount  ...  Total Revolving Credit Limit  Loan Status\n",
              " 0  65087372        10000  ...                          6619            0\n",
              " 1   1450153         3609  ...                         20885            0\n",
              " 2   1969101        28276  ...                         26155            0\n",
              " 3   6651430        11170  ...                         60214            0\n",
              " 4  14354669        16890  ...                         22579            0\n",
              " \n",
              " [5 rows x 33 columns], (67463, 33))"
            ]
          },
          "metadata": {},
          "execution_count": 203
        }
      ],
      "source": [
        "k.head(), k.shape"
      ]
    },
    {
      "cell_type": "code",
      "execution_count": null,
      "metadata": {
        "colab": {
          "base_uri": "https://localhost:8080/"
        },
        "id": "qmOlNSwOfsOj",
        "outputId": "340dbcf4-1875-49ca-a0a5-d1cab01698d2"
      },
      "outputs": [
        {
          "output_type": "stream",
          "name": "stdout",
          "text": [
            "pass\n",
            "pass\n",
            "pass\n",
            "pass\n"
          ]
        }
      ],
      "source": [
        "#'Grade', 'Employment Duration', 'Verification Status', 'Initial List Status'\n",
        "mapping(test[['Grade', 'Employment Duration', 'Verification Status', 'Initial List Status']], False, True)\n",
        "test= mapping(test, True, False)"
      ]
    },
    {
      "cell_type": "code",
      "execution_count": null,
      "metadata": {
        "colab": {
          "base_uri": "https://localhost:8080/"
        },
        "id": "UAAgU-T0jqrw",
        "outputId": "5e56a545-bbc4-4f3d-e7de-9a1f2401ad5b"
      },
      "outputs": [
        {
          "output_type": "execute_result",
          "data": {
            "text/plain": [
              "ID                                  0\n",
              "Loan Amount                         0\n",
              "Funded Amount                       0\n",
              "Funded Amount Investor              0\n",
              "Term                                0\n",
              "Batch Enrolled                      0\n",
              "Interest Rate                       0\n",
              "Grade                               0\n",
              "Sub Grade                           0\n",
              "Employment Duration                 0\n",
              "Home Ownership                      0\n",
              "Verification Status                 0\n",
              "Loan Title                          0\n",
              "Debit to Income                     0\n",
              "Delinquency - two years             0\n",
              "Inquires - six months               0\n",
              "Open Account                        0\n",
              "Public Record                       0\n",
              "Revolving Balance                   0\n",
              "Revolving Utilities                 0\n",
              "Total Accounts                      0\n",
              "Initial List Status                 0\n",
              "Total Received Interest             0\n",
              "Total Received Late Fee             0\n",
              "Recoveries                          0\n",
              "Collection Recovery Fee             0\n",
              "Collection 12 months Medical        0\n",
              "Last week Pay                       0\n",
              "Accounts Delinquent                 0\n",
              "Total Collection Amount             0\n",
              "Total Current Balance               0\n",
              "Total Revolving Credit Limit        0\n",
              "Loan Status                     28913\n",
              "dtype: int64"
            ]
          },
          "metadata": {},
          "execution_count": 205
        }
      ],
      "source": [
        "test.isnull().sum()"
      ]
    },
    {
      "cell_type": "code",
      "execution_count": null,
      "metadata": {
        "id": "g8s7F3VAqEGq"
      },
      "outputs": [],
      "source": [
        "##below is only used for catboost\n",
        "e= LabelEncoder()\n",
        "test2=k[['Batch Enrolled',\t'Sub Grade', 'Loan Title']].apply(e.fit_transform)"
      ]
    },
    {
      "cell_type": "code",
      "execution_count": null,
      "metadata": {
        "id": "v9iD4_bSlQij"
      },
      "outputs": [],
      "source": [
        "\n",
        "#unseen batch id in test\n",
        "# unseen=test[['Batch Enrolled',\t'Sub Grade', 'Loan Title']].apply(e.transform)\n",
        "\n"
      ]
    },
    {
      "cell_type": "code",
      "execution_count": null,
      "metadata": {
        "colab": {
          "base_uri": "https://localhost:8080/",
          "height": 112
        },
        "id": "6qeIO8janFvX",
        "outputId": "df71ef0c-6222-4155-bffb-8663548dbaf6"
      },
      "outputs": [
        {
          "output_type": "execute_result",
          "data": {
            "text/html": [
              "<div>\n",
              "<style scoped>\n",
              "    .dataframe tbody tr th:only-of-type {\n",
              "        vertical-align: middle;\n",
              "    }\n",
              "\n",
              "    .dataframe tbody tr th {\n",
              "        vertical-align: top;\n",
              "    }\n",
              "\n",
              "    .dataframe thead th {\n",
              "        text-align: right;\n",
              "    }\n",
              "</style>\n",
              "<table border=\"1\" class=\"dataframe\">\n",
              "  <thead>\n",
              "    <tr style=\"text-align: right;\">\n",
              "      <th></th>\n",
              "      <th>Batch Enrolled</th>\n",
              "      <th>Sub Grade</th>\n",
              "      <th>Loan Title</th>\n",
              "    </tr>\n",
              "  </thead>\n",
              "  <tbody>\n",
              "    <tr>\n",
              "      <th>0</th>\n",
              "      <td>16</td>\n",
              "      <td>13</td>\n",
              "      <td>42</td>\n",
              "    </tr>\n",
              "    <tr>\n",
              "      <th>1</th>\n",
              "      <td>4</td>\n",
              "      <td>17</td>\n",
              "      <td>49</td>\n",
              "    </tr>\n",
              "  </tbody>\n",
              "</table>\n",
              "</div>"
            ],
            "text/plain": [
              "   Batch Enrolled  Sub Grade  Loan Title\n",
              "0              16         13          42\n",
              "1               4         17          49"
            ]
          },
          "metadata": {},
          "execution_count": 208
        }
      ],
      "source": [
        "test2.head(2)"
      ]
    },
    {
      "cell_type": "code",
      "execution_count": null,
      "metadata": {
        "id": "DLMDtY5fjxDq"
      },
      "outputs": [],
      "source": [
        "test3=pd.concat([test2, k[['Grade', 'Employment Duration', 'Verification Status', 'Initial List Status']]], axis= 1)"
      ]
    },
    {
      "cell_type": "code",
      "execution_count": null,
      "metadata": {
        "colab": {
          "base_uri": "https://localhost:8080/",
          "height": 143
        },
        "id": "AyYNGmWxiott",
        "outputId": "a7a57a6e-af59-48a3-fe85-0bf652126c92"
      },
      "outputs": [
        {
          "output_type": "execute_result",
          "data": {
            "text/html": [
              "<div>\n",
              "<style scoped>\n",
              "    .dataframe tbody tr th:only-of-type {\n",
              "        vertical-align: middle;\n",
              "    }\n",
              "\n",
              "    .dataframe tbody tr th {\n",
              "        vertical-align: top;\n",
              "    }\n",
              "\n",
              "    .dataframe thead th {\n",
              "        text-align: right;\n",
              "    }\n",
              "</style>\n",
              "<table border=\"1\" class=\"dataframe\">\n",
              "  <thead>\n",
              "    <tr style=\"text-align: right;\">\n",
              "      <th></th>\n",
              "      <th>Batch Enrolled</th>\n",
              "      <th>Sub Grade</th>\n",
              "      <th>Loan Title</th>\n",
              "      <th>Grade</th>\n",
              "      <th>Employment Duration</th>\n",
              "      <th>Verification Status</th>\n",
              "      <th>Initial List Status</th>\n",
              "    </tr>\n",
              "  </thead>\n",
              "  <tbody>\n",
              "    <tr>\n",
              "      <th>0</th>\n",
              "      <td>16</td>\n",
              "      <td>13</td>\n",
              "      <td>42</td>\n",
              "      <td>6</td>\n",
              "      <td>1</td>\n",
              "      <td>1</td>\n",
              "      <td>1</td>\n",
              "    </tr>\n",
              "    <tr>\n",
              "      <th>1</th>\n",
              "      <td>4</td>\n",
              "      <td>17</td>\n",
              "      <td>49</td>\n",
              "      <td>5</td>\n",
              "      <td>2</td>\n",
              "      <td>2</td>\n",
              "      <td>2</td>\n",
              "    </tr>\n",
              "    <tr>\n",
              "      <th>2</th>\n",
              "      <td>11</td>\n",
              "      <td>18</td>\n",
              "      <td>42</td>\n",
              "      <td>2</td>\n",
              "      <td>1</td>\n",
              "      <td>2</td>\n",
              "      <td>1</td>\n",
              "    </tr>\n",
              "  </tbody>\n",
              "</table>\n",
              "</div>"
            ],
            "text/plain": [
              "   Batch Enrolled  Sub Grade  ...  Verification Status  Initial List Status\n",
              "0              16         13  ...                    1                    1\n",
              "1               4         17  ...                    2                    2\n",
              "2              11         18  ...                    2                    1\n",
              "\n",
              "[3 rows x 7 columns]"
            ]
          },
          "metadata": {},
          "execution_count": 210
        }
      ],
      "source": [
        "test3.head(3)"
      ]
    },
    {
      "cell_type": "code",
      "execution_count": null,
      "metadata": {
        "colab": {
          "base_uri": "https://localhost:8080/",
          "height": 408,
          "referenced_widgets": [
            "f23dc3a363064cbc9af9d74974be2ee9"
          ]
        },
        "id": "Ts5rbpW5UjlF",
        "outputId": "7fc6129c-efda-480d-ca97-cf948e11b13d"
      },
      "outputs": [
        {
          "output_type": "display_data",
          "data": {
            "application/vnd.jupyter.widget-view+json": {
              "model_id": "f23dc3a363064cbc9af9d74974be2ee9",
              "version_minor": 0,
              "version_major": 2
            },
            "text/plain": [
              "MetricVisualizer(layout=Layout(align_self='stretch', height='500px'))"
            ]
          },
          "metadata": {}
        },
        {
          "output_type": "stream",
          "name": "stderr",
          "text": [
            "You should provide test set for use best model. use_best_model parameter has been switched to false value.\n"
          ]
        },
        {
          "output_type": "stream",
          "name": "stdout",
          "text": [
            "Learning rate set to 0.062222\n",
            "0:\ttotal: 17.3ms\tremaining: 17.2s\n",
            "200:\ttotal: 3.04s\tremaining: 12.1s\n",
            "400:\ttotal: 6.12s\tremaining: 9.15s\n",
            "600:\ttotal: 9.29s\tremaining: 6.17s\n",
            "800:\ttotal: 12.5s\tremaining: 3.11s\n",
            "999:\ttotal: 15.8s\tremaining: 0us\n"
          ]
        },
        {
          "output_type": "execute_result",
          "data": {
            "text/html": [
              "<div>\n",
              "<style scoped>\n",
              "    .dataframe tbody tr th:only-of-type {\n",
              "        vertical-align: middle;\n",
              "    }\n",
              "\n",
              "    .dataframe tbody tr th {\n",
              "        vertical-align: top;\n",
              "    }\n",
              "\n",
              "    .dataframe thead th {\n",
              "        text-align: right;\n",
              "    }\n",
              "</style>\n",
              "<table border=\"1\" class=\"dataframe\">\n",
              "  <thead>\n",
              "    <tr style=\"text-align: right;\">\n",
              "      <th></th>\n",
              "      <th>Feature Id</th>\n",
              "      <th>Importances</th>\n",
              "    </tr>\n",
              "  </thead>\n",
              "  <tbody>\n",
              "    <tr>\n",
              "      <th>0</th>\n",
              "      <td>Sub Grade</td>\n",
              "      <td>23.643254</td>\n",
              "    </tr>\n",
              "    <tr>\n",
              "      <th>1</th>\n",
              "      <td>Batch Enrolled</td>\n",
              "      <td>23.266811</td>\n",
              "    </tr>\n",
              "    <tr>\n",
              "      <th>2</th>\n",
              "      <td>Loan Title</td>\n",
              "      <td>16.839973</td>\n",
              "    </tr>\n",
              "    <tr>\n",
              "      <th>3</th>\n",
              "      <td>Grade</td>\n",
              "      <td>13.805366</td>\n",
              "    </tr>\n",
              "    <tr>\n",
              "      <th>4</th>\n",
              "      <td>Employment Duration</td>\n",
              "      <td>9.303363</td>\n",
              "    </tr>\n",
              "    <tr>\n",
              "      <th>5</th>\n",
              "      <td>Verification Status</td>\n",
              "      <td>8.311662</td>\n",
              "    </tr>\n",
              "    <tr>\n",
              "      <th>6</th>\n",
              "      <td>Initial List Status</td>\n",
              "      <td>4.829569</td>\n",
              "    </tr>\n",
              "  </tbody>\n",
              "</table>\n",
              "</div>"
            ],
            "text/plain": [
              "            Feature Id  Importances\n",
              "0            Sub Grade    23.643254\n",
              "1       Batch Enrolled    23.266811\n",
              "2           Loan Title    16.839973\n",
              "3                Grade    13.805366\n",
              "4  Employment Duration     9.303363\n",
              "5  Verification Status     8.311662\n",
              "6  Initial List Status     4.829569"
            ]
          },
          "metadata": {},
          "execution_count": 211
        }
      ],
      "source": [
        "params= {'loss_function': 'Logloss', 'eval_metric': 'AUC', 'verbose': 200}\n",
        "cbc9= catboost.CatBoostClassifier(**params)\n",
        "cbc9.fit(test3,k.iloc[:,-1], use_best_model=True, \n",
        "          plot=True)\n",
        "cbc9.get_feature_importance(prettified=True)\n",
        "#considering same Feature importance for test data as well we keep test data as Unseen"
      ]
    },
    {
      "cell_type": "code",
      "execution_count": null,
      "metadata": {
        "colab": {
          "base_uri": "https://localhost:8080/"
        },
        "id": "OcC-I9r5qf0Z",
        "outputId": "52325566-32c2-43b0-924e-ba7204b93cd2"
      },
      "outputs": [
        {
          "output_type": "execute_result",
          "data": {
            "text/plain": [
              "0    0.236433\n",
              "1    0.232668\n",
              "2    0.168400\n",
              "3    0.138054\n",
              "4    0.093034\n",
              "5    0.083117\n",
              "6    0.048296\n",
              "Name: Importances, dtype: float64"
            ]
          },
          "metadata": {},
          "execution_count": 212
        }
      ],
      "source": [
        "cbc9.get_feature_importance(prettified=True)['Importances']/100"
      ]
    },
    {
      "cell_type": "code",
      "execution_count": null,
      "metadata": {
        "id": "GxpYjoxnWZ0J"
      },
      "outputs": [],
      "source": [
        "#removing subgrade and initial list status from test and train to reduce the effort of labelling on subgrade\n",
        "k.drop(labels= ['Verification Status', 'Initial List Status'], axis= 1, inplace= True)\n",
        "test.drop(labels= ['Verification Status', 'Initial List Status'], axis= 1, inplace= True)"
      ]
    },
    {
      "cell_type": "code",
      "execution_count": null,
      "metadata": {
        "colab": {
          "base_uri": "https://localhost:8080/"
        },
        "id": "qQxHV9ikuD50",
        "outputId": "935371cd-ed08-4cd0-bb4c-e33ccf881b93"
      },
      "outputs": [
        {
          "output_type": "execute_result",
          "data": {
            "text/plain": [
              "((67463, 31), (28913, 31))"
            ]
          },
          "metadata": {},
          "execution_count": 214
        }
      ],
      "source": [
        "k.shape, test.shape"
      ]
    },
    {
      "cell_type": "code",
      "execution_count": null,
      "metadata": {
        "colab": {
          "base_uri": "https://localhost:8080/"
        },
        "id": "MFgPAgAUz5GM",
        "outputId": "b03496fc-4eed-48e0-f7d2-36ed743233d9"
      },
      "outputs": [
        {
          "output_type": "execute_result",
          "data": {
            "text/plain": [
              "(67463, 28913)"
            ]
          },
          "metadata": {},
          "execution_count": 215
        }
      ],
      "source": [
        "#Dropping ID and concatenating it later after prediction\n",
        "len(k['ID'].unique()), len(test['ID'].unique())"
      ]
    },
    {
      "cell_type": "code",
      "execution_count": null,
      "metadata": {
        "colab": {
          "base_uri": "https://localhost:8080/"
        },
        "id": "fbNHGOZquEG5",
        "outputId": "8feccaef-81c6-4bd2-9f7d-e9f8e1bcc88b"
      },
      "outputs": [
        {
          "output_type": "stream",
          "name": "stdout",
          "text": [
            "Requirement already satisfied: category_encoders in /usr/local/lib/python3.7/dist-packages (2.3.0)\n",
            "Requirement already satisfied: patsy>=0.5.1 in /usr/local/lib/python3.7/dist-packages (from category_encoders) (0.5.2)\n",
            "Requirement already satisfied: pandas>=0.21.1 in /usr/local/lib/python3.7/dist-packages (from category_encoders) (1.1.5)\n",
            "Requirement already satisfied: scipy>=1.0.0 in /usr/local/lib/python3.7/dist-packages (from category_encoders) (1.4.1)\n",
            "Requirement already satisfied: numpy>=1.14.0 in /usr/local/lib/python3.7/dist-packages (from category_encoders) (1.19.5)\n",
            "Requirement already satisfied: statsmodels>=0.9.0 in /usr/local/lib/python3.7/dist-packages (from category_encoders) (0.10.2)\n",
            "Requirement already satisfied: scikit-learn>=0.20.0 in /usr/local/lib/python3.7/dist-packages (from category_encoders) (1.0.1)\n",
            "Requirement already satisfied: pytz>=2017.2 in /usr/local/lib/python3.7/dist-packages (from pandas>=0.21.1->category_encoders) (2018.9)\n",
            "Requirement already satisfied: python-dateutil>=2.7.3 in /usr/local/lib/python3.7/dist-packages (from pandas>=0.21.1->category_encoders) (2.8.2)\n",
            "Requirement already satisfied: six in /usr/local/lib/python3.7/dist-packages (from patsy>=0.5.1->category_encoders) (1.15.0)\n",
            "Requirement already satisfied: threadpoolctl>=2.0.0 in /usr/local/lib/python3.7/dist-packages (from scikit-learn>=0.20.0->category_encoders) (3.0.0)\n",
            "Requirement already satisfied: joblib>=0.11 in /usr/local/lib/python3.7/dist-packages (from scikit-learn>=0.20.0->category_encoders) (1.1.0)\n"
          ]
        }
      ],
      "source": [
        "#we use target labelling \n",
        "!pip install category_encoders\n",
        "import category_encoders as ce"
      ]
    },
    {
      "cell_type": "code",
      "execution_count": null,
      "metadata": {
        "id": "CwOQLpHauEKd"
      },
      "outputs": [],
      "source": [
        "encoder = ce.cat_boost.CatBoostEncoder()\n",
        "\n",
        "encoder.fit(k[['Batch Enrolled', 'Loan Title', 'Sub Grade']], k.iloc[:,-1])\n",
        "k[['Batch Enrolled', 'Loan Title', 'Sub Grade']] = encoder.transform(k[['Batch Enrolled', 'Loan Title', 'Sub Grade']])"
      ]
    },
    {
      "cell_type": "code",
      "execution_count": null,
      "metadata": {
        "id": "xiPuujrG0zPp"
      },
      "outputs": [],
      "source": [
        "test[['Batch Enrolled', 'Loan Title', 'Sub Grade']] = encoder.transform(test[['Batch Enrolled', 'Loan Title', 'Sub Grade']])\n",
        "# permutations = np.random.permutation(len(X_train))\n",
        "# predictors = X_train.iloc[permutations]\n",
        "# target = y_train.iloc[permutations]\n",
        "# cat_encoder = CatBoostEncoder(cols=categorical_columns)\n",
        "# X_train = cat_encoder.fit_transform(predictors, target)"
      ]
    },
    {
      "cell_type": "code",
      "execution_count": null,
      "metadata": {
        "id": "RGeyQVhx1c9D"
      },
      "outputs": [],
      "source": [
        "traindata= k.iloc[:, :-1].copy()\n",
        "testdata= test.iloc[:, :-1].copy()\n"
      ]
    },
    {
      "cell_type": "code",
      "execution_count": null,
      "metadata": {
        "colab": {
          "base_uri": "https://localhost:8080/",
          "height": 153
        },
        "id": "XqBMMRUlfP9J",
        "outputId": "c818eeac-569e-427f-9eeb-dbc1ad8f2bfa"
      },
      "outputs": [
        {
          "output_type": "execute_result",
          "data": {
            "text/html": [
              "<div>\n",
              "<style scoped>\n",
              "    .dataframe tbody tr th:only-of-type {\n",
              "        vertical-align: middle;\n",
              "    }\n",
              "\n",
              "    .dataframe tbody tr th {\n",
              "        vertical-align: top;\n",
              "    }\n",
              "\n",
              "    .dataframe thead th {\n",
              "        text-align: right;\n",
              "    }\n",
              "</style>\n",
              "<table border=\"1\" class=\"dataframe\">\n",
              "  <thead>\n",
              "    <tr style=\"text-align: right;\">\n",
              "      <th></th>\n",
              "      <th>ID</th>\n",
              "      <th>Loan Amount</th>\n",
              "      <th>Funded Amount</th>\n",
              "      <th>Funded Amount Investor</th>\n",
              "      <th>Term</th>\n",
              "      <th>Batch Enrolled</th>\n",
              "      <th>Interest Rate</th>\n",
              "      <th>Grade</th>\n",
              "      <th>Sub Grade</th>\n",
              "      <th>Employment Duration</th>\n",
              "      <th>Home Ownership</th>\n",
              "      <th>Loan Title</th>\n",
              "      <th>Debit to Income</th>\n",
              "      <th>Delinquency - two years</th>\n",
              "      <th>Inquires - six months</th>\n",
              "      <th>Open Account</th>\n",
              "      <th>Public Record</th>\n",
              "      <th>Revolving Balance</th>\n",
              "      <th>Revolving Utilities</th>\n",
              "      <th>Total Accounts</th>\n",
              "      <th>Total Received Interest</th>\n",
              "      <th>Total Received Late Fee</th>\n",
              "      <th>Recoveries</th>\n",
              "      <th>Collection Recovery Fee</th>\n",
              "      <th>Collection 12 months Medical</th>\n",
              "      <th>Last week Pay</th>\n",
              "      <th>Accounts Delinquent</th>\n",
              "      <th>Total Collection Amount</th>\n",
              "      <th>Total Current Balance</th>\n",
              "      <th>Total Revolving Credit Limit</th>\n",
              "    </tr>\n",
              "  </thead>\n",
              "  <tbody>\n",
              "    <tr>\n",
              "      <th>0</th>\n",
              "      <td>56492997</td>\n",
              "      <td>17120</td>\n",
              "      <td>10365</td>\n",
              "      <td>16025.08269</td>\n",
              "      <td>59</td>\n",
              "      <td>0.094372</td>\n",
              "      <td>12.163926</td>\n",
              "      <td>7</td>\n",
              "      <td>0.093523</td>\n",
              "      <td>2</td>\n",
              "      <td>76468.8219</td>\n",
              "      <td>0.095431</td>\n",
              "      <td>16.749219</td>\n",
              "      <td>1</td>\n",
              "      <td>0</td>\n",
              "      <td>12</td>\n",
              "      <td>1</td>\n",
              "      <td>3576</td>\n",
              "      <td>67.278287</td>\n",
              "      <td>5</td>\n",
              "      <td>4469.449851</td>\n",
              "      <td>0.088031</td>\n",
              "      <td>8.425776</td>\n",
              "      <td>0.731797</td>\n",
              "      <td>0</td>\n",
              "      <td>135</td>\n",
              "      <td>0</td>\n",
              "      <td>24</td>\n",
              "      <td>475442</td>\n",
              "      <td>4364</td>\n",
              "    </tr>\n",
              "  </tbody>\n",
              "</table>\n",
              "</div>"
            ],
            "text/plain": [
              "         ID  Loan Amount  ...  Total Current Balance  Total Revolving Credit Limit\n",
              "0  56492997        17120  ...                 475442                          4364\n",
              "\n",
              "[1 rows x 30 columns]"
            ]
          },
          "metadata": {},
          "execution_count": 220
        }
      ],
      "source": [
        "testdata.head(1)"
      ]
    },
    {
      "cell_type": "code",
      "execution_count": null,
      "metadata": {
        "colab": {
          "base_uri": "https://localhost:8080/"
        },
        "id": "loGqkXQdsTZD",
        "outputId": "5a044354-83ac-4f3f-beac-27807ecb5c41"
      },
      "outputs": [
        {
          "output_type": "execute_result",
          "data": {
            "text/plain": [
              "((67463, 31), (28913, 31))"
            ]
          },
          "metadata": {},
          "execution_count": 221
        }
      ],
      "source": [
        "k.shape, test.shape"
      ]
    },
    {
      "cell_type": "code",
      "execution_count": null,
      "metadata": {
        "id": "5JtITx560Oa3"
      },
      "outputs": [],
      "source": [
        "correlation= k.corr()['Loan Status'].sort_values(ascending= False)"
      ]
    },
    {
      "cell_type": "code",
      "execution_count": null,
      "metadata": {
        "colab": {
          "base_uri": "https://localhost:8080/"
        },
        "id": "4Y1ndd8vWN2n",
        "outputId": "5fc5debc-e697-474d-f3dc-8be53b2c9f00"
      },
      "outputs": [
        {
          "output_type": "execute_result",
          "data": {
            "text/plain": [
              "Loan Status                     1.000000\n",
              "Loan Title                      0.043312\n",
              "Batch Enrolled                  0.024451\n",
              "Sub Grade                       0.022193\n",
              "Employment Duration             0.015426\n",
              "Public Record                   0.010590\n",
              "Delinquency - two years         0.009990\n",
              "Total Current Balance           0.009828\n",
              "Total Received Late Fee         0.009365\n",
              "Total Collection Amount         0.007892\n",
              "Last week Pay                   0.006117\n",
              "Revolving Utilities             0.004120\n",
              "Home Ownership                  0.003716\n",
              "Interest Rate                   0.002900\n",
              "Total Received Interest         0.001680\n",
              "Total Revolving Credit Limit    0.001454\n",
              "Funded Amount                   0.001364\n",
              "Inquires - six months           0.000578\n",
              "ID                              0.000472\n",
              "Total Accounts                  0.000222\n",
              "Funded Amount Investor         -0.000091\n",
              "Recoveries                     -0.000652\n",
              "Collection 12 months Medical   -0.000686\n",
              "Revolving Balance              -0.001073\n",
              "Debit to Income                -0.003057\n",
              "Term                           -0.003410\n",
              "Collection Recovery Fee        -0.003828\n",
              "Loan Amount                    -0.004473\n",
              "Open Account                   -0.007073\n",
              "Grade                          -0.011657\n",
              "Accounts Delinquent                  NaN\n",
              "Name: Loan Status, dtype: float64"
            ]
          },
          "metadata": {},
          "execution_count": 223
        }
      ],
      "source": [
        "correlation"
      ]
    },
    {
      "cell_type": "code",
      "execution_count": null,
      "metadata": {
        "id": "qfVpd8Zw6iP1"
      },
      "outputs": [],
      "source": [
        "corrmatrix= k.corr().abs()"
      ]
    },
    {
      "cell_type": "code",
      "execution_count": null,
      "metadata": {
        "id": "h4lSxOeE62J4"
      },
      "outputs": [],
      "source": [
        "uppert= corrmatrix.where(np.triu(np.ones(corrmatrix.shape), k=1).astype(np.bool))"
      ]
    },
    {
      "cell_type": "code",
      "execution_count": null,
      "metadata": {
        "id": "FzkzirDX7uTo"
      },
      "outputs": [],
      "source": [
        "#selecting the upper shape here 1 stands for True:-https://www.geeksforgeeks.org/numpy-triu-python/\n",
        "# np.triu(np.ones(corrmatrix.shape), k=1)"
      ]
    },
    {
      "cell_type": "code",
      "execution_count": null,
      "metadata": {
        "colab": {
          "base_uri": "https://localhost:8080/"
        },
        "id": "p6eIJU3c7vR_",
        "outputId": "dea1835d-af6e-4765-bcfa-ea46e25a748e"
      },
      "outputs": [
        {
          "output_type": "execute_result",
          "data": {
            "text/plain": [
              "Index(['ID', 'Loan Amount', 'Funded Amount', 'Funded Amount Investor', 'Term',\n",
              "       'Batch Enrolled', 'Interest Rate', 'Grade', 'Sub Grade',\n",
              "       'Employment Duration', 'Home Ownership', 'Loan Title',\n",
              "       'Debit to Income', 'Delinquency - two years', 'Inquires - six months',\n",
              "       'Open Account', 'Public Record', 'Revolving Balance',\n",
              "       'Revolving Utilities', 'Total Accounts', 'Total Received Interest',\n",
              "       'Total Received Late Fee', 'Recoveries', 'Collection Recovery Fee',\n",
              "       'Collection 12 months Medical', 'Last week Pay', 'Accounts Delinquent',\n",
              "       'Total Collection Amount', 'Total Current Balance',\n",
              "       'Total Revolving Credit Limit', 'Loan Status'],\n",
              "      dtype='object')"
            ]
          },
          "metadata": {},
          "execution_count": 227
        }
      ],
      "source": [
        "uppert.columns"
      ]
    },
    {
      "cell_type": "code",
      "execution_count": null,
      "metadata": {
        "colab": {
          "base_uri": "https://localhost:8080/",
          "height": 52
        },
        "id": "1HgihXy8_0zk",
        "outputId": "f51094ff-2a14-4eed-b6ef-daf23c48d575"
      },
      "outputs": [
        {
          "output_type": "execute_result",
          "data": {
            "text/plain": [
              "<Figure size 1152x720 with 0 Axes>"
            ]
          },
          "metadata": {},
          "execution_count": 228
        },
        {
          "output_type": "display_data",
          "data": {
            "text/plain": [
              "<Figure size 1152x720 with 0 Axes>"
            ]
          },
          "metadata": {}
        }
      ],
      "source": [
        "import seaborn as sns\n",
        "import matplotlib.pyplot as plt\n",
        "plt.figure(figsize=(16, 10))"
      ]
    },
    {
      "cell_type": "code",
      "execution_count": null,
      "metadata": {
        "colab": {
          "base_uri": "https://localhost:8080/",
          "height": 424
        },
        "id": "FiGBFlin8AvD",
        "outputId": "e744f1aa-63c9-4ed0-b6db-739813a174e0"
      },
      "outputs": [
        {
          "output_type": "execute_result",
          "data": {
            "text/plain": [
              "<matplotlib.axes._subplots.AxesSubplot at 0x7f2fe378e490>"
            ]
          },
          "metadata": {},
          "execution_count": 229
        },
        {
          "output_type": "display_data",
          "data": {
            "image/png": "[encoded data removed]",
            "text/plain": [
              "<Figure size 432x288 with 2 Axes>"
            ]
          },
          "metadata": {
            "needs_background": "light"
          }
        }
      ],
      "source": [
        "sns.heatmap(k.corr())"
      ]
    },
    {
      "cell_type": "code",
      "execution_count": null,
      "metadata": {
        "colab": {
          "base_uri": "https://localhost:8080/"
        },
        "id": "b24QY7yFAYtR",
        "outputId": "348c1a66-20ee-4f0c-aa47-7e6af5a5024b"
      },
      "outputs": [
        {
          "output_type": "execute_result",
          "data": {
            "text/plain": [
              "([], (67463, 31))"
            ]
          },
          "metadata": {},
          "execution_count": 230
        }
      ],
      "source": [
        "uppertcolumn= [column for column in uppert.columns if any(uppert[column]> 0.6)]\n",
        "# k.drop(columns= uppertcolumn, inplace= True)\n",
        "uppertcolumn, k.shape\n",
        "# no columns to drop"
      ]
    },
    {
      "cell_type": "code",
      "execution_count": null,
      "metadata": {
        "id": "bP-GJx4_KwSD"
      },
      "outputs": [],
      "source": [
        "def thres(data, t):\n",
        "  dropempty= []\n",
        "  y= data['Loan Status']\n",
        "  data= data.drop(labels=['Loan Status'], axis= 1)\n",
        "  corrmatrix1= data.corr()\n",
        "  iters=len(corrmatrix1.columns)-1\n",
        "  for i in range(iters):\n",
        "    for j in range(i):\n",
        "      items= corrmatrix1.iloc[j:j+1, i:i+1]\n",
        "      column= items.columns\n",
        "      row= items.index\n",
        "      value= abs(items.values)\n",
        "      if value > t:\n",
        "        dropempty.append(column.values[0])\n",
        "\n",
        "  set(dropempty)\n",
        "  data= data.drop(labels= dropempty, axis= 1)\n",
        "  print(dropempty)\n",
        "  data['Loan Status']= y\n",
        "\n",
        "  return data\n"
      ]
    },
    {
      "cell_type": "code",
      "execution_count": null,
      "metadata": {
        "colab": {
          "base_uri": "https://localhost:8080/"
        },
        "id": "NiBxBLFrSjo5",
        "outputId": "d2337830-db27-4dfb-b0b7-6abdeecd1587"
      },
      "outputs": [
        {
          "output_type": "stream",
          "name": "stdout",
          "text": [
            "[]\n"
          ]
        }
      ],
      "source": [
        "new_data= thres(k, 0.6)"
      ]
    },
    {
      "cell_type": "code",
      "execution_count": null,
      "metadata": {
        "colab": {
          "base_uri": "https://localhost:8080/"
        },
        "id": "hKgCG_g9Sky_",
        "outputId": "c34c6d30-3db4-488c-a860-ba21083ab1b2"
      },
      "outputs": [
        {
          "output_type": "execute_result",
          "data": {
            "text/plain": [
              "((67463, 31), (67463, 31))"
            ]
          },
          "metadata": {},
          "execution_count": 233
        }
      ],
      "source": [
        "# k.corr().iloc[2:3, 0:1]\n",
        "new_data.shape, k.shape"
      ]
    },
    {
      "cell_type": "code",
      "execution_count": null,
      "metadata": {
        "id": "HS3Pu3-DUGn5"
      },
      "outputs": [],
      "source": [
        "#variance threshold , outliers, distribution \n",
        "numcolumns1=k1.select_dtypes(exclude= ['object']).columns.tolist()"
      ]
    },
    {
      "cell_type": "code",
      "execution_count": null,
      "metadata": {
        "colab": {
          "base_uri": "https://localhost:8080/"
        },
        "id": "ol6Rt_UO79Lz",
        "outputId": "e5f123b2-9659-448f-9dc5-78c92beb81e3"
      },
      "outputs": [
        {
          "output_type": "execute_result",
          "data": {
            "text/plain": [
              "26"
            ]
          },
          "metadata": {},
          "execution_count": 235
        }
      ],
      "source": [
        "len(numcolumns1)"
      ]
    },
    {
      "cell_type": "code",
      "execution_count": null,
      "metadata": {
        "id": "lPfSV6G1WbK1"
      },
      "outputs": [],
      "source": [
        "import matplotlib.pyplot as plt\n",
        "from sklearn.feature_selection import VarianceThreshold\n",
        "  \n",
        "  "
      ]
    },
    {
      "cell_type": "code",
      "execution_count": null,
      "metadata": {
        "colab": {
          "base_uri": "https://localhost:8080/"
        },
        "id": "aDIi6LxtXOp0",
        "outputId": "25e119f7-1cf5-4a99-8727-c95dbfd530cc"
      },
      "outputs": [
        {
          "output_type": "execute_result",
          "data": {
            "text/plain": [
              "['ID',\n",
              " 'Loan Amount',\n",
              " 'Funded Amount',\n",
              " 'Funded Amount Investor',\n",
              " 'Term',\n",
              " 'Interest Rate',\n",
              " 'Home Ownership',\n",
              " 'Debit to Income',\n",
              " 'Delinquency - two years',\n",
              " 'Inquires - six months',\n",
              " 'Open Account',\n",
              " 'Public Record',\n",
              " 'Revolving Balance',\n",
              " 'Revolving Utilities',\n",
              " 'Total Accounts',\n",
              " 'Total Received Interest',\n",
              " 'Total Received Late Fee',\n",
              " 'Recoveries',\n",
              " 'Collection Recovery Fee',\n",
              " 'Collection 12 months Medical',\n",
              " 'Last week Pay',\n",
              " 'Accounts Delinquent',\n",
              " 'Total Collection Amount',\n",
              " 'Total Current Balance',\n",
              " 'Total Revolving Credit Limit',\n",
              " 'Loan Status']"
            ]
          },
          "metadata": {},
          "execution_count": 237
        }
      ],
      "source": [
        "numcolumns1"
      ]
    },
    {
      "cell_type": "code",
      "execution_count": null,
      "metadata": {
        "colab": {
          "base_uri": "https://localhost:8080/"
        },
        "id": "xZ7bA9Cy2fJ3",
        "outputId": "80c0cbad-09e0-43b0-bf47-14b836e4294b"
      },
      "outputs": [
        {
          "output_type": "execute_result",
          "data": {
            "text/plain": [
              "array([[6.5087372e+07, 1.0000000e+04, 3.2236000e+04, ..., 3.1000000e+01,\n",
              "        3.1130100e+05, 6.6190000e+03],\n",
              "       [1.4501530e+06, 3.6090000e+03, 1.1940000e+04, ..., 5.3000000e+01,\n",
              "        1.8261000e+05, 2.0885000e+04],\n",
              "       [1.9691010e+06, 2.8276000e+04, 9.3110000e+03, ..., 3.4000000e+01,\n",
              "        8.9801000e+04, 2.6155000e+04],\n",
              "       ...,\n",
              "       [1.6435904e+07, 1.5897000e+04, 3.2921000e+04, ..., 1.7000000e+01,\n",
              "        1.7685700e+05, 4.2330000e+04],\n",
              "       [5.3003250e+06, 1.6567000e+04, 4.9750000e+03, ..., 6.1000000e+01,\n",
              "        3.6133900e+05, 3.9075000e+04],\n",
              "       [6.5443173e+07, 1.5353000e+04, 2.9875000e+04, ..., 4.7000000e+01,\n",
              "        1.9696000e+05, 6.6060000e+04]])"
            ]
          },
          "metadata": {},
          "execution_count": 238
        }
      ],
      "source": [
        "selector1= VarianceThreshold(threshold=0.5)\n",
        "selector1.fit_transform(k[['ID',\n",
        " 'Loan Amount',\n",
        " 'Funded Amount',\n",
        " 'Funded Amount Investor',\n",
        " 'Term',\n",
        " 'Interest Rate',\n",
        " 'Home Ownership',\n",
        " 'Debit to Income',\n",
        " 'Delinquency - two years',\n",
        " 'Inquires - six months',\n",
        " 'Open Account',\n",
        " 'Public Record',\n",
        " 'Revolving Balance',\n",
        " 'Revolving Utilities',\n",
        " 'Total Accounts',\n",
        " 'Total Received Interest',\n",
        " 'Total Received Late Fee',\n",
        " 'Recoveries',\n",
        " 'Collection Recovery Fee',\n",
        " 'Collection 12 months Medical',\n",
        " 'Last week Pay',\n",
        " 'Accounts Delinquent',\n",
        " 'Total Collection Amount',\n",
        " 'Total Current Balance',\n",
        " 'Total Revolving Credit Limit']])"
      ]
    },
    {
      "cell_type": "code",
      "execution_count": null,
      "metadata": {
        "colab": {
          "base_uri": "https://localhost:8080/"
        },
        "id": "Auitok_YYRSr",
        "outputId": "6988a2e3-98b3-49c3-eb2d-3b71cc47f756"
      },
      "outputs": [
        {
          "output_type": "execute_result",
          "data": {
            "text/plain": [
              "array([ True,  True,  True,  True,  True,  True,  True,  True,  True,\n",
              "       False,  True, False,  True,  True,  True,  True,  True,  True,\n",
              "        True, False,  True, False,  True,  True,  True])"
            ]
          },
          "metadata": {},
          "execution_count": 239
        }
      ],
      "source": [
        "#'Delinquency - two years', 'Collection 12 months Medical', 'Public Record', 'Delinquency - two years', 'Inquires - six months are having less variance\n",
        "mask=selector1.get_support()\n",
        "mask"
      ]
    },
    {
      "cell_type": "code",
      "execution_count": null,
      "metadata": {
        "id": "tSgI0y6pd3gV"
      },
      "outputs": [],
      "source": [
        "dummy=pd.DataFrame([list(mask), numcolumns1[:-1]]).T\n"
      ]
    },
    {
      "cell_type": "code",
      "execution_count": null,
      "metadata": {
        "id": "LifkrMsrnYjw"
      },
      "outputs": [],
      "source": [
        "newlist= ['Loan Amount',\n",
        " 'Funded Amount',\n",
        " 'Funded Amount Investor',\n",
        " 'Term',\n",
        " 'Interest Rate',\n",
        " 'Home Ownership',\n",
        " 'Debit to Income',\n",
        " 'Delinquency - two years',\n",
        " 'Inquires - six months',\n",
        " 'Open Account',\n",
        " 'Public Record',\n",
        " 'Revolving Balance',\n",
        " 'Revolving Utilities',\n",
        " 'Total Accounts',\n",
        " 'Total Received Interest',\n",
        " 'Total Received Late Fee',\n",
        " 'Recoveries',\n",
        " 'Collection Recovery Fee',\n",
        " 'Last week Pay',\n",
        " 'Total Collection Amount',\n",
        " 'Total Current Balance',\n",
        " 'Total Revolving Credit Limit']\n"
      ]
    },
    {
      "cell_type": "code",
      "execution_count": null,
      "metadata": {
        "colab": {
          "base_uri": "https://localhost:8080/"
        },
        "id": "LZgHekXgpcY4",
        "outputId": "497b32c0-349f-47b3-86ed-9851e1396422"
      },
      "outputs": [
        {
          "output_type": "execute_result",
          "data": {
            "text/plain": [
              "Inquires - six months                                          [0, 3, 2, 1, 4, 5]\n",
              "Delinquency - two years                               [1, 0, 3, 6, 2, 7, 5, 4, 8]\n",
              "Public Record                                                     [0, 1, 2, 4, 3]\n",
              "Open Account                    [13, 12, 14, 7, 16, 11, 6, 17, 10, 8, 9, 26, 3...\n",
              "Term                                                                 [59, 36, 58]\n",
              "Total Accounts                  [7, 13, 20, 12, 22, 37, 33, 17, 30, 46, 21, 19...\n",
              "Collection 12 months Medical                                               [0, 1]\n",
              "dtype: object"
            ]
          },
          "metadata": {},
          "execution_count": 242
        }
      ],
      "source": [
        "#below no can vary as these details can vary in test data cannot be considered as categorical, we will see which has less impact\n",
        "k[['Inquires - six months', 'Delinquency - two years', 'Public Record', 'Open Account','Term','Total Accounts', 'Collection 12 months Medical']].apply(lambda col: col.unique())"
      ]
    },
    {
      "cell_type": "code",
      "execution_count": null,
      "metadata": {
        "colab": {
          "base_uri": "https://localhost:8080/"
        },
        "id": "AZO7IYq_g3zB",
        "outputId": "904f99e5-9179-49f5-89cf-7e406b3828fc"
      },
      "outputs": [
        {
          "output_type": "execute_result",
          "data": {
            "text/plain": [
              "ID                              [56492997, 22540813, 9862181, 10097822, 477718...\n",
              "Loan Amount                     [17120, 7133, 25291, 30781, 8878, 12147, 16214...\n",
              "Funded Amount                   [10365, 11650, 25825, 9664, 9419, 10289, 16482...\n",
              "Funded Amount Investor          [16025.082690000001, 12615.7956, 11621.28083, ...\n",
              "Term                                                             [59, 58, 36, 60]\n",
              "Batch Enrolled                  [0.09437223647848855, 0.08656294653194595, 0.1...\n",
              "Interest Rate                   [12.16392574, 6.564295831, 14.72990011, 10.523...\n",
              "Grade                                                       [7, 6, 5, 3, 4, 2, 1]\n",
              "Sub Grade                       [0.09352269590572682, 0.08932867622422627, 0.0...\n",
              "Employment Duration                                                     [2, 1, 3]\n",
              "Home Ownership                  [76468.8219, 38079.013439999995, 51275.93268, ...\n",
              "Loan Title                      [0.09543061029314066, 0.09398589312924037, 0.0...\n",
              "Debit to Income                 [16.74921941, 18.15797499, 15.190010800000001,...\n",
              "Delinquency - two years                            [1, 0, 6, 2, 7, 3, 5, 8, 4, 9]\n",
              "Inquires - six months                                          [0, 1, 3, 2, 4, 5]\n",
              "Open Account                    [12, 11, 22, 6, 13, 17, 9, 14, 26, 34, 8, 31, ...\n",
              "Public Record                                                     [1, 0, 3, 4, 2]\n",
              "Revolving Balance               [3576, 1932, 598, 5222, 553, 7420, 10840, 6539...\n",
              "Revolving Utilities             [67.27828675, 71.31315685, 50.88306534, 82.449...\n",
              "Total Accounts                  [5, 21, 23, 28, 9, 15, 20, 48, 12, 26, 29, 22,...\n",
              "Total Received Interest         [4469.449850999999, 993.9075295, 729.1133792, ...\n",
              "Total Received Late Fee         [0.088031249, 0.041236964, 0.021745213, 0.0923...\n",
              "Recoveries                      [8.425776424, 6.157007776, 5.705076639, 2.4696...\n",
              "Collection Recovery Fee         [0.731796903, 0.992918036, 0.281579857, 0.9591...\n",
              "Collection 12 months Medical                                               [0, 1]\n",
              "Last week Pay                   [135, 56, 3, 21, 104, 72, 96, 133, 68, 22, 140...\n",
              "Accounts Delinquent                                                        [0, 1]\n",
              "Total Collection Amount         [24, 1, 26, 32, 33, 21, 34, 46, 308, 25, 13, 5...\n",
              "Total Current Balance           [475442, 72412, 284825, 40842, 90825, 443777, ...\n",
              "Total Revolving Credit Limit    [4364, 2573, 19676, 7226, 26145, 1260, 22035, ...\n",
              "Loan Status                                                                 [nan]\n",
              "dtype: object"
            ]
          },
          "metadata": {},
          "execution_count": 243
        }
      ],
      "source": [
        "test.apply(lambda col: col.unique())"
      ]
    },
    {
      "cell_type": "code",
      "execution_count": null,
      "metadata": {
        "id": "p6uYozMUaKiz"
      },
      "outputs": [],
      "source": [
        "#dropping 'Accounts Delinquent' and 'Collection 12 months Medical' as 0 in both cases overpowers 90% of the time, doesnt provide imp info\n",
        "#dropping ID because its doesnt provide any value to ML model\n",
        "k.drop(labels= ['ID', 'Accounts Delinquent', 'Collection 12 months Medical'], axis= 1, inplace= True)\n",
        "test.drop(labels= ['ID', 'Accounts Delinquent', 'Collection 12 months Medical'], axis= 1, inplace= True)"
      ]
    },
    {
      "cell_type": "code",
      "execution_count": null,
      "metadata": {
        "id": "TbTNFzsUb3A9"
      },
      "outputs": [],
      "source": [
        "#Funded Amount Investor ls, \n",
        "import seaborn as sns\n",
        "import scipy.stats as stat\n",
        "import pylab \n",
        "import warnings\n",
        "warnings.filterwarnings('ignore')"
      ]
    },
    {
      "cell_type": "code",
      "execution_count": null,
      "metadata": {
        "id": "Vo0ou8f4f9iu"
      },
      "outputs": [],
      "source": [
        "def plotgraph(df, feat):\n",
        "  df10= df.copy()\n",
        "  \n",
        "  fig, axes = plt.subplots(6,4,  figsize=(28, 22))\n",
        "\n",
        "  for i, ax in enumerate(axes.flatten()):\n",
        "     sns.distplot(df10[feat[i]], ax= ax)\n"
      ]
    },
    {
      "cell_type": "code",
      "execution_count": null,
      "metadata": {
        "id": "kDVKXUZNhal0",
        "colab": {
          "base_uri": "https://localhost:8080/",
          "height": 1000
        },
        "outputId": "37b652e7-b3f2-4bfa-879d-50c891aba86c"
      },
      "outputs": [
        {
          "output_type": "error",
          "ename": "IndexError",
          "evalue": "ignored",
          "traceback": [
            "\u001b[0;31m---------------------------------------------------------------------------\u001b[0m",
            "\u001b[0;31mIndexError\u001b[0m                                Traceback (most recent call last)",
            "\u001b[0;32m<ipython-input-247-db2691680609>\u001b[0m in \u001b[0;36m<module>\u001b[0;34m()\u001b[0m\n\u001b[1;32m      1\u001b[0m \u001b[0;31m# most medians are shifted towards left , and left skewed a\u001b[0m\u001b[0;34m\u001b[0m\u001b[0;34m\u001b[0m\u001b[0;34m\u001b[0m\u001b[0m\n\u001b[0;32m----> 2\u001b[0;31m \u001b[0mplotgraph\u001b[0m\u001b[0;34m(\u001b[0m\u001b[0mk\u001b[0m\u001b[0;34m,\u001b[0m\u001b[0mnewlist\u001b[0m\u001b[0;34m)\u001b[0m\u001b[0;34m\u001b[0m\u001b[0;34m\u001b[0m\u001b[0m\n\u001b[0m",
            "\u001b[0;32m<ipython-input-246-6d12b7d04da9>\u001b[0m in \u001b[0;36mplotgraph\u001b[0;34m(df, feat)\u001b[0m\n\u001b[1;32m      5\u001b[0m \u001b[0;34m\u001b[0m\u001b[0m\n\u001b[1;32m      6\u001b[0m   \u001b[0;32mfor\u001b[0m \u001b[0mi\u001b[0m\u001b[0;34m,\u001b[0m \u001b[0max\u001b[0m \u001b[0;32min\u001b[0m \u001b[0menumerate\u001b[0m\u001b[0;34m(\u001b[0m\u001b[0maxes\u001b[0m\u001b[0;34m.\u001b[0m\u001b[0mflatten\u001b[0m\u001b[0;34m(\u001b[0m\u001b[0;34m)\u001b[0m\u001b[0;34m)\u001b[0m\u001b[0;34m:\u001b[0m\u001b[0;34m\u001b[0m\u001b[0;34m\u001b[0m\u001b[0m\n\u001b[0;32m----> 7\u001b[0;31m      \u001b[0msns\u001b[0m\u001b[0;34m.\u001b[0m\u001b[0mdistplot\u001b[0m\u001b[0;34m(\u001b[0m\u001b[0mdf10\u001b[0m\u001b[0;34m[\u001b[0m\u001b[0mfeat\u001b[0m\u001b[0;34m[\u001b[0m\u001b[0mi\u001b[0m\u001b[0;34m]\u001b[0m\u001b[0;34m]\u001b[0m\u001b[0;34m,\u001b[0m \u001b[0max\u001b[0m\u001b[0;34m=\u001b[0m \u001b[0max\u001b[0m\u001b[0;34m)\u001b[0m\u001b[0;34m\u001b[0m\u001b[0;34m\u001b[0m\u001b[0m\n\u001b[0m",
            "\u001b[0;31mIndexError\u001b[0m: list index out of range"
          ]
        },
        {
          "output_type": "display_data",
          "data": {
            "image/png": "[encoded data removed]",
            "text/plain": [
              "<Figure size 2016x1584 with 24 Axes>"
            ]
          },
          "metadata": {
            "needs_background": "light"
          }
        }
      ],
      "source": [
        "# most medians are shifted towards left , and left skewed a\n",
        "plotgraph(k,newlist)"
      ]
    },
    {
      "cell_type": "code",
      "execution_count": null,
      "metadata": {
        "id": "09vE1Zdqwyim"
      },
      "outputs": [],
      "source": [
        "# above graph is following normal distribution in most cases hence standard scaling is the best scaling for the above\n",
        "###lets find out outlier as it doesnt work well with outliers, we remove them first"
      ]
    },
    {
      "cell_type": "code",
      "execution_count": null,
      "metadata": {
        "colab": {
          "base_uri": "https://localhost:8080/"
        },
        "id": "kB7S1_dvZBg5",
        "outputId": "2168d92d-ec4b-49c2-8bef-e05bfa1b40f4"
      },
      "outputs": [
        {
          "output_type": "stream",
          "name": "stdout",
          "text": [
            "4.932245152384351e-05\n",
            "7.77369093698583e-05\n",
            "1.1871520356331458e-05\n",
            "7.015568350950141e-06\n",
            "5.137716117500097e-06\n",
            "5.1730349155359946e-05\n"
          ]
        }
      ],
      "source": [
        "\n",
        "print(k['Term'].std()/len(k))\n",
        "print(k['Total Received Late Fee'].std()/len(k))\n",
        "print(k['Delinquency - two years'].std()/len(k))\n",
        "print(k['Inquires - six months'].std()/len(k))\n",
        "print(k['Public Record'].std()/len(k))\n",
        "print(k['Collection Recovery Fee'].std()/len(k))"
      ]
    },
    {
      "cell_type": "code",
      "execution_count": null,
      "metadata": {
        "id": "M2-Qll9J8qMq"
      },
      "outputs": [],
      "source": [
        "k4= k1.copy()\n"
      ]
    },
    {
      "cell_type": "code",
      "execution_count": null,
      "metadata": {
        "id": "14nudDY5mg8c"
      },
      "outputs": [],
      "source": [
        "# i will only remove the extreme if model accuracy is low will chnage to 1.5 and create new dataset for outliers\n",
        "def normdistoutliersremoval(df, feat1):\n",
        "  li= []\n",
        "  df1= df.copy()\n",
        "  for i in feat1:\n",
        "    \n",
        "    upper_boundary=df1[i].median() + 1.5* df1[i].std()\n",
        "    lower_boundary=df1[i].median() -  1.5* df1[i].std()\n",
        "    li.append([lower_boundary, upper_boundary, i, df1[i].median(), df1[i].mean()])\n",
        "    df1.loc[df1[i]>=upper_boundary, i]= upper_boundary\n",
        "    \n",
        "\n",
        "  return li, df1\n",
        "\n",
        "# df['Height'] = np.where(df['Height'] >= upper_limit,\n",
        "#         upper_limit,\n",
        "#         np.where(df['Height'] <= lower_limit,\n",
        "#         lower_limit,\n",
        "#         df['Height']))"
      ]
    },
    {
      "cell_type": "code",
      "execution_count": null,
      "metadata": {
        "id": "9uj0NLvwPJEu"
      },
      "outputs": [],
      "source": [
        ""
      ]
    },
    {
      "cell_type": "code",
      "execution_count": null,
      "metadata": {
        "id": "s5uyaC1mmcR2"
      },
      "outputs": [],
      "source": [
        "standardscaler= ['Funded Amount Investor',\n",
        "'Interest Rate',\n",
        "'Home Ownership',\n",
        " 'Open Account',\n",
        " 'Revolving Balance',\n",
        " 'Revolving Utilities',\n",
        " 'Total Accounts',\n",
        " 'Total Received Interest',\n",
        " 'Total Current Balance',\n",
        " 'Total Revolving Credit Limit']\n",
        "result= []\n",
        "resulttest=[]\n",
        "result, newk5=  normdistoutliersremoval(k, standardscaler)\n",
        "resulttest, newtest5=  normdistoutliersremoval(test, standardscaler)"
      ]
    },
    {
      "cell_type": "code",
      "execution_count": null,
      "metadata": {
        "id": "n0m-bn4H5HSp"
      },
      "outputs": [],
      "source": [
        "# plotgraph(newk5,newlist)"
      ]
    },
    {
      "cell_type": "code",
      "execution_count": null,
      "metadata": {
        "id": "BKGo2jlg_cLe"
      },
      "outputs": [],
      "source": [
        "def quantiles(df, feat1):\n",
        "  li= []\n",
        "  df1= df.copy()\n",
        "  for i in feat1:\n",
        "    l= df1[i].quantile(0.25)\n",
        "    u= df1[i].quantile(0.75)\n",
        "    IQR= u-l\n",
        "    lower_boundary=l - 1.5*IQR\n",
        "    upper_boundary=u + 1.5*IQR\n",
        "    \n",
        "    li.append([lower_boundary, upper_boundary, i, df1[i].median(), df1[i].mean()])\n",
        "    df1.loc[df1[i]>=upper_boundary, i]= upper_boundary\n",
        "  return li, df1"
      ]
    },
    {
      "cell_type": "code",
      "execution_count": null,
      "metadata": {
        "id": "v7Zv_5TWrebM"
      },
      "outputs": [],
      "source": [
        "#outliers columns\n",
        "minmax= ['Loan Amount',\n",
        " 'Funded Amount',\n",
        " 'Term',\n",
        " 'Debit to Income',\n",
        " 'Delinquency - two years',\n",
        " 'Inquires - six months',\n",
        " 'Public Record',\n",
        " 'Total Received Late Fee',\n",
        " 'Recoveries',\n",
        " 'Collection Recovery Fee',\n",
        " 'Last week Pay',\n",
        " 'Total Collection Amount']\n",
        "\n",
        "result1=[]\n",
        "result1test=[]\n",
        "result1, newk8= quantiles(newk5, minmax)\n",
        "result1test, newtest8= quantiles(newtest5, minmax)\n",
        "\n"
      ]
    },
    {
      "cell_type": "code",
      "source": [
        "bbbb"
      ],
      "metadata": {
        "colab": {
          "base_uri": "https://localhost:8080/",
          "height": 165
        },
        "id": "9PlgQW14KFpf",
        "outputId": "00f6bc7f-a83c-4bb6-9e60-c0592b8f7b2a"
      },
      "execution_count": null,
      "outputs": [
        {
          "output_type": "error",
          "ename": "NameError",
          "evalue": "ignored",
          "traceback": [
            "\u001b[0;31m---------------------------------------------------------------------------\u001b[0m",
            "\u001b[0;31mNameError\u001b[0m                                 Traceback (most recent call last)",
            "\u001b[0;32m<ipython-input-256-13f9ed0898e3>\u001b[0m in \u001b[0;36m<module>\u001b[0;34m()\u001b[0m\n\u001b[0;32m----> 1\u001b[0;31m \u001b[0mbbbb\u001b[0m\u001b[0;34m\u001b[0m\u001b[0;34m\u001b[0m\u001b[0m\n\u001b[0m",
            "\u001b[0;31mNameError\u001b[0m: name 'bbbb' is not defined"
          ]
        }
      ]
    },
    {
      "cell_type": "code",
      "source": [
        ""
      ],
      "metadata": {
        "id": "rNYRia2CypkK"
      },
      "execution_count": null,
      "outputs": []
    },
    {
      "cell_type": "code",
      "source": [
        "# plotgraph(newk8, standardscaler)"
      ],
      "metadata": {
        "id": "DOkjQD7IKX_h"
      },
      "execution_count": null,
      "outputs": []
    },
    {
      "cell_type": "code",
      "execution_count": null,
      "metadata": {
        "id": "RWo_aBMzPPV5"
      },
      "outputs": [],
      "source": [
        "def concatextremes(df, feat2):\n",
        "  df1= df.copy()\n",
        "  llo= pd.DataFrame()\n",
        "  # ll= pd.DataFrame()\n",
        "  for i in feat2:\n",
        "    \n",
        "    # dfn= df1[df1[i[2]]< i[1]]\n",
        "    # df= k.loc[k[i[2]]<= i[0] and k[i[2]]>= i[1]]\n",
        "    # print(df)\n",
        "    if i[1]!= 0:\n",
        "      # print(i)\n",
        "      # print(llo.shape)\n",
        "      # print(ll.shape)\n",
        "      dfo= df1.loc[df1[i[2]]> i[1]]\n",
        "      # dfno= df1.loc[df1[i[2]]<= i[1]]\n",
        "      llo= pd.concat([llo, dfo], axis= 0)\n",
        "      # ll= pd.concat([ll, dfno], axis= 0)\n",
        "    \n",
        "  # ll.drop_duplicates(inplace= True)\n",
        "  llo.drop_duplicates(inplace= True)\n",
        "  return llo"
      ]
    },
    {
      "cell_type": "code",
      "execution_count": null,
      "metadata": {
        "id": "nE7bRyPVQKTH"
      },
      "outputs": [],
      "source": [
        "\n",
        "outlier= concatextremes(k, result+result1)\n",
        "testoutlier= concatextremes(test, resulttest+result1test)\n",
        "\n"
      ]
    },
    {
      "cell_type": "code",
      "source": [
        "bbbb"
      ],
      "metadata": {
        "colab": {
          "base_uri": "https://localhost:8080/",
          "height": 165
        },
        "id": "L1zDlkboXxHD",
        "outputId": "fb2128c5-fe91-42b3-965f-a33c3c2a7ad6"
      },
      "execution_count": null,
      "outputs": [
        {
          "output_type": "error",
          "ename": "NameError",
          "evalue": "ignored",
          "traceback": [
            "\u001b[0;31m---------------------------------------------------------------------------\u001b[0m",
            "\u001b[0;31mNameError\u001b[0m                                 Traceback (most recent call last)",
            "\u001b[0;32m<ipython-input-260-13f9ed0898e3>\u001b[0m in \u001b[0;36m<module>\u001b[0;34m()\u001b[0m\n\u001b[0;32m----> 1\u001b[0;31m \u001b[0mbbbb\u001b[0m\u001b[0;34m\u001b[0m\u001b[0;34m\u001b[0m\u001b[0m\n\u001b[0m",
            "\u001b[0;31mNameError\u001b[0m: name 'bbbb' is not defined"
          ]
        }
      ]
    },
    {
      "cell_type": "code",
      "source": [
        "def concatextremes1(df, feat2):\n",
        "  df1= df.copy()\n",
        "  llo= pd.DataFrame()\n",
        "  # ll= pd.DataFrame()\n",
        "  for i in feat2:\n",
        "    \n",
        "    # dfn= df1[df1[i[2]]< i[1]]\n",
        "    # df= k.loc[k[i[2]]<= i[0] and k[i[2]]>= i[1]]\n",
        "    # print(df)\n",
        "    if i[1]!= 0:\n",
        "      # print(i)\n",
        "      # print(llo.shape)\n",
        "      # print(ll.shape)\n",
        "      dfo= df1.loc[df1[i[2]]< i[1]]\n",
        "      # dfno= df1.loc[df1[i[2]]<= i[1]]\n",
        "      llo= pd.concat([llo, dfo], axis= 0)\n",
        "      # ll= pd.concat([ll, dfno], axis= 0)\n",
        "    \n",
        "  # ll.drop_duplicates(inplace= True)\n",
        "  llo.drop_duplicates(inplace= True)\n",
        "  return llo"
      ],
      "metadata": {
        "id": "Q5bnYHSCdR7H"
      },
      "execution_count": null,
      "outputs": []
    },
    {
      "cell_type": "code",
      "source": [
        "nooutlier= concatextremes1(newk8, result+result1)\n",
        "notestoutlier= concatextremes1(newtest8, resulttest+result1test)"
      ],
      "metadata": {
        "id": "RnvizijAXyYh"
      },
      "execution_count": null,
      "outputs": []
    },
    {
      "cell_type": "code",
      "source": [
        "nooutlier.shape, outlier.shape\n"
      ],
      "metadata": {
        "colab": {
          "base_uri": "https://localhost:8080/"
        },
        "id": "K4OMDqG5XyeS",
        "outputId": "8ebacf9d-df18-4884-a4d1-7349e0685e57"
      },
      "execution_count": null,
      "outputs": [
        {
          "output_type": "execute_result",
          "data": {
            "text/plain": [
              "((67463, 28), (47632, 28))"
            ]
          },
          "metadata": {},
          "execution_count": 265
        }
      ]
    },
    {
      "cell_type": "code",
      "execution_count": null,
      "metadata": {
        "id": "CLisydkFlyim"
      },
      "outputs": [],
      "source": [
        "# plotgraph(outlier23467, minmax)"
      ]
    },
    {
      "cell_type": "code",
      "execution_count": null,
      "metadata": {
        "id": "K8UI9lU14Jed"
      },
      "outputs": [],
      "source": [
        "# no_outlier1=k.drop(index=list(outlier.index))\n",
        "# no_outlier1.drop_duplicates(inplace= True)\n",
        "# no_outlier1.drop_duplicates(inplace= True)\n",
        "# _, test5=  normdistoutliersremoval(test, standardscaler)\n",
        "# _, test6= quantiles(test5, minmax)"
      ]
    },
    {
      "cell_type": "code",
      "execution_count": null,
      "metadata": {
        "id": "c0mO10UsTRY3"
      },
      "outputs": [],
      "source": [
        "# plotgraph(no_outlier1,newlist)"
      ]
    },
    {
      "cell_type": "code",
      "execution_count": null,
      "metadata": {
        "id": "sbGRbUyErpzh"
      },
      "outputs": [],
      "source": [
        "# plotgraph(newk8,newlist)"
      ]
    },
    {
      "cell_type": "code",
      "execution_count": null,
      "metadata": {
        "colab": {
          "base_uri": "https://localhost:8080/"
        },
        "id": "RSBoQHFZsj9X",
        "outputId": "a938650f-9c61-4e05-98d6-33a768527b25"
      },
      "outputs": [
        {
          "output_type": "execute_result",
          "data": {
            "text/plain": [
              "(0    61222\n",
              " 1     6241\n",
              " Name: Loan Status, dtype: int64, 0    43167\n",
              " 1     4465\n",
              " Name: Loan Status, dtype: int64)"
            ]
          },
          "metadata": {},
          "execution_count": 267
        }
      ],
      "source": [
        "nooutlier.iloc[:, -1].value_counts(), outlier.iloc[:, -1].value_counts()"
      ]
    },
    {
      "cell_type": "code",
      "execution_count": null,
      "metadata": {
        "id": "yA0buRT_Ct7V"
      },
      "outputs": [],
      "source": [
        "###i will be creating 2 types of model\n",
        "# newk8.shape, test6.shape"
      ]
    },
    {
      "cell_type": "code",
      "execution_count": null,
      "metadata": {
        "id": "QQ0pXb4hjlDO"
      },
      "outputs": [],
      "source": [
        "# newk8.iloc[:,-1].value_counts()"
      ]
    },
    {
      "cell_type": "code",
      "execution_count": null,
      "metadata": {
        "id": "oJLK4AT8CuGT"
      },
      "outputs": [],
      "source": [
        "from sklearn.preprocessing import RobustScaler\n",
        "scaler31= RobustScaler()\n",
        "outlier[minmax+standardscaler]= scaler31.fit_transform(outlier[minmax+standardscaler])\n",
        "testoutlier[minmax+standardscaler]= scaler31.transform(testoutlier[minmax+standardscaler])\n",
        "\n"
      ]
    },
    {
      "cell_type": "code",
      "source": [
        "from sklearn.preprocessing import MinMaxScaler\n",
        "mm= MinMaxScaler()\n",
        "nooutlier[minmax+standardscaler]= mm.fit_transform(nooutlier[minmax+standardscaler])\n",
        "notestoutlier[minmax+standardscaler]= mm.transform(notestoutlier[minmax+standardscaler])\n",
        "\n"
      ],
      "metadata": {
        "id": "Xj9ui8p3I_KS"
      },
      "execution_count": null,
      "outputs": []
    },
    {
      "cell_type": "code",
      "source": [
        "# plotgraph(outlier, newlist)"
      ],
      "metadata": {
        "id": "xZlprz87JhNf"
      },
      "execution_count": null,
      "outputs": []
    },
    {
      "cell_type": "code",
      "source": [
        "aaaaa"
      ],
      "metadata": {
        "id": "sYcdizmnJPgn"
      },
      "execution_count": null,
      "outputs": []
    },
    {
      "cell_type": "code",
      "execution_count": null,
      "metadata": {
        "id": "2FR-N6YEXiDs"
      },
      "outputs": [],
      "source": [
        "from sklearn.model_selection import GridSearchCV\n",
        "from sklearn.ensemble import RandomForestClassifier\n",
        "from sklearn.ensemble import AdaBoostClassifier, GradientBoostingClassifier\n",
        "from sklearn.pipeline import Pipeline \n",
        "from sklearn.svm import SVC\n",
        "from sklearn.model_selection import train_test_split\n",
        "from sklearn.metrics import f1_score, accuracy_score\n",
        "from sklearn.metrics import confusion_matrix\n",
        "from sklearn.linear_model import LogisticRegression\n",
        "from sklearn.metrics  import log_loss\n",
        "from sklearn.feature_selection import RFE,RFECV"
      ]
    },
    {
      "cell_type": "code",
      "execution_count": null,
      "metadata": {
        "colab": {
          "base_uri": "https://localhost:8080/"
        },
        "id": "dxRvwKtJXfAY",
        "outputId": "54acf002-de8a-468d-8976-b15300a646c1"
      },
      "outputs": [
        {
          "output_type": "execute_result",
          "data": {
            "text/plain": [
              "RFE(estimator=GradientBoostingClassifier())"
            ]
          },
          "metadata": {},
          "execution_count": 271
        }
      ],
      "source": [
        "#finding out important feature\n",
        "rv1=RFE(estimator= GradientBoostingClassifier())\n",
        "rv1.fit(nooutlier.iloc[:, :-1], nooutlier.iloc[:, -1])"
      ]
    },
    {
      "cell_type": "code",
      "execution_count": null,
      "metadata": {
        "id": "Eg2WzPBsX-Wq"
      },
      "outputs": [],
      "source": [
        "ranking_column= pd.DataFrame([nooutlier.columns, rv1.support_, rv1.ranking_]).T"
      ]
    },
    {
      "cell_type": "code",
      "source": [
        "ranking_column.sort_values(by= [2])"
      ],
      "metadata": {
        "id": "J1vcZwdmhEat"
      },
      "execution_count": null,
      "outputs": []
    },
    {
      "cell_type": "code",
      "execution_count": null,
      "metadata": {
        "id": "0i7DDCn6cmxD"
      },
      "outputs": [],
      "source": [
        "important_columns= ranking_column[ranking_column[2]< 8][0].values.tolist()"
      ]
    },
    {
      "cell_type": "code",
      "source": [
        "#['Loan Amount',\n",
        " 'Funded Amount',\n",
        " 'Funded Amount Investor',\n",
        " 'Term',\n",
        " 'Batch Enrolled',\n",
        " 'Sub Grade',\n",
        " 'Home Ownership',\n",
        " 'Loan Title',\n",
        " 'Debit to Income',\n",
        " 'Open Account',\n",
        " 'Revolving Balance',\n",
        " 'Revolving Utilities',\n",
        " 'Total Accounts',\n",
        " 'Total Received Late Fee',\n",
        " 'Recoveries',\n",
        " 'Collection Recovery Fee',\n",
        " 'Last week Pay',\n",
        " 'Total Collection Amount',\n",
        " 'Total Current Balance']\n",
        "important_columns"
      ],
      "metadata": {
        "colab": {
          "base_uri": "https://localhost:8080/"
        },
        "id": "f7brn87_gxgx",
        "outputId": "5af75e82-08ed-4ed9-c6c6-2aafb5daeb3c"
      },
      "execution_count": null,
      "outputs": [
        {
          "output_type": "execute_result",
          "data": {
            "text/plain": [
              "['Loan Amount',\n",
              " 'Funded Amount',\n",
              " 'Funded Amount Investor',\n",
              " 'Term',\n",
              " 'Batch Enrolled',\n",
              " 'Sub Grade',\n",
              " 'Home Ownership',\n",
              " 'Loan Title',\n",
              " 'Debit to Income',\n",
              " 'Open Account',\n",
              " 'Revolving Balance',\n",
              " 'Revolving Utilities',\n",
              " 'Total Accounts',\n",
              " 'Total Received Late Fee',\n",
              " 'Recoveries',\n",
              " 'Collection Recovery Fee',\n",
              " 'Last week Pay',\n",
              " 'Total Collection Amount',\n",
              " 'Total Current Balance']"
            ]
          },
          "metadata": {},
          "execution_count": 275
        }
      ]
    },
    {
      "cell_type": "code",
      "execution_count": null,
      "metadata": {
        "id": "7fwzAcZ6fxrx"
      },
      "outputs": [],
      "source": [
        "dataset= nooutlier[important_columns]\n",
        "dataseto= outlier[important_columns]\n",
        "datasettestn= notestoutlier[important_columns]\n",
        "datasettesto= testoutlier[important_columns]\n",
        "X_train, X_test, y_train, y_test= train_test_split(dataset, nooutlier.iloc[:, -1], test_size=0.20)\n",
        "X_train1, X_test1, y_train1, y_test1= train_test_split(dataseto, outlier.iloc[:, -1], test_size=0.20)"
      ]
    },
    {
      "cell_type": "code",
      "execution_count": null,
      "metadata": {
        "colab": {
          "base_uri": "https://localhost:8080/"
        },
        "id": "UB4zYN_hX9Bm",
        "outputId": "291b2e48-f297-4a49-fe6b-401184f9813a"
      },
      "outputs": [
        {
          "output_type": "execute_result",
          "data": {
            "text/plain": [
              "((28913, 19), (19204, 19))"
            ]
          },
          "metadata": {},
          "execution_count": 296
        }
      ],
      "source": [
        "datasettestn.shape, datasettesto.shape"
      ]
    },
    {
      "cell_type": "code",
      "execution_count": null,
      "metadata": {
        "id": "-0nroHQv2cY2"
      },
      "outputs": [],
      "source": [
        "# we see an imbalanced data we will apply both over and under smapling create a ratio of 1:5 or some no \n",
        "y_train.value_counts()"
      ]
    },
    {
      "cell_type": "code",
      "execution_count": null,
      "metadata": {
        "colab": {
          "base_uri": "https://localhost:8080/"
        },
        "id": "IQFSIWYU2vmX",
        "outputId": "731d2fa6-45b3-460b-abcb-2cd64907b1fc"
      },
      "outputs": [
        {
          "output_type": "stream",
          "name": "stdout",
          "text": [
            "Requirement already satisfied: imbalanced-learn in /usr/local/lib/python3.7/dist-packages (0.8.1)\n",
            "Requirement already satisfied: joblib>=0.11 in /usr/local/lib/python3.7/dist-packages (from imbalanced-learn) (1.1.0)\n",
            "Requirement already satisfied: scikit-learn>=0.24 in /usr/local/lib/python3.7/dist-packages (from imbalanced-learn) (1.0.1)\n",
            "Requirement already satisfied: scipy>=0.19.1 in /usr/local/lib/python3.7/dist-packages (from imbalanced-learn) (1.4.1)\n",
            "Requirement already satisfied: numpy>=1.13.3 in /usr/local/lib/python3.7/dist-packages (from imbalanced-learn) (1.19.5)\n",
            "Requirement already satisfied: threadpoolctl>=2.0.0 in /usr/local/lib/python3.7/dist-packages (from scikit-learn>=0.24->imbalanced-learn) (3.0.0)\n"
          ]
        }
      ],
      "source": [
        "\n",
        "!pip install imbalanced-learn"
      ]
    },
    {
      "cell_type": "code",
      "execution_count": null,
      "metadata": {
        "id": "u562AJT72kX2"
      },
      "outputs": [],
      "source": [
        "from imblearn.over_sampling import SVMSMOTE\n",
        "\n",
        "oversample= SVMSMOTE(sampling_strategy=0.3)\n",
        "smotex, smotey= oversample.fit_resample(X_train, y_train)\n",
        "from imblearn.under_sampling import RandomUnderSampler\n",
        "under = RandomUnderSampler(sampling_strategy=0.5)\n",
        "dummy2, dummy3= under.fit_resample(smotex, smotey)\n"
      ]
    },
    {
      "cell_type": "code",
      "source": [
        "dummy3.value_counts()"
      ],
      "metadata": {
        "colab": {
          "base_uri": "https://localhost:8080/"
        },
        "id": "lwp3fVEtqSy1",
        "outputId": "f4a3f162-9d96-485b-d22a-6300d58240c8"
      },
      "execution_count": null,
      "outputs": [
        {
          "output_type": "execute_result",
          "data": {
            "text/plain": [
              "0    29390\n",
              "1    14695\n",
              "Name: Loan Status, dtype: int64"
            ]
          },
          "metadata": {},
          "execution_count": 282
        }
      ]
    },
    {
      "cell_type": "code",
      "execution_count": null,
      "metadata": {
        "id": "vJCcVwX8B8sO"
      },
      "outputs": [],
      "source": [
        "oversample1= SVMSMOTE(sampling_strategy=0.3)\n",
        "smotex1, smotey1= oversample1.fit_resample(X_train1, y_train1)\n",
        "\n",
        "under1 = RandomUnderSampler(sampling_strategy=0.5)\n",
        "dummy21, dummy31= under1.fit_resample(smotex1, smotey1)"
      ]
    },
    {
      "cell_type": "code",
      "source": [
        "dummy31.value_counts()"
      ],
      "metadata": {
        "colab": {
          "base_uri": "https://localhost:8080/"
        },
        "id": "A1oe1lPnq2zv",
        "outputId": "81d16ee8-629f-44c0-e990-b3beb3334bd5"
      },
      "execution_count": null,
      "outputs": [
        {
          "output_type": "execute_result",
          "data": {
            "text/plain": [
              "0    13322\n",
              "1     6661\n",
              "Name: Loan Status, dtype: int64"
            ]
          },
          "metadata": {},
          "execution_count": 284
        }
      ]
    },
    {
      "cell_type": "code",
      "source": [
        "xxxx"
      ],
      "metadata": {
        "id": "a-IK4RfAcjM3"
      },
      "execution_count": null,
      "outputs": []
    },
    {
      "cell_type": "code",
      "execution_count": null,
      "metadata": {
        "id": "P3swQYjQkiq_"
      },
      "outputs": [],
      "source": [
        "smotey.value_counts()"
      ]
    },
    {
      "cell_type": "code",
      "execution_count": null,
      "metadata": {
        "colab": {
          "base_uri": "https://localhost:8080/"
        },
        "id": "Uw3q732P4uVH",
        "outputId": "800bc39a-9fcd-4ded-e77a-3c364b5842d0"
      },
      "outputs": [
        {
          "output_type": "stream",
          "name": "stdout",
          "text": [
            "0.003164556962025317\n",
            "[[12231     5]\n",
            " [ 1255     2]]\n",
            "3.2252917998647166\n"
          ]
        },
        {
          "output_type": "execute_result",
          "data": {
            "text/plain": [
              "(None, None, None)"
            ]
          },
          "metadata": {},
          "execution_count": 285
        }
      ],
      "source": [
        "rfc_balanced = RandomForestClassifier(random_state = 42, class_weight = \"balanced\")\n",
        "# usampling5= RandomUnderSampler(sampling_strategy= 0.84)\n",
        "# overx6, overy6= usampling5.fit_resample(overx5, overy5)\n",
        "rfc_balanced.fit(dummy2, dummy3)\n",
        "# overy6.value_counts()\n",
        "y_pred15 = rfc_balanced.predict(X_test)\n",
        "print(f1_score(y_test, y_pred15)), print(confusion_matrix(y_test, y_pred15)), print(log_loss(y_test, y_pred15))\n"
      ]
    },
    {
      "cell_type": "code",
      "execution_count": null,
      "metadata": {
        "id": "4vSxnUen4_LH"
      },
      "outputs": [],
      "source": [
        ""
      ]
    },
    {
      "cell_type": "code",
      "execution_count": null,
      "metadata": {
        "colab": {
          "base_uri": "https://localhost:8080/"
        },
        "id": "3kHxt7ykie9z",
        "outputId": "221c43f7-aec1-43b5-84cf-7582c8e1f013"
      },
      "outputs": [
        {
          "output_type": "stream",
          "name": "stdout",
          "text": [
            "0.02761627906976744\n",
            "[[12136   100]\n",
            " [ 1238    19]]\n",
            "3.424958332182133\n"
          ]
        },
        {
          "output_type": "execute_result",
          "data": {
            "text/plain": [
              "(None, None, None)"
            ]
          },
          "metadata": {},
          "execution_count": 286
        }
      ],
      "source": [
        "import lightgbm as lgb\n",
        "\n",
        "lgbc_balanced = lgb.LGBMClassifier(random_state = 42, n_jobs = -1, class_weight = \"balanced\")\n",
        "\n",
        "lgbc_balanced.fit(dummy2, dummy3)\n",
        "\n",
        "y_pred16 = lgbc_balanced.predict(X_test)\n",
        "print(f1_score(y_test, y_pred16)), print(confusion_matrix(y_test, y_pred16)), print(log_loss(y_test, y_pred16))"
      ]
    },
    {
      "cell_type": "code",
      "execution_count": null,
      "metadata": {
        "id": "t8UYdUijjLPs"
      },
      "outputs": [],
      "source": [
        ""
      ]
    },
    {
      "cell_type": "code",
      "execution_count": null,
      "metadata": {
        "id": "HGIeMJjJXiJZ"
      },
      "outputs": [],
      "source": [
        "# pipe = Pipeline([(\"classifier\", LogisticRegression())])\n",
        "# # Create dictionary with  learning algorithms and their hyperparameters\n",
        "# hyperparameter_comb = [{\"classifier\":[SVC()],\n",
        "#                            \"classifier__C\":[0.01],\n",
        "#                            \"classifier__kernel\":['rbf','linear']}]\n",
        "\n",
        "# # create a gridsearch of the pipeline, the fit the best model\n",
        "# gridsearch = GridSearchCV(pipe, hyperparameter_comb, cv=5, verbose=0) # Fit grid search\n",
        "# best_model = gridsearch.fit(overx5, overy5)"
      ]
    },
    {
      "cell_type": "code",
      "execution_count": null,
      "metadata": {
        "colab": {
          "base_uri": "https://localhost:8080/"
        },
        "id": "F4KZDRnsA17C",
        "outputId": "7bbadb0b-4f70-44dd-d884-90f11d09c7b5"
      },
      "outputs": [
        {
          "output_type": "stream",
          "name": "stdout",
          "text": [
            "0.04951690821256038\n",
            "[[11878   358]\n",
            " [ 1216    41]]\n",
            "4.0290758394329975\n"
          ]
        },
        {
          "output_type": "execute_result",
          "data": {
            "text/plain": [
              "(None, None, None)"
            ]
          },
          "metadata": {},
          "execution_count": 287
        }
      ],
      "source": [
        "# ab15=GradientBoostingClassifier(n_estimators= 1000,learning_rate=1.7)\n",
        "# ab15=GradientBoostingClassifier(learning_rate=0.8, min_samples_split=800,min_samples_leaf=100,max_depth=12,max_features='sqrt',subsample=0.9,random_state=10)\n",
        "ab15=GradientBoostingClassifier(learning_rate=0.5, n_estimators=1000,max_depth=15, min_samples_split=1200,min_samples_leaf=60, subsample=0.85, random_state=10)\n",
        "ab15.fit(dummy2, dummy3)\n",
        "y_pred14 = ab15.predict(X_test)\n",
        "\n",
        "print(f1_score(y_test, y_pred14)), print(confusion_matrix(y_test, y_pred14)), print(log_loss(y_test, y_pred14))"
      ]
    },
    {
      "cell_type": "code",
      "source": [
        "ab16=GradientBoostingClassifier(learning_rate=0.5, n_estimators=1000,max_depth=15, min_samples_split=1200,min_samples_leaf=60, subsample=0.85, random_state=10)\n",
        "ab16.fit(dummy21, dummy31)\n",
        "y_pred16 = ab16.predict(X_test)\n",
        "\n",
        "print(f1_score(y_test, y_pred16)), print(confusion_matrix(y_test, y_pred16)), print(log_loss(y_test, y_pred16))"
      ],
      "metadata": {
        "colab": {
          "base_uri": "https://localhost:8080/"
        },
        "id": "QHm-ijRMuwsV",
        "outputId": "af7d18a4-2b7a-48a2-cb14-5e3ee07518cb"
      },
      "execution_count": null,
      "outputs": [
        {
          "output_type": "stream",
          "name": "stdout",
          "text": [
            "0.166908037653874\n",
            "[[8430 3806]\n",
            " [ 796  461]]\n",
            "11.780218797687562\n"
          ]
        },
        {
          "output_type": "execute_result",
          "data": {
            "text/plain": [
              "(None, None, None)"
            ]
          },
          "metadata": {},
          "execution_count": 289
        }
      ]
    },
    {
      "cell_type": "code",
      "execution_count": null,
      "metadata": {
        "colab": {
          "base_uri": "https://localhost:8080/"
        },
        "id": "acraqiyle2RW",
        "outputId": "5fe82d86-e7fd-4cc4-e9a5-605ce2087dc8"
      },
      "outputs": [
        {
          "output_type": "stream",
          "name": "stdout",
          "text": [
            "0.09644194756554307\n",
            "[[11460   776]\n",
            " [ 1154   103]]\n"
          ]
        }
      ],
      "source": [
        "from xgboost.sklearn import XGBClassifier\n",
        "xgb9 = XGBClassifier(\n",
        " learning_rate =0.8,\n",
        " n_estimators=3000,\n",
        " max_depth=5,\n",
        " min_child_weight=1,\n",
        " gamma=0.7,\n",
        " subsample=0.8,\n",
        " colsample_bytree=0.8,\n",
        " objective= 'binary:logistic',\n",
        " nthread=4,\n",
        " scale_pos_weight=0.7,\n",
        " seed=27)\n",
        "xgb9.fit(dummy2, dummy3)\n",
        "y_pred9 = xgb9.predict(X_test)\n",
        "print(f1_score(y_test, y_pred9))\n",
        "print(confusion_matrix(y_test, y_pred9))\n"
      ]
    },
    {
      "cell_type": "code",
      "source": [
        "sdnadnas = xgb9.predict_proba(X_test)\n",
        "log_loss(y_test, sdnadnas[:, 1])"
      ],
      "metadata": {
        "colab": {
          "base_uri": "https://localhost:8080/"
        },
        "id": "K8V6UEQvi0cW",
        "outputId": "03a11534-55aa-481c-ae05-9545fa8dda18"
      },
      "execution_count": 464,
      "outputs": [
        {
          "output_type": "execute_result",
          "data": {
            "text/plain": [
              "0.5796948306061235"
            ]
          },
          "metadata": {},
          "execution_count": 464
        }
      ]
    },
    {
      "cell_type": "code",
      "source": [
        "testouput = xgb9.predict(datasettestn)"
      ],
      "metadata": {
        "id": "jbBvOUHt1wbX"
      },
      "execution_count": null,
      "outputs": []
    },
    {
      "cell_type": "code",
      "source": [
        "nooutliertestfile= datasettestn.copy()\n",
        "nooutliertestfile['target']= testouput\n",
        "nooutliertestfile.to_csv('nooutliertestfilexg9.csv')"
      ],
      "metadata": {
        "id": "7c8Bkum03dNE"
      },
      "execution_count": null,
      "outputs": []
    },
    {
      "cell_type": "code",
      "source": [
        "testouput12 = xgb9.predict_proba(datasettestn)\n",
        "nooutliertestfile1= datasettestn.copy()\n",
        "nooutliertestfile1['target']= testouput12[:, 1]\n",
        "nooutliertestfile1.to_csv('nooutliertestfilexg91.csv')"
      ],
      "metadata": {
        "id": "rFASBXzpfG8w"
      },
      "execution_count": 465,
      "outputs": []
    },
    {
      "cell_type": "code",
      "source": [
        "testouput1"
      ],
      "metadata": {
        "colab": {
          "base_uri": "https://localhost:8080/"
        },
        "id": "4BBhLcbVf_Rd",
        "outputId": "75193ddf-999e-4b6a-bedb-ded1a2f645c9"
      },
      "execution_count": 458,
      "outputs": [
        {
          "output_type": "execute_result",
          "data": {
            "text/plain": [
              "array([[9.71754849e-01, 2.82451436e-02],\n",
              "       [9.99978840e-01, 2.11801816e-05],\n",
              "       [9.55628455e-01, 4.43715341e-02],\n",
              "       ...,\n",
              "       [9.94754374e-01, 5.24559757e-03],\n",
              "       [8.00912321e-01, 1.99087664e-01],\n",
              "       [9.99985695e-01, 1.42766385e-05]], dtype=float32)"
            ]
          },
          "metadata": {},
          "execution_count": 458
        }
      ]
    },
    {
      "cell_type": "code",
      "source": [
        "\n",
        "\n",
        "oversample22= SVMSMOTE(sampling_strategy=0.4)\n",
        "smotex22, smotey22= oversample22.fit_resample(X_train, y_train)\n",
        "\n",
        "under22 = RandomUnderSampler(sampling_strategy=0.5)\n",
        "dummy222, dummy322= under22.fit_resample(smotex22, smotey22)"
      ],
      "metadata": {
        "id": "pkT0XOtT5isH"
      },
      "execution_count": null,
      "outputs": []
    },
    {
      "cell_type": "code",
      "source": [
        "from xgboost.sklearn import XGBClassifier\n",
        "xgb912 = XGBClassifier(\n",
        " learning_rate =0.8,\n",
        " n_estimators=4000,\n",
        " max_depth=15,\n",
        " min_child_weight=1,\n",
        " gamma=0.7,\n",
        " subsample=0.8,\n",
        " colsample_bytree=0.8,\n",
        " objective= 'binary:logistic',\n",
        " nthread=4,\n",
        " scale_pos_weight=0.5,\n",
        " seed=27)\n",
        "xgb912.fit(dummy222, dummy322)\n",
        "y_pred912= xgb912.predict(X_test)\n",
        "print(f1_score(y_test, y_pred912))\n",
        "print(confusion_matrix(y_test, y_pred912))\n"
      ],
      "metadata": {
        "colab": {
          "base_uri": "https://localhost:8080/"
        },
        "id": "xrDimXkByGA2",
        "outputId": "b01b00ae-86f5-417b-b207-d713ae002d43"
      },
      "execution_count": null,
      "outputs": [
        {
          "output_type": "stream",
          "name": "stdout",
          "text": [
            "0.0802139037433155\n",
            "[[11698   538]\n",
            " [ 1182    75]]\n"
          ]
        }
      ]
    },
    {
      "cell_type": "code",
      "source": [
        ""
      ],
      "metadata": {
        "id": "cNrILmlN5Ory"
      },
      "execution_count": null,
      "outputs": []
    },
    {
      "cell_type": "code",
      "source": [
        "14695/29390"
      ],
      "metadata": {
        "colab": {
          "base_uri": "https://localhost:8080/"
        },
        "id": "lNOKn7fGyQgU",
        "outputId": "2c780957-d0c9-4ece-9eb3-ee34bf2cad69"
      },
      "execution_count": null,
      "outputs": [
        {
          "output_type": "execute_result",
          "data": {
            "text/plain": [
              "0.5"
            ]
          },
          "metadata": {},
          "execution_count": 294
        }
      ]
    },
    {
      "cell_type": "code",
      "source": [
        "y_pred292 = xgb912.predict_proba(X_test)\n",
        "log_loss(y_test, y_pred292)"
      ],
      "metadata": {
        "colab": {
          "base_uri": "https://localhost:8080/"
        },
        "id": "4DuPbpJlGyP9",
        "outputId": "2896d77d-9648-4fbd-9a03-dab6a3f9bf47"
      },
      "execution_count": 459,
      "outputs": [
        {
          "output_type": "execute_result",
          "data": {
            "text/plain": [
              "0.523165717463569"
            ]
          },
          "metadata": {},
          "execution_count": 459
        }
      ]
    },
    {
      "cell_type": "code",
      "source": [
        "log_loss(y_test,y_pred292[:, 1])"
      ],
      "metadata": {
        "colab": {
          "base_uri": "https://localhost:8080/"
        },
        "id": "hhagPPBmihdQ",
        "outputId": "d377b49c-6428-488b-fe15-9e508c001ab8"
      },
      "execution_count": 463,
      "outputs": [
        {
          "output_type": "execute_result",
          "data": {
            "text/plain": [
              "0.523165717463569"
            ]
          },
          "metadata": {},
          "execution_count": 463
        }
      ]
    },
    {
      "cell_type": "code",
      "source": [
        "oversample1= SVMSMOTE(sampling_strategy=0.3)\n",
        "smotex1, smotey1= oversample1.fit_resample(X_train1, y_train1)\n",
        "\n",
        "under1 = RandomUnderSampler(sampling_strategy=0.6)\n",
        "dummy21, dummy31= under1.fit_resample(smotex1, smotey1)"
      ],
      "metadata": {
        "id": "ZszpTq9M6GWG"
      },
      "execution_count": null,
      "outputs": []
    },
    {
      "cell_type": "code",
      "source": [
        "dummy31.value_counts(), 7045/11741"
      ],
      "metadata": {
        "colab": {
          "base_uri": "https://localhost:8080/"
        },
        "id": "_RlAoAax7Vj8",
        "outputId": "61c96d3a-2073-4db9-e17f-8cf42ed44957"
      },
      "execution_count": null,
      "outputs": [
        {
          "output_type": "execute_result",
          "data": {
            "text/plain": [
              "(0    11741\n",
              " 1     7045\n",
              " Name: Loan Status, dtype: int64, 0.6000340686483264)"
            ]
          },
          "metadata": {},
          "execution_count": 313
        }
      ]
    },
    {
      "cell_type": "code",
      "source": [
        "from xgboost.sklearn import XGBClassifier\n",
        "xgb91 = XGBClassifier(\n",
        " learning_rate =0.37,\n",
        " n_estimators=3000,\n",
        " max_depth=9,\n",
        " min_child_weight=1,\n",
        " gamma=0.7,\n",
        " subsample=0.8,\n",
        " colsample_bytree=0.8,\n",
        " objective= 'binary:logistic',\n",
        " nthread=4,\n",
        " scale_pos_weight=0.6,\n",
        " seed=27)\n",
        "xgb91.fit(dummy21, dummy31)\n",
        "y_pred91 = xgb91.predict(X_test)\n",
        "print(f1_score(y_test, y_pred91))\n",
        "print(confusion_matrix(y_test, y_pred91))\n"
      ],
      "metadata": {
        "colab": {
          "base_uri": "https://localhost:8080/"
        },
        "id": "ouF1u3f3xXbx",
        "outputId": "b1aca1eb-f337-430a-d040-99a6be7836e6"
      },
      "execution_count": null,
      "outputs": [
        {
          "output_type": "stream",
          "name": "stdout",
          "text": [
            "0.11211340206185566\n",
            "[[10563  1673]\n",
            " [ 1083   174]]\n"
          ]
        }
      ]
    },
    {
      "cell_type": "code",
      "source": [
        "testpreout= xgb91.predict(datasettesto)"
      ],
      "metadata": {
        "id": "HxmuZCvH9-du"
      },
      "execution_count": null,
      "outputs": []
    },
    {
      "cell_type": "code",
      "source": [
        "testdataoutlier= datasettesto.copy()\n",
        "testdataoutlier['target']=testpreout\n"
      ],
      "metadata": {
        "id": "eEz7GzJS-x2Z"
      },
      "execution_count": null,
      "outputs": []
    },
    {
      "cell_type": "code",
      "source": [
        "testdataoutlier.to_csv('testdataoutlierxg91.csv')"
      ],
      "metadata": {
        "id": "JsMLJTQuA8lb"
      },
      "execution_count": null,
      "outputs": []
    },
    {
      "cell_type": "code",
      "source": [
        "testpreout1= xgb91.predict_proba(datasettesto)\n",
        "testdataoutlier1= datasettesto.copy()\n",
        "testdataoutlier1['target']=testpreout1[:, 1]\n",
        "testdataoutlier1.to_csv('testdataoutlierxg911.csv')"
      ],
      "metadata": {
        "id": "uWS48hovj7mr"
      },
      "execution_count": 466,
      "outputs": []
    },
    {
      "cell_type": "code",
      "source": [
        "testdataoutlier['target'].value_counts(), nooutliertestfile['target'].value_counts()"
      ],
      "metadata": {
        "colab": {
          "base_uri": "https://localhost:8080/"
        },
        "id": "7FcCl8Ni_JoM",
        "outputId": "f95fd35a-1069-45c5-d191-e03b849e5efc"
      },
      "execution_count": null,
      "outputs": [
        {
          "output_type": "execute_result",
          "data": {
            "text/plain": [
              "(0    17517\n",
              " 1     1687\n",
              " Name: target, dtype: int64, 0    23176\n",
              " 1     5737\n",
              " Name: target, dtype: int64)"
            ]
          },
          "metadata": {},
          "execution_count": 324
        }
      ]
    },
    {
      "cell_type": "code",
      "source": [
        "from xgboost.sklearn import XGBClassifier\n",
        "xgb912222 = XGBClassifier(\n",
        " learning_rate =0.33,\n",
        " n_estimators=3000,\n",
        " max_depth=13,\n",
        " min_child_weight=1,\n",
        " gamma=0.7,\n",
        " subsample=0.8,\n",
        " colsample_bytree=0.8,\n",
        " objective= 'binary:logistic',\n",
        " nthread=4,\n",
        " scale_pos_weight=0.6,\n",
        " seed=27)\n",
        "xgb912222.fit(dummy21, dummy31)\n",
        "y_pred912222= xgb912222.predict(X_test)\n",
        "print(f1_score(y_test, y_pred912222))\n",
        "print(confusion_matrix(y_test, y_pred912222))\n"
      ],
      "metadata": {
        "colab": {
          "base_uri": "https://localhost:8080/"
        },
        "id": "HLnfURcB8lXo",
        "outputId": "fcd940fb-3a5b-4db4-949f-b9a27c55ae19"
      },
      "execution_count": null,
      "outputs": [
        {
          "output_type": "stream",
          "name": "stdout",
          "text": [
            "0.11428571428571428\n",
            "[[10886  1350]\n",
            " [ 1099   158]]\n"
          ]
        }
      ]
    },
    {
      "cell_type": "code",
      "execution_count": null,
      "metadata": {
        "colab": {
          "base_uri": "https://localhost:8080/"
        },
        "id": "lfPn7lmTH85R",
        "outputId": "fa0548bd-593f-454c-d09f-aae09f4cb4d5"
      },
      "outputs": [
        {
          "output_type": "execute_result",
          "data": {
            "text/plain": [
              "(0    17517\n",
              " 1     1687\n",
              " Name: target, dtype: int64, 0    23176\n",
              " 1     5737\n",
              " Name: target, dtype: int64)"
            ]
          },
          "metadata": {},
          "execution_count": 328
        }
      ],
      "source": [
        "testdataoutlier['target'].value_counts(), nooutliertestfile['target'].value_counts()"
      ]
    },
    {
      "cell_type": "code",
      "source": [
        "copytestdataoutlier= testdataoutlier.copy()\n",
        "copynooutliertestfile= nooutliertestfile.copy()"
      ],
      "metadata": {
        "id": "-4ydNIQzAO6d"
      },
      "execution_count": null,
      "outputs": []
    },
    {
      "cell_type": "code",
      "execution_count": null,
      "metadata": {
        "colab": {
          "base_uri": "https://localhost:8080/"
        },
        "id": "2n6Ww31IxY2P",
        "outputId": "a2a29efa-eb01-4390-bd59-9d75454947b1"
      },
      "outputs": [
        {
          "output_type": "execute_result",
          "data": {
            "text/plain": [
              "(0    17517\n",
              " 1     1687\n",
              " Name: target, dtype: int64, 0    23176\n",
              " 1     5737\n",
              " Name: target, dtype: int64)"
            ]
          },
          "metadata": {},
          "execution_count": 400
        }
      ],
      "source": [
        "# pd.read_csv('/content/testdataoutlierxg91', index_col= 'Unnamed: 0')\n",
        "copytestdataoutlier['target'].value_counts(), copynooutliertestfile['target'].value_counts()"
      ]
    },
    {
      "cell_type": "code",
      "source": [
        "copytestdataoutlier['target'].value_counts(), copynooutliertestfile['target'].value_counts()"
      ],
      "metadata": {
        "colab": {
          "base_uri": "https://localhost:8080/"
        },
        "id": "QmdxvkhM_9ia",
        "outputId": "80cba220-27b5-48a7-f3b4-d630ca08d561"
      },
      "execution_count": null,
      "outputs": [
        {
          "output_type": "execute_result",
          "data": {
            "text/plain": [
              "(0    17517\n",
              " 1     1687\n",
              " Name: target, dtype: int64, 0    23176\n",
              " 1     5737\n",
              " Name: target, dtype: int64)"
            ]
          },
          "metadata": {},
          "execution_count": 401
        }
      ]
    },
    {
      "cell_type": "code",
      "source": [
        "submission= pd.read_csv('/content/drive/MyDrive/Colab Notebooks/machine hacks/Participants_Data_PLD/submission.csv')"
      ],
      "metadata": {
        "id": "UN5NTqthCEHT"
      },
      "execution_count": null,
      "outputs": []
    },
    {
      "cell_type": "code",
      "source": [
        "submission.shape"
      ],
      "metadata": {
        "colab": {
          "base_uri": "https://localhost:8080/"
        },
        "id": "96aWgAkJCsKk",
        "outputId": "2af083e1-5c10-4777-9396-1d3325234d78"
      },
      "execution_count": null,
      "outputs": [
        {
          "output_type": "execute_result",
          "data": {
            "text/plain": [
              "(28913, 1)"
            ]
          },
          "metadata": {},
          "execution_count": 403
        }
      ]
    },
    {
      "cell_type": "code",
      "source": [
        "for i in copytestdataoutlier.index.tolist():\n",
        "  if i in copynooutliertestfile.index.tolist():\n",
        "    copynooutliertestfile.drop(index= i, inplace= True)"
      ],
      "metadata": {
        "id": "ioHyGPrgC-0R"
      },
      "execution_count": null,
      "outputs": []
    },
    {
      "cell_type": "code",
      "source": [
        "copynooutliertestfile.shape"
      ],
      "metadata": {
        "colab": {
          "base_uri": "https://localhost:8080/"
        },
        "id": "4HlKM7IJLYj4",
        "outputId": "4619c078-db84-4d63-a57e-fd2e7d8e6c3a"
      },
      "execution_count": null,
      "outputs": [
        {
          "output_type": "execute_result",
          "data": {
            "text/plain": [
              "(9709, 20)"
            ]
          },
          "metadata": {},
          "execution_count": 405
        }
      ]
    },
    {
      "cell_type": "code",
      "source": [
        "dummy676= pd.concat([copytestdataoutlier, copynooutliertestfile], axis= 0)"
      ],
      "metadata": {
        "id": "w5J0csBxEbNt"
      },
      "execution_count": null,
      "outputs": []
    },
    {
      "cell_type": "code",
      "source": [
        "submission.head()"
      ],
      "metadata": {
        "colab": {
          "base_uri": "https://localhost:8080/",
          "height": 206
        },
        "id": "NoEw0dJ8GiBa",
        "outputId": "48eea48c-5cf6-4ef0-ff5d-7657d99c863c"
      },
      "execution_count": null,
      "outputs": [
        {
          "output_type": "execute_result",
          "data": {
            "text/html": [
              "<div>\n",
              "<style scoped>\n",
              "    .dataframe tbody tr th:only-of-type {\n",
              "        vertical-align: middle;\n",
              "    }\n",
              "\n",
              "    .dataframe tbody tr th {\n",
              "        vertical-align: top;\n",
              "    }\n",
              "\n",
              "    .dataframe thead th {\n",
              "        text-align: right;\n",
              "    }\n",
              "</style>\n",
              "<table border=\"1\" class=\"dataframe\">\n",
              "  <thead>\n",
              "    <tr style=\"text-align: right;\">\n",
              "      <th></th>\n",
              "      <th>Loan Status</th>\n",
              "    </tr>\n",
              "  </thead>\n",
              "  <tbody>\n",
              "    <tr>\n",
              "      <th>0</th>\n",
              "      <td>0</td>\n",
              "    </tr>\n",
              "    <tr>\n",
              "      <th>1</th>\n",
              "      <td>0</td>\n",
              "    </tr>\n",
              "    <tr>\n",
              "      <th>2</th>\n",
              "      <td>0</td>\n",
              "    </tr>\n",
              "    <tr>\n",
              "      <th>3</th>\n",
              "      <td>0</td>\n",
              "    </tr>\n",
              "    <tr>\n",
              "      <th>4</th>\n",
              "      <td>0</td>\n",
              "    </tr>\n",
              "  </tbody>\n",
              "</table>\n",
              "</div>"
            ],
            "text/plain": [
              "   Loan Status\n",
              "0            0\n",
              "1            0\n",
              "2            0\n",
              "3            0\n",
              "4            0"
            ]
          },
          "metadata": {},
          "execution_count": 407
        }
      ]
    },
    {
      "cell_type": "code",
      "source": [
        "newdata= dummy676.join(submission)"
      ],
      "metadata": {
        "id": "kwII5o8GGoC3"
      },
      "execution_count": null,
      "outputs": []
    },
    {
      "cell_type": "code",
      "source": [
        "k['Loan Status'].value_counts()"
      ],
      "metadata": {
        "colab": {
          "base_uri": "https://localhost:8080/"
        },
        "id": "nzaU_IGoHI2h",
        "outputId": "e5d4b900-29a2-4c74-abf5-648cff1b05b8"
      },
      "execution_count": null,
      "outputs": [
        {
          "output_type": "execute_result",
          "data": {
            "text/plain": [
              "0    61222\n",
              "1     6241\n",
              "Name: Loan Status, dtype: int64"
            ]
          },
          "metadata": {},
          "execution_count": 409
        }
      ]
    },
    {
      "cell_type": "code",
      "source": [
        "pd.concat([submission, dummy676], axis= 1)['target'].value_counts(), 5737/23176*100"
      ],
      "metadata": {
        "colab": {
          "base_uri": "https://localhost:8080/"
        },
        "id": "j78NOaPfHpcY",
        "outputId": "227ce741-bb9d-4a14-9d5b-39f54bfdf75f"
      },
      "execution_count": 415,
      "outputs": [
        {
          "output_type": "execute_result",
          "data": {
            "text/plain": [
              "(0    26156\n",
              " 1     2757\n",
              " Name: target, dtype: int64, 24.754055919917157)"
            ]
          },
          "metadata": {},
          "execution_count": 415
        }
      ]
    },
    {
      "cell_type": "code",
      "source": [
        "len(newdata['target'])"
      ],
      "metadata": {
        "colab": {
          "base_uri": "https://localhost:8080/"
        },
        "id": "Kw2jpA4uH4IT",
        "outputId": "655a78e9-c620-4c6d-d7f8-b8771e8903f4"
      },
      "execution_count": null,
      "outputs": [
        {
          "output_type": "execute_result",
          "data": {
            "text/plain": [
              "28913"
            ]
          },
          "metadata": {},
          "execution_count": 414
        }
      ]
    },
    {
      "cell_type": "code",
      "source": [
        "#ratio is same  :- 6241/61222*100, 2757/26156*100"
      ],
      "metadata": {
        "colab": {
          "base_uri": "https://localhost:8080/"
        },
        "id": "D64QXj0eK8jM",
        "outputId": "1d8308c1-8601-433c-8f75-8112798480a9"
      },
      "execution_count": null,
      "outputs": [
        {
          "output_type": "execute_result",
          "data": {
            "text/plain": [
              "(10.194047891280912, 10.540602538614467)"
            ]
          },
          "metadata": {},
          "execution_count": 411
        }
      ]
    },
    {
      "cell_type": "code",
      "source": [
        "newdata['target']"
      ],
      "metadata": {
        "id": "H6qTcJYLUcPD"
      },
      "execution_count": null,
      "outputs": []
    },
    {
      "cell_type": "code",
      "source": [
        "newdata1 = newdata.sort_index(axis=0)"
      ],
      "metadata": {
        "id": "InrMh-2aL_C6"
      },
      "execution_count": 419,
      "outputs": []
    },
    {
      "cell_type": "code",
      "source": [
        "newdata1.drop(['Loan Status'], axis=1, inplace= True)"
      ],
      "metadata": {
        "id": "mKmBDqZbTXGl"
      },
      "execution_count": 429,
      "outputs": []
    },
    {
      "cell_type": "code",
      "source": [
        "newdata1['Loan Status']= newdata1['target']"
      ],
      "metadata": {
        "id": "AXej_vB0THYU"
      },
      "execution_count": 437,
      "outputs": []
    },
    {
      "cell_type": "code",
      "source": [
        "newdata1['Loan Status'].value_counts()"
      ],
      "metadata": {
        "colab": {
          "base_uri": "https://localhost:8080/"
        },
        "id": "wNi2c52KTOnB",
        "outputId": "ab66e3bc-eb10-4170-d9a8-bcf2bc7dc02d"
      },
      "execution_count": 439,
      "outputs": [
        {
          "output_type": "execute_result",
          "data": {
            "text/plain": [
              "0    26156\n",
              "1     2757\n",
              "Name: Loan Status, dtype: int64"
            ]
          },
          "metadata": {},
          "execution_count": 439
        }
      ]
    },
    {
      "cell_type": "code",
      "source": [
        "2757/26156*100"
      ],
      "metadata": {
        "colab": {
          "base_uri": "https://localhost:8080/"
        },
        "id": "kEfixNvIWEP9",
        "outputId": "11a251da-2730-4e61-9e2b-95f47aee344c"
      },
      "execution_count": 440,
      "outputs": [
        {
          "output_type": "execute_result",
          "data": {
            "text/plain": [
              "10.540602538614467"
            ]
          },
          "metadata": {},
          "execution_count": 440
        }
      ]
    },
    {
      "cell_type": "code",
      "source": [
        "newdata1[['Loan Status']].to_csv('my_submission_file.csv', index=False)"
      ],
      "metadata": {
        "id": "URot8W51Wk7F"
      },
      "execution_count": 445,
      "outputs": []
    },
    {
      "cell_type": "code",
      "source": [
        "copytestdataoutlier1= testdataoutlier1.copy()\n",
        "copynooutliertestfile1= nooutliertestfile1.copy()\n",
        "copytestdataoutlier1['target'].value_counts(), copynooutliertestfile1['target'].value_counts()\n",
        "for i in copytestdataoutlier1.index.tolist():\n",
        "  if i in copynooutliertestfile1.index.tolist():\n",
        "    copynooutliertestfile1.drop(index= i, inplace= True)\n",
        "\n",
        "dummy6761= pd.concat([copytestdataoutlier1, copynooutliertestfile1], axis= 0)\n",
        "newdata12= dummy6761.join(submission)\n",
        "newdata12 = newdata12.sort_index(axis=0)\n",
        "newdata12.drop(['Loan Status'], axis=1, inplace= True)\n",
        "newdata12['Loan Status']= newdata12['target']\n",
        "newdata12['Loan Status'].value_counts()\n",
        "newdata12[['Loan Status']].to_csv('my_submission_file.csv', index=False)\n"
      ],
      "metadata": {
        "id": "aWWl00CSdgbq"
      },
      "execution_count": 472,
      "outputs": []
    },
    {
      "cell_type": "code",
      "source": [
        "newdata12[['Loan Status']]"
      ],
      "metadata": {
        "colab": {
          "base_uri": "https://localhost:8080/",
          "height": 424
        },
        "id": "OUw5g0sLmR8Y",
        "outputId": "d2d0db50-f307-4dfc-ab05-b754b6125357"
      },
      "execution_count": 475,
      "outputs": [
        {
          "output_type": "execute_result",
          "data": {
            "text/html": [
              "<div>\n",
              "<style scoped>\n",
              "    .dataframe tbody tr th:only-of-type {\n",
              "        vertical-align: middle;\n",
              "    }\n",
              "\n",
              "    .dataframe tbody tr th {\n",
              "        vertical-align: top;\n",
              "    }\n",
              "\n",
              "    .dataframe thead th {\n",
              "        text-align: right;\n",
              "    }\n",
              "</style>\n",
              "<table border=\"1\" class=\"dataframe\">\n",
              "  <thead>\n",
              "    <tr style=\"text-align: right;\">\n",
              "      <th></th>\n",
              "      <th>Loan Status</th>\n",
              "    </tr>\n",
              "  </thead>\n",
              "  <tbody>\n",
              "    <tr>\n",
              "      <th>0</th>\n",
              "      <td>0.125294</td>\n",
              "    </tr>\n",
              "    <tr>\n",
              "      <th>1</th>\n",
              "      <td>0.000021</td>\n",
              "    </tr>\n",
              "    <tr>\n",
              "      <th>2</th>\n",
              "      <td>0.126230</td>\n",
              "    </tr>\n",
              "    <tr>\n",
              "      <th>3</th>\n",
              "      <td>0.002418</td>\n",
              "    </tr>\n",
              "    <tr>\n",
              "      <th>4</th>\n",
              "      <td>0.008852</td>\n",
              "    </tr>\n",
              "    <tr>\n",
              "      <th>...</th>\n",
              "      <td>...</td>\n",
              "    </tr>\n",
              "    <tr>\n",
              "      <th>28908</th>\n",
              "      <td>0.010765</td>\n",
              "    </tr>\n",
              "    <tr>\n",
              "      <th>28909</th>\n",
              "      <td>0.070256</td>\n",
              "    </tr>\n",
              "    <tr>\n",
              "      <th>28910</th>\n",
              "      <td>0.000174</td>\n",
              "    </tr>\n",
              "    <tr>\n",
              "      <th>28911</th>\n",
              "      <td>0.322557</td>\n",
              "    </tr>\n",
              "    <tr>\n",
              "      <th>28912</th>\n",
              "      <td>0.097259</td>\n",
              "    </tr>\n",
              "  </tbody>\n",
              "</table>\n",
              "<p>28913 rows × 1 columns</p>\n",
              "</div>"
            ],
            "text/plain": [
              "       Loan Status\n",
              "0         0.125294\n",
              "1         0.000021\n",
              "2         0.126230\n",
              "3         0.002418\n",
              "4         0.008852\n",
              "...            ...\n",
              "28908     0.010765\n",
              "28909     0.070256\n",
              "28910     0.000174\n",
              "28911     0.322557\n",
              "28912     0.097259\n",
              "\n",
              "[28913 rows x 1 columns]"
            ]
          },
          "metadata": {},
          "execution_count": 475
        }
      ]
    },
    {
      "cell_type": "code",
      "source": [
        "submission"
      ],
      "metadata": {
        "colab": {
          "base_uri": "https://localhost:8080/",
          "height": 424
        },
        "id": "9qLQFBv-mkpz",
        "outputId": "543e0ffd-a464-4af8-dd05-ccc316cf46a4"
      },
      "execution_count": 476,
      "outputs": [
        {
          "output_type": "execute_result",
          "data": {
            "text/html": [
              "<div>\n",
              "<style scoped>\n",
              "    .dataframe tbody tr th:only-of-type {\n",
              "        vertical-align: middle;\n",
              "    }\n",
              "\n",
              "    .dataframe tbody tr th {\n",
              "        vertical-align: top;\n",
              "    }\n",
              "\n",
              "    .dataframe thead th {\n",
              "        text-align: right;\n",
              "    }\n",
              "</style>\n",
              "<table border=\"1\" class=\"dataframe\">\n",
              "  <thead>\n",
              "    <tr style=\"text-align: right;\">\n",
              "      <th></th>\n",
              "      <th>Loan Status</th>\n",
              "    </tr>\n",
              "  </thead>\n",
              "  <tbody>\n",
              "    <tr>\n",
              "      <th>0</th>\n",
              "      <td>0</td>\n",
              "    </tr>\n",
              "    <tr>\n",
              "      <th>1</th>\n",
              "      <td>0</td>\n",
              "    </tr>\n",
              "    <tr>\n",
              "      <th>2</th>\n",
              "      <td>0</td>\n",
              "    </tr>\n",
              "    <tr>\n",
              "      <th>3</th>\n",
              "      <td>0</td>\n",
              "    </tr>\n",
              "    <tr>\n",
              "      <th>4</th>\n",
              "      <td>0</td>\n",
              "    </tr>\n",
              "    <tr>\n",
              "      <th>...</th>\n",
              "      <td>...</td>\n",
              "    </tr>\n",
              "    <tr>\n",
              "      <th>28908</th>\n",
              "      <td>0</td>\n",
              "    </tr>\n",
              "    <tr>\n",
              "      <th>28909</th>\n",
              "      <td>0</td>\n",
              "    </tr>\n",
              "    <tr>\n",
              "      <th>28910</th>\n",
              "      <td>0</td>\n",
              "    </tr>\n",
              "    <tr>\n",
              "      <th>28911</th>\n",
              "      <td>0</td>\n",
              "    </tr>\n",
              "    <tr>\n",
              "      <th>28912</th>\n",
              "      <td>0</td>\n",
              "    </tr>\n",
              "  </tbody>\n",
              "</table>\n",
              "<p>28913 rows × 1 columns</p>\n",
              "</div>"
            ],
            "text/plain": [
              "       Loan Status\n",
              "0                0\n",
              "1                0\n",
              "2                0\n",
              "3                0\n",
              "4                0\n",
              "...            ...\n",
              "28908            0\n",
              "28909            0\n",
              "28910            0\n",
              "28911            0\n",
              "28912            0\n",
              "\n",
              "[28913 rows x 1 columns]"
            ]
          },
          "metadata": {},
          "execution_count": 476
        }
      ]
    },
    {
      "cell_type": "code",
      "source": [
        ""
      ],
      "metadata": {
        "id": "_6CydmkXp-1R"
      },
      "execution_count": null,
      "outputs": []
    }
  ],
  "metadata": {
    "colab": {
      "collapsed_sections": [],
      "name": "Untitled19.ipynb",
      "provenance": []
    },
    "kernelspec": {
      "display_name": "Python 3",
      "name": "python3"
    },
    "language_info": {
      "name": "python"
    },
    "widgets": {
      "application/vnd.jupyter.widget-state+json": {
        "f23dc3a363064cbc9af9d74974be2ee9": {
          "model_module": "catboost-widget",
          "model_name": "CatboostWidgetModel",
          "model_module_version": "^1.0.0",
          "state": {
            "_view_name": "CatboostWidgetView",
            "_dom_classes": [],
            "_model_name": "CatboostWidgetModel",
            "data": {
              "catboost_info": {
                "content": {
                  "data": {
                    "meta": {
                      "name": "experiment",
                      "parameters": "",
                      "test_metrics": [],
                      "learn_sets": [
                        "learn"
                      ],
                      "launch_mode": "Train",
                      "learn_metrics": [
                        {
                          "best_value": "Min",
                          "name": "Logloss"
                        }
                      ],
                      "iteration_count": 1000,
                      "test_sets": []
                    },
                    "iterations": [
                      {
                        "passed_time": 0.01725134648,
                        "iteration": 0,
                        "remaining_time": 17.23409514,
                        "learn": [
                          0.6375632511
                        ]
                      },
                      {
                        "passed_time": 0.03400429219,
                        "iteration": 1,
                        "remaining_time": 16.9681418,
                        "learn": [
                          0.5901103188
                        ]
                      },
                      {
                        "passed_time": 0.04501289212,
                        "iteration": 2,
                        "remaining_time": 14.95928448,
                        "learn": [
                          0.5496916272
                        ]
                      },
                      {
                        "passed_time": 0.05563717257,
                        "iteration": 3,
                        "remaining_time": 13.85365597,
                        "learn": [
                          0.5152021201
                        ]
                      },
                      {
                        "passed_time": 0.070317864,
                        "iteration": 4,
                        "remaining_time": 13.99325494,
                        "learn": [
                          0.4856769718
                        ]
                      },
                      {
                        "passed_time": 0.08465379745,
                        "iteration": 5,
                        "remaining_time": 14.02431244,
                        "learn": [
                          0.4604475676
                        ]
                      },
                      {
                        "passed_time": 0.1003336477,
                        "iteration": 6,
                        "remaining_time": 14.2330446,
                        "learn": [
                          0.4389175328
                        ]
                      },
                      {
                        "passed_time": 0.1156854873,
                        "iteration": 7,
                        "remaining_time": 14.34500043,
                        "learn": [
                          0.4205122245
                        ]
                      },
                      {
                        "passed_time": 0.1268698315,
                        "iteration": 8,
                        "remaining_time": 13.96977811,
                        "learn": [
                          0.4048557177
                        ]
                      },
                      {
                        "passed_time": 0.1401153558,
                        "iteration": 9,
                        "remaining_time": 13.87142022,
                        "learn": [
                          0.3914308996
                        ]
                      },
                      {
                        "passed_time": 0.1542396603,
                        "iteration": 10,
                        "remaining_time": 13.86754764,
                        "learn": [
                          0.3799201623
                        ]
                      },
                      {
                        "passed_time": 0.1679852845,
                        "iteration": 11,
                        "remaining_time": 13.83078843,
                        "learn": [
                          0.3700463048
                        ]
                      },
                      {
                        "passed_time": 0.1774635779,
                        "iteration": 12,
                        "remaining_time": 13.47358088,
                        "learn": [
                          0.3616175149
                        ]
                      },
                      {
                        "passed_time": 0.1887217669,
                        "iteration": 13,
                        "remaining_time": 13.29140444,
                        "learn": [
                          0.354361579
                        ]
                      },
                      {
                        "passed_time": 0.2116983832,
                        "iteration": 14,
                        "remaining_time": 13.90152716,
                        "learn": [
                          0.3480545117
                        ]
                      },
                      {
                        "passed_time": 0.226349579,
                        "iteration": 15,
                        "remaining_time": 13.92049911,
                        "learn": [
                          0.3426562722
                        ]
                      },
                      {
                        "passed_time": 0.2374697216,
                        "iteration": 16,
                        "remaining_time": 13.73133743,
                        "learn": [
                          0.3380254438
                        ]
                      },
                      {
                        "passed_time": 0.2521457721,
                        "iteration": 17,
                        "remaining_time": 13.75595268,
                        "learn": [
                          0.334001854
                        ]
                      },
                      {
                        "passed_time": 0.2727860692,
                        "iteration": 18,
                        "remaining_time": 14.08437547,
                        "learn": [
                          0.3305224141
                        ]
                      },
                      {
                        "passed_time": 0.2868786745,
                        "iteration": 19,
                        "remaining_time": 14.05705505,
                        "learn": [
                          0.3275193985
                        ]
                      },
                      {
                        "passed_time": 0.3009845649,
                        "iteration": 20,
                        "remaining_time": 14.03161376,
                        "learn": [
                          0.324904476
                        ]
                      },
                      {
                        "passed_time": 0.3115094482,
                        "iteration": 21,
                        "remaining_time": 13.84801092,
                        "learn": [
                          0.3226713578
                        ]
                      },
                      {
                        "passed_time": 0.3265723932,
                        "iteration": 22,
                        "remaining_time": 13.87222731,
                        "learn": [
                          0.3206930711
                        ]
                      },
                      {
                        "passed_time": 0.3402067506,
                        "iteration": 23,
                        "remaining_time": 13.83507453,
                        "learn": [
                          0.3189914752
                        ]
                      },
                      {
                        "passed_time": 0.3553916861,
                        "iteration": 24,
                        "remaining_time": 13.86027576,
                        "learn": [
                          0.3175008914
                        ]
                      },
                      {
                        "passed_time": 0.3650817783,
                        "iteration": 25,
                        "remaining_time": 13.67652508,
                        "learn": [
                          0.316235773
                        ]
                      },
                      {
                        "passed_time": 0.3746682753,
                        "iteration": 26,
                        "remaining_time": 13.50193451,
                        "learn": [
                          0.3151362847
                        ]
                      },
                      {
                        "passed_time": 0.3845672665,
                        "iteration": 27,
                        "remaining_time": 13.34997796,
                        "learn": [
                          0.3141748207
                        ]
                      },
                      {
                        "passed_time": 0.3989455482,
                        "iteration": 28,
                        "remaining_time": 13.35779749,
                        "learn": [
                          0.3133117843
                        ]
                      },
                      {
                        "passed_time": 0.4124245511,
                        "iteration": 29,
                        "remaining_time": 13.33506048,
                        "learn": [
                          0.3125442699
                        ]
                      },
                      {
                        "passed_time": 0.4274403509,
                        "iteration": 30,
                        "remaining_time": 13.36095807,
                        "learn": [
                          0.3118756765
                        ]
                      },
                      {
                        "passed_time": 0.4414623724,
                        "iteration": 31,
                        "remaining_time": 13.35423676,
                        "learn": [
                          0.3112797103
                        ]
                      },
                      {
                        "passed_time": 0.4567600241,
                        "iteration": 32,
                        "remaining_time": 13.38445283,
                        "learn": [
                          0.3107569884
                        ]
                      },
                      {
                        "passed_time": 0.470158203,
                        "iteration": 33,
                        "remaining_time": 13.35802424,
                        "learn": [
                          0.3103146767
                        ]
                      },
                      {
                        "passed_time": 0.4849184665,
                        "iteration": 34,
                        "remaining_time": 13.36989486,
                        "learn": [
                          0.3099229249
                        ]
                      },
                      {
                        "passed_time": 0.4952465782,
                        "iteration": 35,
                        "remaining_time": 13.26160282,
                        "learn": [
                          0.309600813
                        ]
                      },
                      {
                        "passed_time": 0.5233507023,
                        "iteration": 36,
                        "remaining_time": 13.62126287,
                        "learn": [
                          0.3092798504
                        ]
                      },
                      {
                        "passed_time": 0.5382734341,
                        "iteration": 37,
                        "remaining_time": 13.62681694,
                        "learn": [
                          0.3090008827
                        ]
                      },
                      {
                        "passed_time": 0.548615795,
                        "iteration": 38,
                        "remaining_time": 13.51845587,
                        "learn": [
                          0.3087869611
                        ]
                      },
                      {
                        "passed_time": 0.5581954955,
                        "iteration": 39,
                        "remaining_time": 13.39669189,
                        "learn": [
                          0.3085984632
                        ]
                      },
                      {
                        "passed_time": 0.5717784892,
                        "iteration": 40,
                        "remaining_time": 13.37403832,
                        "learn": [
                          0.3084329833
                        ]
                      },
                      {
                        "passed_time": 0.5985044395,
                        "iteration": 41,
                        "remaining_time": 13.65160126,
                        "learn": [
                          0.3082602313
                        ]
                      },
                      {
                        "passed_time": 0.6134924679,
                        "iteration": 42,
                        "remaining_time": 13.65377423,
                        "learn": [
                          0.3080933911
                        ]
                      },
                      {
                        "passed_time": 0.6282556632,
                        "iteration": 43,
                        "remaining_time": 13.65028214,
                        "learn": [
                          0.3079434142
                        ]
                      },
                      {
                        "passed_time": 0.6425512261,
                        "iteration": 44,
                        "remaining_time": 13.63636491,
                        "learn": [
                          0.3078061912
                        ]
                      },
                      {
                        "passed_time": 0.6577524111,
                        "iteration": 45,
                        "remaining_time": 13.64121305,
                        "learn": [
                          0.3076873975
                        ]
                      },
                      {
                        "passed_time": 0.6727608777,
                        "iteration": 46,
                        "remaining_time": 13.64130035,
                        "learn": [
                          0.3075863184
                        ]
                      },
                      {
                        "passed_time": 0.6872252957,
                        "iteration": 47,
                        "remaining_time": 13.62996836,
                        "learn": [
                          0.3074809348
                        ]
                      },
                      {
                        "passed_time": 0.7021809185,
                        "iteration": 48,
                        "remaining_time": 13.62804191,
                        "learn": [
                          0.3073931938
                        ]
                      },
                      {
                        "passed_time": 0.7115576775,
                        "iteration": 49,
                        "remaining_time": 13.51959587,
                        "learn": [
                          0.3073435291
                        ]
                      },
                      {
                        "passed_time": 0.7263505493,
                        "iteration": 50,
                        "remaining_time": 13.51581708,
                        "learn": [
                          0.3072514121
                        ]
                      },
                      {
                        "passed_time": 0.7413667118,
                        "iteration": 51,
                        "remaining_time": 13.51568544,
                        "learn": [
                          0.307175138
                        ]
                      },
                      {
                        "passed_time": 0.7563547093,
                        "iteration": 52,
                        "remaining_time": 13.51448886,
                        "learn": [
                          0.3070965455
                        ]
                      },
                      {
                        "passed_time": 0.7746102546,
                        "iteration": 53,
                        "remaining_time": 13.57002409,
                        "learn": [
                          0.307019536
                        ]
                      },
                      {
                        "passed_time": 0.7941210287,
                        "iteration": 54,
                        "remaining_time": 13.64444313,
                        "learn": [
                          0.3069719714
                        ]
                      },
                      {
                        "passed_time": 0.8031553397,
                        "iteration": 55,
                        "remaining_time": 13.5389043,
                        "learn": [
                          0.3069492119
                        ]
                      },
                      {
                        "passed_time": 0.8179321079,
                        "iteration": 56,
                        "remaining_time": 13.53175399,
                        "learn": [
                          0.3068847703
                        ]
                      },
                      {
                        "passed_time": 0.8364533409,
                        "iteration": 57,
                        "remaining_time": 13.58515598,
                        "learn": [
                          0.3068654123
                        ]
                      },
                      {
                        "passed_time": 0.8511169145,
                        "iteration": 58,
                        "remaining_time": 13.5745935,
                        "learn": [
                          0.3067915462
                        ]
                      },
                      {
                        "passed_time": 0.8657879887,
                        "iteration": 59,
                        "remaining_time": 13.56401182,
                        "learn": [
                          0.3067345794
                        ]
                      },
                      {
                        "passed_time": 0.8831745956,
                        "iteration": 60,
                        "remaining_time": 13.59509746,
                        "learn": [
                          0.3066705413
                        ]
                      },
                      {
                        "passed_time": 0.898194125,
                        "iteration": 61,
                        "remaining_time": 13.58880789,
                        "learn": [
                          0.3066255851
                        ]
                      },
                      {
                        "passed_time": 0.9139564615,
                        "iteration": 62,
                        "remaining_time": 13.59328896,
                        "learn": [
                          0.3065764192
                        ]
                      },
                      {
                        "passed_time": 0.9299820474,
                        "iteration": 63,
                        "remaining_time": 13.60098744,
                        "learn": [
                          0.3065365252
                        ]
                      },
                      {
                        "passed_time": 0.9440501991,
                        "iteration": 64,
                        "remaining_time": 13.57979902,
                        "learn": [
                          0.306493568
                        ]
                      },
                      {
                        "passed_time": 0.9607653365,
                        "iteration": 65,
                        "remaining_time": 13.59628522,
                        "learn": [
                          0.3064614624
                        ]
                      },
                      {
                        "passed_time": 0.9824405943,
                        "iteration": 66,
                        "remaining_time": 13.68085186,
                        "learn": [
                          0.3064280597
                        ]
                      },
                      {
                        "passed_time": 0.9972532793,
                        "iteration": 67,
                        "remaining_time": 13.66823612,
                        "learn": [
                          0.3063706112
                        ]
                      },
                      {
                        "passed_time": 1.01121575,
                        "iteration": 68,
                        "remaining_time": 13.64408498,
                        "learn": [
                          0.306328324
                        ]
                      },
                      {
                        "passed_time": 1.024720833,
                        "iteration": 69,
                        "remaining_time": 13.6141482,
                        "learn": [
                          0.3062803953
                        ]
                      },
                      {
                        "passed_time": 1.039258334,
                        "iteration": 70,
                        "remaining_time": 13.59818299,
                        "learn": [
                          0.3062490483
                        ]
                      },
                      {
                        "passed_time": 1.053842752,
                        "iteration": 71,
                        "remaining_time": 13.58286214,
                        "learn": [
                          0.3062153701
                        ]
                      },
                      {
                        "passed_time": 1.063647121,
                        "iteration": 72,
                        "remaining_time": 13.50686139,
                        "learn": [
                          0.3062067521
                        ]
                      },
                      {
                        "passed_time": 1.078396841,
                        "iteration": 73,
                        "remaining_time": 13.49453344,
                        "learn": [
                          0.3061683713
                        ]
                      },
                      {
                        "passed_time": 1.088471998,
                        "iteration": 74,
                        "remaining_time": 13.42448798,
                        "learn": [
                          0.3061631703
                        ]
                      },
                      {
                        "passed_time": 1.102527216,
                        "iteration": 75,
                        "remaining_time": 13.40440984,
                        "learn": [
                          0.3061372409
                        ]
                      },
                      {
                        "passed_time": 1.116861695,
                        "iteration": 76,
                        "remaining_time": 13.38783565,
                        "learn": [
                          0.3060947537
                        ]
                      },
                      {
                        "passed_time": 1.131061812,
                        "iteration": 77,
                        "remaining_time": 13.36973064,
                        "learn": [
                          0.3060642917
                        ]
                      },
                      {
                        "passed_time": 1.145640139,
                        "iteration": 78,
                        "remaining_time": 13.35613377,
                        "learn": [
                          0.3060219626
                        ]
                      },
                      {
                        "passed_time": 1.160351841,
                        "iteration": 79,
                        "remaining_time": 13.34404618,
                        "learn": [
                          0.3059472523
                        ]
                      },
                      {
                        "passed_time": 1.176512863,
                        "iteration": 80,
                        "remaining_time": 13.3483373,
                        "learn": [
                          0.305882533
                        ]
                      },
                      {
                        "passed_time": 1.190942992,
                        "iteration": 81,
                        "remaining_time": 13.33275203,
                        "learn": [
                          0.3058552297
                        ]
                      },
                      {
                        "passed_time": 1.206115833,
                        "iteration": 82,
                        "remaining_time": 13.32540023,
                        "learn": [
                          0.3058172656
                        ]
                      },
                      {
                        "passed_time": 1.220942407,
                        "iteration": 83,
                        "remaining_time": 13.31408625,
                        "learn": [
                          0.3057965507
                        ]
                      },
                      {
                        "passed_time": 1.23658483,
                        "iteration": 84,
                        "remaining_time": 13.311472,
                        "learn": [
                          0.3057464412
                        ]
                      },
                      {
                        "passed_time": 1.251177908,
                        "iteration": 85,
                        "remaining_time": 13.29740242,
                        "learn": [
                          0.3056852979
                        ]
                      },
                      {
                        "passed_time": 1.265517435,
                        "iteration": 86,
                        "remaining_time": 13.28065998,
                        "learn": [
                          0.3056412386
                        ]
                      },
                      {
                        "passed_time": 1.284087716,
                        "iteration": 87,
                        "remaining_time": 13.30781815,
                        "learn": [
                          0.3056212022
                        ]
                      },
                      {
                        "passed_time": 1.316835534,
                        "iteration": 88,
                        "remaining_time": 13.47906934,
                        "learn": [
                          0.305599636
                        ]
                      },
                      {
                        "passed_time": 1.332106611,
                        "iteration": 89,
                        "remaining_time": 13.46907796,
                        "learn": [
                          0.3055465461
                        ]
                      },
                      {
                        "passed_time": 1.347353849,
                        "iteration": 90,
                        "remaining_time": 13.45873241,
                        "learn": [
                          0.3055101361
                        ]
                      },
                      {
                        "passed_time": 1.361554086,
                        "iteration": 91,
                        "remaining_time": 13.43794685,
                        "learn": [
                          0.3054767009
                        ]
                      },
                      {
                        "passed_time": 1.377046468,
                        "iteration": 92,
                        "remaining_time": 13.4299048,
                        "learn": [
                          0.3054491688
                        ]
                      },
                      {
                        "passed_time": 1.391556955,
                        "iteration": 93,
                        "remaining_time": 13.41224044,
                        "learn": [
                          0.3054273369
                        ]
                      },
                      {
                        "passed_time": 1.406870924,
                        "iteration": 94,
                        "remaining_time": 13.40229669,
                        "learn": [
                          0.3053805085
                        ]
                      },
                      {
                        "passed_time": 1.422084985,
                        "iteration": 95,
                        "remaining_time": 13.39130027,
                        "learn": [
                          0.3053468069
                        ]
                      },
                      {
                        "passed_time": 1.436697032,
                        "iteration": 96,
                        "remaining_time": 13.37461257,
                        "learn": [
                          0.3053090132
                        ]
                      },
                      {
                        "passed_time": 1.451945065,
                        "iteration": 97,
                        "remaining_time": 13.3638209,
                        "learn": [
                          0.3052642505
                        ]
                      },
                      {
                        "passed_time": 1.466714149,
                        "iteration": 98,
                        "remaining_time": 13.34858028,
                        "learn": [
                          0.3052398778
                        ]
                      },
                      {
                        "passed_time": 1.482455366,
                        "iteration": 99,
                        "remaining_time": 13.3420983,
                        "learn": [
                          0.3052132536
                        ]
                      },
                      {
                        "passed_time": 1.495618771,
                        "iteration": 100,
                        "remaining_time": 13.31248787,
                        "learn": [
                          0.3052055059
                        ]
                      },
                      {
                        "passed_time": 1.510504082,
                        "iteration": 101,
                        "remaining_time": 13.29835947,
                        "learn": [
                          0.3051528758
                        ]
                      },
                      {
                        "passed_time": 1.52521767,
                        "iteration": 102,
                        "remaining_time": 13.28272088,
                        "learn": [
                          0.3051155192
                        ]
                      },
                      {
                        "passed_time": 1.539524355,
                        "iteration": 103,
                        "remaining_time": 13.26359444,
                        "learn": [
                          0.3050940087
                        ]
                      },
                      {
                        "passed_time": 1.554158358,
                        "iteration": 104,
                        "remaining_time": 13.24734981,
                        "learn": [
                          0.3050722504
                        ]
                      },
                      {
                        "passed_time": 1.568699703,
                        "iteration": 105,
                        "remaining_time": 13.2303541,
                        "learn": [
                          0.3050491963
                        ]
                      },
                      {
                        "passed_time": 1.605150285,
                        "iteration": 106,
                        "remaining_time": 13.39625425,
                        "learn": [
                          0.3050134087
                        ]
                      },
                      {
                        "passed_time": 1.623985721,
                        "iteration": 107,
                        "remaining_time": 13.4129191,
                        "learn": [
                          0.3049760201
                        ]
                      },
                      {
                        "passed_time": 1.638248528,
                        "iteration": 108,
                        "remaining_time": 13.39155448,
                        "learn": [
                          0.3049474246
                        ]
                      },
                      {
                        "passed_time": 1.652767822,
                        "iteration": 109,
                        "remaining_time": 13.3723942,
                        "learn": [
                          0.3049146042
                        ]
                      },
                      {
                        "passed_time": 1.666448855,
                        "iteration": 110,
                        "remaining_time": 13.3466039,
                        "learn": [
                          0.3048968701
                        ]
                      },
                      {
                        "passed_time": 1.679744281,
                        "iteration": 111,
                        "remaining_time": 13.31797251,
                        "learn": [
                          0.3048865271
                        ]
                      },
                      {
                        "passed_time": 1.69421039,
                        "iteration": 112,
                        "remaining_time": 13.29880191,
                        "learn": [
                          0.3048326772
                        ]
                      },
                      {
                        "passed_time": 1.709638863,
                        "iteration": 113,
                        "remaining_time": 13.28719327,
                        "learn": [
                          0.3047909107
                        ]
                      },
                      {
                        "passed_time": 1.724479614,
                        "iteration": 114,
                        "remaining_time": 13.27099529,
                        "learn": [
                          0.3047338833
                        ]
                      },
                      {
                        "passed_time": 1.738803118,
                        "iteration": 115,
                        "remaining_time": 13.25087893,
                        "learn": [
                          0.3047049878
                        ]
                      },
                      {
                        "passed_time": 1.753360016,
                        "iteration": 116,
                        "remaining_time": 13.23262303,
                        "learn": [
                          0.30468328
                        ]
                      },
                      {
                        "passed_time": 1.766910063,
                        "iteration": 117,
                        "remaining_time": 13.20690403,
                        "learn": [
                          0.3046523929
                        ]
                      },
                      {
                        "passed_time": 1.781431474,
                        "iteration": 118,
                        "remaining_time": 13.18858091,
                        "learn": [
                          0.3046239068
                        ]
                      },
                      {
                        "passed_time": 1.796801341,
                        "iteration": 119,
                        "remaining_time": 13.17654317,
                        "learn": [
                          0.3045780456
                        ]
                      },
                      {
                        "passed_time": 1.811413056,
                        "iteration": 120,
                        "remaining_time": 13.15894278,
                        "learn": [
                          0.304548495
                        ]
                      },
                      {
                        "passed_time": 1.826822513,
                        "iteration": 121,
                        "remaining_time": 13.14713251,
                        "learn": [
                          0.3044887945
                        ]
                      },
                      {
                        "passed_time": 1.841010472,
                        "iteration": 122,
                        "remaining_time": 13.12655434,
                        "learn": [
                          0.3044756963
                        ]
                      },
                      {
                        "passed_time": 1.855616253,
                        "iteration": 123,
                        "remaining_time": 13.10903095,
                        "learn": [
                          0.3044571942
                        ]
                      },
                      {
                        "passed_time": 1.870250565,
                        "iteration": 124,
                        "remaining_time": 13.09175395,
                        "learn": [
                          0.3044367718
                        ]
                      },
                      {
                        "passed_time": 1.88448182,
                        "iteration": 125,
                        "remaining_time": 13.0717231,
                        "learn": [
                          0.304418118
                        ]
                      },
                      {
                        "passed_time": 1.898848856,
                        "iteration": 126,
                        "remaining_time": 13.05271694,
                        "learn": [
                          0.3043862698
                        ]
                      },
                      {
                        "passed_time": 1.913543093,
                        "iteration": 127,
                        "remaining_time": 13.03601232,
                        "learn": [
                          0.3043596343
                        ]
                      },
                      {
                        "passed_time": 1.928024459,
                        "iteration": 128,
                        "remaining_time": 13.01790158,
                        "learn": [
                          0.3043369828
                        ]
                      },
                      {
                        "passed_time": 1.942418717,
                        "iteration": 129,
                        "remaining_time": 12.99926372,
                        "learn": [
                          0.3043251879
                        ]
                      },
                      {
                        "passed_time": 1.969975989,
                        "iteration": 130,
                        "remaining_time": 13.06800866,
                        "learn": [
                          0.3042938495
                        ]
                      },
                      {
                        "passed_time": 1.987274224,
                        "iteration": 131,
                        "remaining_time": 13.06783353,
                        "learn": [
                          0.3042510706
                        ]
                      },
                      {
                        "passed_time": 2.001805764,
                        "iteration": 132,
                        "remaining_time": 13.04936539,
                        "learn": [
                          0.3042197333
                        ]
                      },
                      {
                        "passed_time": 2.016626257,
                        "iteration": 133,
                        "remaining_time": 13.03282342,
                        "learn": [
                          0.3041853326
                        ]
                      },
                      {
                        "passed_time": 2.03565341,
                        "iteration": 134,
                        "remaining_time": 13.04326074,
                        "learn": [
                          0.304149417
                        ]
                      },
                      {
                        "passed_time": 2.050008136,
                        "iteration": 135,
                        "remaining_time": 13.0235811,
                        "learn": [
                          0.3041170919
                        ]
                      },
                      {
                        "passed_time": 2.062405583,
                        "iteration": 136,
                        "remaining_time": 12.99164977,
                        "learn": [
                          0.3041107095
                        ]
                      },
                      {
                        "passed_time": 2.075163981,
                        "iteration": 137,
                        "remaining_time": 12.96225617,
                        "learn": [
                          0.304102853
                        ]
                      },
                      {
                        "passed_time": 2.089814326,
                        "iteration": 138,
                        "remaining_time": 12.94482111,
                        "learn": [
                          0.304068482
                        ]
                      },
                      {
                        "passed_time": 2.104265224,
                        "iteration": 139,
                        "remaining_time": 12.92620066,
                        "learn": [
                          0.3040318294
                        ]
                      },
                      {
                        "passed_time": 2.117726533,
                        "iteration": 140,
                        "remaining_time": 12.90161058,
                        "learn": [
                          0.3040119714
                        ]
                      },
                      {
                        "passed_time": 2.131882333,
                        "iteration": 141,
                        "remaining_time": 12.88137353,
                        "learn": [
                          0.3039930056
                        ]
                      },
                      {
                        "passed_time": 2.145784018,
                        "iteration": 142,
                        "remaining_time": 12.85969862,
                        "learn": [
                          0.3039678331
                        ]
                      },
                      {
                        "passed_time": 2.160345147,
                        "iteration": 143,
                        "remaining_time": 12.84205171,
                        "learn": [
                          0.3039422353
                        ]
                      },
                      {
                        "passed_time": 2.175177474,
                        "iteration": 144,
                        "remaining_time": 12.82604648,
                        "learn": [
                          0.3039226152
                        ]
                      },
                      {
                        "passed_time": 2.190300179,
                        "iteration": 145,
                        "remaining_time": 12.81175584,
                        "learn": [
                          0.3038813963
                        ]
                      },
                      {
                        "passed_time": 2.205486263,
                        "iteration": 146,
                        "remaining_time": 12.79782165,
                        "learn": [
                          0.303846459
                        ]
                      },
                      {
                        "passed_time": 2.219676217,
                        "iteration": 147,
                        "remaining_time": 12.77813606,
                        "learn": [
                          0.3038226465
                        ]
                      },
                      {
                        "passed_time": 2.240644225,
                        "iteration": 148,
                        "remaining_time": 12.79723648,
                        "learn": [
                          0.3037812529
                        ]
                      },
                      {
                        "passed_time": 2.255795541,
                        "iteration": 149,
                        "remaining_time": 12.7828414,
                        "learn": [
                          0.3037446156
                        ]
                      },
                      {
                        "passed_time": 2.271719122,
                        "iteration": 150,
                        "remaining_time": 12.77277838,
                        "learn": [
                          0.3037162298
                        ]
                      },
                      {
                        "passed_time": 2.288441012,
                        "iteration": 151,
                        "remaining_time": 12.76709196,
                        "learn": [
                          0.3036557538
                        ]
                      },
                      {
                        "passed_time": 2.303194462,
                        "iteration": 152,
                        "remaining_time": 12.75036411,
                        "learn": [
                          0.303619674
                        ]
                      },
                      {
                        "passed_time": 2.317574711,
                        "iteration": 153,
                        "remaining_time": 12.73161172,
                        "learn": [
                          0.3035883422
                        ]
                      },
                      {
                        "passed_time": 2.332153894,
                        "iteration": 154,
                        "remaining_time": 12.71400026,
                        "learn": [
                          0.3035434665
                        ]
                      },
                      {
                        "passed_time": 2.34674499,
                        "iteration": 155,
                        "remaining_time": 12.69649213,
                        "learn": [
                          0.3035123762
                        ]
                      },
                      {
                        "passed_time": 2.361613279,
                        "iteration": 156,
                        "remaining_time": 12.68050952,
                        "learn": [
                          0.3034816974
                        ]
                      },
                      {
                        "passed_time": 2.376995054,
                        "iteration": 157,
                        "remaining_time": 12.66727744,
                        "learn": [
                          0.3034479137
                        ]
                      },
                      {
                        "passed_time": 2.391468774,
                        "iteration": 158,
                        "remaining_time": 12.64921534,
                        "learn": [
                          0.3034227808
                        ]
                      },
                      {
                        "passed_time": 2.40557604,
                        "iteration": 159,
                        "remaining_time": 12.62927421,
                        "learn": [
                          0.3034035022
                        ]
                      },
                      {
                        "passed_time": 2.419815756,
                        "iteration": 160,
                        "remaining_time": 12.61009577,
                        "learn": [
                          0.3033746353
                        ]
                      },
                      {
                        "passed_time": 2.434813793,
                        "iteration": 161,
                        "remaining_time": 12.59490098,
                        "learn": [
                          0.303335135
                        ]
                      },
                      {
                        "passed_time": 2.450039946,
                        "iteration": 162,
                        "remaining_time": 12.58087997,
                        "learn": [
                          0.3032964138
                        ]
                      },
                      {
                        "passed_time": 2.464729495,
                        "iteration": 163,
                        "remaining_time": 12.56410889,
                        "learn": [
                          0.3032640146
                        ]
                      },
                      {
                        "passed_time": 2.484452342,
                        "iteration": 164,
                        "remaining_time": 12.57283458,
                        "learn": [
                          0.3032343255
                        ]
                      },
                      {
                        "passed_time": 2.499180431,
                        "iteration": 165,
                        "remaining_time": 12.55612337,
                        "learn": [
                          0.3032066823
                        ]
                      },
                      {
                        "passed_time": 2.513732632,
                        "iteration": 166,
                        "remaining_time": 12.53855858,
                        "learn": [
                          0.3031636342
                        ]
                      },
                      {
                        "passed_time": 2.527720202,
                        "iteration": 167,
                        "remaining_time": 12.51823338,
                        "learn": [
                          0.3031362492
                        ]
                      },
                      {
                        "passed_time": 2.541717953,
                        "iteration": 168,
                        "remaining_time": 12.49803325,
                        "learn": [
                          0.3030919579
                        ]
                      },
                      {
                        "passed_time": 2.556079742,
                        "iteration": 169,
                        "remaining_time": 12.47968345,
                        "learn": [
                          0.3030521329
                        ]
                      },
                      {
                        "passed_time": 2.572040807,
                        "iteration": 170,
                        "remaining_time": 12.4691335,
                        "learn": [
                          0.303011865
                        ]
                      },
                      {
                        "passed_time": 2.587135671,
                        "iteration": 171,
                        "remaining_time": 12.45435079,
                        "learn": [
                          0.3029661457
                        ]
                      },
                      {
                        "passed_time": 2.606321265,
                        "iteration": 172,
                        "remaining_time": 12.45911957,
                        "learn": [
                          0.3029383237
                        ]
                      },
                      {
                        "passed_time": 2.6309636,
                        "iteration": 173,
                        "remaining_time": 12.48951686,
                        "learn": [
                          0.3028613556
                        ]
                      },
                      {
                        "passed_time": 2.645112024,
                        "iteration": 174,
                        "remaining_time": 12.46981383,
                        "learn": [
                          0.302848137
                        ]
                      },
                      {
                        "passed_time": 2.659364281,
                        "iteration": 175,
                        "remaining_time": 12.45066004,
                        "learn": [
                          0.3027871082
                        ]
                      },
                      {
                        "passed_time": 2.673785512,
                        "iteration": 176,
                        "remaining_time": 12.43234732,
                        "learn": [
                          0.3027611937
                        ]
                      },
                      {
                        "passed_time": 2.687678366,
                        "iteration": 177,
                        "remaining_time": 12.4116383,
                        "learn": [
                          0.3027283626
                        ]
                      },
                      {
                        "passed_time": 2.702545845,
                        "iteration": 178,
                        "remaining_time": 12.39547564,
                        "learn": [
                          0.3026914445
                        ]
                      },
                      {
                        "passed_time": 2.717917589,
                        "iteration": 179,
                        "remaining_time": 12.38162457,
                        "learn": [
                          0.3026654465
                        ]
                      },
                      {
                        "passed_time": 2.732839317,
                        "iteration": 180,
                        "remaining_time": 12.36572044,
                        "learn": [
                          0.3026196033
                        ]
                      },
                      {
                        "passed_time": 2.747386557,
                        "iteration": 181,
                        "remaining_time": 12.34814397,
                        "learn": [
                          0.3025781659
                        ]
                      },
                      {
                        "passed_time": 2.762949762,
                        "iteration": 182,
                        "remaining_time": 12.33513637,
                        "learn": [
                          0.302544471
                        ]
                      },
                      {
                        "passed_time": 2.779349363,
                        "iteration": 183,
                        "remaining_time": 12.32581022,
                        "learn": [
                          0.3025281003
                        ]
                      },
                      {
                        "passed_time": 2.794096307,
                        "iteration": 184,
                        "remaining_time": 12.30912697,
                        "learn": [
                          0.3024932854
                        ]
                      },
                      {
                        "passed_time": 2.809708838,
                        "iteration": 185,
                        "remaining_time": 12.29625266,
                        "learn": [
                          0.3024660923
                        ]
                      },
                      {
                        "passed_time": 2.824853551,
                        "iteration": 186,
                        "remaining_time": 12.28131517,
                        "learn": [
                          0.3024428601
                        ]
                      },
                      {
                        "passed_time": 2.839661069,
                        "iteration": 187,
                        "remaining_time": 12.26491909,
                        "learn": [
                          0.302401107
                        ]
                      },
                      {
                        "passed_time": 2.853257332,
                        "iteration": 188,
                        "remaining_time": 12.24334231,
                        "learn": [
                          0.3023839553
                        ]
                      },
                      {
                        "passed_time": 2.868252641,
                        "iteration": 189,
                        "remaining_time": 12.22781389,
                        "learn": [
                          0.3023654293
                        ]
                      },
                      {
                        "passed_time": 2.88217767,
                        "iteration": 190,
                        "remaining_time": 12.20775777,
                        "learn": [
                          0.3023379344
                        ]
                      },
                      {
                        "passed_time": 2.896173605,
                        "iteration": 191,
                        "remaining_time": 12.18806392,
                        "learn": [
                          0.3023002077
                        ]
                      },
                      {
                        "passed_time": 2.911854713,
                        "iteration": 192,
                        "remaining_time": 12.17547541,
                        "learn": [
                          0.3022757463
                        ]
                      },
                      {
                        "passed_time": 2.926558469,
                        "iteration": 193,
                        "remaining_time": 12.15879446,
                        "learn": [
                          0.3022308878
                        ]
                      },
                      {
                        "passed_time": 2.940808514,
                        "iteration": 194,
                        "remaining_time": 12.14026079,
                        "learn": [
                          0.3021956535
                        ]
                      },
                      {
                        "passed_time": 2.963574196,
                        "iteration": 195,
                        "remaining_time": 12.15670232,
                        "learn": [
                          0.3021715066
                        ]
                      },
                      {
                        "passed_time": 2.985997754,
                        "iteration": 196,
                        "remaining_time": 12.17135125,
                        "learn": [
                          0.3021522781
                        ]
                      },
                      {
                        "passed_time": 3.000166486,
                        "iteration": 197,
                        "remaining_time": 12.15218951,
                        "learn": [
                          0.3020990144
                        ]
                      },
                      {
                        "passed_time": 3.014853426,
                        "iteration": 198,
                        "remaining_time": 12.13516379,
                        "learn": [
                          0.3020724586
                        ]
                      },
                      {
                        "passed_time": 3.028496434,
                        "iteration": 199,
                        "remaining_time": 12.11398574,
                        "learn": [
                          0.3020648158
                        ]
                      },
                      {
                        "passed_time": 3.042585755,
                        "iteration": 200,
                        "remaining_time": 12.09465681,
                        "learn": [
                          0.3020358633
                        ]
                      },
                      {
                        "passed_time": 3.057428691,
                        "iteration": 201,
                        "remaining_time": 12.07835691,
                        "learn": [
                          0.3020192176
                        ]
                      },
                      {
                        "passed_time": 3.071737033,
                        "iteration": 202,
                        "remaining_time": 12.05997249,
                        "learn": [
                          0.3019850448
                        ]
                      },
                      {
                        "passed_time": 3.084718042,
                        "iteration": 203,
                        "remaining_time": 12.03644883,
                        "learn": [
                          0.3019702656
                        ]
                      },
                      {
                        "passed_time": 3.09795317,
                        "iteration": 204,
                        "remaining_time": 12.01401351,
                        "learn": [
                          0.3019570072
                        ]
                      },
                      {
                        "passed_time": 3.111999227,
                        "iteration": 205,
                        "remaining_time": 11.99479314,
                        "learn": [
                          0.3019326656
                        ]
                      },
                      {
                        "passed_time": 3.126401475,
                        "iteration": 206,
                        "remaining_time": 11.97698729,
                        "learn": [
                          0.3018939152
                        ]
                      },
                      {
                        "passed_time": 3.140911987,
                        "iteration": 207,
                        "remaining_time": 11.95962641,
                        "learn": [
                          0.3018525906
                        ]
                      },
                      {
                        "passed_time": 3.155002639,
                        "iteration": 208,
                        "remaining_time": 11.94070377,
                        "learn": [
                          0.3018272688
                        ]
                      },
                      {
                        "passed_time": 3.169693864,
                        "iteration": 209,
                        "remaining_time": 11.92408644,
                        "learn": [
                          0.3017995304
                        ]
                      },
                      {
                        "passed_time": 3.184651631,
                        "iteration": 210,
                        "remaining_time": 11.90848406,
                        "learn": [
                          0.3017644509
                        ]
                      },
                      {
                        "passed_time": 3.198455148,
                        "iteration": 211,
                        "remaining_time": 11.88859744,
                        "learn": [
                          0.3017449503
                        ]
                      },
                      {
                        "passed_time": 3.212891709,
                        "iteration": 212,
                        "remaining_time": 11.87110693,
                        "learn": [
                          0.3016986745
                        ]
                      },
                      {
                        "passed_time": 3.226933332,
                        "iteration": 213,
                        "remaining_time": 11.85219439,
                        "learn": [
                          0.3016821863
                        ]
                      },
                      {
                        "passed_time": 3.242546904,
                        "iteration": 214,
                        "remaining_time": 11.8390666,
                        "learn": [
                          0.3016420181
                        ]
                      },
                      {
                        "passed_time": 3.259971749,
                        "iteration": 215,
                        "remaining_time": 11.83249005,
                        "learn": [
                          0.3016153384
                        ]
                      },
                      {
                        "passed_time": 3.27591173,
                        "iteration": 216,
                        "remaining_time": 11.82045569,
                        "learn": [
                          0.3015708906
                        ]
                      },
                      {
                        "passed_time": 3.290924224,
                        "iteration": 217,
                        "remaining_time": 11.80505845,
                        "learn": [
                          0.3015448845
                        ]
                      },
                      {
                        "passed_time": 3.304880313,
                        "iteration": 218,
                        "remaining_time": 11.78589737,
                        "learn": [
                          0.3015194369
                        ]
                      },
                      {
                        "passed_time": 3.318235802,
                        "iteration": 219,
                        "remaining_time": 11.76465421,
                        "learn": [
                          0.3015057863
                        ]
                      },
                      {
                        "passed_time": 3.332452005,
                        "iteration": 220,
                        "remaining_time": 11.74651634,
                        "learn": [
                          0.3014797791
                        ]
                      },
                      {
                        "passed_time": 3.347002201,
                        "iteration": 221,
                        "remaining_time": 11.72958429,
                        "learn": [
                          0.301458732
                        ]
                      },
                      {
                        "passed_time": 3.36089595,
                        "iteration": 222,
                        "remaining_time": 11.71038634,
                        "learn": [
                          0.3014326603
                        ]
                      },
                      {
                        "passed_time": 3.375256194,
                        "iteration": 223,
                        "remaining_time": 11.69285181,
                        "learn": [
                          0.3014007271
                        ]
                      },
                      {
                        "passed_time": 3.388915292,
                        "iteration": 224,
                        "remaining_time": 11.67293045,
                        "learn": [
                          0.3013728045
                        ]
                      },
                      {
                        "passed_time": 3.403069735,
                        "iteration": 225,
                        "remaining_time": 11.65476095,
                        "learn": [
                          0.3013555786
                        ]
                      },
                      {
                        "passed_time": 3.417146302,
                        "iteration": 226,
                        "remaining_time": 11.63636164,
                        "learn": [
                          0.301326161
                        ]
                      },
                      {
                        "passed_time": 3.431014497,
                        "iteration": 227,
                        "remaining_time": 11.6172947,
                        "learn": [
                          0.3013095594
                        ]
                      },
                      {
                        "passed_time": 3.445146805,
                        "iteration": 228,
                        "remaining_time": 11.59916239,
                        "learn": [
                          0.3012708183
                        ]
                      },
                      {
                        "passed_time": 3.459539967,
                        "iteration": 229,
                        "remaining_time": 11.58193815,
                        "learn": [
                          0.3012460457
                        ]
                      },
                      {
                        "passed_time": 3.477068004,
                        "iteration": 230,
                        "remaining_time": 11.57517444,
                        "learn": [
                          0.3011966828
                        ]
                      },
                      {
                        "passed_time": 3.491059895,
                        "iteration": 231,
                        "remaining_time": 11.55661207,
                        "learn": [
                          0.3011777942
                        ]
                      },
                      {
                        "passed_time": 3.505219091,
                        "iteration": 232,
                        "remaining_time": 11.53863967,
                        "learn": [
                          0.3011533903
                        ]
                      },
                      {
                        "passed_time": 3.518931931,
                        "iteration": 233,
                        "remaining_time": 11.51923872,
                        "learn": [
                          0.301139886
                        ]
                      },
                      {
                        "passed_time": 3.533489654,
                        "iteration": 234,
                        "remaining_time": 11.50263653,
                        "learn": [
                          0.3011125858
                        ]
                      },
                      {
                        "passed_time": 3.547429808,
                        "iteration": 235,
                        "remaining_time": 11.48405243,
                        "learn": [
                          0.3010836107
                        ]
                      },
                      {
                        "passed_time": 3.562689066,
                        "iteration": 236,
                        "remaining_time": 11.46975425,
                        "learn": [
                          0.3010530206
                        ]
                      },
                      {
                        "passed_time": 3.576520796,
                        "iteration": 237,
                        "remaining_time": 11.45087751,
                        "learn": [
                          0.3010285375
                        ]
                      },
                      {
                        "passed_time": 3.590564328,
                        "iteration": 238,
                        "remaining_time": 11.43271738,
                        "learn": [
                          0.3010027977
                        ]
                      },
                      {
                        "passed_time": 3.604632595,
                        "iteration": 239,
                        "remaining_time": 11.41466988,
                        "learn": [
                          0.3009873661
                        ]
                      },
                      {
                        "passed_time": 3.626978411,
                        "iteration": 240,
                        "remaining_time": 11.42272454,
                        "learn": [
                          0.3009455161
                        ]
                      },
                      {
                        "passed_time": 3.647285975,
                        "iteration": 241,
                        "remaining_time": 11.42414367,
                        "learn": [
                          0.3009132932
                        ]
                      },
                      {
                        "passed_time": 3.660927931,
                        "iteration": 242,
                        "remaining_time": 11.40461911,
                        "learn": [
                          0.300892997
                        ]
                      },
                      {
                        "passed_time": 3.674862662,
                        "iteration": 243,
                        "remaining_time": 11.38604989,
                        "learn": [
                          0.3008689088
                        ]
                      },
                      {
                        "passed_time": 3.689411948,
                        "iteration": 244,
                        "remaining_time": 11.36941233,
                        "learn": [
                          0.3008345852
                        ]
                      },
                      {
                        "passed_time": 3.703768661,
                        "iteration": 245,
                        "remaining_time": 11.35220151,
                        "learn": [
                          0.3008095032
                        ]
                      },
                      {
                        "passed_time": 3.725379349,
                        "iteration": 246,
                        "remaining_time": 11.35712814,
                        "learn": [
                          0.300779822
                        ]
                      },
                      {
                        "passed_time": 3.740208989,
                        "iteration": 247,
                        "remaining_time": 11.34127887,
                        "learn": [
                          0.3007320517
                        ]
                      },
                      {
                        "passed_time": 3.754314645,
                        "iteration": 248,
                        "remaining_time": 11.32325421,
                        "learn": [
                          0.3007224258
                        ]
                      },
                      {
                        "passed_time": 3.769091387,
                        "iteration": 249,
                        "remaining_time": 11.30727416,
                        "learn": [
                          0.3006983955
                        ]
                      },
                      {
                        "passed_time": 3.783885432,
                        "iteration": 250,
                        "remaining_time": 11.29135533,
                        "learn": [
                          0.3006736448
                        ]
                      },
                      {
                        "passed_time": 3.798045171,
                        "iteration": 251,
                        "remaining_time": 11.27356265,
                        "learn": [
                          0.3006609921
                        ]
                      },
                      {
                        "passed_time": 3.811961203,
                        "iteration": 252,
                        "remaining_time": 11.25507912,
                        "learn": [
                          0.300644148
                        ]
                      },
                      {
                        "passed_time": 3.827175096,
                        "iteration": 253,
                        "remaining_time": 11.24044339,
                        "learn": [
                          0.3006139274
                        ]
                      },
                      {
                        "passed_time": 3.841394516,
                        "iteration": 254,
                        "remaining_time": 11.2228977,
                        "learn": [
                          0.3005766113
                        ]
                      },
                      {
                        "passed_time": 3.856265177,
                        "iteration": 255,
                        "remaining_time": 11.20727067,
                        "learn": [
                          0.3005520577
                        ]
                      },
                      {
                        "passed_time": 3.870767305,
                        "iteration": 256,
                        "remaining_time": 11.19058408,
                        "learn": [
                          0.300527898
                        ]
                      },
                      {
                        "passed_time": 3.885072576,
                        "iteration": 257,
                        "remaining_time": 11.17334826,
                        "learn": [
                          0.3004997727
                        ]
                      },
                      {
                        "passed_time": 3.89931343,
                        "iteration": 258,
                        "remaining_time": 11.15595078,
                        "learn": [
                          0.3004707056
                        ]
                      },
                      {
                        "passed_time": 3.914112542,
                        "iteration": 259,
                        "remaining_time": 11.14016647,
                        "learn": [
                          0.3004446481
                        ]
                      },
                      {
                        "passed_time": 3.928965273,
                        "iteration": 260,
                        "remaining_time": 11.12454152,
                        "learn": [
                          0.3004167507
                        ]
                      },
                      {
                        "passed_time": 3.968798386,
                        "iteration": 261,
                        "remaining_time": 11.17928706,
                        "learn": [
                          0.3003923473
                        ]
                      },
                      {
                        "passed_time": 3.997367596,
                        "iteration": 262,
                        "remaining_time": 11.20174874,
                        "learn": [
                          0.3003655144
                        ]
                      },
                      {
                        "passed_time": 4.017167765,
                        "iteration": 263,
                        "remaining_time": 11.1993768,
                        "learn": [
                          0.3003485806
                        ]
                      },
                      {
                        "passed_time": 4.030570026,
                        "iteration": 264,
                        "remaining_time": 11.17912819,
                        "learn": [
                          0.3003404152
                        ]
                      },
                      {
                        "passed_time": 4.044489392,
                        "iteration": 265,
                        "remaining_time": 11.16035795,
                        "learn": [
                          0.3003211647
                        ]
                      },
                      {
                        "passed_time": 4.060341346,
                        "iteration": 266,
                        "remaining_time": 11.14692961,
                        "learn": [
                          0.3002876317
                        ]
                      },
                      {
                        "passed_time": 4.077326407,
                        "iteration": 267,
                        "remaining_time": 11.1365781,
                        "learn": [
                          0.3002501544
                        ]
                      },
                      {
                        "passed_time": 4.090845024,
                        "iteration": 268,
                        "remaining_time": 11.1167573,
                        "learn": [
                          0.3002381108
                        ]
                      },
                      {
                        "passed_time": 4.105850304,
                        "iteration": 269,
                        "remaining_time": 11.10100267,
                        "learn": [
                          0.3001991848
                        ]
                      },
                      {
                        "passed_time": 4.120421043,
                        "iteration": 270,
                        "remaining_time": 11.08408465,
                        "learn": [
                          0.3001625166
                        ]
                      },
                      {
                        "passed_time": 4.134273194,
                        "iteration": 271,
                        "remaining_time": 11.06526061,
                        "learn": [
                          0.3001482157
                        ]
                      },
                      {
                        "passed_time": 4.148287052,
                        "iteration": 272,
                        "remaining_time": 11.04690361,
                        "learn": [
                          0.3001280623
                        ]
                      },
                      {
                        "passed_time": 4.164094227,
                        "iteration": 273,
                        "remaining_time": 11.03332996,
                        "learn": [
                          0.3000965976
                        ]
                      },
                      {
                        "passed_time": 4.177705884,
                        "iteration": 274,
                        "remaining_time": 11.01395188,
                        "learn": [
                          0.3000892142
                        ]
                      },
                      {
                        "passed_time": 4.192354214,
                        "iteration": 275,
                        "remaining_time": 10.99733497,
                        "learn": [
                          0.3000508838
                        ]
                      },
                      {
                        "passed_time": 4.206299575,
                        "iteration": 276,
                        "remaining_time": 10.97889745,
                        "learn": [
                          0.3000330339
                        ]
                      },
                      {
                        "passed_time": 4.220575478,
                        "iteration": 277,
                        "remaining_time": 10.9613507,
                        "learn": [
                          0.3000028187
                        ]
                      },
                      {
                        "passed_time": 4.235474088,
                        "iteration": 278,
                        "remaining_time": 10.94543662,
                        "learn": [
                          0.2999561916
                        ]
                      },
                      {
                        "passed_time": 4.249193723,
                        "iteration": 279,
                        "remaining_time": 10.92649815,
                        "learn": [
                          0.2999436848
                        ]
                      },
                      {
                        "passed_time": 4.263055787,
                        "iteration": 280,
                        "remaining_time": 10.90796125,
                        "learn": [
                          0.2999178477
                        ]
                      },
                      {
                        "passed_time": 4.27778232,
                        "iteration": 281,
                        "remaining_time": 10.89165853,
                        "learn": [
                          0.2998815633
                        ]
                      },
                      {
                        "passed_time": 4.29235897,
                        "iteration": 282,
                        "remaining_time": 10.87498721,
                        "learn": [
                          0.299860915
                        ]
                      },
                      {
                        "passed_time": 4.306789355,
                        "iteration": 283,
                        "remaining_time": 10.85796189,
                        "learn": [
                          0.2998351089
                        ]
                      },
                      {
                        "passed_time": 4.321086383,
                        "iteration": 284,
                        "remaining_time": 10.84062022,
                        "learn": [
                          0.2998128332
                        ]
                      },
                      {
                        "passed_time": 4.336032125,
                        "iteration": 285,
                        "remaining_time": 10.82491936,
                        "learn": [
                          0.2997642679
                        ]
                      },
                      {
                        "passed_time": 4.349910272,
                        "iteration": 286,
                        "remaining_time": 10.80657151,
                        "learn": [
                          0.2997513862
                        ]
                      },
                      {
                        "passed_time": 4.363890581,
                        "iteration": 287,
                        "remaining_time": 10.78850727,
                        "learn": [
                          0.2997382818
                        ]
                      },
                      {
                        "passed_time": 4.378118287,
                        "iteration": 288,
                        "remaining_time": 10.77107994,
                        "learn": [
                          0.299702425
                        ]
                      },
                      {
                        "passed_time": 4.392048023,
                        "iteration": 289,
                        "remaining_time": 10.75294516,
                        "learn": [
                          0.2996620477
                        ]
                      },
                      {
                        "passed_time": 4.407017547,
                        "iteration": 290,
                        "remaining_time": 10.73737265,
                        "learn": [
                          0.2996261136
                        ]
                      },
                      {
                        "passed_time": 4.420848928,
                        "iteration": 291,
                        "remaining_time": 10.71904466,
                        "learn": [
                          0.299597821
                        ]
                      },
                      {
                        "passed_time": 4.434622243,
                        "iteration": 292,
                        "remaining_time": 10.70060725,
                        "learn": [
                          0.2995792082
                        ]
                      },
                      {
                        "passed_time": 4.448492794,
                        "iteration": 293,
                        "remaining_time": 10.68243508,
                        "learn": [
                          0.2995653979
                        ]
                      },
                      {
                        "passed_time": 4.462663679,
                        "iteration": 294,
                        "remaining_time": 10.66500981,
                        "learn": [
                          0.2995437707
                        ]
                      },
                      {
                        "passed_time": 4.480583169,
                        "iteration": 295,
                        "remaining_time": 10.65652213,
                        "learn": [
                          0.2995286138
                        ]
                      },
                      {
                        "passed_time": 4.496961198,
                        "iteration": 296,
                        "remaining_time": 10.6443223,
                        "learn": [
                          0.2995009542
                        ]
                      },
                      {
                        "passed_time": 4.511332385,
                        "iteration": 297,
                        "remaining_time": 10.62736689,
                        "learn": [
                          0.299479356
                        ]
                      },
                      {
                        "passed_time": 4.526027786,
                        "iteration": 298,
                        "remaining_time": 10.61118889,
                        "learn": [
                          0.2994382736
                        ]
                      },
                      {
                        "passed_time": 4.539476741,
                        "iteration": 299,
                        "remaining_time": 10.5921124,
                        "learn": [
                          0.2994319353
                        ]
                      },
                      {
                        "passed_time": 4.555486192,
                        "iteration": 300,
                        "remaining_time": 10.57901943,
                        "learn": [
                          0.2994089022
                        ]
                      },
                      {
                        "passed_time": 4.56877289,
                        "iteration": 301,
                        "remaining_time": 10.55961416,
                        "learn": [
                          0.2994017211
                        ]
                      },
                      {
                        "passed_time": 4.58304449,
                        "iteration": 302,
                        "remaining_time": 10.54251488,
                        "learn": [
                          0.2993700026
                        ]
                      },
                      {
                        "passed_time": 4.598061618,
                        "iteration": 303,
                        "remaining_time": 10.52714107,
                        "learn": [
                          0.2993489991
                        ]
                      },
                      {
                        "passed_time": 4.613261017,
                        "iteration": 304,
                        "remaining_time": 10.51218494,
                        "learn": [
                          0.2993023212
                        ]
                      },
                      {
                        "passed_time": 4.635458772,
                        "iteration": 305,
                        "remaining_time": 10.51309931,
                        "learn": [
                          0.2992670461
                        ]
                      },
                      {
                        "passed_time": 4.657803488,
                        "iteration": 306,
                        "remaining_time": 10.51419484,
                        "learn": [
                          0.29925056
                        ]
                      },
                      {
                        "passed_time": 4.671801806,
                        "iteration": 307,
                        "remaining_time": 10.49638588,
                        "learn": [
                          0.2992447545
                        ]
                      },
                      {
                        "passed_time": 4.686068498,
                        "iteration": 308,
                        "remaining_time": 10.47920172,
                        "learn": [
                          0.299217768
                        ]
                      },
                      {
                        "passed_time": 4.701940729,
                        "iteration": 309,
                        "remaining_time": 10.46561001,
                        "learn": [
                          0.2991958066
                        ]
                      },
                      {
                        "passed_time": 4.7163578,
                        "iteration": 310,
                        "remaining_time": 10.44877982,
                        "learn": [
                          0.2991717728
                        ]
                      },
                      {
                        "passed_time": 4.730979908,
                        "iteration": 311,
                        "remaining_time": 10.43241723,
                        "learn": [
                          0.2991532091
                        ]
                      },
                      {
                        "passed_time": 4.745723081,
                        "iteration": 312,
                        "remaining_time": 10.41633149,
                        "learn": [
                          0.2991205335
                        ]
                      },
                      {
                        "passed_time": 4.760839501,
                        "iteration": 313,
                        "remaining_time": 10.40106974,
                        "learn": [
                          0.2990908028
                        ]
                      },
                      {
                        "passed_time": 4.774749011,
                        "iteration": 314,
                        "remaining_time": 10.38318436,
                        "learn": [
                          0.2990758105
                        ]
                      },
                      {
                        "passed_time": 4.789459789,
                        "iteration": 315,
                        "remaining_time": 10.36705853,
                        "learn": [
                          0.2990334115
                        ]
                      },
                      {
                        "passed_time": 4.803365869,
                        "iteration": 316,
                        "remaining_time": 10.34920785,
                        "learn": [
                          0.2990274765
                        ]
                      },
                      {
                        "passed_time": 4.817233094,
                        "iteration": 317,
                        "remaining_time": 10.33129865,
                        "learn": [
                          0.2989996124
                        ]
                      },
                      {
                        "passed_time": 4.831685951,
                        "iteration": 318,
                        "remaining_time": 10.31466499,
                        "learn": [
                          0.2989763078
                        ]
                      },
                      {
                        "passed_time": 4.846373667,
                        "iteration": 319,
                        "remaining_time": 10.29854404,
                        "learn": [
                          0.2989431625
                        ]
                      },
                      {
                        "passed_time": 4.861197787,
                        "iteration": 320,
                        "remaining_time": 10.28272055,
                        "learn": [
                          0.2989114718
                        ]
                      },
                      {
                        "passed_time": 4.875133505,
                        "iteration": 321,
                        "remaining_time": 10.26503266,
                        "learn": [
                          0.2988964324
                        ]
                      },
                      {
                        "passed_time": 4.889647642,
                        "iteration": 322,
                        "remaining_time": 10.24858035,
                        "learn": [
                          0.2988650058
                        ]
                      },
                      {
                        "passed_time": 4.903542312,
                        "iteration": 323,
                        "remaining_time": 10.23084754,
                        "learn": [
                          0.2988407808
                        ]
                      },
                      {
                        "passed_time": 4.916902614,
                        "iteration": 324,
                        "remaining_time": 10.21202851,
                        "learn": [
                          0.2988311256
                        ]
                      },
                      {
                        "passed_time": 4.93061561,
                        "iteration": 325,
                        "remaining_time": 10.19397215,
                        "learn": [
                          0.2988216021
                        ]
                      },
                      {
                        "passed_time": 4.945167945,
                        "iteration": 326,
                        "remaining_time": 10.17766981,
                        "learn": [
                          0.2988021654
                        ]
                      },
                      {
                        "passed_time": 4.95991385,
                        "iteration": 327,
                        "remaining_time": 10.16177472,
                        "learn": [
                          0.2987868384
                        ]
                      },
                      {
                        "passed_time": 4.986372932,
                        "iteration": 328,
                        "remaining_time": 10.1697758,
                        "learn": [
                          0.2987625642
                        ]
                      },
                      {
                        "passed_time": 5.012612448,
                        "iteration": 329,
                        "remaining_time": 10.17712224,
                        "learn": [
                          0.29874068
                        ]
                      },
                      {
                        "passed_time": 5.027019819,
                        "iteration": 330,
                        "remaining_time": 10.16035124,
                        "learn": [
                          0.2987083081
                        ]
                      },
                      {
                        "passed_time": 5.041721268,
                        "iteration": 331,
                        "remaining_time": 10.14418617,
                        "learn": [
                          0.2986807823
                        ]
                      },
                      {
                        "passed_time": 5.06195557,
                        "iteration": 332,
                        "remaining_time": 10.13911221,
                        "learn": [
                          0.298663108
                        ]
                      },
                      {
                        "passed_time": 5.075608559,
                        "iteration": 333,
                        "remaining_time": 10.12082425,
                        "learn": [
                          0.298639749
                        ]
                      },
                      {
                        "passed_time": 5.090232218,
                        "iteration": 334,
                        "remaining_time": 10.10449082,
                        "learn": [
                          0.2986015396
                        ]
                      },
                      {
                        "passed_time": 5.104836785,
                        "iteration": 335,
                        "remaining_time": 10.08812984,
                        "learn": [
                          0.2985789145
                        ]
                      },
                      {
                        "passed_time": 5.119000296,
                        "iteration": 336,
                        "remaining_time": 10.07091156,
                        "learn": [
                          0.2985623836
                        ]
                      },
                      {
                        "passed_time": 5.134139274,
                        "iteration": 337,
                        "remaining_time": 10.05562189,
                        "learn": [
                          0.2985348919
                        ]
                      },
                      {
                        "passed_time": 5.148361535,
                        "iteration": 338,
                        "remaining_time": 10.03854565,
                        "learn": [
                          0.2985227016
                        ]
                      },
                      {
                        "passed_time": 5.163653524,
                        "iteration": 339,
                        "remaining_time": 10.02356272,
                        "learn": [
                          0.2984919399
                        ]
                      },
                      {
                        "passed_time": 5.179782518,
                        "iteration": 340,
                        "remaining_time": 10.01019554,
                        "learn": [
                          0.298466208
                        ]
                      },
                      {
                        "passed_time": 5.194331286,
                        "iteration": 341,
                        "remaining_time": 9.993771889,
                        "learn": [
                          0.2984423943
                        ]
                      },
                      {
                        "passed_time": 5.208831591,
                        "iteration": 342,
                        "remaining_time": 9.977266341,
                        "learn": [
                          0.2983921919
                        ]
                      },
                      {
                        "passed_time": 5.224797757,
                        "iteration": 343,
                        "remaining_time": 9.963567815,
                        "learn": [
                          0.2983521876
                        ]
                      },
                      {
                        "passed_time": 5.239730696,
                        "iteration": 344,
                        "remaining_time": 9.94789451,
                        "learn": [
                          0.298329893
                        ]
                      },
                      {
                        "passed_time": 5.260495498,
                        "iteration": 345,
                        "remaining_time": 9.943248717,
                        "learn": [
                          0.2982970125
                        ]
                      },
                      {
                        "passed_time": 5.275964409,
                        "iteration": 346,
                        "remaining_time": 9.928543975,
                        "learn": [
                          0.2982641147
                        ]
                      },
                      {
                        "passed_time": 5.291505718,
                        "iteration": 347,
                        "remaining_time": 9.913970483,
                        "learn": [
                          0.298239711
                        ]
                      },
                      {
                        "passed_time": 5.311109326,
                        "iteration": 348,
                        "remaining_time": 9.906968973,
                        "learn": [
                          0.2982101364
                        ]
                      },
                      {
                        "passed_time": 5.324900513,
                        "iteration": 349,
                        "remaining_time": 9.889100953,
                        "learn": [
                          0.2981927079
                        ]
                      },
                      {
                        "passed_time": 5.339434797,
                        "iteration": 350,
                        "remaining_time": 9.872630152,
                        "learn": [
                          0.2981749212
                        ]
                      },
                      {
                        "passed_time": 5.357422087,
                        "iteration": 351,
                        "remaining_time": 9.862527024,
                        "learn": [
                          0.2981243438
                        ]
                      },
                      {
                        "passed_time": 5.372170969,
                        "iteration": 352,
                        "remaining_time": 9.846443675,
                        "learn": [
                          0.2981055154
                        ]
                      },
                      {
                        "passed_time": 5.386402861,
                        "iteration": 353,
                        "remaining_time": 9.829424429,
                        "learn": [
                          0.2980914171
                        ]
                      },
                      {
                        "passed_time": 5.40125216,
                        "iteration": 354,
                        "remaining_time": 9.813542656,
                        "learn": [
                          0.2980591379
                        ]
                      },
                      {
                        "passed_time": 5.415011319,
                        "iteration": 355,
                        "remaining_time": 9.795694633,
                        "learn": [
                          0.29805115
                        ]
                      },
                      {
                        "passed_time": 5.429330803,
                        "iteration": 356,
                        "remaining_time": 9.778878729,
                        "learn": [
                          0.2980292196
                        ]
                      },
                      {
                        "passed_time": 5.443539551,
                        "iteration": 357,
                        "remaining_time": 9.761878189,
                        "learn": [
                          0.2980004006
                        ]
                      },
                      {
                        "passed_time": 5.457455359,
                        "iteration": 358,
                        "remaining_time": 9.744370153,
                        "learn": [
                          0.2979699457
                        ]
                      },
                      {
                        "passed_time": 5.471186494,
                        "iteration": 359,
                        "remaining_time": 9.726553766,
                        "learn": [
                          0.2979568891
                        ]
                      },
                      {
                        "passed_time": 5.485936927,
                        "iteration": 360,
                        "remaining_time": 9.710564256,
                        "learn": [
                          0.2979292576
                        ]
                      },
                      {
                        "passed_time": 5.499795333,
                        "iteration": 361,
                        "remaining_time": 9.693009455,
                        "learn": [
                          0.2979122502
                        ]
                      },
                      {
                        "passed_time": 5.513466563,
                        "iteration": 362,
                        "remaining_time": 9.675146558,
                        "learn": [
                          0.2978872941
                        ]
                      },
                      {
                        "passed_time": 5.526797722,
                        "iteration": 363,
                        "remaining_time": 9.656712503,
                        "learn": [
                          0.2978794198
                        ]
                      },
                      {
                        "passed_time": 5.542994354,
                        "iteration": 364,
                        "remaining_time": 9.643291547,
                        "learn": [
                          0.2978569651
                        ]
                      },
                      {
                        "passed_time": 5.558231323,
                        "iteration": 365,
                        "remaining_time": 9.628193056,
                        "learn": [
                          0.2978350693
                        ]
                      },
                      {
                        "passed_time": 5.573508714,
                        "iteration": 366,
                        "remaining_time": 9.61316353,
                        "learn": [
                          0.297821103
                        ]
                      },
                      {
                        "passed_time": 5.58895603,
                        "iteration": 367,
                        "remaining_time": 9.598424487,
                        "learn": [
                          0.2977958269
                        ]
                      },
                      {
                        "passed_time": 5.604241528,
                        "iteration": 368,
                        "remaining_time": 9.583404889,
                        "learn": [
                          0.2977669526
                        ]
                      },
                      {
                        "passed_time": 5.623646668,
                        "iteration": 369,
                        "remaining_time": 9.575398381,
                        "learn": [
                          0.2977496977
                        ]
                      },
                      {
                        "passed_time": 5.646113672,
                        "iteration": 370,
                        "remaining_time": 9.572521562,
                        "learn": [
                          0.2977177127
                        ]
                      },
                      {
                        "passed_time": 5.668649877,
                        "iteration": 371,
                        "remaining_time": 9.569656245,
                        "learn": [
                          0.2976803926
                        ]
                      },
                      {
                        "passed_time": 5.68258681,
                        "iteration": 372,
                        "remaining_time": 9.552230376,
                        "learn": [
                          0.297661666
                        ]
                      },
                      {
                        "passed_time": 5.696883018,
                        "iteration": 373,
                        "remaining_time": 9.535424516,
                        "learn": [
                          0.2976411501
                        ]
                      },
                      {
                        "passed_time": 5.710446389,
                        "iteration": 374,
                        "remaining_time": 9.517410649,
                        "learn": [
                          0.2976304409
                        ]
                      },
                      {
                        "passed_time": 5.724244082,
                        "iteration": 375,
                        "remaining_time": 9.499809328,
                        "learn": [
                          0.2976179851
                        ]
                      },
                      {
                        "passed_time": 5.738464673,
                        "iteration": 376,
                        "remaining_time": 9.482927033,
                        "learn": [
                          0.2976089824
                        ]
                      },
                      {
                        "passed_time": 5.752562939,
                        "iteration": 377,
                        "remaining_time": 9.465857535,
                        "learn": [
                          0.2975948692
                        ]
                      },
                      {
                        "passed_time": 5.767696392,
                        "iteration": 378,
                        "remaining_time": 9.450499893,
                        "learn": [
                          0.2975628737
                        ]
                      },
                      {
                        "passed_time": 5.782356382,
                        "iteration": 379,
                        "remaining_time": 9.434370939,
                        "learn": [
                          0.2975305323
                        ]
                      },
                      {
                        "passed_time": 5.796857441,
                        "iteration": 380,
                        "remaining_time": 9.417991486,
                        "learn": [
                          0.2975055075
                        ]
                      },
                      {
                        "passed_time": 5.810861075,
                        "iteration": 381,
                        "remaining_time": 9.400817131,
                        "learn": [
                          0.2974788349
                        ]
                      },
                      {
                        "passed_time": 5.825235433,
                        "iteration": 382,
                        "remaining_time": 9.38425656,
                        "learn": [
                          0.2974485064
                        ]
                      },
                      {
                        "passed_time": 5.839453483,
                        "iteration": 383,
                        "remaining_time": 9.367456629,
                        "learn": [
                          0.2974248696
                        ]
                      },
                      {
                        "passed_time": 5.853726788,
                        "iteration": 384,
                        "remaining_time": 9.350758376,
                        "learn": [
                          0.2974022867
                        ]
                      },
                      {
                        "passed_time": 5.868167827,
                        "iteration": 385,
                        "remaining_time": 9.334339497,
                        "learn": [
                          0.2973833979
                        ]
                      },
                      {
                        "passed_time": 5.882466934,
                        "iteration": 386,
                        "remaining_time": 9.317706022,
                        "learn": [
                          0.297354153
                        ]
                      },
                      {
                        "passed_time": 5.896481016,
                        "iteration": 387,
                        "remaining_time": 9.300635005,
                        "learn": [
                          0.297333277
                        ]
                      },
                      {
                        "passed_time": 5.910642636,
                        "iteration": 388,
                        "remaining_time": 9.283811442,
                        "learn": [
                          0.2973151105
                        ]
                      },
                      {
                        "passed_time": 5.924979666,
                        "iteration": 389,
                        "remaining_time": 9.267275888,
                        "learn": [
                          0.2972963505
                        ]
                      },
                      {
                        "passed_time": 5.939282243,
                        "iteration": 390,
                        "remaining_time": 9.250697918,
                        "learn": [
                          0.2972653212
                        ]
                      },
                      {
                        "passed_time": 5.954485552,
                        "iteration": 391,
                        "remaining_time": 9.235528611,
                        "learn": [
                          0.2972297829
                        ]
                      },
                      {
                        "passed_time": 5.969531438,
                        "iteration": 392,
                        "remaining_time": 9.220115987,
                        "learn": [
                          0.2971992831
                        ]
                      },
                      {
                        "passed_time": 5.983747781,
                        "iteration": 393,
                        "remaining_time": 9.203429328,
                        "learn": [
                          0.2971662812
                        ]
                      },
                      {
                        "passed_time": 6.029027769,
                        "iteration": 394,
                        "remaining_time": 9.234333672,
                        "learn": [
                          0.2971510666
                        ]
                      },
                      {
                        "passed_time": 6.046008793,
                        "iteration": 395,
                        "remaining_time": 9.221690179,
                        "learn": [
                          0.2971323175
                        ]
                      },
                      {
                        "passed_time": 6.060100071,
                        "iteration": 396,
                        "remaining_time": 9.204635624,
                        "learn": [
                          0.2970969658
                        ]
                      },
                      {
                        "passed_time": 6.077290832,
                        "iteration": 397,
                        "remaining_time": 9.192284122,
                        "learn": [
                          0.2970609574
                        ]
                      },
                      {
                        "passed_time": 6.094893767,
                        "iteration": 398,
                        "remaining_time": 9.180529208,
                        "learn": [
                          0.2970225343
                        ]
                      },
                      {
                        "passed_time": 6.109455562,
                        "iteration": 399,
                        "remaining_time": 9.164183342,
                        "learn": [
                          0.2969977498
                        ]
                      },
                      {
                        "passed_time": 6.123768844,
                        "iteration": 400,
                        "remaining_time": 9.147475157,
                        "learn": [
                          0.2969830254
                        ]
                      },
                      {
                        "passed_time": 6.138886033,
                        "iteration": 401,
                        "remaining_time": 9.131974745,
                        "learn": [
                          0.2969468424
                        ]
                      },
                      {
                        "passed_time": 6.156683037,
                        "iteration": 402,
                        "remaining_time": 9.120446087,
                        "learn": [
                          0.2969212674
                        ]
                      },
                      {
                        "passed_time": 6.171061413,
                        "iteration": 403,
                        "remaining_time": 9.103843075,
                        "learn": [
                          0.2968871971
                        ]
                      },
                      {
                        "passed_time": 6.184887111,
                        "iteration": 404,
                        "remaining_time": 9.086439089,
                        "learn": [
                          0.2968702024
                        ]
                      },
                      {
                        "passed_time": 6.199621156,
                        "iteration": 405,
                        "remaining_time": 9.070381691,
                        "learn": [
                          0.2968350112
                        ]
                      },
                      {
                        "passed_time": 6.214137796,
                        "iteration": 406,
                        "remaining_time": 9.054014037,
                        "learn": [
                          0.2968062201
                        ]
                      },
                      {
                        "passed_time": 6.228007917,
                        "iteration": 407,
                        "remaining_time": 9.036717369,
                        "learn": [
                          0.2967803134
                        ]
                      },
                      {
                        "passed_time": 6.241717487,
                        "iteration": 408,
                        "remaining_time": 9.019205464,
                        "learn": [
                          0.2967669993
                        ]
                      },
                      {
                        "passed_time": 6.255882696,
                        "iteration": 409,
                        "remaining_time": 9.002367782,
                        "learn": [
                          0.2967549996
                        ]
                      },
                      {
                        "passed_time": 6.26964826,
                        "iteration": 410,
                        "remaining_time": 8.984970378,
                        "learn": [
                          0.2967412898
                        ]
                      },
                      {
                        "passed_time": 6.283660138,
                        "iteration": 411,
                        "remaining_time": 8.967942139,
                        "learn": [
                          0.2967196402
                        ]
                      },
                      {
                        "passed_time": 6.29811041,
                        "iteration": 412,
                        "remaining_time": 8.951551599,
                        "learn": [
                          0.2966870949
                        ]
                      },
                      {
                        "passed_time": 6.318025168,
                        "iteration": 413,
                        "remaining_time": 8.94290519,
                        "learn": [
                          0.2966641542
                        ]
                      },
                      {
                        "passed_time": 6.33592134,
                        "iteration": 414,
                        "remaining_time": 8.931358997,
                        "learn": [
                          0.2966356947
                        ]
                      },
                      {
                        "passed_time": 6.350437224,
                        "iteration": 415,
                        "remaining_time": 8.915036872,
                        "learn": [
                          0.2966175957
                        ]
                      },
                      {
                        "passed_time": 6.364256685,
                        "iteration": 416,
                        "remaining_time": 8.897749754,
                        "learn": [
                          0.2966020219
                        ]
                      },
                      {
                        "passed_time": 6.378115028,
                        "iteration": 417,
                        "remaining_time": 8.880533364,
                        "learn": [
                          0.2965766746
                        ]
                      },
                      {
                        "passed_time": 6.391973314,
                        "iteration": 418,
                        "remaining_time": 8.863332925,
                        "learn": [
                          0.2965629821
                        ]
                      },
                      {
                        "passed_time": 6.406212945,
                        "iteration": 419,
                        "remaining_time": 8.846675019,
                        "learn": [
                          0.2965297325
                        ]
                      },
                      {
                        "passed_time": 6.420074203,
                        "iteration": 420,
                        "remaining_time": 8.829508226,
                        "learn": [
                          0.2965199068
                        ]
                      },
                      {
                        "passed_time": 6.435129715,
                        "iteration": 421,
                        "remaining_time": 8.813992832,
                        "learn": [
                          0.2964969253
                        ]
                      },
                      {
                        "passed_time": 6.450480733,
                        "iteration": 422,
                        "remaining_time": 8.798882702,
                        "learn": [
                          0.296449066
                        ]
                      },
                      {
                        "passed_time": 6.461714503,
                        "iteration": 423,
                        "remaining_time": 8.778178193,
                        "learn": [
                          0.2964486612
                        ]
                      },
                      {
                        "passed_time": 6.477115206,
                        "iteration": 424,
                        "remaining_time": 8.763155867,
                        "learn": [
                          0.2964245537
                        ]
                      },
                      {
                        "passed_time": 6.49310536,
                        "iteration": 425,
                        "remaining_time": 8.748926002,
                        "learn": [
                          0.2963845828
                        ]
                      },
                      {
                        "passed_time": 6.508397947,
                        "iteration": 426,
                        "remaining_time": 8.733751811,
                        "learn": [
                          0.2963590371
                        ]
                      },
                      {
                        "passed_time": 6.527931614,
                        "iteration": 427,
                        "remaining_time": 8.724245054,
                        "learn": [
                          0.2963482376
                        ]
                      },
                      {
                        "passed_time": 6.543914416,
                        "iteration": 428,
                        "remaining_time": 8.709965341,
                        "learn": [
                          0.2963273775
                        ]
                      },
                      {
                        "passed_time": 6.55786843,
                        "iteration": 429,
                        "remaining_time": 8.692988384,
                        "learn": [
                          0.2963042896
                        ]
                      },
                      {
                        "passed_time": 6.572190189,
                        "iteration": 430,
                        "remaining_time": 8.676510946,
                        "learn": [
                          0.2962782138
                        ]
                      },
                      {
                        "passed_time": 6.58685583,
                        "iteration": 431,
                        "remaining_time": 8.660495628,
                        "learn": [
                          0.2962577875
                        ]
                      },
                      {
                        "passed_time": 6.600566952,
                        "iteration": 432,
                        "remaining_time": 8.643236633,
                        "learn": [
                          0.2962447289
                        ]
                      },
                      {
                        "passed_time": 6.615055007,
                        "iteration": 433,
                        "remaining_time": 8.627007221,
                        "learn": [
                          0.2962159725
                        ]
                      },
                      {
                        "passed_time": 6.628557854,
                        "iteration": 434,
                        "remaining_time": 8.609506178,
                        "learn": [
                          0.2962115139
                        ]
                      },
                      {
                        "passed_time": 6.642399806,
                        "iteration": 435,
                        "remaining_time": 8.592462135,
                        "learn": [
                          0.2961919996
                        ]
                      },
                      {
                        "passed_time": 6.668608267,
                        "iteration": 436,
                        "remaining_time": 8.591364884,
                        "learn": [
                          0.2961834029
                        ]
                      },
                      {
                        "passed_time": 6.683026287,
                        "iteration": 437,
                        "remaining_time": 8.575024597,
                        "learn": [
                          0.2961568909
                        ]
                      },
                      {
                        "passed_time": 6.697594141,
                        "iteration": 438,
                        "remaining_time": 8.558884541,
                        "learn": [
                          0.2961215244
                        ]
                      },
                      {
                        "passed_time": 6.71205119,
                        "iteration": 439,
                        "remaining_time": 8.542610605,
                        "learn": [
                          0.2960977118
                        ]
                      },
                      {
                        "passed_time": 6.725502375,
                        "iteration": 440,
                        "remaining_time": 8.525069904,
                        "learn": [
                          0.2960645112
                        ]
                      },
                      {
                        "passed_time": 6.740553469,
                        "iteration": 441,
                        "remaining_time": 8.509567501,
                        "learn": [
                          0.2960439117
                        ]
                      },
                      {
                        "passed_time": 6.756308029,
                        "iteration": 442,
                        "remaining_time": 8.49495163,
                        "learn": [
                          0.2960312747
                        ]
                      },
                      {
                        "passed_time": 6.771100973,
                        "iteration": 443,
                        "remaining_time": 8.479126443,
                        "learn": [
                          0.296007114
                        ]
                      },
                      {
                        "passed_time": 6.787265472,
                        "iteration": 444,
                        "remaining_time": 8.465016487,
                        "learn": [
                          0.295999445
                        ]
                      },
                      {
                        "passed_time": 6.801650688,
                        "iteration": 445,
                        "remaining_time": 8.448687177,
                        "learn": [
                          0.295975151
                        ]
                      },
                      {
                        "passed_time": 6.81660632,
                        "iteration": 446,
                        "remaining_time": 8.433072248,
                        "learn": [
                          0.2959427852
                        ]
                      },
                      {
                        "passed_time": 6.830818969,
                        "iteration": 447,
                        "remaining_time": 8.416544801,
                        "learn": [
                          0.295925567
                        ]
                      },
                      {
                        "passed_time": 6.845534694,
                        "iteration": 448,
                        "remaining_time": 8.400645025,
                        "learn": [
                          0.2959021401
                        ]
                      },
                      {
                        "passed_time": 6.860348136,
                        "iteration": 449,
                        "remaining_time": 8.384869944,
                        "learn": [
                          0.295885798
                        ]
                      },
                      {
                        "passed_time": 6.874551189,
                        "iteration": 450,
                        "remaining_time": 8.368356104,
                        "learn": [
                          0.2958679635
                        ]
                      },
                      {
                        "passed_time": 6.888789279,
                        "iteration": 451,
                        "remaining_time": 8.351894967,
                        "learn": [
                          0.2958464106
                        ]
                      },
                      {
                        "passed_time": 6.90268514,
                        "iteration": 452,
                        "remaining_time": 8.3350304,
                        "learn": [
                          0.2958357863
                        ]
                      },
                      {
                        "passed_time": 6.917452983,
                        "iteration": 453,
                        "remaining_time": 8.319227596,
                        "learn": [
                          0.2957886964
                        ]
                      },
                      {
                        "passed_time": 6.93226809,
                        "iteration": 454,
                        "remaining_time": 8.303485953,
                        "learn": [
                          0.2957690641
                        ]
                      },
                      {
                        "passed_time": 6.947705254,
                        "iteration": 455,
                        "remaining_time": 8.288490479,
                        "learn": [
                          0.2957424567
                        ]
                      },
                      {
                        "passed_time": 6.962207687,
                        "iteration": 456,
                        "remaining_time": 8.272382438,
                        "learn": [
                          0.2957172629
                        ]
                      },
                      {
                        "passed_time": 6.977505509,
                        "iteration": 457,
                        "remaining_time": 8.257222676,
                        "learn": [
                          0.2956912611
                        ]
                      },
                      {
                        "passed_time": 6.991870495,
                        "iteration": 458,
                        "remaining_time": 8.240962828,
                        "learn": [
                          0.2956733639
                        ]
                      },
                      {
                        "passed_time": 7.036301378,
                        "iteration": 459,
                        "remaining_time": 8.260005965,
                        "learn": [
                          0.295666893
                        ]
                      },
                      {
                        "passed_time": 7.061394602,
                        "iteration": 460,
                        "remaining_time": 8.256164188,
                        "learn": [
                          0.2956408906
                        ]
                      },
                      {
                        "passed_time": 7.075824617,
                        "iteration": 461,
                        "remaining_time": 8.239813082,
                        "learn": [
                          0.2956174127
                        ]
                      },
                      {
                        "passed_time": 7.090111601,
                        "iteration": 462,
                        "remaining_time": 8.223304384,
                        "learn": [
                          0.2955976818
                        ]
                      },
                      {
                        "passed_time": 7.104439897,
                        "iteration": 463,
                        "remaining_time": 8.206852984,
                        "learn": [
                          0.295577387
                        ]
                      },
                      {
                        "passed_time": 7.119001594,
                        "iteration": 464,
                        "remaining_time": 8.190679254,
                        "learn": [
                          0.2955539045
                        ]
                      },
                      {
                        "passed_time": 7.132958233,
                        "iteration": 465,
                        "remaining_time": 8.173819091,
                        "learn": [
                          0.2955466208
                        ]
                      },
                      {
                        "passed_time": 7.147179075,
                        "iteration": 466,
                        "remaining_time": 8.157272906,
                        "learn": [
                          0.2955246763
                        ]
                      },
                      {
                        "passed_time": 7.162557533,
                        "iteration": 467,
                        "remaining_time": 8.14205258,
                        "learn": [
                          0.295479884
                        ]
                      },
                      {
                        "passed_time": 7.177105297,
                        "iteration": 468,
                        "remaining_time": 8.125891072,
                        "learn": [
                          0.2954645413
                        ]
                      },
                      {
                        "passed_time": 7.191919987,
                        "iteration": 469,
                        "remaining_time": 8.110037432,
                        "learn": [
                          0.2954426336
                        ]
                      },
                      {
                        "passed_time": 7.206389095,
                        "iteration": 470,
                        "remaining_time": 8.093800066,
                        "learn": [
                          0.2954178496
                        ]
                      },
                      {
                        "passed_time": 7.221411959,
                        "iteration": 471,
                        "remaining_time": 8.07818965,
                        "learn": [
                          0.2954016986
                        ]
                      },
                      {
                        "passed_time": 7.238764659,
                        "iteration": 472,
                        "remaining_time": 8.065177537,
                        "learn": [
                          0.2953761205
                        ]
                      },
                      {
                        "passed_time": 7.253927712,
                        "iteration": 473,
                        "remaining_time": 8.04971725,
                        "learn": [
                          0.2953506849
                        ]
                      },
                      {
                        "passed_time": 7.268858668,
                        "iteration": 474,
                        "remaining_time": 8.034001686,
                        "learn": [
                          0.2953241604
                        ]
                      },
                      {
                        "passed_time": 7.283058399,
                        "iteration": 475,
                        "remaining_time": 8.017484456,
                        "learn": [
                          0.2953083967
                        ]
                      },
                      {
                        "passed_time": 7.298212139,
                        "iteration": 476,
                        "remaining_time": 8.002022953,
                        "learn": [
                          0.2952641671
                        ]
                      },
                      {
                        "passed_time": 7.312183949,
                        "iteration": 477,
                        "remaining_time": 7.985272012,
                        "learn": [
                          0.2952503314
                        ]
                      },
                      {
                        "passed_time": 7.32619427,
                        "iteration": 478,
                        "remaining_time": 7.968574561,
                        "learn": [
                          0.2952387659
                        ]
                      },
                      {
                        "passed_time": 7.345772545,
                        "iteration": 479,
                        "remaining_time": 7.957920257,
                        "learn": [
                          0.2952160433
                        ]
                      },
                      {
                        "passed_time": 7.36073127,
                        "iteration": 480,
                        "remaining_time": 7.942244343,
                        "learn": [
                          0.2951822111
                        ]
                      },
                      {
                        "passed_time": 7.374797079,
                        "iteration": 481,
                        "remaining_time": 7.925611799,
                        "learn": [
                          0.2951737003
                        ]
                      },
                      {
                        "passed_time": 7.389350547,
                        "iteration": 482,
                        "remaining_time": 7.90951187,
                        "learn": [
                          0.295147108
                        ]
                      },
                      {
                        "passed_time": 7.403775004,
                        "iteration": 483,
                        "remaining_time": 7.893280789,
                        "learn": [
                          0.295131413
                        ]
                      },
                      {
                        "passed_time": 7.41848708,
                        "iteration": 484,
                        "remaining_time": 7.877362569,
                        "learn": [
                          0.2950972852
                        ]
                      },
                      {
                        "passed_time": 7.440535768,
                        "iteration": 485,
                        "remaining_time": 7.869208611,
                        "learn": [
                          0.2950661818
                        ]
                      },
                      {
                        "passed_time": 7.456171217,
                        "iteration": 486,
                        "remaining_time": 7.85424196,
                        "learn": [
                          0.2950243652
                        ]
                      },
                      {
                        "passed_time": 7.47072676,
                        "iteration": 487,
                        "remaining_time": 7.838139552,
                        "learn": [
                          0.2950057054
                        ]
                      },
                      {
                        "passed_time": 7.485296563,
                        "iteration": 488,
                        "remaining_time": 7.822058372,
                        "learn": [
                          0.2949806565
                        ]
                      },
                      {
                        "passed_time": 7.500305662,
                        "iteration": 489,
                        "remaining_time": 7.806440586,
                        "learn": [
                          0.2949596503
                        ]
                      },
                      {
                        "passed_time": 7.514708075,
                        "iteration": 490,
                        "remaining_time": 7.790196354,
                        "learn": [
                          0.2949472873
                        ]
                      },
                      {
                        "passed_time": 7.530506359,
                        "iteration": 491,
                        "remaining_time": 7.775400875,
                        "learn": [
                          0.2949295111
                        ]
                      },
                      {
                        "passed_time": 7.54647761,
                        "iteration": 492,
                        "remaining_time": 7.760779205,
                        "learn": [
                          0.2948929731
                        ]
                      },
                      {
                        "passed_time": 7.561547147,
                        "iteration": 493,
                        "remaining_time": 7.745228454,
                        "learn": [
                          0.2948637596
                        ]
                      },
                      {
                        "passed_time": 7.576990423,
                        "iteration": 494,
                        "remaining_time": 7.730060936,
                        "learn": [
                          0.2948489233
                        ]
                      },
                      {
                        "passed_time": 7.592065639,
                        "iteration": 495,
                        "remaining_time": 7.714518311,
                        "learn": [
                          0.2948367096
                        ]
                      },
                      {
                        "passed_time": 7.6056413,
                        "iteration": 496,
                        "remaining_time": 7.697459907,
                        "learn": [
                          0.2948338579
                        ]
                      },
                      {
                        "passed_time": 7.620096716,
                        "iteration": 497,
                        "remaining_time": 7.681302312,
                        "learn": [
                          0.2948125191
                        ]
                      },
                      {
                        "passed_time": 7.634482369,
                        "iteration": 498,
                        "remaining_time": 7.665081497,
                        "learn": [
                          0.2947938753
                        ]
                      },
                      {
                        "passed_time": 7.649106271,
                        "iteration": 499,
                        "remaining_time": 7.649106271,
                        "learn": [
                          0.2947847708
                        ]
                      },
                      {
                        "passed_time": 7.674537506,
                        "iteration": 500,
                        "remaining_time": 7.64390063,
                        "learn": [
                          0.2947609832
                        ]
                      },
                      {
                        "passed_time": 7.695663807,
                        "iteration": 501,
                        "remaining_time": 7.634343777,
                        "learn": [
                          0.294740985
                        ]
                      },
                      {
                        "passed_time": 7.710633072,
                        "iteration": 502,
                        "remaining_time": 7.618657329,
                        "learn": [
                          0.2947134692
                        ]
                      },
                      {
                        "passed_time": 7.724961421,
                        "iteration": 503,
                        "remaining_time": 7.602342986,
                        "learn": [
                          0.2946990258
                        ]
                      },
                      {
                        "passed_time": 7.73934352,
                        "iteration": 504,
                        "remaining_time": 7.586089193,
                        "learn": [
                          0.2946851749
                        ]
                      },
                      {
                        "passed_time": 7.7532208,
                        "iteration": 505,
                        "remaining_time": 7.569349951,
                        "learn": [
                          0.29467565
                        ]
                      },
                      {
                        "passed_time": 7.767718753,
                        "iteration": 506,
                        "remaining_time": 7.553225533,
                        "learn": [
                          0.2946423537
                        ]
                      },
                      {
                        "passed_time": 7.782854325,
                        "iteration": 507,
                        "remaining_time": 7.537725055,
                        "learn": [
                          0.2946240617
                        ]
                      },
                      {
                        "passed_time": 7.797122424,
                        "iteration": 508,
                        "remaining_time": 7.521389215,
                        "learn": [
                          0.2946150723
                        ]
                      },
                      {
                        "passed_time": 7.812285421,
                        "iteration": 509,
                        "remaining_time": 7.505921287,
                        "learn": [
                          0.2945750933
                        ]
                      },
                      {
                        "passed_time": 7.825833758,
                        "iteration": 510,
                        "remaining_time": 7.488909408,
                        "learn": [
                          0.2945596633
                        ]
                      },
                      {
                        "passed_time": 7.841275503,
                        "iteration": 511,
                        "remaining_time": 7.473715714,
                        "learn": [
                          0.2945215959
                        ]
                      },
                      {
                        "passed_time": 7.856631037,
                        "iteration": 512,
                        "remaining_time": 7.45843921,
                        "learn": [
                          0.2944842757
                        ]
                      },
                      {
                        "passed_time": 7.87268258,
                        "iteration": 513,
                        "remaining_time": 7.443820494,
                        "learn": [
                          0.2944419937
                        ]
                      },
                      {
                        "passed_time": 7.887434121,
                        "iteration": 514,
                        "remaining_time": 7.427971939,
                        "learn": [
                          0.2944268522
                        ]
                      },
                      {
                        "passed_time": 7.903359887,
                        "iteration": 515,
                        "remaining_time": 7.413229042,
                        "learn": [
                          0.2944055291
                        ]
                      },
                      {
                        "passed_time": 7.917992441,
                        "iteration": 516,
                        "remaining_time": 7.397273402,
                        "learn": [
                          0.2943817343
                        ]
                      },
                      {
                        "passed_time": 7.936593862,
                        "iteration": 517,
                        "remaining_time": 7.385015911,
                        "learn": [
                          0.2943589077
                        ]
                      },
                      {
                        "passed_time": 7.957980064,
                        "iteration": 518,
                        "remaining_time": 7.375314857,
                        "learn": [
                          0.2943266528
                        ]
                      },
                      {
                        "passed_time": 7.972876604,
                        "iteration": 519,
                        "remaining_time": 7.359578404,
                        "learn": [
                          0.294305979
                        ]
                      },
                      {
                        "passed_time": 7.988140427,
                        "iteration": 520,
                        "remaining_time": 7.344182849,
                        "learn": [
                          0.2942961564
                        ]
                      },
                      {
                        "passed_time": 8.003064779,
                        "iteration": 521,
                        "remaining_time": 7.328476943,
                        "learn": [
                          0.2942624651
                        ]
                      },
                      {
                        "passed_time": 8.017012923,
                        "iteration": 522,
                        "remaining_time": 7.311883679,
                        "learn": [
                          0.2942484275
                        ]
                      },
                      {
                        "passed_time": 8.0649357,
                        "iteration": 523,
                        "remaining_time": 7.326162964,
                        "learn": [
                          0.2942069683
                        ]
                      },
                      {
                        "passed_time": 8.086657433,
                        "iteration": 524,
                        "remaining_time": 7.316499582,
                        "learn": [
                          0.2941883352
                        ]
                      },
                      {
                        "passed_time": 8.098145155,
                        "iteration": 525,
                        "remaining_time": 7.297568067,
                        "learn": [
                          0.2941876114
                        ]
                      },
                      {
                        "passed_time": 8.113495575,
                        "iteration": 526,
                        "remaining_time": 7.282131702,
                        "learn": [
                          0.2941648565
                        ]
                      },
                      {
                        "passed_time": 8.127383652,
                        "iteration": 527,
                        "remaining_time": 7.265388416,
                        "learn": [
                          0.2941496998
                        ]
                      },
                      {
                        "passed_time": 8.142652788,
                        "iteration": 528,
                        "remaining_time": 7.249885564,
                        "learn": [
                          0.2941268142
                        ]
                      },
                      {
                        "passed_time": 8.156987999,
                        "iteration": 529,
                        "remaining_time": 7.233555396,
                        "learn": [
                          0.2941045658
                        ]
                      },
                      {
                        "passed_time": 8.17118749,
                        "iteration": 530,
                        "remaining_time": 7.217112868,
                        "learn": [
                          0.2940851609
                        ]
                      },
                      {
                        "passed_time": 8.185355928,
                        "iteration": 531,
                        "remaining_time": 7.200651456,
                        "learn": [
                          0.2940683288
                        ]
                      },
                      {
                        "passed_time": 8.199983699,
                        "iteration": 532,
                        "remaining_time": 7.184601102,
                        "learn": [
                          0.2940522011
                        ]
                      },
                      {
                        "passed_time": 8.21520179,
                        "iteration": 533,
                        "remaining_time": 7.169071225,
                        "learn": [
                          0.2940272424
                        ]
                      },
                      {
                        "passed_time": 8.229682145,
                        "iteration": 534,
                        "remaining_time": 7.152901303,
                        "learn": [
                          0.2940054196
                        ]
                      },
                      {
                        "passed_time": 8.245738981,
                        "iteration": 535,
                        "remaining_time": 7.138102401,
                        "learn": [
                          0.293977364
                        ]
                      },
                      {
                        "passed_time": 8.260993829,
                        "iteration": 536,
                        "remaining_time": 7.122607342,
                        "learn": [
                          0.293953559
                        ]
                      },
                      {
                        "passed_time": 8.275731075,
                        "iteration": 537,
                        "remaining_time": 7.106668693,
                        "learn": [
                          0.293936387
                        ]
                      },
                      {
                        "passed_time": 8.290179772,
                        "iteration": 538,
                        "remaining_time": 7.090487708,
                        "learn": [
                          0.2939233913
                        ]
                      },
                      {
                        "passed_time": 8.305754319,
                        "iteration": 539,
                        "remaining_time": 7.075272198,
                        "learn": [
                          0.2938980485
                        ]
                      },
                      {
                        "passed_time": 8.320344063,
                        "iteration": 540,
                        "remaining_time": 7.059219825,
                        "learn": [
                          0.2938819517
                        ]
                      },
                      {
                        "passed_time": 8.335411968,
                        "iteration": 541,
                        "remaining_time": 7.043576903,
                        "learn": [
                          0.293855034
                        ]
                      },
                      {
                        "passed_time": 8.350377644,
                        "iteration": 542,
                        "remaining_time": 7.027850061,
                        "learn": [
                          0.2938320396
                        ]
                      },
                      {
                        "passed_time": 8.365425465,
                        "iteration": 543,
                        "remaining_time": 7.012194875,
                        "learn": [
                          0.2938021419
                        ]
                      },
                      {
                        "passed_time": 8.381050322,
                        "iteration": 544,
                        "remaining_time": 6.997023663,
                        "learn": [
                          0.2937851229
                        ]
                      },
                      {
                        "passed_time": 8.403084072,
                        "iteration": 545,
                        "remaining_time": 6.987179796,
                        "learn": [
                          0.2937532239
                        ]
                      },
                      {
                        "passed_time": 8.418945942,
                        "iteration": 546,
                        "remaining_time": 6.972180094,
                        "learn": [
                          0.2937349121
                        ]
                      },
                      {
                        "passed_time": 8.433983795,
                        "iteration": 547,
                        "remaining_time": 6.956497582,
                        "learn": [
                          0.2937183108
                        ]
                      },
                      {
                        "passed_time": 8.449288332,
                        "iteration": 548,
                        "remaining_time": 6.941036498,
                        "learn": [
                          0.2937005106
                        ]
                      },
                      {
                        "passed_time": 8.466818742,
                        "iteration": 549,
                        "remaining_time": 6.927397152,
                        "learn": [
                          0.2936809821
                        ]
                      },
                      {
                        "passed_time": 8.485282969,
                        "iteration": 550,
                        "remaining_time": 6.914504633,
                        "learn": [
                          0.2936492744
                        ]
                      },
                      {
                        "passed_time": 8.50101039,
                        "iteration": 551,
                        "remaining_time": 6.899370752,
                        "learn": [
                          0.293632671
                        ]
                      },
                      {
                        "passed_time": 8.516619959,
                        "iteration": 552,
                        "remaining_time": 6.884139461,
                        "learn": [
                          0.2936196869
                        ]
                      },
                      {
                        "passed_time": 8.534070026,
                        "iteration": 553,
                        "remaining_time": 6.870388504,
                        "learn": [
                          0.2935974955
                        ]
                      },
                      {
                        "passed_time": 8.548910307,
                        "iteration": 554,
                        "remaining_time": 6.854531688,
                        "learn": [
                          0.2935768708
                        ]
                      },
                      {
                        "passed_time": 8.563030026,
                        "iteration": 555,
                        "remaining_time": 6.838103114,
                        "learn": [
                          0.2935586181
                        ]
                      },
                      {
                        "passed_time": 8.580278789,
                        "iteration": 556,
                        "remaining_time": 6.82417146,
                        "learn": [
                          0.2935402944
                        ]
                      },
                      {
                        "passed_time": 8.596209118,
                        "iteration": 557,
                        "remaining_time": 6.809183566,
                        "learn": [
                          0.2935016531
                        ]
                      },
                      {
                        "passed_time": 8.610841166,
                        "iteration": 558,
                        "remaining_time": 6.793168076,
                        "learn": [
                          0.2934868143
                        ]
                      },
                      {
                        "passed_time": 8.624434556,
                        "iteration": 559,
                        "remaining_time": 6.776341437,
                        "learn": [
                          0.2934815883
                        ]
                      },
                      {
                        "passed_time": 8.639051917,
                        "iteration": 560,
                        "remaining_time": 6.760327614,
                        "learn": [
                          0.293450165
                        ]
                      },
                      {
                        "passed_time": 8.652993147,
                        "iteration": 561,
                        "remaining_time": 6.743791812,
                        "learn": [
                          0.293431231
                        ]
                      },
                      {
                        "passed_time": 8.667888417,
                        "iteration": 562,
                        "remaining_time": 6.728005752,
                        "learn": [
                          0.2934022223
                        ]
                      },
                      {
                        "passed_time": 8.698832143,
                        "iteration": 563,
                        "remaining_time": 6.724629104,
                        "learn": [
                          0.2933649997
                        ]
                      },
                      {
                        "passed_time": 8.713539988,
                        "iteration": 564,
                        "remaining_time": 6.708654681,
                        "learn": [
                          0.2933447488
                        ]
                      },
                      {
                        "passed_time": 8.728577464,
                        "iteration": 565,
                        "remaining_time": 6.69293749,
                        "learn": [
                          0.2933189642
                        ]
                      },
                      {
                        "passed_time": 8.743567905,
                        "iteration": 566,
                        "remaining_time": 6.677186778,
                        "learn": [
                          0.2932979737
                        ]
                      },
                      {
                        "passed_time": 8.757759137,
                        "iteration": 567,
                        "remaining_time": 6.660830893,
                        "learn": [
                          0.2932905775
                        ]
                      },
                      {
                        "passed_time": 8.772044386,
                        "iteration": 568,
                        "remaining_time": 6.644553832,
                        "learn": [
                          0.2932761586
                        ]
                      },
                      {
                        "passed_time": 8.786850109,
                        "iteration": 569,
                        "remaining_time": 6.628676398,
                        "learn": [
                          0.2932629498
                        ]
                      },
                      {
                        "passed_time": 8.802288328,
                        "iteration": 570,
                        "remaining_time": 6.61327792,
                        "learn": [
                          0.2932545264
                        ]
                      },
                      {
                        "passed_time": 8.81740127,
                        "iteration": 571,
                        "remaining_time": 6.597635916,
                        "learn": [
                          0.2932270356
                        ]
                      },
                      {
                        "passed_time": 8.832550331,
                        "iteration": 572,
                        "remaining_time": 6.582022673,
                        "learn": [
                          0.293205236
                        ]
                      },
                      {
                        "passed_time": 8.847795152,
                        "iteration": 573,
                        "remaining_time": 6.566482116,
                        "learn": [
                          0.2931648507
                        ]
                      },
                      {
                        "passed_time": 8.861601222,
                        "iteration": 574,
                        "remaining_time": 6.549879164,
                        "learn": [
                          0.2931618829
                        ]
                      },
                      {
                        "passed_time": 8.875594701,
                        "iteration": 575,
                        "remaining_time": 6.533423877,
                        "learn": [
                          0.2931410796
                        ]
                      },
                      {
                        "passed_time": 8.88997166,
                        "iteration": 576,
                        "remaining_time": 6.517258253,
                        "learn": [
                          0.293118413
                        ]
                      },
                      {
                        "passed_time": 8.905110939,
                        "iteration": 577,
                        "remaining_time": 6.501655391,
                        "learn": [
                          0.2930864533
                        ]
                      },
                      {
                        "passed_time": 8.92007705,
                        "iteration": 578,
                        "remaining_time": 6.485928218,
                        "learn": [
                          0.2930558366
                        ]
                      },
                      {
                        "passed_time": 8.934382452,
                        "iteration": 579,
                        "remaining_time": 6.469725224,
                        "learn": [
                          0.2930447031
                        ]
                      },
                      {
                        "passed_time": 8.954853465,
                        "iteration": 580,
                        "remaining_time": 6.457975218,
                        "learn": [
                          0.2930218587
                        ]
                      },
                      {
                        "passed_time": 8.969602786,
                        "iteration": 581,
                        "remaining_time": 6.44208585,
                        "learn": [
                          0.2930001917
                        ]
                      },
                      {
                        "passed_time": 8.983742686,
                        "iteration": 582,
                        "remaining_time": 6.425764494,
                        "learn": [
                          0.2929835426
                        ]
                      },
                      {
                        "passed_time": 8.998578998,
                        "iteration": 583,
                        "remaining_time": 6.409946683,
                        "learn": [
                          0.2929667242
                        ]
                      },
                      {
                        "passed_time": 9.012362222,
                        "iteration": 584,
                        "remaining_time": 6.393385166,
                        "learn": [
                          0.2929529724
                        ]
                      },
                      {
                        "passed_time": 9.027310026,
                        "iteration": 585,
                        "remaining_time": 6.377655889,
                        "learn": [
                          0.2929221964
                        ]
                      },
                      {
                        "passed_time": 9.063785577,
                        "iteration": 586,
                        "remaining_time": 6.377075713,
                        "learn": [
                          0.2928959955
                        ]
                      },
                      {
                        "passed_time": 9.099449745,
                        "iteration": 587,
                        "remaining_time": 6.375804924,
                        "learn": [
                          0.292883388
                        ]
                      },
                      {
                        "passed_time": 9.11408952,
                        "iteration": 588,
                        "remaining_time": 6.359746677,
                        "learn": [
                          0.29287088
                        ]
                      },
                      {
                        "passed_time": 9.131849015,
                        "iteration": 589,
                        "remaining_time": 6.34586118,
                        "learn": [
                          0.2928365238
                        ]
                      },
                      {
                        "passed_time": 9.14644419,
                        "iteration": 590,
                        "remaining_time": 6.329772713,
                        "learn": [
                          0.292810404
                        ]
                      },
                      {
                        "passed_time": 9.16120764,
                        "iteration": 591,
                        "remaining_time": 6.313805265,
                        "learn": [
                          0.292784788
                        ]
                      },
                      {
                        "passed_time": 9.17647906,
                        "iteration": 592,
                        "remaining_time": 6.298190519,
                        "learn": [
                          0.292767622
                        ]
                      },
                      {
                        "passed_time": 9.19109997,
                        "iteration": 593,
                        "remaining_time": 6.282132303,
                        "learn": [
                          0.2927442866
                        ]
                      },
                      {
                        "passed_time": 9.206434124,
                        "iteration": 594,
                        "remaining_time": 6.266564404,
                        "learn": [
                          0.292716607
                        ]
                      },
                      {
                        "passed_time": 9.220358281,
                        "iteration": 595,
                        "remaining_time": 6.250041519,
                        "learn": [
                          0.2927100351
                        ]
                      },
                      {
                        "passed_time": 9.235304353,
                        "iteration": 596,
                        "remaining_time": 6.234217176,
                        "learn": [
                          0.2926965736
                        ]
                      },
                      {
                        "passed_time": 9.250266913,
                        "iteration": 597,
                        "remaining_time": 6.218406855,
                        "learn": [
                          0.2926827944
                        ]
                      },
                      {
                        "passed_time": 9.265181129,
                        "iteration": 598,
                        "remaining_time": 6.202566999,
                        "learn": [
                          0.292659329
                        ]
                      },
                      {
                        "passed_time": 9.279828032,
                        "iteration": 599,
                        "remaining_time": 6.186552021,
                        "learn": [
                          0.2926542198
                        ]
                      },
                      {
                        "passed_time": 9.294915945,
                        "iteration": 600,
                        "remaining_time": 6.170834379,
                        "learn": [
                          0.2926253832
                        ]
                      },
                      {
                        "passed_time": 9.310150449,
                        "iteration": 601,
                        "remaining_time": 6.155215745,
                        "learn": [
                          0.2926099994
                        ]
                      },
                      {
                        "passed_time": 9.32408779,
                        "iteration": 602,
                        "remaining_time": 6.138744366,
                        "learn": [
                          0.292605081
                        ]
                      },
                      {
                        "passed_time": 9.339050975,
                        "iteration": 603,
                        "remaining_time": 6.122953951,
                        "learn": [
                          0.2925836572
                        ]
                      },
                      {
                        "passed_time": 9.353588114,
                        "iteration": 604,
                        "remaining_time": 6.106888107,
                        "learn": [
                          0.292569211
                        ]
                      },
                      {
                        "passed_time": 9.36800205,
                        "iteration": 605,
                        "remaining_time": 6.090747208,
                        "learn": [
                          0.2925503035
                        ]
                      },
                      {
                        "passed_time": 9.381939127,
                        "iteration": 606,
                        "remaining_time": 6.074303257,
                        "learn": [
                          0.2925362312
                        ]
                      },
                      {
                        "passed_time": 9.396678674,
                        "iteration": 607,
                        "remaining_time": 6.058384935,
                        "learn": [
                          0.2925242775
                        ]
                      },
                      {
                        "passed_time": 9.410769683,
                        "iteration": 608,
                        "remaining_time": 6.042054099,
                        "learn": [
                          0.2925059072
                        ]
                      },
                      {
                        "passed_time": 9.42547944,
                        "iteration": 609,
                        "remaining_time": 6.0261262,
                        "learn": [
                          0.2924887256
                        ]
                      },
                      {
                        "passed_time": 9.4398143,
                        "iteration": 610,
                        "remaining_time": 6.009963605,
                        "learn": [
                          0.292467853
                        ]
                      },
                      {
                        "passed_time": 9.45637434,
                        "iteration": 611,
                        "remaining_time": 5.995217719,
                        "learn": [
                          0.2924513515
                        ]
                      },
                      {
                        "passed_time": 9.473898327,
                        "iteration": 612,
                        "remaining_time": 5.981074474,
                        "learn": [
                          0.2924295083
                        ]
                      },
                      {
                        "passed_time": 9.488729788,
                        "iteration": 613,
                        "remaining_time": 5.965227521,
                        "learn": [
                          0.2924090041
                        ]
                      },
                      {
                        "passed_time": 9.509593811,
                        "iteration": 614,
                        "remaining_time": 5.953160353,
                        "learn": [
                          0.2923671168
                        ]
                      },
                      {
                        "passed_time": 9.525120873,
                        "iteration": 615,
                        "remaining_time": 5.937737687,
                        "learn": [
                          0.2923392804
                        ]
                      },
                      {
                        "passed_time": 9.540332117,
                        "iteration": 616,
                        "remaining_time": 5.92211864,
                        "learn": [
                          0.2923124388
                        ]
                      },
                      {
                        "passed_time": 9.555300536,
                        "iteration": 617,
                        "remaining_time": 5.906350817,
                        "learn": [
                          0.2923033334
                        ]
                      },
                      {
                        "passed_time": 9.569119529,
                        "iteration": 618,
                        "remaining_time": 5.889878094,
                        "learn": [
                          0.2922916241
                        ]
                      },
                      {
                        "passed_time": 9.584315585,
                        "iteration": 619,
                        "remaining_time": 5.874257939,
                        "learn": [
                          0.2922657296
                        ]
                      },
                      {
                        "passed_time": 9.599978712,
                        "iteration": 620,
                        "remaining_time": 5.858924206,
                        "learn": [
                          0.2922518649
                        ]
                      },
                      {
                        "passed_time": 9.615020254,
                        "iteration": 621,
                        "remaining_time": 5.843211666,
                        "learn": [
                          0.2922380705
                        ]
                      },
                      {
                        "passed_time": 9.629301953,
                        "iteration": 622,
                        "remaining_time": 5.827041471,
                        "learn": [
                          0.2922178908
                        ]
                      },
                      {
                        "passed_time": 9.644124653,
                        "iteration": 623,
                        "remaining_time": 5.811203316,
                        "learn": [
                          0.2921865848
                        ]
                      },
                      {
                        "passed_time": 9.658342322,
                        "iteration": 624,
                        "remaining_time": 5.795005393,
                        "learn": [
                          0.2921783348
                        ]
                      },
                      {
                        "passed_time": 9.67360282,
                        "iteration": 625,
                        "remaining_time": 5.779436829,
                        "learn": [
                          0.2921371579
                        ]
                      },
                      {
                        "passed_time": 9.702869589,
                        "iteration": 626,
                        "remaining_time": 5.772201526,
                        "learn": [
                          0.2921053033
                        ]
                      },
                      {
                        "passed_time": 9.71776235,
                        "iteration": 627,
                        "remaining_time": 5.756381519,
                        "learn": [
                          0.2920807828
                        ]
                      },
                      {
                        "passed_time": 9.736601877,
                        "iteration": 628,
                        "remaining_time": 5.742892363,
                        "learn": [
                          0.2920732866
                        ]
                      },
                      {
                        "passed_time": 9.751354898,
                        "iteration": 629,
                        "remaining_time": 5.72698621,
                        "learn": [
                          0.2920462542
                        ]
                      },
                      {
                        "passed_time": 9.766078682,
                        "iteration": 630,
                        "remaining_time": 5.711066614,
                        "learn": [
                          0.2920304025
                        ]
                      },
                      {
                        "passed_time": 9.780416263,
                        "iteration": 631,
                        "remaining_time": 5.694925925,
                        "learn": [
                          0.2920023359
                        ]
                      },
                      {
                        "passed_time": 9.795539141,
                        "iteration": 632,
                        "remaining_time": 5.679246232,
                        "learn": [
                          0.2919778276
                        ]
                      },
                      {
                        "passed_time": 9.81029945,
                        "iteration": 633,
                        "remaining_time": 5.663358988,
                        "learn": [
                          0.2919653507
                        ]
                      },
                      {
                        "passed_time": 9.825520393,
                        "iteration": 634,
                        "remaining_time": 5.647740069,
                        "learn": [
                          0.2919568275
                        ]
                      },
                      {
                        "passed_time": 9.840251369,
                        "iteration": 635,
                        "remaining_time": 5.631841979,
                        "learn": [
                          0.2919511984
                        ]
                      },
                      {
                        "passed_time": 9.856460156,
                        "iteration": 636,
                        "remaining_time": 5.616789696,
                        "learn": [
                          0.2919205586
                        ]
                      },
                      {
                        "passed_time": 9.872427443,
                        "iteration": 637,
                        "remaining_time": 5.601596762,
                        "learn": [
                          0.2919106082
                        ]
                      },
                      {
                        "passed_time": 9.888143763,
                        "iteration": 638,
                        "remaining_time": 5.586259622,
                        "learn": [
                          0.2918906335
                        ]
                      },
                      {
                        "passed_time": 9.90294966,
                        "iteration": 639,
                        "remaining_time": 5.570409184,
                        "learn": [
                          0.291872147
                        ]
                      },
                      {
                        "passed_time": 9.917556127,
                        "iteration": 640,
                        "remaining_time": 5.554450311,
                        "learn": [
                          0.2918564622
                        ]
                      },
                      {
                        "passed_time": 9.93223239,
                        "iteration": 641,
                        "remaining_time": 5.538534573,
                        "learn": [
                          0.2918398199
                        ]
                      },
                      {
                        "passed_time": 9.947236466,
                        "iteration": 642,
                        "remaining_time": 5.522804694,
                        "learn": [
                          0.2918098509
                        ]
                      },
                      {
                        "passed_time": 9.962968715,
                        "iteration": 643,
                        "remaining_time": 5.5074796,
                        "learn": [
                          0.2917916284
                        ]
                      },
                      {
                        "passed_time": 9.977149326,
                        "iteration": 644,
                        "remaining_time": 5.491299242,
                        "learn": [
                          0.2917783694
                        ]
                      },
                      {
                        "passed_time": 9.99266859,
                        "iteration": 645,
                        "remaining_time": 5.475858639,
                        "learn": [
                          0.2917510856
                        ]
                      },
                      {
                        "passed_time": 10.00980947,
                        "iteration": 646,
                        "remaining_time": 5.461302537,
                        "learn": [
                          0.2917261703
                        ]
                      },
                      {
                        "passed_time": 10.02487456,
                        "iteration": 647,
                        "remaining_time": 5.445610873,
                        "learn": [
                          0.2916924361
                        ]
                      },
                      {
                        "passed_time": 10.03918508,
                        "iteration": 648,
                        "remaining_time": 5.429513042,
                        "learn": [
                          0.2916760255
                        ]
                      },
                      {
                        "passed_time": 10.05632265,
                        "iteration": 649,
                        "remaining_time": 5.414942963,
                        "learn": [
                          0.2916518148
                        ]
                      },
                      {
                        "passed_time": 10.11781535,
                        "iteration": 650,
                        "remaining_time": 5.424143713,
                        "learn": [
                          0.2916322891
                        ]
                      },
                      {
                        "passed_time": 10.1465566,
                        "iteration": 651,
                        "remaining_time": 5.415646774,
                        "learn": [
                          0.2916180426
                        ]
                      },
                      {
                        "passed_time": 10.16163327,
                        "iteration": 652,
                        "remaining_time": 5.399826561,
                        "learn": [
                          0.2915996007
                        ]
                      },
                      {
                        "passed_time": 10.17659766,
                        "iteration": 653,
                        "remaining_time": 5.383949219,
                        "learn": [
                          0.2915773704
                        ]
                      },
                      {
                        "passed_time": 10.19193262,
                        "iteration": 654,
                        "remaining_time": 5.368269855,
                        "learn": [
                          0.291567195
                        ]
                      },
                      {
                        "passed_time": 10.20652391,
                        "iteration": 655,
                        "remaining_time": 5.352201561,
                        "learn": [
                          0.29155328
                        ]
                      },
                      {
                        "passed_time": 10.22019639,
                        "iteration": 656,
                        "remaining_time": 5.335658086,
                        "learn": [
                          0.2915450005
                        ]
                      },
                      {
                        "passed_time": 10.23417883,
                        "iteration": 657,
                        "remaining_time": 5.319284439,
                        "learn": [
                          0.2915346526
                        ]
                      },
                      {
                        "passed_time": 10.24886335,
                        "iteration": 658,
                        "remaining_time": 5.303281338,
                        "learn": [
                          0.2915246645
                        ]
                      },
                      {
                        "passed_time": 10.26460274,
                        "iteration": 659,
                        "remaining_time": 5.287825654,
                        "learn": [
                          0.2915088146
                        ]
                      },
                      {
                        "passed_time": 10.27981113,
                        "iteration": 660,
                        "remaining_time": 5.272096784,
                        "learn": [
                          0.2914927374
                        ]
                      },
                      {
                        "passed_time": 10.29503745,
                        "iteration": 661,
                        "remaining_time": 5.256378637,
                        "learn": [
                          0.2914761104
                        ]
                      },
                      {
                        "passed_time": 10.31006291,
                        "iteration": 662,
                        "remaining_time": 5.240559882,
                        "learn": [
                          0.2914565111
                        ]
                      },
                      {
                        "passed_time": 10.3264499,
                        "iteration": 663,
                        "remaining_time": 5.225432482,
                        "learn": [
                          0.2914298575
                        ]
                      },
                      {
                        "passed_time": 10.34114803,
                        "iteration": 664,
                        "remaining_time": 5.209450512,
                        "learn": [
                          0.2913909178
                        ]
                      },
                      {
                        "passed_time": 10.35611791,
                        "iteration": 665,
                        "remaining_time": 5.193608681,
                        "learn": [
                          0.2913665205
                        ]
                      },
                      {
                        "passed_time": 10.3736648,
                        "iteration": 666,
                        "remaining_time": 5.179056038,
                        "learn": [
                          0.2913436094
                        ]
                      },
                      {
                        "passed_time": 10.38839437,
                        "iteration": 667,
                        "remaining_time": 5.16309421,
                        "learn": [
                          0.2913344161
                        ]
                      },
                      {
                        "passed_time": 10.40343638,
                        "iteration": 668,
                        "remaining_time": 5.147290644,
                        "learn": [
                          0.291315597
                        ]
                      },
                      {
                        "passed_time": 10.41871128,
                        "iteration": 669,
                        "remaining_time": 5.131604063,
                        "learn": [
                          0.2913018884
                        ]
                      },
                      {
                        "passed_time": 10.43358822,
                        "iteration": 670,
                        "remaining_time": 5.115723582,
                        "learn": [
                          0.2912731682
                        ]
                      },
                      {
                        "passed_time": 10.44803497,
                        "iteration": 671,
                        "remaining_time": 5.099636117,
                        "learn": [
                          0.2912596761
                        ]
                      },
                      {
                        "passed_time": 10.46384806,
                        "iteration": 672,
                        "remaining_time": 5.084217408,
                        "learn": [
                          0.291235403
                        ]
                      },
                      {
                        "passed_time": 10.47845256,
                        "iteration": 673,
                        "remaining_time": 5.068212961,
                        "learn": [
                          0.2912244163
                        ]
                      },
                      {
                        "passed_time": 10.49292906,
                        "iteration": 674,
                        "remaining_time": 5.05215103,
                        "learn": [
                          0.2912150524
                        ]
                      },
                      {
                        "passed_time": 10.50997693,
                        "iteration": 675,
                        "remaining_time": 5.037326222,
                        "learn": [
                          0.2911954094
                        ]
                      },
                      {
                        "passed_time": 10.52492271,
                        "iteration": 676,
                        "remaining_time": 5.021491928,
                        "learn": [
                          0.2911807875
                        ]
                      },
                      {
                        "passed_time": 10.53926619,
                        "iteration": 677,
                        "remaining_time": 5.005374208,
                        "learn": [
                          0.2911628823
                        ]
                      },
                      {
                        "passed_time": 10.55433993,
                        "iteration": 678,
                        "remaining_time": 4.98960695,
                        "learn": [
                          0.2911397822
                        ]
                      },
                      {
                        "passed_time": 10.57002776,
                        "iteration": 679,
                        "remaining_time": 4.974130709,
                        "learn": [
                          0.2911245949
                        ]
                      },
                      {
                        "passed_time": 10.58405775,
                        "iteration": 680,
                        "remaining_time": 4.957877273,
                        "learn": [
                          0.291106617
                        ]
                      },
                      {
                        "passed_time": 10.59893476,
                        "iteration": 681,
                        "remaining_time": 4.942025299,
                        "learn": [
                          0.2910788028
                        ]
                      },
                      {
                        "passed_time": 10.61323794,
                        "iteration": 682,
                        "remaining_time": 4.925909848,
                        "learn": [
                          0.2910596987
                        ]
                      },
                      {
                        "passed_time": 10.62820928,
                        "iteration": 683,
                        "remaining_time": 4.910108381,
                        "learn": [
                          0.2910375001
                        ]
                      },
                      {
                        "passed_time": 10.64229869,
                        "iteration": 684,
                        "remaining_time": 4.893903777,
                        "learn": [
                          0.2910215195
                        ]
                      },
                      {
                        "passed_time": 10.6555516,
                        "iteration": 685,
                        "remaining_time": 4.877322454,
                        "learn": [
                          0.2910152369
                        ]
                      },
                      {
                        "passed_time": 10.67059763,
                        "iteration": 686,
                        "remaining_time": 4.861567771,
                        "learn": [
                          0.2909860693
                        ]
                      },
                      {
                        "passed_time": 10.68536822,
                        "iteration": 687,
                        "remaining_time": 4.845690237,
                        "learn": [
                          0.2909755584
                        ]
                      },
                      {
                        "passed_time": 10.70583854,
                        "iteration": 688,
                        "remaining_time": 4.832388657,
                        "learn": [
                          0.2909553797
                        ]
                      },
                      {
                        "passed_time": 10.72500188,
                        "iteration": 689,
                        "remaining_time": 4.818479105,
                        "learn": [
                          0.29093898
                        ]
                      },
                      {
                        "passed_time": 10.73949666,
                        "iteration": 690,
                        "remaining_time": 4.802466666,
                        "learn": [
                          0.2909230428
                        ]
                      },
                      {
                        "passed_time": 10.75484508,
                        "iteration": 691,
                        "remaining_time": 4.786838563,
                        "learn": [
                          0.2909096382
                        ]
                      },
                      {
                        "passed_time": 10.77000268,
                        "iteration": 692,
                        "remaining_time": 4.77112673,
                        "learn": [
                          0.2908896195
                        ]
                      },
                      {
                        "passed_time": 10.78474221,
                        "iteration": 693,
                        "remaining_time": 4.755232158,
                        "learn": [
                          0.2908628845
                        ]
                      },
                      {
                        "passed_time": 10.79947821,
                        "iteration": 694,
                        "remaining_time": 4.739339359,
                        "learn": [
                          0.2908387731
                        ]
                      },
                      {
                        "passed_time": 10.81386652,
                        "iteration": 695,
                        "remaining_time": 4.723298019,
                        "learn": [
                          0.2908262831
                        ]
                      },
                      {
                        "passed_time": 10.82888426,
                        "iteration": 696,
                        "remaining_time": 4.707535052,
                        "learn": [
                          0.29080937
                        ]
                      },
                      {
                        "passed_time": 10.84299542,
                        "iteration": 697,
                        "remaining_time": 4.691381971,
                        "learn": [
                          0.2908038979
                        ]
                      },
                      {
                        "passed_time": 10.8594475,
                        "iteration": 698,
                        "remaining_time": 4.676242772,
                        "learn": [
                          0.2907799283
                        ]
                      },
                      {
                        "passed_time": 10.87383984,
                        "iteration": 699,
                        "remaining_time": 4.660217073,
                        "learn": [
                          0.2907714801
                        ]
                      },
                      {
                        "passed_time": 10.88893129,
                        "iteration": 700,
                        "remaining_time": 4.644494232,
                        "learn": [
                          0.2907515419
                        ]
                      },
                      {
                        "passed_time": 10.90395111,
                        "iteration": 701,
                        "remaining_time": 4.62874278,
                        "learn": [
                          0.2907273461
                        ]
                      },
                      {
                        "passed_time": 10.92230596,
                        "iteration": 702,
                        "remaining_time": 4.614402374,
                        "learn": [
                          0.2907049559
                        ]
                      },
                      {
                        "passed_time": 10.93776125,
                        "iteration": 703,
                        "remaining_time": 4.598831434,
                        "learn": [
                          0.290693388
                        ]
                      },
                      {
                        "passed_time": 10.95337505,
                        "iteration": 704,
                        "remaining_time": 4.583327149,
                        "learn": [
                          0.2906768813
                        ]
                      },
                      {
                        "passed_time": 10.96858669,
                        "iteration": 705,
                        "remaining_time": 4.567655081,
                        "learn": [
                          0.2906557357
                        ]
                      },
                      {
                        "passed_time": 10.98382641,
                        "iteration": 706,
                        "remaining_time": 4.551995953,
                        "learn": [
                          0.2906321133
                        ]
                      },
                      {
                        "passed_time": 11.00020035,
                        "iteration": 707,
                        "remaining_time": 4.536805793,
                        "learn": [
                          0.2905931508
                        ]
                      },
                      {
                        "passed_time": 11.01550549,
                        "iteration": 708,
                        "remaining_time": 4.521173621,
                        "learn": [
                          0.2905525696
                        ]
                      },
                      {
                        "passed_time": 11.03037407,
                        "iteration": 709,
                        "remaining_time": 4.505364058,
                        "learn": [
                          0.2905161571
                        ]
                      },
                      {
                        "passed_time": 11.04485492,
                        "iteration": 710,
                        "remaining_time": 4.489399538,
                        "learn": [
                          0.2904996129
                        ]
                      },
                      {
                        "passed_time": 11.05981586,
                        "iteration": 711,
                        "remaining_time": 4.473633383,
                        "learn": [
                          0.2904929983
                        ]
                      },
                      {
                        "passed_time": 11.07456214,
                        "iteration": 712,
                        "remaining_time": 4.457783077,
                        "learn": [
                          0.2904708964
                        ]
                      },
                      {
                        "passed_time": 11.08956755,
                        "iteration": 713,
                        "remaining_time": 4.442039664,
                        "learn": [
                          0.2904612126
                        ]
                      },
                      {
                        "passed_time": 11.13844176,
                        "iteration": 714,
                        "remaining_time": 4.439798466,
                        "learn": [
                          0.2904435507
                        ]
                      },
                      {
                        "passed_time": 11.16295317,
                        "iteration": 715,
                        "remaining_time": 4.427763549,
                        "learn": [
                          0.2904204184
                        ]
                      },
                      {
                        "passed_time": 11.17765951,
                        "iteration": 716,
                        "remaining_time": 4.411823769,
                        "learn": [
                          0.2904083569
                        ]
                      },
                      {
                        "passed_time": 11.19252006,
                        "iteration": 717,
                        "remaining_time": 4.395947992,
                        "learn": [
                          0.290392059
                        ]
                      },
                      {
                        "passed_time": 11.2079475,
                        "iteration": 718,
                        "remaining_time": 4.380296587,
                        "learn": [
                          0.2903663252
                        ]
                      },
                      {
                        "passed_time": 11.22229075,
                        "iteration": 719,
                        "remaining_time": 4.364224179,
                        "learn": [
                          0.2903576831
                        ]
                      },
                      {
                        "passed_time": 11.23707558,
                        "iteration": 720,
                        "remaining_time": 4.348327442,
                        "learn": [
                          0.2903485769
                        ]
                      },
                      {
                        "passed_time": 11.25154898,
                        "iteration": 721,
                        "remaining_time": 4.332313875,
                        "learn": [
                          0.2903356299
                        ]
                      },
                      {
                        "passed_time": 11.26613691,
                        "iteration": 722,
                        "remaining_time": 4.316348443,
                        "learn": [
                          0.2903230032
                        ]
                      },
                      {
                        "passed_time": 11.28188932,
                        "iteration": 723,
                        "remaining_time": 4.300830735,
                        "learn": [
                          0.2903083834
                        ]
                      },
                      {
                        "passed_time": 11.29806583,
                        "iteration": 724,
                        "remaining_time": 4.285473244,
                        "learn": [
                          0.2902785901
                        ]
                      },
                      {
                        "passed_time": 11.31399863,
                        "iteration": 725,
                        "remaining_time": 4.270021523,
                        "learn": [
                          0.2902590651
                        ]
                      },
                      {
                        "passed_time": 11.32924694,
                        "iteration": 726,
                        "remaining_time": 4.254311437,
                        "learn": [
                          0.2902438217
                        ]
                      },
                      {
                        "passed_time": 11.34551251,
                        "iteration": 727,
                        "remaining_time": 4.238982697,
                        "learn": [
                          0.2902162109
                        ]
                      },
                      {
                        "passed_time": 11.36055462,
                        "iteration": 728,
                        "remaining_time": 4.223196574,
                        "learn": [
                          0.2901983742
                        ]
                      },
                      {
                        "passed_time": 11.37504042,
                        "iteration": 729,
                        "remaining_time": 4.20720673,
                        "learn": [
                          0.2901864038
                        ]
                      },
                      {
                        "passed_time": 11.3910981,
                        "iteration": 730,
                        "remaining_time": 4.191799439,
                        "learn": [
                          0.2901715068
                        ]
                      },
                      {
                        "passed_time": 11.40589738,
                        "iteration": 731,
                        "remaining_time": 4.175929643,
                        "learn": [
                          0.2901369829
                        ]
                      },
                      {
                        "passed_time": 11.42288365,
                        "iteration": 732,
                        "remaining_time": 4.160859391,
                        "learn": [
                          0.29011498
                        ]
                      },
                      {
                        "passed_time": 11.4393869,
                        "iteration": 733,
                        "remaining_time": 4.145608876,
                        "learn": [
                          0.2901003559
                        ]
                      },
                      {
                        "passed_time": 11.45572613,
                        "iteration": 734,
                        "remaining_time": 4.130295815,
                        "learn": [
                          0.2900850336
                        ]
                      },
                      {
                        "passed_time": 11.47166296,
                        "iteration": 735,
                        "remaining_time": 4.114835628,
                        "learn": [
                          0.2900721537
                        ]
                      },
                      {
                        "passed_time": 11.48728721,
                        "iteration": 736,
                        "remaining_time": 4.099262601,
                        "learn": [
                          0.2900448767
                        ]
                      },
                      {
                        "passed_time": 11.50588893,
                        "iteration": 737,
                        "remaining_time": 4.084746478,
                        "learn": [
                          0.2900227214
                        ]
                      },
                      {
                        "passed_time": 11.52460891,
                        "iteration": 738,
                        "remaining_time": 4.070261064,
                        "learn": [
                          0.2899837221
                        ]
                      },
                      {
                        "passed_time": 11.54274741,
                        "iteration": 739,
                        "remaining_time": 4.055559901,
                        "learn": [
                          0.2899683809
                        ]
                      },
                      {
                        "passed_time": 11.55930606,
                        "iteration": 740,
                        "remaining_time": 4.04029726,
                        "learn": [
                          0.2899597997
                        ]
                      },
                      {
                        "passed_time": 11.57474426,
                        "iteration": 741,
                        "remaining_time": 4.024641537,
                        "learn": [
                          0.289946537
                        ]
                      },
                      {
                        "passed_time": 11.58964614,
                        "iteration": 742,
                        "remaining_time": 4.008800885,
                        "learn": [
                          0.2899349698
                        ]
                      },
                      {
                        "passed_time": 11.60530156,
                        "iteration": 743,
                        "remaining_time": 3.993222041,
                        "learn": [
                          0.2899097777
                        ]
                      },
                      {
                        "passed_time": 11.62078681,
                        "iteration": 744,
                        "remaining_time": 3.977584746,
                        "learn": [
                          0.2898749393
                        ]
                      },
                      {
                        "passed_time": 11.63601208,
                        "iteration": 745,
                        "remaining_time": 3.96185934,
                        "learn": [
                          0.2898448495
                        ]
                      },
                      {
                        "passed_time": 11.65121368,
                        "iteration": 746,
                        "remaining_time": 3.946127257,
                        "learn": [
                          0.289824787
                        ]
                      },
                      {
                        "passed_time": 11.66573198,
                        "iteration": 747,
                        "remaining_time": 3.930166389,
                        "learn": [
                          0.289804218
                        ]
                      },
                      {
                        "passed_time": 11.68144795,
                        "iteration": 748,
                        "remaining_time": 3.914610727,
                        "learn": [
                          0.2897856065
                        ]
                      },
                      {
                        "passed_time": 11.69587375,
                        "iteration": 749,
                        "remaining_time": 3.898624585,
                        "learn": [
                          0.2897745364
                        ]
                      },
                      {
                        "passed_time": 11.72135383,
                        "iteration": 750,
                        "remaining_time": 3.886307729,
                        "learn": [
                          0.2897639566
                        ]
                      },
                      {
                        "passed_time": 11.74131708,
                        "iteration": 751,
                        "remaining_time": 3.872136485,
                        "learn": [
                          0.2897533648
                        ]
                      },
                      {
                        "passed_time": 11.75584658,
                        "iteration": 752,
                        "remaining_time": 3.856167469,
                        "learn": [
                          0.2897424556
                        ]
                      },
                      {
                        "passed_time": 11.77055793,
                        "iteration": 753,
                        "remaining_time": 3.840261605,
                        "learn": [
                          0.2897318498
                        ]
                      },
                      {
                        "passed_time": 11.78608118,
                        "iteration": 754,
                        "remaining_time": 3.82462237,
                        "learn": [
                          0.2897033764
                        ]
                      },
                      {
                        "passed_time": 11.80160317,
                        "iteration": 755,
                        "remaining_time": 3.808983032,
                        "learn": [
                          0.2896834447
                        ]
                      },
                      {
                        "passed_time": 11.81710718,
                        "iteration": 756,
                        "remaining_time": 3.793338235,
                        "learn": [
                          0.2896646824
                        ]
                      },
                      {
                        "passed_time": 11.83234842,
                        "iteration": 757,
                        "remaining_time": 3.777609917,
                        "learn": [
                          0.289642678
                        ]
                      },
                      {
                        "passed_time": 11.84739199,
                        "iteration": 758,
                        "remaining_time": 3.761820118,
                        "learn": [
                          0.2896268126
                        ]
                      },
                      {
                        "passed_time": 11.86272411,
                        "iteration": 759,
                        "remaining_time": 3.746123405,
                        "learn": [
                          0.2896108017
                        ]
                      },
                      {
                        "passed_time": 11.87802708,
                        "iteration": 760,
                        "remaining_time": 3.730418491,
                        "learn": [
                          0.2895949349
                        ]
                      },
                      {
                        "passed_time": 11.89319123,
                        "iteration": 761,
                        "remaining_time": 3.714671277,
                        "learn": [
                          0.2895744105
                        ]
                      },
                      {
                        "passed_time": 11.90912357,
                        "iteration": 762,
                        "remaining_time": 3.699164203,
                        "learn": [
                          0.2895514796
                        ]
                      },
                      {
                        "passed_time": 11.92511609,
                        "iteration": 763,
                        "remaining_time": 3.683674605,
                        "learn": [
                          0.2895238461
                        ]
                      },
                      {
                        "passed_time": 11.94026822,
                        "iteration": 764,
                        "remaining_time": 3.667925532,
                        "learn": [
                          0.2895166078
                        ]
                      },
                      {
                        "passed_time": 11.95582196,
                        "iteration": 765,
                        "remaining_time": 3.652300703,
                        "learn": [
                          0.2894961383
                        ]
                      },
                      {
                        "passed_time": 11.97080421,
                        "iteration": 766,
                        "remaining_time": 3.636502452,
                        "learn": [
                          0.2894830646
                        ]
                      },
                      {
                        "passed_time": 11.98558602,
                        "iteration": 767,
                        "remaining_time": 3.620645775,
                        "learn": [
                          0.2894689818
                        ]
                      },
                      {
                        "passed_time": 12.00025755,
                        "iteration": 768,
                        "remaining_time": 3.60475877,
                        "learn": [
                          0.2894482421
                        ]
                      },
                      {
                        "passed_time": 12.01518879,
                        "iteration": 769,
                        "remaining_time": 3.588952496,
                        "learn": [
                          0.2894329551
                        ]
                      },
                      {
                        "passed_time": 12.03064239,
                        "iteration": 770,
                        "remaining_time": 3.573303641,
                        "learn": [
                          0.2894173517
                        ]
                      },
                      {
                        "passed_time": 12.04572366,
                        "iteration": 771,
                        "remaining_time": 3.557545329,
                        "learn": [
                          0.2894094343
                        ]
                      },
                      {
                        "passed_time": 12.05987694,
                        "iteration": 772,
                        "remaining_time": 3.541516257,
                        "learn": [
                          0.2894016749
                        ]
                      },
                      {
                        "passed_time": 12.0758096,
                        "iteration": 773,
                        "remaining_time": 3.526011588,
                        "learn": [
                          0.2893761409
                        ]
                      },
                      {
                        "passed_time": 12.09064003,
                        "iteration": 774,
                        "remaining_time": 3.510185816,
                        "learn": [
                          0.2893704814
                        ]
                      },
                      {
                        "passed_time": 12.10789664,
                        "iteration": 775,
                        "remaining_time": 3.495062947,
                        "learn": [
                          0.2893551376
                        ]
                      },
                      {
                        "passed_time": 12.16907493,
                        "iteration": 776,
                        "remaining_time": 3.492540166,
                        "learn": [
                          0.2893351092
                        ]
                      },
                      {
                        "passed_time": 12.19060615,
                        "iteration": 777,
                        "remaining_time": 3.478553427,
                        "learn": [
                          0.2893172192
                        ]
                      },
                      {
                        "passed_time": 12.20732686,
                        "iteration": 778,
                        "remaining_time": 3.463182588,
                        "learn": [
                          0.2892953512
                        ]
                      },
                      {
                        "passed_time": 12.22193668,
                        "iteration": 779,
                        "remaining_time": 3.447212911,
                        "learn": [
                          0.2892826886
                        ]
                      },
                      {
                        "passed_time": 12.23596351,
                        "iteration": 780,
                        "remaining_time": 3.431083237,
                        "learn": [
                          0.2892731937
                        ]
                      },
                      {
                        "passed_time": 12.25117192,
                        "iteration": 781,
                        "remaining_time": 3.415288335,
                        "learn": [
                          0.2892411257
                        ]
                      },
                      {
                        "passed_time": 12.26612962,
                        "iteration": 782,
                        "remaining_time": 3.399425449,
                        "learn": [
                          0.2892158405
                        ]
                      },
                      {
                        "passed_time": 12.28103011,
                        "iteration": 783,
                        "remaining_time": 3.383549112,
                        "learn": [
                          0.2891900318
                        ]
                      },
                      {
                        "passed_time": 12.29541534,
                        "iteration": 784,
                        "remaining_time": 3.367534137,
                        "learn": [
                          0.2891786538
                        ]
                      },
                      {
                        "passed_time": 12.31023547,
                        "iteration": 785,
                        "remaining_time": 3.351641718,
                        "learn": [
                          0.2891632765
                        ]
                      },
                      {
                        "passed_time": 12.32497917,
                        "iteration": 786,
                        "remaining_time": 3.335731337,
                        "learn": [
                          0.2891490546
                        ]
                      },
                      {
                        "passed_time": 12.33998133,
                        "iteration": 787,
                        "remaining_time": 3.319893454,
                        "learn": [
                          0.2891231492
                        ]
                      },
                      {
                        "passed_time": 12.35506516,
                        "iteration": 788,
                        "remaining_time": 3.30407953,
                        "learn": [
                          0.2890934509
                        ]
                      },
                      {
                        "passed_time": 12.36949187,
                        "iteration": 789,
                        "remaining_time": 3.288092775,
                        "learn": [
                          0.2890750119
                        ]
                      },
                      {
                        "passed_time": 12.38341527,
                        "iteration": 790,
                        "remaining_time": 3.271976981,
                        "learn": [
                          0.2890652413
                        ]
                      },
                      {
                        "passed_time": 12.39856752,
                        "iteration": 791,
                        "remaining_time": 3.256189449,
                        "learn": [
                          0.2890274754
                        ]
                      },
                      {
                        "passed_time": 12.41335997,
                        "iteration": 792,
                        "remaining_time": 3.240309602,
                        "learn": [
                          0.2890079618
                        ]
                      },
                      {
                        "passed_time": 12.42828264,
                        "iteration": 793,
                        "remaining_time": 3.224466277,
                        "learn": [
                          0.2890012015
                        ]
                      },
                      {
                        "passed_time": 12.44365742,
                        "iteration": 794,
                        "remaining_time": 3.20874185,
                        "learn": [
                          0.2889823233
                        ]
                      },
                      {
                        "passed_time": 12.45920802,
                        "iteration": 795,
                        "remaining_time": 3.193063363,
                        "learn": [
                          0.2889652387
                        ]
                      },
                      {
                        "passed_time": 12.47431378,
                        "iteration": 796,
                        "remaining_time": 3.177271891,
                        "learn": [
                          0.2889466792
                        ]
                      },
                      {
                        "passed_time": 12.49129409,
                        "iteration": 797,
                        "remaining_time": 3.16195665,
                        "learn": [
                          0.2889212746
                        ]
                      },
                      {
                        "passed_time": 12.50608613,
                        "iteration": 798,
                        "remaining_time": 3.14608675,
                        "learn": [
                          0.2888993862
                        ]
                      },
                      {
                        "passed_time": 12.521117,
                        "iteration": 799,
                        "remaining_time": 3.13027925,
                        "learn": [
                          0.2888853171
                        ]
                      },
                      {
                        "passed_time": 12.53675012,
                        "iteration": 800,
                        "remaining_time": 3.114623313,
                        "learn": [
                          0.2888470677
                        ]
                      },
                      {
                        "passed_time": 12.55183891,
                        "iteration": 801,
                        "remaining_time": 3.098833047,
                        "learn": [
                          0.2888122963
                        ]
                      },
                      {
                        "passed_time": 12.56654487,
                        "iteration": 802,
                        "remaining_time": 3.082950609,
                        "learn": [
                          0.2888010916
                        ]
                      },
                      {
                        "passed_time": 12.58129729,
                        "iteration": 803,
                        "remaining_time": 3.067082424,
                        "learn": [
                          0.2887870648
                        ]
                      },
                      {
                        "passed_time": 12.59576882,
                        "iteration": 804,
                        "remaining_time": 3.051148968,
                        "learn": [
                          0.2887781478
                        ]
                      },
                      {
                        "passed_time": 12.61111235,
                        "iteration": 805,
                        "remaining_time": 3.035429027,
                        "learn": [
                          0.2887618183
                        ]
                      },
                      {
                        "passed_time": 12.62568377,
                        "iteration": 806,
                        "remaining_time": 3.019525363,
                        "learn": [
                          0.2887391063
                        ]
                      },
                      {
                        "passed_time": 12.64042449,
                        "iteration": 807,
                        "remaining_time": 3.003665225,
                        "learn": [
                          0.288720694
                        ]
                      },
                      {
                        "passed_time": 12.65922013,
                        "iteration": 808,
                        "remaining_time": 2.988765197,
                        "learn": [
                          0.2887001259
                        ]
                      },
                      {
                        "passed_time": 12.67439259,
                        "iteration": 809,
                        "remaining_time": 2.97300567,
                        "learn": [
                          0.288661784
                        ]
                      },
                      {
                        "passed_time": 12.68924224,
                        "iteration": 810,
                        "remaining_time": 2.957172359,
                        "learn": [
                          0.2886386124
                        ]
                      },
                      {
                        "passed_time": 12.70703611,
                        "iteration": 811,
                        "remaining_time": 2.94202314,
                        "learn": [
                          0.2886044446
                        ]
                      },
                      {
                        "passed_time": 12.72886377,
                        "iteration": 812,
                        "remaining_time": 2.927795233,
                        "learn": [
                          0.2885889256
                        ]
                      },
                      {
                        "passed_time": 12.75280818,
                        "iteration": 813,
                        "remaining_time": 2.914032335,
                        "learn": [
                          0.2885776946
                        ]
                      },
                      {
                        "passed_time": 12.76820995,
                        "iteration": 814,
                        "remaining_time": 2.898305326,
                        "learn": [
                          0.2885556349
                        ]
                      },
                      {
                        "passed_time": 12.78296932,
                        "iteration": 815,
                        "remaining_time": 2.882434259,
                        "learn": [
                          0.2885402696
                        ]
                      },
                      {
                        "passed_time": 12.79788979,
                        "iteration": 816,
                        "remaining_time": 2.866601997,
                        "learn": [
                          0.2885281832
                        ]
                      },
                      {
                        "passed_time": 12.81220946,
                        "iteration": 817,
                        "remaining_time": 2.850638291,
                        "learn": [
                          0.2885207728
                        ]
                      },
                      {
                        "passed_time": 12.82697783,
                        "iteration": 818,
                        "remaining_time": 2.834777763,
                        "learn": [
                          0.288499378
                        ]
                      },
                      {
                        "passed_time": 12.84230805,
                        "iteration": 819,
                        "remaining_time": 2.819043231,
                        "learn": [
                          0.2884613265
                        ]
                      },
                      {
                        "passed_time": 12.85799511,
                        "iteration": 820,
                        "remaining_time": 2.803387483,
                        "learn": [
                          0.2884406702
                        ]
                      },
                      {
                        "passed_time": 12.87265589,
                        "iteration": 821,
                        "remaining_time": 2.787509427,
                        "learn": [
                          0.288428992
                        ]
                      },
                      {
                        "passed_time": 12.88687486,
                        "iteration": 822,
                        "remaining_time": 2.771539308,
                        "learn": [
                          0.2884249549
                        ]
                      },
                      {
                        "passed_time": 12.90175896,
                        "iteration": 823,
                        "remaining_time": 2.755715506,
                        "learn": [
                          0.2883989149
                        ]
                      },
                      {
                        "passed_time": 12.91628637,
                        "iteration": 824,
                        "remaining_time": 2.73981832,
                        "learn": [
                          0.2883774618
                        ]
                      },
                      {
                        "passed_time": 12.93271206,
                        "iteration": 825,
                        "remaining_time": 2.724324331,
                        "learn": [
                          0.2883405516
                        ]
                      },
                      {
                        "passed_time": 12.94728974,
                        "iteration": 826,
                        "remaining_time": 2.708441506,
                        "learn": [
                          0.2883374116
                        ]
                      },
                      {
                        "passed_time": 12.96245539,
                        "iteration": 827,
                        "remaining_time": 2.692683969,
                        "learn": [
                          0.2883180684
                        ]
                      },
                      {
                        "passed_time": 12.97684754,
                        "iteration": 828,
                        "remaining_time": 2.676768311,
                        "learn": [
                          0.2883041086
                        ]
                      },
                      {
                        "passed_time": 12.99160998,
                        "iteration": 829,
                        "remaining_time": 2.660932164,
                        "learn": [
                          0.2882862207
                        ]
                      },
                      {
                        "passed_time": 13.00671563,
                        "iteration": 830,
                        "remaining_time": 2.645168401,
                        "learn": [
                          0.2882710938
                        ]
                      },
                      {
                        "passed_time": 13.02225342,
                        "iteration": 831,
                        "remaining_time": 2.629493479,
                        "learn": [
                          0.2882370416
                        ]
                      },
                      {
                        "passed_time": 13.03609406,
                        "iteration": 832,
                        "remaining_time": 2.613478641,
                        "learn": [
                          0.2882314396
                        ]
                      },
                      {
                        "passed_time": 13.04968674,
                        "iteration": 833,
                        "remaining_time": 2.597419663,
                        "learn": [
                          0.2882230006
                        ]
                      },
                      {
                        "passed_time": 13.06454536,
                        "iteration": 834,
                        "remaining_time": 2.581616747,
                        "learn": [
                          0.2881947115
                        ]
                      },
                      {
                        "passed_time": 13.07936727,
                        "iteration": 835,
                        "remaining_time": 2.565808891,
                        "learn": [
                          0.288169637
                        ]
                      },
                      {
                        "passed_time": 13.09563044,
                        "iteration": 836,
                        "remaining_time": 2.550284065,
                        "learn": [
                          0.2881378144
                        ]
                      },
                      {
                        "passed_time": 13.11176293,
                        "iteration": 837,
                        "remaining_time": 2.534732214,
                        "learn": [
                          0.2881203304
                        ]
                      },
                      {
                        "passed_time": 13.12594394,
                        "iteration": 838,
                        "remaining_time": 2.518804498,
                        "learn": [
                          0.2881159603
                        ]
                      },
                      {
                        "passed_time": 13.16644257,
                        "iteration": 839,
                        "remaining_time": 2.507893823,
                        "learn": [
                          0.2880940105
                        ]
                      },
                      {
                        "passed_time": 13.20881511,
                        "iteration": 840,
                        "remaining_time": 2.497267066,
                        "learn": [
                          0.288080321
                        ]
                      },
                      {
                        "passed_time": 13.22472751,
                        "iteration": 841,
                        "remaining_time": 2.481599698,
                        "learn": [
                          0.2880743717
                        ]
                      },
                      {
                        "passed_time": 13.23921077,
                        "iteration": 842,
                        "remaining_time": 2.465665589,
                        "learn": [
                          0.2880593012
                        ]
                      },
                      {
                        "passed_time": 13.25451691,
                        "iteration": 843,
                        "remaining_time": 2.449887012,
                        "learn": [
                          0.2880280349
                        ]
                      },
                      {
                        "passed_time": 13.27147843,
                        "iteration": 844,
                        "remaining_time": 2.434413203,
                        "learn": [
                          0.2879889013
                        ]
                      },
                      {
                        "passed_time": 13.2854427,
                        "iteration": 845,
                        "remaining_time": 2.418390278,
                        "learn": [
                          0.2879823724
                        ]
                      },
                      {
                        "passed_time": 13.30437344,
                        "iteration": 846,
                        "remaining_time": 2.403269346,
                        "learn": [
                          0.2879606614
                        ]
                      },
                      {
                        "passed_time": 13.31994969,
                        "iteration": 847,
                        "remaining_time": 2.387538153,
                        "learn": [
                          0.2879267023
                        ]
                      },
                      {
                        "passed_time": 13.33462972,
                        "iteration": 848,
                        "remaining_time": 2.371647923,
                        "learn": [
                          0.2879014096
                        ]
                      },
                      {
                        "passed_time": 13.34922286,
                        "iteration": 849,
                        "remaining_time": 2.35574521,
                        "learn": [
                          0.2878937523
                        ]
                      },
                      {
                        "passed_time": 13.3715214,
                        "iteration": 850,
                        "remaining_time": 2.341194699,
                        "learn": [
                          0.2878839816
                        ]
                      },
                      {
                        "passed_time": 13.39059837,
                        "iteration": 851,
                        "remaining_time": 2.326066384,
                        "learn": [
                          0.287864456
                        ]
                      },
                      {
                        "passed_time": 13.40487811,
                        "iteration": 852,
                        "remaining_time": 2.310102089,
                        "learn": [
                          0.2878552217
                        ]
                      },
                      {
                        "passed_time": 13.42007936,
                        "iteration": 853,
                        "remaining_time": 2.294299281,
                        "learn": [
                          0.2878385684
                        ]
                      },
                      {
                        "passed_time": 13.43510382,
                        "iteration": 854,
                        "remaining_time": 2.278467899,
                        "learn": [
                          0.2878282178
                        ]
                      },
                      {
                        "passed_time": 13.45009103,
                        "iteration": 855,
                        "remaining_time": 2.262632136,
                        "learn": [
                          0.2878026787
                        ]
                      },
                      {
                        "passed_time": 13.46461139,
                        "iteration": 856,
                        "remaining_time": 2.246720454,
                        "learn": [
                          0.2877770809
                        ]
                      },
                      {
                        "passed_time": 13.48117263,
                        "iteration": 857,
                        "remaining_time": 2.231149783,
                        "learn": [
                          0.2877548974
                        ]
                      },
                      {
                        "passed_time": 13.49627637,
                        "iteration": 858,
                        "remaining_time": 2.215337565,
                        "learn": [
                          0.2877134478
                        ]
                      },
                      {
                        "passed_time": 13.51115154,
                        "iteration": 859,
                        "remaining_time": 2.199489785,
                        "learn": [
                          0.2876972465
                        ]
                      },
                      {
                        "passed_time": 13.52595891,
                        "iteration": 860,
                        "remaining_time": 2.18363332,
                        "learn": [
                          0.2876803888
                        ]
                      },
                      {
                        "passed_time": 13.54156759,
                        "iteration": 861,
                        "remaining_time": 2.167907573,
                        "learn": [
                          0.2876627768
                        ]
                      },
                      {
                        "passed_time": 13.55764386,
                        "iteration": 862,
                        "remaining_time": 2.152256325,
                        "learn": [
                          0.2876258914
                        ]
                      },
                      {
                        "passed_time": 13.57308552,
                        "iteration": 863,
                        "remaining_time": 2.136504203,
                        "learn": [
                          0.2875927844
                        ]
                      },
                      {
                        "passed_time": 13.59029847,
                        "iteration": 864,
                        "remaining_time": 2.121029241,
                        "learn": [
                          0.2875594546
                        ]
                      },
                      {
                        "passed_time": 13.60623674,
                        "iteration": 865,
                        "remaining_time": 2.105353029,
                        "learn": [
                          0.2875440357
                        ]
                      },
                      {
                        "passed_time": 13.62221172,
                        "iteration": 866,
                        "remaining_time": 2.089681845,
                        "learn": [
                          0.2875264944
                        ]
                      },
                      {
                        "passed_time": 13.6364131,
                        "iteration": 867,
                        "remaining_time": 2.07374024,
                        "learn": [
                          0.2875200255
                        ]
                      },
                      {
                        "passed_time": 13.65133457,
                        "iteration": 868,
                        "remaining_time": 2.057911195,
                        "learn": [
                          0.2874990141
                        ]
                      },
                      {
                        "passed_time": 13.66698735,
                        "iteration": 869,
                        "remaining_time": 2.042193512,
                        "learn": [
                          0.2874793031
                        ]
                      },
                      {
                        "passed_time": 13.68210626,
                        "iteration": 870,
                        "remaining_time": 2.026396909,
                        "learn": [
                          0.2874632481
                        ]
                      },
                      {
                        "passed_time": 13.69746934,
                        "iteration": 871,
                        "remaining_time": 2.010637702,
                        "learn": [
                          0.2874485847
                        ]
                      },
                      {
                        "passed_time": 13.71250344,
                        "iteration": 872,
                        "remaining_time": 1.994831543,
                        "learn": [
                          0.2874263985
                        ]
                      },
                      {
                        "passed_time": 13.72771542,
                        "iteration": 873,
                        "remaining_time": 1.979052795,
                        "learn": [
                          0.2874082167
                        ]
                      },
                      {
                        "passed_time": 13.7458116,
                        "iteration": 874,
                        "remaining_time": 1.963687372,
                        "learn": [
                          0.2873944666
                        ]
                      },
                      {
                        "passed_time": 13.76746647,
                        "iteration": 875,
                        "remaining_time": 1.948819455,
                        "learn": [
                          0.2873800516
                        ]
                      },
                      {
                        "passed_time": 13.78233775,
                        "iteration": 876,
                        "remaining_time": 1.932984656,
                        "learn": [
                          0.287370599
                        ]
                      },
                      {
                        "passed_time": 13.79671385,
                        "iteration": 877,
                        "remaining_time": 1.917083246,
                        "learn": [
                          0.2873535056
                        ]
                      },
                      {
                        "passed_time": 13.81198995,
                        "iteration": 878,
                        "remaining_time": 1.901309197,
                        "learn": [
                          0.2873435196
                        ]
                      },
                      {
                        "passed_time": 13.82736877,
                        "iteration": 879,
                        "remaining_time": 1.885550286,
                        "learn": [
                          0.2873235732
                        ]
                      },
                      {
                        "passed_time": 13.84306808,
                        "iteration": 880,
                        "remaining_time": 1.869835529,
                        "learn": [
                          0.2873131096
                        ]
                      },
                      {
                        "passed_time": 13.85863782,
                        "iteration": 881,
                        "remaining_time": 1.854103472,
                        "learn": [
                          0.2873105049
                        ]
                      },
                      {
                        "passed_time": 13.87395989,
                        "iteration": 882,
                        "remaining_time": 1.838338967,
                        "learn": [
                          0.2872808697
                        ]
                      },
                      {
                        "passed_time": 13.88872203,
                        "iteration": 883,
                        "remaining_time": 1.822501986,
                        "learn": [
                          0.2872648903
                        ]
                      },
                      {
                        "passed_time": 13.90602918,
                        "iteration": 884,
                        "remaining_time": 1.806998142,
                        "learn": [
                          0.2872406696
                        ]
                      },
                      {
                        "passed_time": 13.92046,
                        "iteration": 885,
                        "remaining_time": 1.791120136,
                        "learn": [
                          0.2872264096
                        ]
                      },
                      {
                        "passed_time": 13.93739644,
                        "iteration": 886,
                        "remaining_time": 1.775564597,
                        "learn": [
                          0.2872051699
                        ]
                      },
                      {
                        "passed_time": 13.95229751,
                        "iteration": 887,
                        "remaining_time": 1.759749236,
                        "learn": [
                          0.2871783827
                        ]
                      },
                      {
                        "passed_time": 13.96701628,
                        "iteration": 888,
                        "remaining_time": 1.743913168,
                        "learn": [
                          0.2871616636
                        ]
                      },
                      {
                        "passed_time": 13.98223292,
                        "iteration": 889,
                        "remaining_time": 1.728141147,
                        "learn": [
                          0.2871392098
                        ]
                      },
                      {
                        "passed_time": 13.99732138,
                        "iteration": 890,
                        "remaining_time": 1.712354691,
                        "learn": [
                          0.287122318
                        ]
                      },
                      {
                        "passed_time": 14.01149041,
                        "iteration": 891,
                        "remaining_time": 1.696458481,
                        "learn": [
                          0.287107184
                        ]
                      },
                      {
                        "passed_time": 14.02651222,
                        "iteration": 892,
                        "remaining_time": 1.680668317,
                        "learn": [
                          0.2870912011
                        ]
                      },
                      {
                        "passed_time": 14.04216377,
                        "iteration": 893,
                        "remaining_time": 1.664954541,
                        "learn": [
                          0.2870575964
                        ]
                      },
                      {
                        "passed_time": 14.05663205,
                        "iteration": 894,
                        "remaining_time": 1.649102084,
                        "learn": [
                          0.2870375872
                        ]
                      },
                      {
                        "passed_time": 14.07093644,
                        "iteration": 895,
                        "remaining_time": 1.633233694,
                        "learn": [
                          0.287014021
                        ]
                      },
                      {
                        "passed_time": 14.08472531,
                        "iteration": 896,
                        "remaining_time": 1.617309595,
                        "learn": [
                          0.287002441
                        ]
                      },
                      {
                        "passed_time": 14.09978172,
                        "iteration": 897,
                        "remaining_time": 1.601534226,
                        "learn": [
                          0.2869843493
                        ]
                      },
                      {
                        "passed_time": 14.11425527,
                        "iteration": 898,
                        "remaining_time": 1.585694975,
                        "learn": [
                          0.2869753207
                        ]
                      },
                      {
                        "passed_time": 14.13059742,
                        "iteration": 899,
                        "remaining_time": 1.57006638,
                        "learn": [
                          0.2869581801
                        ]
                      },
                      {
                        "passed_time": 14.1457059,
                        "iteration": 900,
                        "remaining_time": 1.554300648,
                        "learn": [
                          0.286937842
                        ]
                      },
                      {
                        "passed_time": 14.16016453,
                        "iteration": 901,
                        "remaining_time": 1.53846577,
                        "learn": [
                          0.2869240232
                        ]
                      },
                      {
                        "passed_time": 14.20659842,
                        "iteration": 902,
                        "remaining_time": 1.526068712,
                        "learn": [
                          0.2868970888
                        ]
                      },
                      {
                        "passed_time": 14.25158594,
                        "iteration": 903,
                        "remaining_time": 1.513442755,
                        "learn": [
                          0.286890172
                        ]
                      },
                      {
                        "passed_time": 14.2665585,
                        "iteration": 904,
                        "remaining_time": 1.497594538,
                        "learn": [
                          0.2868780982
                        ]
                      },
                      {
                        "passed_time": 14.28133627,
                        "iteration": 905,
                        "remaining_time": 1.481728045,
                        "learn": [
                          0.2868559066
                        ]
                      },
                      {
                        "passed_time": 14.29564842,
                        "iteration": 906,
                        "remaining_time": 1.465816211,
                        "learn": [
                          0.286843777
                        ]
                      },
                      {
                        "passed_time": 14.31044493,
                        "iteration": 907,
                        "remaining_time": 1.449956976,
                        "learn": [
                          0.286829071
                        ]
                      },
                      {
                        "passed_time": 14.32508135,
                        "iteration": 908,
                        "remaining_time": 1.434084052,
                        "learn": [
                          0.2868057193
                        ]
                      },
                      {
                        "passed_time": 14.33976103,
                        "iteration": 909,
                        "remaining_time": 1.418218124,
                        "learn": [
                          0.2867859169
                        ]
                      },
                      {
                        "passed_time": 14.35518176,
                        "iteration": 910,
                        "remaining_time": 1.402427197,
                        "learn": [
                          0.2867610936
                        ]
                      },
                      {
                        "passed_time": 14.37007486,
                        "iteration": 911,
                        "remaining_time": 1.386586171,
                        "learn": [
                          0.2867332103
                        ]
                      },
                      {
                        "passed_time": 14.38487206,
                        "iteration": 912,
                        "remaining_time": 1.370738082,
                        "learn": [
                          0.2867077579
                        ]
                      },
                      {
                        "passed_time": 14.40604978,
                        "iteration": 913,
                        "remaining_time": 1.355492649,
                        "learn": [
                          0.2866928336
                        ]
                      },
                      {
                        "passed_time": 14.44394099,
                        "iteration": 914,
                        "remaining_time": 1.341786868,
                        "learn": [
                          0.286673967
                        ]
                      },
                      {
                        "passed_time": 14.45854161,
                        "iteration": 915,
                        "remaining_time": 1.325892462,
                        "learn": [
                          0.2866574358
                        ]
                      },
                      {
                        "passed_time": 14.4744664,
                        "iteration": 916,
                        "remaining_time": 1.310120732,
                        "learn": [
                          0.28663701
                        ]
                      },
                      {
                        "passed_time": 14.48917051,
                        "iteration": 917,
                        "remaining_time": 1.294239631,
                        "learn": [
                          0.28662482
                        ]
                      },
                      {
                        "passed_time": 14.50776619,
                        "iteration": 918,
                        "remaining_time": 1.278704093,
                        "learn": [
                          0.2866025505
                        ]
                      },
                      {
                        "passed_time": 14.52246307,
                        "iteration": 919,
                        "remaining_time": 1.262822875,
                        "learn": [
                          0.2865882464
                        ]
                      },
                      {
                        "passed_time": 14.53768313,
                        "iteration": 920,
                        "remaining_time": 1.246989106,
                        "learn": [
                          0.2865536655
                        ]
                      },
                      {
                        "passed_time": 14.55256125,
                        "iteration": 921,
                        "remaining_time": 1.231127742,
                        "learn": [
                          0.2865399718
                        ]
                      },
                      {
                        "passed_time": 14.5673801,
                        "iteration": 922,
                        "remaining_time": 1.215263562,
                        "learn": [
                          0.2865267407
                        ]
                      },
                      {
                        "passed_time": 14.58241144,
                        "iteration": 923,
                        "remaining_time": 1.199419123,
                        "learn": [
                          0.2864975597
                        ]
                      },
                      {
                        "passed_time": 14.59744287,
                        "iteration": 924,
                        "remaining_time": 1.183576449,
                        "learn": [
                          0.2864732291
                        ]
                      },
                      {
                        "passed_time": 14.61209684,
                        "iteration": 925,
                        "remaining_time": 1.167705363,
                        "learn": [
                          0.2864546973
                        ]
                      },
                      {
                        "passed_time": 14.62659391,
                        "iteration": 926,
                        "remaining_time": 1.151824547,
                        "learn": [
                          0.2864279835
                        ]
                      },
                      {
                        "passed_time": 14.64919208,
                        "iteration": 927,
                        "remaining_time": 1.136575247,
                        "learn": [
                          0.2864168087
                        ]
                      },
                      {
                        "passed_time": 14.66489946,
                        "iteration": 928,
                        "remaining_time": 1.120783489,
                        "learn": [
                          0.2863968736
                        ]
                      },
                      {
                        "passed_time": 14.6795703,
                        "iteration": 929,
                        "remaining_time": 1.104913894,
                        "learn": [
                          0.2863880291
                        ]
                      },
                      {
                        "passed_time": 14.69538137,
                        "iteration": 930,
                        "remaining_time": 1.089131379,
                        "learn": [
                          0.2863734123
                        ]
                      },
                      {
                        "passed_time": 14.71091358,
                        "iteration": 931,
                        "remaining_time": 1.073328459,
                        "learn": [
                          0.2863346528
                        ]
                      },
                      {
                        "passed_time": 14.72552619,
                        "iteration": 932,
                        "remaining_time": 1.05746008,
                        "learn": [
                          0.2863166334
                        ]
                      },
                      {
                        "passed_time": 14.73941505,
                        "iteration": 933,
                        "remaining_time": 1.041543248,
                        "learn": [
                          0.2863094398
                        ]
                      },
                      {
                        "passed_time": 14.75674827,
                        "iteration": 934,
                        "remaining_time": 1.025870201,
                        "learn": [
                          0.2862904732
                        ]
                      },
                      {
                        "passed_time": 14.78187899,
                        "iteration": 935,
                        "remaining_time": 1.010726769,
                        "learn": [
                          0.2862722915
                        ]
                      },
                      {
                        "passed_time": 14.78991012,
                        "iteration": 936,
                        "remaining_time": 0.9944123136,
                        "learn": [
                          0.2862723786
                        ]
                      },
                      {
                        "passed_time": 14.80523895,
                        "iteration": 937,
                        "remaining_time": 0.9785978836,
                        "learn": [
                          0.2862481807
                        ]
                      },
                      {
                        "passed_time": 14.81978016,
                        "iteration": 938,
                        "remaining_time": 0.9627333226,
                        "learn": [
                          0.2862355858
                        ]
                      },
                      {
                        "passed_time": 14.83463345,
                        "iteration": 939,
                        "remaining_time": 0.9468914967,
                        "learn": [
                          0.2862172019
                        ]
                      },
                      {
                        "passed_time": 14.84895332,
                        "iteration": 940,
                        "remaining_time": 0.931018327,
                        "learn": [
                          0.2862023653
                        ]
                      },
                      {
                        "passed_time": 14.86381557,
                        "iteration": 941,
                        "remaining_time": 0.9151818505,
                        "learn": [
                          0.2861878059
                        ]
                      },
                      {
                        "passed_time": 14.87842554,
                        "iteration": 942,
                        "remaining_time": 0.8993321906,
                        "learn": [
                          0.2861747917
                        ]
                      },
                      {
                        "passed_time": 14.89321818,
                        "iteration": 943,
                        "remaining_time": 0.8834959937,
                        "learn": [
                          0.286159927
                        ]
                      },
                      {
                        "passed_time": 14.90782011,
                        "iteration": 944,
                        "remaining_time": 0.8676509059,
                        "learn": [
                          0.2861507205
                        ]
                      },
                      {
                        "passed_time": 14.92173574,
                        "iteration": 945,
                        "remaining_time": 0.8517692705,
                        "learn": [
                          0.2861481297
                        ]
                      },
                      {
                        "passed_time": 14.93631892,
                        "iteration": 946,
                        "remaining_time": 0.8359291479,
                        "learn": [
                          0.2861243348
                        ]
                      },
                      {
                        "passed_time": 14.95090526,
                        "iteration": 947,
                        "remaining_time": 0.8200918499,
                        "learn": [
                          0.2861030183
                        ]
                      },
                      {
                        "passed_time": 14.96542866,
                        "iteration": 948,
                        "remaining_time": 0.8042538058,
                        "learn": [
                          0.286087241
                        ]
                      },
                      {
                        "passed_time": 14.9811277,
                        "iteration": 949,
                        "remaining_time": 0.7884804051,
                        "learn": [
                          0.2860563518
                        ]
                      },
                      {
                        "passed_time": 14.99666151,
                        "iteration": 950,
                        "remaining_time": 0.7726986476,
                        "learn": [
                          0.2860330906
                        ]
                      },
                      {
                        "passed_time": 15.01284047,
                        "iteration": 951,
                        "remaining_time": 0.7569499397,
                        "learn": [
                          0.286003616
                        ]
                      },
                      {
                        "passed_time": 15.02986145,
                        "iteration": 952,
                        "remaining_time": 0.7412418552,
                        "learn": [
                          0.2859853491
                        ]
                      },
                      {
                        "passed_time": 15.04673843,
                        "iteration": 953,
                        "remaining_time": 0.7255240751,
                        "learn": [
                          0.2859755336
                        ]
                      },
                      {
                        "passed_time": 15.06313908,
                        "iteration": 954,
                        "remaining_time": 0.7097814224,
                        "learn": [
                          0.285953561
                        ]
                      },
                      {
                        "passed_time": 15.0800386,
                        "iteration": 955,
                        "remaining_time": 0.6940603541,
                        "learn": [
                          0.28593208
                        ]
                      },
                      {
                        "passed_time": 15.09811738,
                        "iteration": 956,
                        "remaining_time": 0.6783898093,
                        "learn": [
                          0.2859214549
                        ]
                      },
                      {
                        "passed_time": 15.10933719,
                        "iteration": 957,
                        "remaining_time": 0.6624135301,
                        "learn": [
                          0.2859211658
                        ]
                      },
                      {
                        "passed_time": 15.12541112,
                        "iteration": 958,
                        "remaining_time": 0.6466546986,
                        "learn": [
                          0.2859015969
                        ]
                      },
                      {
                        "passed_time": 15.13974074,
                        "iteration": 959,
                        "remaining_time": 0.6308225307,
                        "learn": [
                          0.2858948931
                        ]
                      },
                      {
                        "passed_time": 15.15367201,
                        "iteration": 960,
                        "remaining_time": 0.6149773242,
                        "learn": [
                          0.2858870803
                        ]
                      },
                      {
                        "passed_time": 15.16874302,
                        "iteration": 961,
                        "remaining_time": 0.5991811172,
                        "learn": [
                          0.2858653521
                        ]
                      },
                      {
                        "passed_time": 15.18204766,
                        "iteration": 962,
                        "remaining_time": 0.5833185499,
                        "learn": [
                          0.2858637164
                        ]
                      },
                      {
                        "passed_time": 15.1961432,
                        "iteration": 963,
                        "remaining_time": 0.5674908249,
                        "learn": [
                          0.2858489946
                        ]
                      },
                      {
                        "passed_time": 15.23246002,
                        "iteration": 964,
                        "remaining_time": 0.552472643,
                        "learn": [
                          0.2858407113
                        ]
                      },
                      {
                        "passed_time": 15.27310887,
                        "iteration": 965,
                        "remaining_time": 0.5375628381,
                        "learn": [
                          0.2858174809
                        ]
                      },
                      {
                        "passed_time": 15.29139257,
                        "iteration": 966,
                        "remaining_time": 0.5218365614,
                        "learn": [
                          0.2857963848
                        ]
                      },
                      {
                        "passed_time": 15.31279758,
                        "iteration": 967,
                        "remaining_time": 0.5062081844,
                        "learn": [
                          0.2857752677
                        ]
                      },
                      {
                        "passed_time": 15.32758055,
                        "iteration": 968,
                        "remaining_time": 0.490356034,
                        "learn": [
                          0.2857542462
                        ]
                      },
                      {
                        "passed_time": 15.34250781,
                        "iteration": 969,
                        "remaining_time": 0.474510551,
                        "learn": [
                          0.2857328346
                        ]
                      },
                      {
                        "passed_time": 15.35700974,
                        "iteration": 970,
                        "remaining_time": 0.4586542558,
                        "learn": [
                          0.2857192309
                        ]
                      },
                      {
                        "passed_time": 15.37108882,
                        "iteration": 971,
                        "remaining_time": 0.4427885669,
                        "learn": [
                          0.2857038448
                        ]
                      },
                      {
                        "passed_time": 15.38628461,
                        "iteration": 972,
                        "remaining_time": 0.4269575379,
                        "learn": [
                          0.285671239
                        ]
                      },
                      {
                        "passed_time": 15.40115554,
                        "iteration": 973,
                        "remaining_time": 0.4111191416,
                        "learn": [
                          0.28566125
                        ]
                      },
                      {
                        "passed_time": 15.41611087,
                        "iteration": 974,
                        "remaining_time": 0.3952848942,
                        "learn": [
                          0.2856369751
                        ]
                      },
                      {
                        "passed_time": 15.43072103,
                        "iteration": 975,
                        "remaining_time": 0.3794439599,
                        "learn": [
                          0.2856272083
                        ]
                      },
                      {
                        "passed_time": 15.44524512,
                        "iteration": 976,
                        "remaining_time": 0.3636035188,
                        "learn": [
                          0.2856182059
                        ]
                      },
                      {
                        "passed_time": 15.46310057,
                        "iteration": 977,
                        "remaining_time": 0.3478407081,
                        "learn": [
                          0.2856010844
                        ]
                      },
                      {
                        "passed_time": 15.47777057,
                        "iteration": 978,
                        "remaining_time": 0.3320052932,
                        "learn": [
                          0.2855866519
                        ]
                      },
                      {
                        "passed_time": 15.49256399,
                        "iteration": 979,
                        "remaining_time": 0.3161747753,
                        "learn": [
                          0.2855738556
                        ]
                      },
                      {
                        "passed_time": 15.50726504,
                        "iteration": 980,
                        "remaining_time": 0.3003445828,
                        "learn": [
                          0.2855639843
                        ]
                      },
                      {
                        "passed_time": 15.52190514,
                        "iteration": 981,
                        "remaining_time": 0.2845155729,
                        "learn": [
                          0.2855484238
                        ]
                      },
                      {
                        "passed_time": 15.53705594,
                        "iteration": 982,
                        "remaining_time": 0.2686978139,
                        "learn": [
                          0.2855271242
                        ]
                      },
                      {
                        "passed_time": 15.55144473,
                        "iteration": 983,
                        "remaining_time": 0.2528690201,
                        "learn": [
                          0.2855208115
                        ]
                      },
                      {
                        "passed_time": 15.56653284,
                        "iteration": 984,
                        "remaining_time": 0.2370537996,
                        "learn": [
                          0.2855056711
                        ]
                      },
                      {
                        "passed_time": 15.58081745,
                        "iteration": 985,
                        "remaining_time": 0.2212286453,
                        "learn": [
                          0.2854810654
                        ]
                      },
                      {
                        "passed_time": 15.59524967,
                        "iteration": 986,
                        "remaining_time": 0.2054085569,
                        "learn": [
                          0.2854761298
                        ]
                      },
                      {
                        "passed_time": 15.60976295,
                        "iteration": 987,
                        "remaining_time": 0.1895922625,
                        "learn": [
                          0.2854625665
                        ]
                      },
                      {
                        "passed_time": 15.62452321,
                        "iteration": 988,
                        "remaining_time": 0.1737813502,
                        "learn": [
                          0.2854511157
                        ]
                      },
                      {
                        "passed_time": 15.63838689,
                        "iteration": 989,
                        "remaining_time": 0.1579635039,
                        "learn": [
                          0.2854359872
                        ]
                      },
                      {
                        "passed_time": 15.65209859,
                        "iteration": 990,
                        "remaining_time": 0.1421482213,
                        "learn": [
                          0.2854246092
                        ]
                      },
                      {
                        "passed_time": 15.66399631,
                        "iteration": 991,
                        "remaining_time": 0.1263225509,
                        "learn": [
                          0.2854244643
                        ]
                      },
                      {
                        "passed_time": 15.67808031,
                        "iteration": 992,
                        "remaining_time": 0.1105202036,
                        "learn": [
                          0.2854085206
                        ]
                      },
                      {
                        "passed_time": 15.69440627,
                        "iteration": 993,
                        "remaining_time": 0.09473484672,
                        "learn": [
                          0.285393105
                        ]
                      },
                      {
                        "passed_time": 15.70850469,
                        "iteration": 994,
                        "remaining_time": 0.07893720948,
                        "learn": [
                          0.2853872865
                        ]
                      },
                      {
                        "passed_time": 15.72303693,
                        "iteration": 995,
                        "remaining_time": 0.06314472664,
                        "learn": [
                          0.2853644315
                        ]
                      },
                      {
                        "passed_time": 15.73960864,
                        "iteration": 996,
                        "remaining_time": 0.04736090863,
                        "learn": [
                          0.2853484812
                        ]
                      },
                      {
                        "passed_time": 15.75359245,
                        "iteration": 997,
                        "remaining_time": 0.03157032555,
                        "learn": [
                          0.2853342533
                        ]
                      },
                      {
                        "passed_time": 15.77246136,
                        "iteration": 998,
                        "remaining_time": 0.01578824961,
                        "learn": [
                          0.2853153366
                        ]
                      },
                      {
                        "passed_time": 15.79348991,
                        "iteration": 999,
                        "remaining_time": 0,
                        "learn": [
                          0.2853006008
                        ]
                      }
                    ]
                  },
                  "total_iterations": 1000,
                  "passed_iterations": 999
                },
                "path": "catboost_info",
                "name": "catboost_info"
              }
            },
            "_view_module": "catboost-widget",
            "_model_module_version": "^1.0.0",
            "_view_count": null,
            "_view_module_version": "^1.0.0",
            "layout": "IPY_MODEL_c2cd899a9b8f461c89248a3fc57beff1",
            "_model_module": "catboost-widget"
          }
        }
      }
    }
  },
  "nbformat": 4,
  "nbformat_minor": 0
}